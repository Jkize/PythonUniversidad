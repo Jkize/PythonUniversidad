{
 "cells": [
  {
   "cell_type": "code",
   "execution_count": 1,
   "metadata": {},
   "outputs": [
    {
     "name": "stdout",
     "output_type": "stream",
     "text": [
      "1.18.1\n"
     ]
    }
   ],
   "source": [
    "#Ejercicio 1:  Importar numpy como np y imprimir la versión\n",
    "#Respuesta:\n",
    "import numpy as np\n",
    "print(np.__version__)"
   ]
  },
  {
   "cell_type": "code",
   "execution_count": 2,
   "metadata": {},
   "outputs": [
    {
     "data": {
      "text/plain": [
       "array([0, 1, 2, 3, 4, 5, 6, 7, 8, 9])"
      ]
     },
     "execution_count": 2,
     "metadata": {},
     "output_type": "execute_result"
    }
   ],
   "source": [
    "#Ejercicio 2: ¿Cómo crear un arreglo 1D? \n",
    "#Crear un arreglo de 0 a 0\n",
    "\n",
    "#Respuesta:\n",
    "arr = np.arange(10)\n",
    "arr"
   ]
  },
  {
   "cell_type": "code",
   "execution_count": 3,
   "metadata": {},
   "outputs": [
    {
     "data": {
      "text/plain": [
       "array([[ True,  True,  True],\n",
       "       [ True,  True,  True],\n",
       "       [ True,  True,  True]])"
      ]
     },
     "execution_count": 3,
     "metadata": {},
     "output_type": "execute_result"
    }
   ],
   "source": [
    "#Ejercicio 3: ¿Cómo crear un arreglo booleano?\n",
    "# Crear un arreglo 3x3 llenado de True\n",
    "\n",
    "#Respuesta:\n",
    "np.full((3, 3), True, dtype=bool)"
   ]
  },
  {
   "cell_type": "code",
   "execution_count": 7,
   "metadata": {},
   "outputs": [
    {
     "data": {
      "text/plain": [
       "array([1, 3, 5, 7, 9])"
      ]
     },
     "execution_count": 7,
     "metadata": {},
     "output_type": "execute_result"
    }
   ],
   "source": [
    "#Ejercicio 4: ¿Cómo extraer los items que satisface cierta condición de un arreglo 1D?\n",
    "#Extraer todos los impares de arr\n",
    "arr = np.arange(10)\n",
    "\n",
    "#Respuesta:\n",
    "arr[arr%2==1]"
   ]
  },
  {
   "cell_type": "code",
   "execution_count": 8,
   "metadata": {},
   "outputs": [
    {
     "data": {
      "text/plain": [
       "array([ 0, -1,  2, -1,  4, -1,  6, -1,  8, -1])"
      ]
     },
     "execution_count": 8,
     "metadata": {},
     "output_type": "execute_result"
    }
   ],
   "source": [
    "#Ejercicio 5: ¿Cómo reemplazar items que satisface una condición con otro valor en el arreglo?\n",
    "#Reemplazar todos los impares por -1\n",
    "arr = np.arange(10)\n",
    "\n",
    "#Respuesta:\n",
    "arr[arr%2==1]=-1\n",
    "arr"
   ]
  },
  {
   "cell_type": "code",
   "execution_count": 12,
   "metadata": {},
   "outputs": [
    {
     "name": "stdout",
     "output_type": "stream",
     "text": [
      "[0 1 2 3 4 5 6 7 8 9]\n"
     ]
    },
    {
     "data": {
      "text/plain": [
       "array([ 0, -1,  2, -1,  4, -1,  6, -1,  8, -1])"
      ]
     },
     "execution_count": 12,
     "metadata": {},
     "output_type": "execute_result"
    }
   ],
   "source": [
    "#Ejercicio 6: ¿Cómo reemplazr items que satisface una condición sin afectar el arreglo original?\n",
    "#Reemplaze todos los impares por -1 sin afectar el arreglo arr\n",
    "arr = np.arange(10)\n",
    "\n",
    "#Respuesta:\n",
    "out = np.where(arr % 2 == 1, -1, arr)\n",
    "print(arr)\n",
    "out"
   ]
  },
  {
   "cell_type": "code",
   "execution_count": 13,
   "metadata": {},
   "outputs": [
    {
     "data": {
      "text/plain": [
       "array([[0, 1, 2, 3, 4],\n",
       "       [5, 6, 7, 8, 9]])"
      ]
     },
     "execution_count": 13,
     "metadata": {},
     "output_type": "execute_result"
    }
   ],
   "source": [
    "#Ejercicio 7: ¿Cómo remodelar un arreglo?\n",
    "#Convierta un arreglo 1D en un arreglo 2D con 2 filas\n",
    "arr = np.arange(10)\n",
    "\n",
    "#Respuesta:\n",
    "arr.reshape(2, -1)  #Enviando -1: numpy automaticamente decide el numero de columnas"
   ]
  },
  {
   "cell_type": "code",
   "execution_count": 14,
   "metadata": {},
   "outputs": [
    {
     "data": {
      "text/plain": [
       "array([[0, 1, 2, 3, 4],\n",
       "       [5, 6, 7, 8, 9],\n",
       "       [1, 1, 1, 1, 1],\n",
       "       [1, 1, 1, 1, 1]])"
      ]
     },
     "execution_count": 14,
     "metadata": {},
     "output_type": "execute_result"
    }
   ],
   "source": [
    "#Ejercicio 8: ¿Cómo apilar 2 arreglos verticalmente?\n",
    "#Apile el arreglo a y b verticalmente\n",
    "a = np.arange(10).reshape(2,-1)\n",
    "b = np.repeat(1, 10).reshape(2,-1) \n",
    "\n",
    "# Respuestas\n",
    "# Metódo 1:\n",
    "np.concatenate([a, b], axis=0)\n",
    "\n",
    "# Metódo 2:\n",
    "np.vstack([a, b])\n",
    "\n",
    "# Metódo 3:\n",
    "np.r_[a, b]"
   ]
  },
  {
   "cell_type": "code",
   "execution_count": 15,
   "metadata": {},
   "outputs": [
    {
     "data": {
      "text/plain": [
       "array([[0, 1, 2, 3, 4, 1, 1, 1, 1, 1],\n",
       "       [5, 6, 7, 8, 9, 1, 1, 1, 1, 1]])"
      ]
     },
     "execution_count": 15,
     "metadata": {},
     "output_type": "execute_result"
    }
   ],
   "source": [
    "#Ejercicio 9: ¿Cómo apliar 2 arreglos horizontalmente?\n",
    "#Apile el arreglo a y b horizontalmente\n",
    "a = np.arange(10).reshape(2,-1)\n",
    "b = np.repeat(1, 10).reshape(2,-1)\n",
    "\n",
    "# Respuestas\n",
    "# Metodo 1:\n",
    "np.concatenate([a, b], axis=1)\n",
    "\n",
    "# Metodo 2:\n",
    "np.hstack([a, b])\n",
    "\n",
    "# Metodo 3:\n",
    "np.c_[a, b] "
   ]
  },
  {
   "cell_type": "code",
   "execution_count": 17,
   "metadata": {},
   "outputs": [
    {
     "data": {
      "text/plain": [
       "array([1, 1, 1, 2, 2, 2, 3, 3, 3, 1, 2, 3, 1, 2, 3, 1, 2, 3])"
      ]
     },
     "execution_count": 17,
     "metadata": {},
     "output_type": "execute_result"
    }
   ],
   "source": [
    "#Ejercicio 10: ¿Cómo generar secuencias personalizadas en numpy sin hardcoding?\n",
    "#Cree el siguiente patrón sin hardcoding. Utilice solo funciones numpy y la siguien te matriz de entrada a\n",
    "a = np.array([1,2,3])\n",
    "\n",
    "#Respuesta:\n",
    "np.r_[np.repeat(a, 3), np.tile(a, 3)]\n"
   ]
  },
  {
   "cell_type": "code",
   "execution_count": 18,
   "metadata": {},
   "outputs": [
    {
     "data": {
      "text/plain": [
       "array([2, 4])"
      ]
     },
     "execution_count": 18,
     "metadata": {},
     "output_type": "execute_result"
    }
   ],
   "source": [
    "#Ejercicio 11: ¿Cómo obtener los items comunes de dos arreglos numpy?\n",
    "#Obtener los items comunes de a y b\n",
    "a = np.array([1,2,3,2,3,4,3,4,5,6])\n",
    "b = np.array([7,2,10,2,7,4,9,4,9,8])\n",
    "\n",
    "#Respuesta:\n",
    "np.intersect1d(a,b)"
   ]
  },
  {
   "cell_type": "code",
   "execution_count": 19,
   "metadata": {},
   "outputs": [
    {
     "data": {
      "text/plain": [
       "array([1, 2, 3, 4])"
      ]
     },
     "execution_count": 19,
     "metadata": {},
     "output_type": "execute_result"
    }
   ],
   "source": [
    "#Ejercicio 12: ¿Cómo eliminar los items de una arreglo que no existen en otro?\n",
    "#Del arreglo 'a' eliminar todos los elementos presentes en la matriz 'b'\n",
    "a = np.array([1,2,3,4,5])\n",
    "b = np.array([5,6,7,8,9])\n",
    "\n",
    "#Respuesta:\n",
    "np.setdiff1d(a,b)"
   ]
  },
  {
   "cell_type": "code",
   "execution_count": 20,
   "metadata": {},
   "outputs": [
    {
     "data": {
      "text/plain": [
       "(array([1, 3, 5, 7], dtype=int64),)"
      ]
     },
     "execution_count": 20,
     "metadata": {},
     "output_type": "execute_result"
    }
   ],
   "source": [
    "#Ejercicio 13: ¿Cómo obtener las posiciones donde coinciden los elementos de dos matrices?\n",
    "#Obtenga las posiciones donde los elementos de 'a' y 'b' coinciden\n",
    "a = np.array([1,2,3,2,3,4,3,4,5,6])\n",
    "b = np.array([7,2,10,2,7,4,9,4,9,8])\n",
    "\n",
    "#Respueta:\n",
    "np.where(a == b)"
   ]
  },
  {
   "cell_type": "code",
   "execution_count": 21,
   "metadata": {},
   "outputs": [
    {
     "data": {
      "text/plain": [
       "array([ 5,  6,  7,  8,  9, 10])"
      ]
     },
     "execution_count": 21,
     "metadata": {},
     "output_type": "execute_result"
    }
   ],
   "source": [
    "#Ejercicio 14: ¿Cómo extraer todos los números entre un rango dado de un arreglo numpy?\n",
    "#Obtenga todos los artículos entre 5 y 10 de 'a'.\n",
    "a = np.arange(15)\n",
    "\n",
    "#Respuestas\n",
    "# Metódo 1\n",
    "index = np.where((a >= 5) & (a <= 10))\n",
    "a[index]\n",
    "\n",
    "# Metódo 2:\n",
    "index = np.where(np.logical_and(a>=5, a<=10))\n",
    "a[index]\n",
    "\n",
    "# Metódo 3:  \n",
    "a[(a >= 5) & (a <= 10)]"
   ]
  },
  {
   "cell_type": "code",
   "execution_count": 22,
   "metadata": {},
   "outputs": [
    {
     "data": {
      "text/plain": [
       "array([6., 7., 9., 8., 9., 7., 5.])"
      ]
     },
     "execution_count": 22,
     "metadata": {},
     "output_type": "execute_result"
    }
   ],
   "source": [
    "#Ejercicio 15: ¿Cómo hacer una función de python que maneje escalares para trabajar en arreglos numpy?\n",
    "#Convierta la función 'maxx' que funciona en dos escalares, para trabajar en dos matrices.\n",
    "def maxx(x, y):\n",
    "    \"\"\"Obtiene el máximo de dos items\"\"\"\n",
    "    if x >= y:\n",
    "        return x\n",
    "    else:\n",
    "        return y\n",
    "    \n",
    "#Respuesta:\n",
    "pair_max = np.vectorize(maxx, otypes=[float])\n",
    "\n",
    "a = np.array([5, 7, 9, 8, 6, 4, 5])\n",
    "b = np.array([6, 3, 4, 8, 9, 7, 1])\n",
    "\n",
    "pair_max(a, b)"
   ]
  },
  {
   "cell_type": "code",
   "execution_count": 24,
   "metadata": {},
   "outputs": [
    {
     "data": {
      "text/plain": [
       "array([[1, 0, 2],\n",
       "       [4, 3, 5],\n",
       "       [7, 6, 8]])"
      ]
     },
     "execution_count": 24,
     "metadata": {},
     "output_type": "execute_result"
    }
   ],
   "source": [
    "#Ejercicio 16: ¿Cómo intercambiar dos columnas en un arreglo numpy 2d?\n",
    "#Intercambie las columnas 1 y 2 en la matriz arr\n",
    "\n",
    "arr = np.arange(9).reshape(3,3) \n",
    "\n",
    "#Respuesta:\n",
    "arr[:, [1,0,2]]"
   ]
  },
  {
   "cell_type": "code",
   "execution_count": 27,
   "metadata": {},
   "outputs": [
    {
     "data": {
      "text/plain": [
       "array([[3, 4, 5],\n",
       "       [0, 1, 2],\n",
       "       [6, 7, 8]])"
      ]
     },
     "execution_count": 27,
     "metadata": {},
     "output_type": "execute_result"
    }
   ],
   "source": [
    "#Ejercicio 17: ¿Cómo intercambiar dos filas en un arreglo numpy 2d?\n",
    "#Intercambie las filas 1 y 2 en la matriz arr\n",
    "arr = np.arange(9).reshape(3,3)\n",
    "\n",
    "#Respuesta:\n",
    "arr[[1,0,2], :]"
   ]
  },
  {
   "cell_type": "code",
   "execution_count": 28,
   "metadata": {},
   "outputs": [
    {
     "data": {
      "text/plain": [
       "array([[6, 7, 8],\n",
       "       [3, 4, 5],\n",
       "       [0, 1, 2]])"
      ]
     },
     "execution_count": 28,
     "metadata": {},
     "output_type": "execute_result"
    }
   ],
   "source": [
    "#Ejercicio 18: ¿Cómo invertir las filas de una arreglo 2D?\n",
    "#Invierta las filas de una arreglo 2D 'arr'.\n",
    "arr = np.arange(9).reshape(3,3)\n",
    "\n",
    "#Respuesta:\n",
    "arr[::-1]"
   ]
  },
  {
   "cell_type": "code",
   "execution_count": 30,
   "metadata": {},
   "outputs": [
    {
     "data": {
      "text/plain": [
       "array([[2, 1, 0],\n",
       "       [5, 4, 3],\n",
       "       [8, 7, 6]])"
      ]
     },
     "execution_count": 30,
     "metadata": {},
     "output_type": "execute_result"
    }
   ],
   "source": [
    "#Ejercicio 19: ¿Cómo invertir las columnas de una arreglo 2D?\n",
    "#Invierta las columnas de una arreglo 2D 'arr'.\n",
    "arr = np.arange(9).reshape(3,3)\n",
    "\n",
    "#Respuesta:\n",
    "arr[:, ::-1]"
   ]
  },
  {
   "cell_type": "code",
   "execution_count": 31,
   "metadata": {},
   "outputs": [
    {
     "name": "stdout",
     "output_type": "stream",
     "text": [
      "[[8.29526015 6.83069239 5.58943836]\n",
      " [5.99365526 8.60953031 5.4493788 ]\n",
      " [8.83895499 8.63318176 8.98088451]\n",
      " [6.21977817 9.8661416  7.15089648]\n",
      " [6.78898993 6.56759097 6.12007289]]\n",
      "[[5.78717282 6.44363481 9.58575083]\n",
      " [8.9831279  8.30736536 9.38724571]\n",
      " [6.01383075 6.28514678 5.20920288]\n",
      " [5.32521561 9.6345436  6.61910457]\n",
      " [6.80394941 8.08817932 5.33715044]]\n"
     ]
    }
   ],
   "source": [
    "#Ejercicio 20: ¿Cómo crear una matriz 2D que contenga flotantes aleatorios entre 5 y 10?\n",
    "#Cree una matriz 2D de forma 5x3 para contener números decimales aleatorios entre 5 y 10\n",
    "\n",
    "arr = np.arange(9).reshape(3,3)\n",
    "\n",
    "#Respuestas\n",
    "# Método 1:\n",
    "rand_arr = np.random.randint(low=5, high=10, size=(5,3)) + np.random.random((5,3))\n",
    "#print(rand_arr)\n",
    "\n",
    "# Método 2:\n",
    "rand_arr = np.random.uniform(5,10, size=(5,3))\n",
    "print(rand_arr)"
   ]
  },
  {
   "cell_type": "code",
   "execution_count": 37,
   "metadata": {},
   "outputs": [
    {
     "data": {
      "text/plain": [
       "array([[0.399, 0.267, 0.086],\n",
       "       [0.87 , 0.947, 0.574],\n",
       "       [0.886, 0.773, 0.894],\n",
       "       [0.997, 0.926, 0.785]])"
      ]
     },
     "execution_count": 37,
     "metadata": {},
     "output_type": "execute_result"
    }
   ],
   "source": [
    "#Ejercicio 21: ¿Cómo imprimir solo 3 lugares decimales en la matriz numpy de python?\n",
    "#Imprime o muestra solo 3 decimales de la matriz numpy 'rand_arr'\n",
    "rand_arr = np.random.random((5,3))\n",
    "\n",
    "#Respuesta:\n",
    "np.set_printoptions(precision=3)\n",
    "rand_arr[:4]"
   ]
  },
  {
   "cell_type": "code",
   "execution_count": 41,
   "metadata": {},
   "outputs": [
    {
     "data": {
      "text/plain": [
       "array([[0.000543, 0.000278, 0.000425],\n",
       "       [0.000845, 0.000005, 0.000122],\n",
       "       [0.000671, 0.000826, 0.000137]])"
      ]
     },
     "execution_count": 41,
     "metadata": {},
     "output_type": "execute_result"
    }
   ],
   "source": [
    "#Ejercicio 22: ¿Cómo imprimir bonito una matriz numpy suprimiendo la notación científica (como 1e10)?\n",
    "#Imprime rand_arr de forma bonita suprimiendo la notación científica (como 1e10)\n",
    "\n",
    "#Resetiar del ejercicio anterior\n",
    "np.set_printoptions(suppress=False)\n",
    "\n",
    "# Creando una matriz randon\n",
    "np.random.seed(100)\n",
    "rand_arr = np.random.random([3,3])/1e3\n",
    "rand_arr\n",
    "\n",
    "#Respuesta:\n",
    "np.set_printoptions(suppress=True, precision=6)  # precision is optional\n",
    "rand_arr"
   ]
  },
  {
   "cell_type": "code",
   "execution_count": 44,
   "metadata": {},
   "outputs": [
    {
     "data": {
      "text/plain": [
       "array([ 0,  1,  2, ..., 12, 13, 14])"
      ]
     },
     "execution_count": 44,
     "metadata": {},
     "output_type": "execute_result"
    }
   ],
   "source": [
    "#Ejercicio 23: ¿Cómo limitar el número de elementos impresos en la salida de una matriz numpy?\n",
    "#Limite el número de elementos impresos en python numpy array a a un máximo de 6 elementos.\n",
    "\n",
    "a = np.arange(15)\n",
    "\n",
    "#Respuesta:\n",
    "np.set_printoptions(threshold=6)\n",
    "a"
   ]
  },
  {
   "cell_type": "code",
   "execution_count": 55,
   "metadata": {},
   "outputs": [
    {
     "data": {
      "text/plain": [
       "array([ 0,  1,  2,  3,  4,  5,  6,  7,  8,  9, 10, 11, 12, 13, 14])"
      ]
     },
     "execution_count": 55,
     "metadata": {},
     "output_type": "execute_result"
    }
   ],
   "source": [
    "#Ejercicio 24: ¿Cómo imprimir la matriz numpy completa sin truncar?\n",
    "#Imprima la matriz numpy completa a sin truncar.\n",
    "np.set_printoptions(threshold=6)\n",
    "a = np.arange(15)\n",
    "\n",
    "#Respuesta:\n",
    "np.set_printoptions(threshold=1000) #1000 es por defecto threshol \n",
    "a"
   ]
  },
  {
   "cell_type": "code",
   "execution_count": null,
   "metadata": {},
   "outputs": [],
   "source": []
  }
 ],
 "metadata": {
  "kernelspec": {
   "display_name": "Python 3.7.0 64-bit",
   "language": "python",
   "name": "python37064bit77c32bfef69240b193135a62ae515774"
  },
  "language_info": {
   "codemirror_mode": {
    "name": "ipython",
    "version": 3
   },
   "file_extension": ".py",
   "mimetype": "text/x-python",
   "name": "python",
   "nbconvert_exporter": "python",
   "pygments_lexer": "ipython3",
   "version": "3.7.0"
  }
 },
 "nbformat": 4,
 "nbformat_minor": 2
}
