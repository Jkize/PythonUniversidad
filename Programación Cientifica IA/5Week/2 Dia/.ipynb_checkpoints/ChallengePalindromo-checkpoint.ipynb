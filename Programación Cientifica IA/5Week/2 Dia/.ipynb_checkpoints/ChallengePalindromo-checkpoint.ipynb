{
 "cells": [
  {
   "cell_type": "markdown",
   "metadata": {},
   "source": [
    "By: Jhoan Sebastian Saavedra Romero cc: 1010238118"
   ]
  },
  {
   "cell_type": "code",
   "execution_count": 4,
   "metadata": {},
   "outputs": [
    {
     "name": "stdout",
     "output_type": "stream",
     "text": [
      "El palindromo más grande al multiplicar 3 digitos es:  906609\n"
     ]
    }
   ],
   "source": [
    "import numpy as np\n",
    "#Algoritmo encontrar el palíndromo más grande de 3 dígitos\n",
    "#Encuentre el palíndromo más grande\n",
    "\n",
    "a=np.arange(100,1000)\n",
    "#print(a)\n",
    "#np.testing.assert_equal(100,a[0])\n",
    "#np.testing.assert_equal(999,a[-1])\n",
    "numbers=np.outer(a,a)  \n",
    "numbers=np.ravel(numbers) \n",
    "numbers.sort() \n",
    "palindromo=[]\n",
    "\n",
    "for a in numbers:\n",
    "    name1=str(a)\n",
    "    name2=str(a)[::-1]\n",
    "    if(name1==name2):\n",
    "        palindromo.append(a)\n",
    "\n",
    "palindromo.sort()\n",
    "print(\"El palindromo más grande al multiplicar 3 digitos es: \", palindromo[-1])"
   ]
  },
  {
   "cell_type": "code",
   "execution_count": null,
   "metadata": {},
   "outputs": [],
   "source": []
  }
 ],
 "metadata": {
  "kernelspec": {
   "display_name": "Python 3.7.0 64-bit",
   "language": "python",
   "name": "python37064bit77c32bfef69240b193135a62ae515774"
  },
  "language_info": {
   "codemirror_mode": {
    "name": "ipython",
    "version": 3
   },
   "file_extension": ".py",
   "mimetype": "text/x-python",
   "name": "python",
   "nbconvert_exporter": "python",
   "pygments_lexer": "ipython3",
   "version": "3.7.0"
  }
 },
 "nbformat": 4,
 "nbformat_minor": 2
}
