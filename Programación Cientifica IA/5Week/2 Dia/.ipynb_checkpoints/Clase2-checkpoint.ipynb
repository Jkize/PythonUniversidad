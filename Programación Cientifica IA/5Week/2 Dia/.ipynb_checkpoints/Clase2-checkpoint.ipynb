{
 "cells": [
  {
   "cell_type": "code",
   "execution_count": 70,
   "metadata": {},
   "outputs": [
    {
     "name": "stdout",
     "output_type": "stream",
     "text": [
      "1234169 486847\n",
      "1471 839\n",
      "6857 71\n"
     ]
    }
   ],
   "source": [
    "#Algoritmo\n",
    "import numpy as np\n",
    "#The prime factors of 13195 are 5,7 and 13  29\n",
    "#What is the largest prime factor of the number 600851475143\n",
    "N=600851475143\n",
    "LIM=10**6\n",
    "\n",
    "def factor(n):\n",
    "    #1. Create array of trial values\n",
    "    a=np.ceil(np.sqrt(n)) \n",
    "    lim=min(n,LIM)\n",
    "    a=np.arange(a,a+lim)\n",
    "    b2=a**2 - n\n",
    "    #2. Check whether b is a square\n",
    "    fractions=np.modf(np.sqrt(b2))[0]\n",
    "    #3. Find 0 fractions\n",
    "    indices=np.where(fractions==0)\n",
    "    #4. Find the first occurence of a 0 fraction\n",
    "    a=np.ravel(np.take(a,indices))[0]\n",
    "    a=int(a)\n",
    "    b=np.sqrt(a**2-n)\n",
    "    b=int(b)\n",
    "    c=a+b\n",
    "    d=a-b\n",
    "    if c==1 or d==1:\n",
    "        return\n",
    "    print(c,d)\n",
    "    factor(c)\n",
    "    factor(d)\n",
    "\n",
    "factor(N)\n"
   ]
  },
  {
   "cell_type": "raw",
   "metadata": {},
   "source": [
    "\n",
    " "
   ]
  },
  {
   "cell_type": "code",
   "execution_count": 81,
   "metadata": {},
   "outputs": [
    {
     "name": "stdout",
     "output_type": "stream",
     "text": [
      "El palindromo más grande al multiplicar 3 digitos es:  906609\n"
     ]
    }
   ],
   "source": [
    "#Algoritmo encontrar el palíndromo más grande de 3 dígitos\n",
    "#Encuentre el palíndromo más grande\n",
    " \n",
    "a=np.arange(100,1000)\n",
    "#print(a)\n",
    "#np.testing.assert_equal(100,a[0])\n",
    "#np.testing.assert_equal(999,a[-1])\n",
    "numbers=np.outer(a,a)  \n",
    "numbers=np.ravel(numbers) \n",
    "numbers.sort() \n",
    "for a in numbers:\n",
    "    name1=str(a)\n",
    "    name2=str(a)[::-1]\n",
    "    if(name1==name2):\n",
    "        palindromo.append(a)\n",
    "\n",
    "palindromo.sort()\n",
    "print(\"El palindromo más grande al multiplicar 3 digitos es: \", palindromo[-1])"
   ]
  },
  {
   "cell_type": "code",
   "execution_count": null,
   "metadata": {},
   "outputs": [],
   "source": []
  }
 ],
 "metadata": {
  "kernelspec": {
   "display_name": "Python 3.7.0 64-bit",
   "language": "python",
   "name": "python37064bit77c32bfef69240b193135a62ae515774"
  },
  "language_info": {
   "codemirror_mode": {
    "name": "ipython",
    "version": 3
   },
   "file_extension": ".py",
   "mimetype": "text/x-python",
   "name": "python",
   "nbconvert_exporter": "python",
   "pygments_lexer": "ipython3",
   "version": "3.7.0"
  }
 },
 "nbformat": 4,
 "nbformat_minor": 2
}
