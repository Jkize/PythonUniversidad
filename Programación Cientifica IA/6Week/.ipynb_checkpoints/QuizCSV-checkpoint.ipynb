{
 "cells": [
  {
   "cell_type": "raw",
   "metadata": {},
   "source": [
    "BY: Jhoan Sebastian Saavedra Romero"
   ]
  },
  {
   "cell_type": "code",
   "execution_count": 1,
   "metadata": {},
   "outputs": [],
   "source": [
    "import numpy as np\n",
    "data=np.arange(10)\n",
    "SIZE=20\n",
    "gen = ['Female', 'Male',]\n",
    "genero= np.random.choice(gen, SIZE)\n",
    "horas=np.random.uniform(low=0.0, high=24.0, size=(SIZE,))\n",
    "computador=np.random.uniform(low=0.0, high=24.0, size=(SIZE,))\n",
    "dormir=np.random.uniform(low=0.0, high=24.0, size=(SIZE,))\n",
    "alturaEPulgada=np.random.uniform(low=50.0, high=90.0, size=(SIZE,))\n",
    "alturaMPulgada=np.random.uniform(low=50.0, high=90.0, size=(SIZE,))\n",
    "alturaPPulgada=np.random.uniform(low=50.0, high=90.0, size=(SIZE,))\n",
    "ejercicio=np.random.uniform(low=0.0, high=24.0, size=(SIZE,))\n",
    "titulo=np.array([\"Genero\",\"TV\",\"Dormir\",\"AlturaE\",\"AlturaMama\",\"AlturaPapa\",\"EjercicioE\",\"Promedio\"])\n",
    "data=[titulo,genero,horas,computador,dormir,alturaEPulgada,alturaMPulgada,alturaPPulgada,ejercicio]\n",
    " \n",
    "f=open('data.csv','a')\n",
    "n=0\n",
    "for dt in data:\n",
    "    if(n==0):\n",
    "        np.savetxt(f,dt,'%s', newline=\",\")\n",
    "    elif(n==1):\n",
    "        np.savetxt(f,dt,'%s',delimiter=\",\")\n",
    "    else:\n",
    "        np.savetxt(f,dt,'%.2f',delimiter=\",\")\n",
    "    n+=1\n",
    "    f.write(\"\\n\")"
   ]
  },
  {
   "cell_type": "code",
   "execution_count": null,
   "metadata": {},
   "outputs": [],
   "source": []
  }
 ],
 "metadata": {
  "kernelspec": {
   "display_name": "Python 3.7.0 64-bit",
   "language": "python",
   "name": "python37064bit77c32bfef69240b193135a62ae515774"
  },
  "language_info": {
   "codemirror_mode": {
    "name": "ipython",
    "version": 3
   },
   "file_extension": ".py",
   "mimetype": "text/x-python",
   "name": "python",
   "nbconvert_exporter": "python",
   "pygments_lexer": "ipython3",
   "version": "3.7.0"
  }
 },
 "nbformat": 4,
 "nbformat_minor": 2
}
