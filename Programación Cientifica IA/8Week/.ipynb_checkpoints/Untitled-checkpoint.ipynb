{
 "cells": [
  {
   "cell_type": "code",
   "execution_count": 2,
   "metadata": {},
   "outputs": [],
   "source": [
    "#Inportar las librerias\n",
    "import pandas as pd\n",
    "import numpy as np"
   ]
  },
  {
   "cell_type": "code",
   "execution_count": 75,
   "metadata": {},
   "outputs": [
    {
     "data": {
      "text/html": [
       "<div>\n",
       "<style scoped>\n",
       "    .dataframe tbody tr th:only-of-type {\n",
       "        vertical-align: middle;\n",
       "    }\n",
       "\n",
       "    .dataframe tbody tr th {\n",
       "        vertical-align: top;\n",
       "    }\n",
       "\n",
       "    .dataframe thead th {\n",
       "        text-align: right;\n",
       "    }\n",
       "</style>\n",
       "<table border=\"1\" class=\"dataframe\">\n",
       "  <thead>\n",
       "    <tr style=\"text-align: right;\">\n",
       "      <th></th>\n",
       "      <th>color</th>\n",
       "      <th>director_name</th>\n",
       "      <th>...</th>\n",
       "      <th>aspect_ratio</th>\n",
       "      <th>movie_facebook_likes</th>\n",
       "    </tr>\n",
       "  </thead>\n",
       "  <tbody>\n",
       "    <tr>\n",
       "      <th>0</th>\n",
       "      <td>Color</td>\n",
       "      <td>James Cameron</td>\n",
       "      <td>...</td>\n",
       "      <td>1.78</td>\n",
       "      <td>33000</td>\n",
       "    </tr>\n",
       "    <tr>\n",
       "      <th>1</th>\n",
       "      <td>Color</td>\n",
       "      <td>Gore Verbinski</td>\n",
       "      <td>...</td>\n",
       "      <td>2.35</td>\n",
       "      <td>0</td>\n",
       "    </tr>\n",
       "    <tr>\n",
       "      <th>2</th>\n",
       "      <td>Color</td>\n",
       "      <td>Sam Mendes</td>\n",
       "      <td>...</td>\n",
       "      <td>2.35</td>\n",
       "      <td>85000</td>\n",
       "    </tr>\n",
       "    <tr>\n",
       "      <th>3</th>\n",
       "      <td>Color</td>\n",
       "      <td>Christopher Nolan</td>\n",
       "      <td>...</td>\n",
       "      <td>2.35</td>\n",
       "      <td>164000</td>\n",
       "    </tr>\n",
       "    <tr>\n",
       "      <th>4</th>\n",
       "      <td>NaN</td>\n",
       "      <td>Doug Walker</td>\n",
       "      <td>...</td>\n",
       "      <td>NaN</td>\n",
       "      <td>0</td>\n",
       "    </tr>\n",
       "  </tbody>\n",
       "</table>\n",
       "<p>5 rows × 28 columns</p>\n",
       "</div>"
      ],
      "text/plain": [
       "   color      director_name  ...  aspect_ratio  movie_facebook_likes\n",
       "0  Color      James Cameron  ...          1.78                 33000\n",
       "1  Color     Gore Verbinski  ...          2.35                     0\n",
       "2  Color         Sam Mendes  ...          2.35                 85000\n",
       "3  Color  Christopher Nolan  ...          2.35                164000\n",
       "4    NaN        Doug Walker  ...           NaN                     0\n",
       "\n",
       "[5 rows x 28 columns]"
      ]
     },
     "execution_count": 75,
     "metadata": {},
     "output_type": "execute_result"
    }
   ],
   "source": [
    "#pd.set_option('max_colmns',n,'max_rows',m)\n",
    "movies=pd.read_csv('movie.csv')\n",
    "n=5;m=5 \n",
    "pd.set_option('max_columns',n,'max_rows',m) #máximo de columnas y filas a mostrar\n",
    "movies.head() #Da una muestra del data frame m"
   ]
  },
  {
   "cell_type": "code",
   "execution_count": 89,
   "metadata": {},
   "outputs": [
    {
     "name": "stdout",
     "output_type": "stream",
     "text": [
      "Columnas: \n",
      " \n",
      " Index(['color', 'director_name', 'num_critic_for_reviews', 'duration',\n",
      "       'director_facebook_likes', 'actor_3_facebook_likes', 'actor_2_name',\n",
      "       'actor_1_facebook_likes', 'gross', 'genres', 'actor_1_name',\n",
      "       'movie_title', 'num_voted_users', 'cast_total_facebook_likes',\n",
      "       'actor_3_name', 'facenumber_in_poster', 'plot_keywords',\n",
      "       'movie_imdb_link', 'num_user_for_reviews', 'language', 'country',\n",
      "       'content_rating', 'budget', 'title_year', 'actor_2_facebook_likes',\n",
      "       'imdb_score', 'aspect_ratio', 'movie_facebook_likes'],\n",
      "      dtype='object') \n",
      "\n",
      "Indexes: \n",
      " \n",
      " RangeIndex(start=0, stop=4916, step=1) \n",
      "\n",
      "Data: \n",
      " \n",
      " [['Color' 'James Cameron' 723.0 ... 7.9 1.78 33000]\n",
      " ['Color' 'Gore Verbinski' 302.0 ... 7.1 2.35 0]\n",
      " ['Color' 'Sam Mendes' 602.0 ... 6.8 2.35 85000]\n",
      " ...\n",
      " ['Color' 'Benjamin Roberds' 13.0 ... 6.3 nan 16]\n",
      " ['Color' 'Daniel Hsia' 14.0 ... 6.3 2.35 660]\n",
      " ['Color' 'Jon Gunn' 43.0 ... 6.6 1.85 456]] \n",
      "\n"
     ]
    }
   ],
   "source": [
    "#Accediendo a los componentes principales del DataFrame\n",
    "columns=movies.columns #Accedo a las columnas\n",
    "index=movies.index #Accedo a los indixes\n",
    "data=movies.values #Accedo a la data\n",
    "\n",
    "print(\"Columnas: \\n \\n\",columns,\"\\n\")\n",
    "print(\"Indexes: \\n \\n\",index,\"\\n\")\n",
    "print(\"Data: \\n \\n\",data,\"\\n\")"
   ]
  },
  {
   "cell_type": "code",
   "execution_count": 29,
   "metadata": {},
   "outputs": [
    {
     "name": "stdout",
     "output_type": "stream",
     "text": [
      "Tipo index \n",
      " \n",
      " <class 'pandas.core.indexes.range.RangeIndex'>\n",
      "Tipo Columnas \n",
      " \n",
      " <class 'pandas.core.indexes.base.Index'>\n",
      "Tipo Data \n",
      " \n",
      " <class 'numpy.ndarray'>\n"
     ]
    }
   ],
   "source": [
    "#Ver tipo de datos con type\n",
    "print(\"Tipo index \\n \\n\",type(index))\n",
    "print(\"Tipo Columnas \\n \\n\",type(columns))\n",
    "print(\"Tipo Data \\n \\n\",type(data))"
   ]
  },
  {
   "cell_type": "code",
   "execution_count": 35,
   "metadata": {},
   "outputs": [
    {
     "name": "stdout",
     "output_type": "stream",
     "text": [
      "Valores del Index: \n",
      " \n",
      " [   0    1    2 ... 4913 4914 4915] \n",
      " con un total de  4916  de tamaño \n",
      "\n",
      "Valores del Columns: \n",
      " \n",
      " ['color' 'director_name' 'num_critic_for_reviews' 'duration'\n",
      " 'director_facebook_likes' 'actor_3_facebook_likes' 'actor_2_name'\n",
      " 'actor_1_facebook_likes' 'gross' 'genres' 'actor_1_name' 'movie_title'\n",
      " 'num_voted_users' 'cast_total_facebook_likes' 'actor_3_name'\n",
      " 'facenumber_in_poster' 'plot_keywords' 'movie_imdb_link'\n",
      " 'num_user_for_reviews' 'language' 'country' 'content_rating' 'budget'\n",
      " 'title_year' 'actor_2_facebook_likes' 'imdb_score' 'aspect_ratio'\n",
      " 'movie_facebook_likes'] \n",
      " con un total de  28  de tamaño \n",
      "\n"
     ]
    }
   ],
   "source": [
    "print(\"Valores del Index: \\n \\n\",index.values,\"\\n con un total de \", len(index.values),\" de tamaño \\n\")\n",
    "print(\"Valores del Columns: \\n \\n\",columns.values,\"\\n con un total de \", len(columns.values),\" de tamaño \\n\")"
   ]
  },
  {
   "cell_type": "code",
   "execution_count": 90,
   "metadata": {},
   "outputs": [
    {
     "name": "stdout",
     "output_type": "stream",
     "text": [
      "color                    object\n",
      "director_name            object\n",
      "                         ...   \n",
      "aspect_ratio            float64\n",
      "movie_facebook_likes      int64\n",
      "Length: 28, dtype: object \n",
      "\n",
      "0        James Cameron\n",
      "1       Gore Verbinski\n",
      "             ...      \n",
      "4914       Daniel Hsia\n",
      "4915          Jon Gunn\n",
      "Name: director_name, Length: 4916, dtype: object\n",
      "<class 'pandas.core.series.Series'>\n"
     ]
    }
   ],
   "source": [
    "print(movies.dtypes,\"\\n\") #Tipo de datos de todas las columnas\n",
    "print(movies['director_name']) #Trae toda la columna 'director_name' la trae con los indexes\n",
    "print(type(movie['director_name'])) #Ver tipo de la columna 'director_name'"
   ]
  },
  {
   "cell_type": "code",
   "execution_count": 91,
   "metadata": {},
   "outputs": [
    {
     "name": "stdout",
     "output_type": "stream",
     "text": [
      "director_name\n"
     ]
    },
    {
     "data": {
      "text/html": [
       "<div>\n",
       "<style scoped>\n",
       "    .dataframe tbody tr th:only-of-type {\n",
       "        vertical-align: middle;\n",
       "    }\n",
       "\n",
       "    .dataframe tbody tr th {\n",
       "        vertical-align: top;\n",
       "    }\n",
       "\n",
       "    .dataframe thead th {\n",
       "        text-align: right;\n",
       "    }\n",
       "</style>\n",
       "<table border=\"1\" class=\"dataframe\">\n",
       "  <thead>\n",
       "    <tr style=\"text-align: right;\">\n",
       "      <th></th>\n",
       "      <th>director_name</th>\n",
       "    </tr>\n",
       "  </thead>\n",
       "  <tbody>\n",
       "    <tr>\n",
       "      <th>0</th>\n",
       "      <td>James Cameron</td>\n",
       "    </tr>\n",
       "    <tr>\n",
       "      <th>1</th>\n",
       "      <td>Gore Verbinski</td>\n",
       "    </tr>\n",
       "    <tr>\n",
       "      <th>2</th>\n",
       "      <td>Sam Mendes</td>\n",
       "    </tr>\n",
       "    <tr>\n",
       "      <th>3</th>\n",
       "      <td>Christopher Nolan</td>\n",
       "    </tr>\n",
       "    <tr>\n",
       "      <th>4</th>\n",
       "      <td>Doug Walker</td>\n",
       "    </tr>\n",
       "  </tbody>\n",
       "</table>\n",
       "</div>"
      ],
      "text/plain": [
       "       director_name\n",
       "0      James Cameron\n",
       "1     Gore Verbinski\n",
       "2         Sam Mendes\n",
       "3  Christopher Nolan\n",
       "4        Doug Walker"
      ]
     },
     "execution_count": 91,
     "metadata": {},
     "output_type": "execute_result"
    }
   ],
   "source": [
    "#Series como variable\n",
    "director=movie['director_name'] #Guarda la serie 'director_name' en una variable \n",
    "print(director.name) #Obtiene el nombre de la columna\n",
    "director.to_frame().head() #Lo convertimos en un dataframe, el .head() da una muestra"
   ]
  },
  {
   "cell_type": "code",
   "execution_count": 93,
   "metadata": {},
   "outputs": [
    {
     "name": "stdout",
     "output_type": "stream",
     "text": [
      "434\n",
      "431\n",
      "378\n"
     ]
    }
   ],
   "source": [
    "#Dir nos da todos los atributos y metodos de una serie\n",
    "s_attr_methods=set(dir(pd.Series)) #Obtiene los atributos y métodos de la series                                   \n",
    "df_attr_methods=set(dir(pd.DataFrame))#Obtiene los atributos y métodos de un dataFrame\n",
    "\n",
    "print(len(s_attr_methods))#total de atributos y métodos Sereies\n",
    "print(len(df_attr_methods)) #total de atributos y métodos DataFrame\n",
    "\n",
    "print(len(s_attr_methods & df_attr_methods)) #Total de atributos y métodos de df_ y s_ (Intersección)"
   ]
  },
  {
   "cell_type": "code",
   "execution_count": 94,
   "metadata": {},
   "outputs": [
    {
     "name": "stdout",
     "output_type": "stream",
     "text": [
      "0        James Cameron\n",
      "1       Gore Verbinski\n",
      "2           Sam Mendes\n",
      "3    Christopher Nolan\n",
      "4          Doug Walker\n",
      "Name: director_name, dtype: object \n",
      "\n",
      "0     1000.0\n",
      "1    40000.0\n",
      "2    11000.0\n",
      "3    27000.0\n",
      "4      131.0\n",
      "Name: actor_1_facebook_likes, dtype: float64 \n",
      "\n"
     ]
    }
   ],
   "source": [
    "#Llamada a series y metodos\n",
    "director=movies['director_name']\n",
    "actor_1_fb_likes=movies['actor_1_facebook_likes']\n",
    "\n",
    "print(director.head(),\"\\n\")\n",
    "print(actor_1_fb_likes.head(),\"\\n\")"
   ]
  },
  {
   "cell_type": "code",
   "execution_count": 73,
   "metadata": {},
   "outputs": [
    {
     "name": "stdout",
     "output_type": "stream",
     "text": [
      "Steven Spielberg    26\n",
      "Woody Allen         22\n",
      "Martin Scorsese     20\n",
      "Clint Eastwood      20\n",
      "                    ..\n",
      "Scott Alexander      1\n",
      "Matt Walsh           1\n",
      "Roger Christian      1\n",
      "Herb Freed           1\n",
      "Name: director_name, Length: 2397, dtype: int64 \n",
      "\n",
      "1000.0     436\n",
      "11000.0    206\n",
      "2000.0     189\n",
      "3000.0     150\n",
      "          ... \n",
      "216.0        1\n",
      "859.0        1\n",
      "225.0        1\n",
      "334.0        1\n",
      "Name: actor_1_facebook_likes, Length: 877, dtype: int64\n"
     ]
    }
   ],
   "source": [
    "pd.set_option('max_rows',8) #Para mostrar las 8 primeras filas\n",
    "print(director.value_counts(),\"\\n\") #Frecuencia de cada valor del director\n",
    "print(actor_1_fb_likes.value_counts()) #Frecuencia de cada valor de actor_1_fb_likes"
   ]
  },
  {
   "cell_type": "code",
   "execution_count": 74,
   "metadata": {},
   "outputs": [
    {
     "name": "stdout",
     "output_type": "stream",
     "text": [
      "4916\n"
     ]
    }
   ],
   "source": [
    "director.size #Tamaño de la columna director"
   ]
  },
  {
   "cell_type": "code",
   "execution_count": 126,
   "metadata": {},
   "outputs": [
    {
     "data": {
      "text/plain": [
       "(4916,)"
      ]
     },
     "execution_count": 126,
     "metadata": {},
     "output_type": "execute_result"
    }
   ],
   "source": [
    "director.shape #Número de filas x columna"
   ]
  },
  {
   "cell_type": "code",
   "execution_count": 85,
   "metadata": {},
   "outputs": [
    {
     "data": {
      "text/plain": [
       "4916"
      ]
     },
     "execution_count": 85,
     "metadata": {},
     "output_type": "execute_result"
    }
   ],
   "source": [
    "len(director) #Tamaño de la columna director"
   ]
  },
  {
   "cell_type": "code",
   "execution_count": 86,
   "metadata": {},
   "outputs": [
    {
     "data": {
      "text/plain": [
       "4814"
      ]
     },
     "execution_count": 86,
     "metadata": {},
     "output_type": "execute_result"
    }
   ],
   "source": [
    "director.count() #Retorna numero de valores \"non-missing\" de la columna director"
   ]
  },
  {
   "cell_type": "code",
   "execution_count": 87,
   "metadata": {},
   "outputs": [
    {
     "data": {
      "text/plain": [
       "4909"
      ]
     },
     "execution_count": 87,
     "metadata": {},
     "output_type": "execute_result"
    }
   ],
   "source": [
    "actor_1_fb_likes.count() #Retorna numero de valores \"non-missing\" de la columna actor_1..."
   ]
  },
  {
   "cell_type": "code",
   "execution_count": 95,
   "metadata": {},
   "outputs": [
    {
     "data": {
      "text/plain": [
       "982.0"
      ]
     },
     "execution_count": 95,
     "metadata": {},
     "output_type": "execute_result"
    }
   ],
   "source": [
    "actor_1_fb_likes.quantile() #Representa el valor arrojado en un quantil"
   ]
  },
  {
   "cell_type": "code",
   "execution_count": 100,
   "metadata": {},
   "outputs": [
    {
     "data": {
      "text/plain": [
       "(0.0, 640000.0, 6494.488490527602, 982.0, 15106.986883848185, 31881444.0)"
      ]
     },
     "execution_count": 100,
     "metadata": {},
     "output_type": "execute_result"
    }
   ],
   "source": [
    "#Lo siguiente es con respecto a la columna 'actor_1_fb_likes'\n",
    "#min el mínimo\n",
    "#max el máximo \n",
    "#mean la media (promedio)\n",
    "#median la mediana\n",
    "#std  la desviación estandar\n",
    "#sum la Sumatoria\n",
    "\n",
    "#Tupla\n",
    "actor_1_fb_likes.min(),actor_1_fb_likes.max(),\\\n",
    "actor_1_fb_likes.mean(),actor_1_fb_likes.median(),\\\n",
    "actor_1_fb_likes.std(),actor_1_fb_likes.sum()"
   ]
  },
  {
   "cell_type": "code",
   "execution_count": 102,
   "metadata": {},
   "outputs": [
    {
     "data": {
      "text/plain": [
       "count      4909.000000\n",
       "mean       6494.488491\n",
       "             ...      \n",
       "75%       11000.000000\n",
       "max      640000.000000\n",
       "Name: actor_1_facebook_likes, Length: 8, dtype: float64"
      ]
     },
     "execution_count": 102,
     "metadata": {},
     "output_type": "execute_result"
    }
   ],
   "source": [
    "actor_1_fb_likes.describe() #Resumen estadistico de 'actor_1_fb_likes'"
   ]
  },
  {
   "cell_type": "code",
   "execution_count": 103,
   "metadata": {},
   "outputs": [
    {
     "data": {
      "text/plain": [
       "count                 4814\n",
       "unique                2397\n",
       "top       Steven Spielberg\n",
       "freq                    26\n",
       "Name: director_name, dtype: object"
      ]
     },
     "execution_count": 103,
     "metadata": {},
     "output_type": "execute_result"
    }
   ],
   "source": [
    "director.describe() #Resumen estadistico de 'director'"
   ]
  },
  {
   "cell_type": "raw",
   "metadata": {},
   "source": [
    "Padas utiliza en series .describe() y dependiendo sí es un objeto, número etc saca una descripción breve, sí es número saca el min max .... sí es un string saca la frecuencia el top..."
   ]
  },
  {
   "cell_type": "code",
   "execution_count": 108,
   "metadata": {},
   "outputs": [
    {
     "data": {
      "text/plain": [
       "510.0"
      ]
     },
     "execution_count": 108,
     "metadata": {},
     "output_type": "execute_result"
    }
   ],
   "source": [
    "actor_1_fb_likes.quantile(.2) #Sacamos un quartil del 20%"
   ]
  },
  {
   "cell_type": "code",
   "execution_count": 109,
   "metadata": {},
   "outputs": [
    {
     "data": {
      "text/plain": [
       "0.1      240.0\n",
       "0.2      510.0\n",
       "        ...   \n",
       "0.8    13000.0\n",
       "0.9    18000.0\n",
       "Name: actor_1_facebook_likes, Length: 9, dtype: float64"
      ]
     },
     "execution_count": 109,
     "metadata": {},
     "output_type": "execute_result"
    }
   ],
   "source": [
    "actor_1_fb_likes.quantile([.1,.2,.3,.4,.5,.6,.7,.8,.9]) #Conjunto de quartiles 10%, 20% ... 90%"
   ]
  },
  {
   "cell_type": "code",
   "execution_count": 114,
   "metadata": {},
   "outputs": [
    {
     "data": {
      "text/plain": [
       "0       False\n",
       "1       False\n",
       "        ...  \n",
       "4914    False\n",
       "4915    False\n",
       "Name: director_name, Length: 4916, dtype: bool"
      ]
     },
     "execution_count": 114,
     "metadata": {},
     "output_type": "execute_result"
    }
   ],
   "source": [
    "director.isnull() #True/False en la busqueda de los nulos de la serie 'director'"
   ]
  },
  {
   "cell_type": "code",
   "execution_count": 122,
   "metadata": {},
   "outputs": [
    {
     "name": "stdout",
     "output_type": "stream",
     "text": [
      "4909\n",
      "4916\n"
     ]
    }
   ],
   "source": [
    "actor_1_fb_likes_field=actor_1_fb_likes.fillna(0) #Llenamos los nulos(NaN) con valores 0 y lo asignamos a una nueva variable\n",
    "print(actor_1_fb_likes.count())  #Sin fillna\n",
    "print(actor_1_fb_likes_field.count()) #Con fillna"
   ]
  },
  {
   "cell_type": "code",
   "execution_count": 124,
   "metadata": {},
   "outputs": [
    {
     "data": {
      "text/plain": [
       "4909"
      ]
     },
     "execution_count": 124,
     "metadata": {},
     "output_type": "execute_result"
    }
   ],
   "source": [
    "actor_1_fb_likes_dropped=actor_1_fb_likes.dropna() #Va a tener todos los valores que no son perdidos (NaN)   \n",
    "actor_1_fb_likes_dropped.size"
   ]
  },
  {
   "cell_type": "code",
   "execution_count": 128,
   "metadata": {},
   "outputs": [
    {
     "data": {
      "text/plain": [
       "Steven Spielberg    26\n",
       "Woody Allen         22\n",
       "                    ..\n",
       "Roger Christian      1\n",
       "Herb Freed           1\n",
       "Name: director_name, Length: 2397, dtype: int64"
      ]
     },
     "execution_count": 128,
     "metadata": {},
     "output_type": "execute_result"
    }
   ],
   "source": [
    "director.value_counts() #Frecuencia (conteo)"
   ]
  },
  {
   "cell_type": "code",
   "execution_count": 129,
   "metadata": {},
   "outputs": [
    {
     "data": {
      "text/plain": [
       "Steven Spielberg    0.005401\n",
       "Woody Allen         0.004570\n",
       "                      ...   \n",
       "Roger Christian     0.000208\n",
       "Herb Freed          0.000208\n",
       "Name: director_name, Length: 2397, dtype: float64"
      ]
     },
     "execution_count": 129,
     "metadata": {},
     "output_type": "execute_result"
    }
   ],
   "source": [
    "director.value_counts(normalize=True) #Frecuencia porcentual (Normaliza la serie)"
   ]
  },
  {
   "cell_type": "code",
   "execution_count": 130,
   "metadata": {},
   "outputs": [
    {
     "data": {
      "text/plain": [
       "0       True\n",
       "1       True\n",
       "        ... \n",
       "4914    True\n",
       "4915    True\n",
       "Name: director_name, Length: 4916, dtype: bool"
      ]
     },
     "execution_count": 130,
     "metadata": {},
     "output_type": "execute_result"
    }
   ],
   "source": [
    "director.notnull() #Es el contrario de isNull"
   ]
  },
  {
   "cell_type": "code",
   "execution_count": 132,
   "metadata": {},
   "outputs": [
    {
     "data": {
      "text/plain": [
       "True"
      ]
     },
     "execution_count": 132,
     "metadata": {},
     "output_type": "execute_result"
    }
   ],
   "source": [
    "director.hasnans #Retorna True por lo menos sí tiene un elemento nulo de lo contrario False"
   ]
  },
  {
   "cell_type": "raw",
   "metadata": {},
   "source": [
    "#Operadores sobre serie"
   ]
  },
  {
   "cell_type": "code",
   "execution_count": 139,
   "metadata": {},
   "outputs": [
    {
     "data": {
      "text/plain": [
       "0       7.9\n",
       "1       7.1\n",
       "2       6.8\n",
       "       ... \n",
       "4913    6.3\n",
       "4914    6.3\n",
       "4915    6.6\n",
       "Name: imdb_score, Length: 4916, dtype: float64"
      ]
     },
     "execution_count": 139,
     "metadata": {},
     "output_type": "execute_result"
    }
   ],
   "source": [
    "movies=pd.read_csv('movie.csv')\n",
    "imdb_score=movies['imdb_score']\n",
    "imdb_score"
   ]
  },
  {
   "cell_type": "code",
   "execution_count": 141,
   "metadata": {},
   "outputs": [
    {
     "data": {
      "text/plain": [
       "0       8.9\n",
       "1       8.1\n",
       "2       7.8\n",
       "       ... \n",
       "4913    7.3\n",
       "4914    7.3\n",
       "4915    7.6\n",
       "Name: imdb_score, Length: 4916, dtype: float64"
      ]
     },
     "execution_count": 141,
     "metadata": {},
     "output_type": "execute_result"
    }
   ],
   "source": [
    "imdb_score+1 #Se suma a cada valor de la columna 'imddb_score' por 1"
   ]
  },
  {
   "cell_type": "code",
   "execution_count": 143,
   "metadata": {},
   "outputs": [
    {
     "data": {
      "text/plain": [
       "0       19.75\n",
       "1       17.75\n",
       "2       17.00\n",
       "        ...  \n",
       "4913    15.75\n",
       "4914    15.75\n",
       "4915    16.50\n",
       "Name: imdb_score, Length: 4916, dtype: float64"
      ]
     },
     "execution_count": 143,
     "metadata": {},
     "output_type": "execute_result"
    }
   ],
   "source": [
    "imdb_score*2.5 #Multiplica  cada valor de la columna 'imdb_score' por 2.5"
   ]
  },
  {
   "cell_type": "code",
   "execution_count": 144,
   "metadata": {},
   "outputs": [
    {
     "data": {
      "text/plain": [
       "0       1.0\n",
       "1       1.0\n",
       "2       0.0\n",
       "       ... \n",
       "4913    0.0\n",
       "4914    0.0\n",
       "4915    0.0\n",
       "Name: imdb_score, Length: 4916, dtype: float64"
      ]
     },
     "execution_count": 144,
     "metadata": {},
     "output_type": "execute_result"
    }
   ],
   "source": [
    "imdb_score // 7 #División redondeando cada elemento del cero más cercano por 7 en la columna 'imdb_score'"
   ]
  },
  {
   "cell_type": "code",
   "execution_count": 146,
   "metadata": {},
   "outputs": [
    {
     "data": {
      "text/plain": [
       "0        True\n",
       "1        True\n",
       "2       False\n",
       "        ...  \n",
       "4913    False\n",
       "4914    False\n",
       "4915    False\n",
       "Name: imdb_score, Length: 4916, dtype: bool"
      ]
     },
     "execution_count": 146,
     "metadata": {},
     "output_type": "execute_result"
    }
   ],
   "source": [
    "imdb_score>7 # es mayor a 7? true o false en todos los valores de la columna 'imdb_score'"
   ]
  },
  {
   "cell_type": "code",
   "execution_count": 149,
   "metadata": {},
   "outputs": [
    {
     "data": {
      "text/plain": [
       "0        True\n",
       "1       False\n",
       "2       False\n",
       "        ...  \n",
       "4913    False\n",
       "4914    False\n",
       "4915    False\n",
       "Name: director_name, Length: 4916, dtype: bool"
      ]
     },
     "execution_count": 149,
     "metadata": {},
     "output_type": "execute_result"
    }
   ],
   "source": [
    "director=movies['director_name']\n",
    "director=='James Cameron' #En donde encuentre a 'James Cameron' será true en la fila o false"
   ]
  },
  {
   "cell_type": "code",
   "execution_count": 150,
   "metadata": {},
   "outputs": [
    {
     "data": {
      "text/plain": [
       "0       8.9\n",
       "1       8.1\n",
       "2       7.8\n",
       "       ... \n",
       "4913    7.3\n",
       "4914    7.3\n",
       "4915    7.6\n",
       "Name: imdb_score, Length: 4916, dtype: float64"
      ]
     },
     "execution_count": 150,
     "metadata": {},
     "output_type": "execute_result"
    }
   ],
   "source": [
    "imdb_score.add(1) #Lo mismo que imdb_score+1"
   ]
  },
  {
   "cell_type": "code",
   "execution_count": 151,
   "metadata": {},
   "outputs": [
    {
     "data": {
      "text/plain": [
       "0       19.75\n",
       "1       17.75\n",
       "2       17.00\n",
       "        ...  \n",
       "4913    15.75\n",
       "4914    15.75\n",
       "4915    16.50\n",
       "Name: imdb_score, Length: 4916, dtype: float64"
      ]
     },
     "execution_count": 151,
     "metadata": {},
     "output_type": "execute_result"
    }
   ],
   "source": [
    "imdb_score.mul(2.5) #Lo mismo que imdb_score *2.5"
   ]
  },
  {
   "cell_type": "code",
   "execution_count": 152,
   "metadata": {},
   "outputs": [
    {
     "data": {
      "text/plain": [
       "0       1.0\n",
       "1       1.0\n",
       "2       0.0\n",
       "       ... \n",
       "4913    0.0\n",
       "4914    0.0\n",
       "4915    0.0\n",
       "Name: imdb_score, Length: 4916, dtype: float64"
      ]
     },
     "execution_count": 152,
     "metadata": {},
     "output_type": "execute_result"
    }
   ],
   "source": [
    "imdb_score.floordiv(7) #Lo mismo que imdb_score // 7"
   ]
  },
  {
   "cell_type": "code",
   "execution_count": 153,
   "metadata": {},
   "outputs": [
    {
     "data": {
      "text/plain": [
       "0        True\n",
       "1        True\n",
       "2       False\n",
       "        ...  \n",
       "4913    False\n",
       "4914    False\n",
       "4915    False\n",
       "Name: imdb_score, Length: 4916, dtype: bool"
      ]
     },
     "execution_count": 153,
     "metadata": {},
     "output_type": "execute_result"
    }
   ],
   "source": [
    "imdb_score.gt(7) #Lo mismo que imdb_score > 7"
   ]
  },
  {
   "cell_type": "raw",
   "metadata": {},
   "source": [
    "director.eq('James Cameron') #Lo mismo que director == 'James Cameron'"
   ]
  },
  {
   "cell_type": "code",
   "execution_count": 157,
   "metadata": {},
   "outputs": [
    {
     "data": {
      "text/plain": [
       "0       2\n",
       "1       2\n",
       "2       1\n",
       "       ..\n",
       "4913    1\n",
       "4914    1\n",
       "4915    1\n",
       "Name: imdb_score, Length: 4916, dtype: int32"
      ]
     },
     "execution_count": 157,
     "metadata": {},
     "output_type": "execute_result"
    }
   ],
   "source": [
    "imdb_score.astype(int).mod(5) #Convierte la columna en Entero y le saca el residuo dividiendo por 5"
   ]
  },
  {
   "cell_type": "raw",
   "metadata": {},
   "source": [
    "Encadenar metodos de la serie"
   ]
  },
  {
   "cell_type": "code",
   "execution_count": 160,
   "metadata": {},
   "outputs": [
    {
     "data": {
      "text/plain": [
       "Steven Spielberg    26\n",
       "Woody Allen         22\n",
       "Martin Scorsese     20\n",
       "Name: director_name, dtype: int64"
      ]
     },
     "execution_count": 160,
     "metadata": {},
     "output_type": "execute_result"
    }
   ],
   "source": [
    "director.value_counts().head(3) #Frecuencia y muestra los 3 primeros"
   ]
  },
  {
   "cell_type": "code",
   "execution_count": 162,
   "metadata": {},
   "outputs": [
    {
     "data": {
      "text/plain": [
       "7"
      ]
     },
     "execution_count": 162,
     "metadata": {},
     "output_type": "execute_result"
    }
   ],
   "source": [
    "actor_1_fb_likes.isnull().sum() #Suma aquellos que son nulos en la columna"
   ]
  },
  {
   "cell_type": "code",
   "execution_count": 163,
   "metadata": {},
   "outputs": [
    {
     "data": {
      "text/plain": [
       "dtype('float64')"
      ]
     },
     "execution_count": 163,
     "metadata": {},
     "output_type": "execute_result"
    }
   ],
   "source": [
    "actor_1_fb_likes.dtype #Tipo de dato en la columna "
   ]
  },
  {
   "cell_type": "code",
   "execution_count": 165,
   "metadata": {},
   "outputs": [
    {
     "data": {
      "text/plain": [
       "0     1000\n",
       "1    40000\n",
       "2    11000\n",
       "3    27000\n",
       "4      131\n",
       "Name: actor_1_facebook_likes, dtype: int32"
      ]
     },
     "execution_count": 165,
     "metadata": {},
     "output_type": "execute_result"
    }
   ],
   "source": [
    "actor_1_fb_likes.fillna(0).astype(int).head() #Reemplaza los valores Nan por cero y luego hace el Jutso de cambiaso jaajaja a int y muestra una cabezera"
   ]
  },
  {
   "cell_type": "code",
   "execution_count": 167,
   "metadata": {},
   "outputs": [
    {
     "data": {
      "text/plain": [
       "0.0014239218877135883"
      ]
     },
     "execution_count": 167,
     "metadata": {},
     "output_type": "execute_result"
    }
   ],
   "source": [
    "actor_1_fb_likes.isnull().mean() #Saca los nullos de la columna y luego le saca la media. Saca el valor que representa los nullos en la columna   "
   ]
  },
  {
   "cell_type": "code",
   "execution_count": 170,
   "metadata": {},
   "outputs": [
    {
     "data": {
      "text/html": [
       "<div>\n",
       "<style scoped>\n",
       "    .dataframe tbody tr th:only-of-type {\n",
       "        vertical-align: middle;\n",
       "    }\n",
       "\n",
       "    .dataframe tbody tr th {\n",
       "        vertical-align: top;\n",
       "    }\n",
       "\n",
       "    .dataframe thead th {\n",
       "        text-align: right;\n",
       "    }\n",
       "</style>\n",
       "<table border=\"1\" class=\"dataframe\">\n",
       "  <thead>\n",
       "    <tr style=\"text-align: right;\">\n",
       "      <th></th>\n",
       "      <th>color</th>\n",
       "      <th>director_name</th>\n",
       "      <th>...</th>\n",
       "      <th>aspect_ratio</th>\n",
       "      <th>movie_facebook_likes</th>\n",
       "    </tr>\n",
       "    <tr>\n",
       "      <th>movie_title</th>\n",
       "      <th></th>\n",
       "      <th></th>\n",
       "      <th></th>\n",
       "      <th></th>\n",
       "      <th></th>\n",
       "    </tr>\n",
       "  </thead>\n",
       "  <tbody>\n",
       "    <tr>\n",
       "      <th>Avatar</th>\n",
       "      <td>Color</td>\n",
       "      <td>James Cameron</td>\n",
       "      <td>...</td>\n",
       "      <td>1.78</td>\n",
       "      <td>33000</td>\n",
       "    </tr>\n",
       "    <tr>\n",
       "      <th>Pirates of the Caribbean: At World's End</th>\n",
       "      <td>Color</td>\n",
       "      <td>Gore Verbinski</td>\n",
       "      <td>...</td>\n",
       "      <td>2.35</td>\n",
       "      <td>0</td>\n",
       "    </tr>\n",
       "    <tr>\n",
       "      <th>Spectre</th>\n",
       "      <td>Color</td>\n",
       "      <td>Sam Mendes</td>\n",
       "      <td>...</td>\n",
       "      <td>2.35</td>\n",
       "      <td>85000</td>\n",
       "    </tr>\n",
       "    <tr>\n",
       "      <th>...</th>\n",
       "      <td>...</td>\n",
       "      <td>...</td>\n",
       "      <td>...</td>\n",
       "      <td>...</td>\n",
       "      <td>...</td>\n",
       "    </tr>\n",
       "    <tr>\n",
       "      <th>A Plague So Pleasant</th>\n",
       "      <td>Color</td>\n",
       "      <td>Benjamin Roberds</td>\n",
       "      <td>...</td>\n",
       "      <td>NaN</td>\n",
       "      <td>16</td>\n",
       "    </tr>\n",
       "    <tr>\n",
       "      <th>Shanghai Calling</th>\n",
       "      <td>Color</td>\n",
       "      <td>Daniel Hsia</td>\n",
       "      <td>...</td>\n",
       "      <td>2.35</td>\n",
       "      <td>660</td>\n",
       "    </tr>\n",
       "    <tr>\n",
       "      <th>My Date with Drew</th>\n",
       "      <td>Color</td>\n",
       "      <td>Jon Gunn</td>\n",
       "      <td>...</td>\n",
       "      <td>1.85</td>\n",
       "      <td>456</td>\n",
       "    </tr>\n",
       "  </tbody>\n",
       "</table>\n",
       "<p>4916 rows × 27 columns</p>\n",
       "</div>"
      ],
      "text/plain": [
       "                                          color     director_name  ...  \\\n",
       "movie_title                                                        ...   \n",
       "Avatar                                    Color     James Cameron  ...   \n",
       "Pirates of the Caribbean: At World's End  Color    Gore Verbinski  ...   \n",
       "Spectre                                   Color        Sam Mendes  ...   \n",
       "...                                         ...               ...  ...   \n",
       "A Plague So Pleasant                      Color  Benjamin Roberds  ...   \n",
       "Shanghai Calling                          Color       Daniel Hsia  ...   \n",
       "My Date with Drew                         Color          Jon Gunn  ...   \n",
       "\n",
       "                                          aspect_ratio  movie_facebook_likes  \n",
       "movie_title                                                                   \n",
       "Avatar                                            1.78                 33000  \n",
       "Pirates of the Caribbean: At World's End          2.35                     0  \n",
       "Spectre                                           2.35                 85000  \n",
       "...                                                ...                   ...  \n",
       "A Plague So Pleasant                               NaN                    16  \n",
       "Shanghai Calling                                  2.35                   660  \n",
       "My Date with Drew                                 1.85                   456  \n",
       "\n",
       "[4916 rows x 27 columns]"
      ]
     },
     "execution_count": 170,
     "metadata": {},
     "output_type": "execute_result"
    }
   ],
   "source": [
    "movie2=movie.set_index('movie_title') #Como indixe dejo la columna 'movie_title'\n",
    "movie2"
   ]
  },
  {
   "cell_type": "code",
   "execution_count": 171,
   "metadata": {},
   "outputs": [
    {
     "data": {
      "text/html": [
       "<div>\n",
       "<style scoped>\n",
       "    .dataframe tbody tr th:only-of-type {\n",
       "        vertical-align: middle;\n",
       "    }\n",
       "\n",
       "    .dataframe tbody tr th {\n",
       "        vertical-align: top;\n",
       "    }\n",
       "\n",
       "    .dataframe thead th {\n",
       "        text-align: right;\n",
       "    }\n",
       "</style>\n",
       "<table border=\"1\" class=\"dataframe\">\n",
       "  <thead>\n",
       "    <tr style=\"text-align: right;\">\n",
       "      <th></th>\n",
       "      <th>movie_title</th>\n",
       "      <th>color</th>\n",
       "      <th>...</th>\n",
       "      <th>aspect_ratio</th>\n",
       "      <th>movie_facebook_likes</th>\n",
       "    </tr>\n",
       "  </thead>\n",
       "  <tbody>\n",
       "    <tr>\n",
       "      <th>0</th>\n",
       "      <td>Avatar</td>\n",
       "      <td>Color</td>\n",
       "      <td>...</td>\n",
       "      <td>1.78</td>\n",
       "      <td>33000</td>\n",
       "    </tr>\n",
       "    <tr>\n",
       "      <th>1</th>\n",
       "      <td>Pirates of the Caribbean: At World's End</td>\n",
       "      <td>Color</td>\n",
       "      <td>...</td>\n",
       "      <td>2.35</td>\n",
       "      <td>0</td>\n",
       "    </tr>\n",
       "    <tr>\n",
       "      <th>2</th>\n",
       "      <td>Spectre</td>\n",
       "      <td>Color</td>\n",
       "      <td>...</td>\n",
       "      <td>2.35</td>\n",
       "      <td>85000</td>\n",
       "    </tr>\n",
       "    <tr>\n",
       "      <th>...</th>\n",
       "      <td>...</td>\n",
       "      <td>...</td>\n",
       "      <td>...</td>\n",
       "      <td>...</td>\n",
       "      <td>...</td>\n",
       "    </tr>\n",
       "    <tr>\n",
       "      <th>4913</th>\n",
       "      <td>A Plague So Pleasant</td>\n",
       "      <td>Color</td>\n",
       "      <td>...</td>\n",
       "      <td>NaN</td>\n",
       "      <td>16</td>\n",
       "    </tr>\n",
       "    <tr>\n",
       "      <th>4914</th>\n",
       "      <td>Shanghai Calling</td>\n",
       "      <td>Color</td>\n",
       "      <td>...</td>\n",
       "      <td>2.35</td>\n",
       "      <td>660</td>\n",
       "    </tr>\n",
       "    <tr>\n",
       "      <th>4915</th>\n",
       "      <td>My Date with Drew</td>\n",
       "      <td>Color</td>\n",
       "      <td>...</td>\n",
       "      <td>1.85</td>\n",
       "      <td>456</td>\n",
       "    </tr>\n",
       "  </tbody>\n",
       "</table>\n",
       "<p>4916 rows × 28 columns</p>\n",
       "</div>"
      ],
      "text/plain": [
       "                                   movie_title  color  ... aspect_ratio  \\\n",
       "0                                       Avatar  Color  ...         1.78   \n",
       "1     Pirates of the Caribbean: At World's End  Color  ...         2.35   \n",
       "2                                      Spectre  Color  ...         2.35   \n",
       "...                                        ...    ...  ...          ...   \n",
       "4913                      A Plague So Pleasant  Color  ...          NaN   \n",
       "4914                          Shanghai Calling  Color  ...         2.35   \n",
       "4915                         My Date with Drew  Color  ...         1.85   \n",
       "\n",
       "      movie_facebook_likes  \n",
       "0                    33000  \n",
       "1                        0  \n",
       "2                    85000  \n",
       "...                    ...  \n",
       "4913                    16  \n",
       "4914                   660  \n",
       "4915                   456  \n",
       "\n",
       "[4916 rows x 28 columns]"
      ]
     },
     "execution_count": 171,
     "metadata": {},
     "output_type": "execute_result"
    }
   ],
   "source": [
    "movie2.reset_index() #Reseteo el indexe"
   ]
  },
  {
   "cell_type": "code",
   "execution_count": 172,
   "metadata": {},
   "outputs": [],
   "source": [
    "#Cambiar algunas indixes y algunas columnas \n",
    "movie=pd.read_csv('movie.csv',index_col='movie_title')\n",
    "idx_rename={'Avatar':'AVATARES','Spectre':'Espectro'}\n",
    "col_rename={'director_name':'Nombre del Director',\n",
    "           'num_critic_for_reviews':'Revisiones Críticas'}\n",
    "\n"
   ]
  },
  {
   "cell_type": "code",
   "execution_count": null,
   "metadata": {},
   "outputs": [],
   "source": []
  }
 ],
 "metadata": {
  "kernelspec": {
   "display_name": "Python 3.7.0 64-bit",
   "language": "python",
   "name": "python37064bit77c32bfef69240b193135a62ae515774"
  },
  "language_info": {
   "codemirror_mode": {
    "name": "ipython",
    "version": 3
   },
   "file_extension": ".py",
   "mimetype": "text/x-python",
   "name": "python",
   "nbconvert_exporter": "python",
   "pygments_lexer": "ipython3",
   "version": "3.7.0"
  }
 },
 "nbformat": 4,
 "nbformat_minor": 2
}
