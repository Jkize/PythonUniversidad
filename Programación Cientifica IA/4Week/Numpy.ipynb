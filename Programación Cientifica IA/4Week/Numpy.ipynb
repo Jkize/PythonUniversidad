{
 "cells": [
  {
   "cell_type": "code",
   "execution_count": 1,
   "metadata": {},
   "outputs": [],
   "source": [
    "import numpy as np"
   ]
  },
  {
   "cell_type": "code",
   "execution_count": 38,
   "metadata": {},
   "outputs": [],
   "source": [
    "a=np.array([1,2,3])\n",
    "b=np.array([1.2,4.0,3.0]) "
   ]
  },
  {
   "cell_type": "code",
   "execution_count": 39,
   "metadata": {},
   "outputs": [
    {
     "name": "stdout",
     "output_type": "stream",
     "text": [
      "[1 2 3] Tipo dato int64 \n",
      "\n",
      "[1.2 4.  3. ] Tipo dato float64 \n",
      "\n"
     ]
    }
   ],
   "source": [
    "print(a,\"Tipo dato {}\".format(a.dtype),\"\\n\")\n",
    "print(b,\"Tipo dato {}\".format(b.dtype),\"\\n\") "
   ]
  },
  {
   "cell_type": "code",
   "execution_count": 64,
   "metadata": {},
   "outputs": [
    {
     "name": "stdout",
     "output_type": "stream",
     "text": [
      "[[1 2]\n",
      " [3 4]] \n",
      "\n",
      "[[1 2]\n",
      " [3 4]] \n",
      "\n",
      "[[ 7 10]\n",
      " [15 22]] \n",
      "\n",
      "S\n",
      "[[ 7 10]\n",
      " [15 22]]\n"
     ]
    }
   ],
   "source": [
    "m1=np.matrix('1 2; 3 4')\n",
    "m2=np.matrix([[1, 2], [3, 4]])\n",
    "print(m1,\"\\n\")\n",
    "print(m2,\"\\n\")\n",
    "m3=np.matmul(m1, m2) #Multiplicaciòn \n",
    "print(m4)"
   ]
  },
  {
   "cell_type": "code",
   "execution_count": 69,
   "metadata": {},
   "outputs": [
    {
     "name": "stdout",
     "output_type": "stream",
     "text": [
      "[0. 0. 0. 0. 0.] \n",
      "\n",
      "[1. 1. 1. 1. 1.] \n",
      "\n",
      "[[0. 0. 0. 0.]\n",
      " [0. 0. 0. 0.]\n",
      " [0. 0. 0. 0.]\n",
      " [0. 0. 0. 0.]\n",
      " [0. 0. 0. 0.]] \n",
      "\n",
      "[10 11 12 13 14 15 16 17 18 19 20] \n",
      "\n",
      "[1.   1.25 1.5  1.75 2.  ]\n"
     ]
    }
   ],
   "source": [
    "Azero=np.zeros(5)\n",
    "print(Azero,\"\\n\")\n",
    "\n",
    "#Si se quiere tambièn se llena de solo unos\n",
    "print(np.ones(5),\"\\n\")\n",
    "\n",
    "Mzero=np.zeros((5,4))\n",
    "print(Mzero,\"\\n\")\n",
    "\n",
    "Arange=np.arange(10,21)\n",
    "print(Arange,\"\\n\")\n",
    "\n",
    "#Aqui le estoy diciendo que quiero que divida las distancias\n",
    "Lrange=np.linspace(1,2,5)\n",
    "print(Lrange)"
   ]
  },
  {
   "cell_type": "code",
   "execution_count": 52,
   "metadata": {},
   "outputs": [
    {
     "name": "stdout",
     "output_type": "stream",
     "text": [
      "[   0    1    2 ... 9997 9998 9999]\n"
     ]
    }
   ],
   "source": [
    "print(np.arange(10000))\n",
    "#Numpy que dice que cuando mi array supere los 1000 elementos la mostrará de esta forma"
   ]
  },
  {
   "cell_type": "code",
   "execution_count": 53,
   "metadata": {},
   "outputs": [
    {
     "name": "stdout",
     "output_type": "stream",
     "text": [
      "[0 1 2 3 4 5 6 7 8 9]\n",
      "[ 0  1  2 ...  8  9 10]\n"
     ]
    }
   ],
   "source": [
    "np.set_printoptions(threshold=10)\n",
    "print(np.arange(10))  # [0 1 2 3 4 5 6 7 8 9]\n",
    "print(np.arange(11))  # [ 0  1  2 ...  8  9 10]\n",
    "np.set_printoptions(threshold=1000)  # Volver a la normalidad"
   ]
  },
  {
   "cell_type": "code",
   "execution_count": 55,
   "metadata": {},
   "outputs": [
    {
     "name": "stdout",
     "output_type": "stream",
     "text": [
      "[[1. 0. 0.]\n",
      " [0. 1. 0.]\n",
      " [0. 0. 1.]] \n",
      "\n",
      "[[0. 1. 0.]\n",
      " [0. 0. 1.]\n",
      " [0. 0. 0.]] \n",
      "\n",
      "[[0. 0. 0.]\n",
      " [1. 0. 0.]\n",
      " [0. 1. 0.]] \n",
      "\n"
     ]
    }
   ],
   "source": [
    "a = np.identity(3)  # Matriz de identidad de 3x3\n",
    "print(a,\"\\n\")\n",
    "a = np.eye(3, k=1)   # La muevo hacia arriba\n",
    "print(a,\"\\n\")\n",
    "a = np.eye(3, k=-1)  # La muevo hacia abajo\n",
    "print(a,\"\\n\")"
   ]
  },
  {
   "cell_type": "code",
   "execution_count": 58,
   "metadata": {},
   "outputs": [
    {
     "name": "stdout",
     "output_type": "stream",
     "text": [
      "[50  2  3]\n"
     ]
    },
    {
     "data": {
      "text/plain": [
       "False"
      ]
     },
     "execution_count": 58,
     "metadata": {},
     "output_type": "execute_result"
    }
   ],
   "source": [
    "# Linked Memory\n",
    "a = np.array([1, 2, 3])  # Creo una array\n",
    "b = a                    # La reasigno a otra variable\n",
    "a[0] = 50                # Modifico a\n",
    "print(b)                 # Muestro b\n",
    "# [50  2  3]\n",
    "c=np.array([3])\n",
    "np.shares_memory(a, b) #Comprobar que comparten la misma memoria\n",
    "np.shares_memory(a, c)"
   ]
  },
  {
   "cell_type": "code",
   "execution_count": 70,
   "metadata": {},
   "outputs": [
    {
     "name": "stdout",
     "output_type": "stream",
     "text": [
      "55\n",
      "1\n",
      "10\n"
     ]
    }
   ],
   "source": [
    "#Operaciones\n",
    "a=np.array([1,2,3,4,5,6,7,8,9,10])\n",
    "print(a.sum())\n",
    "print(a.min())\n",
    "print(a.max())"
   ]
  },
  {
   "cell_type": "code",
   "execution_count": 79,
   "metadata": {},
   "outputs": [
    {
     "name": "stdout",
     "output_type": "stream",
     "text": [
      "Resultados lista Python:\n",
      "28  *  1000  =  28000 \n",
      "\n",
      "Resultados lista Numpy: \n",
      "\n",
      "1000  *  8  =  8000\n"
     ]
    }
   ],
   "source": [
    "import sys\n",
    "S=range(1000)\n",
    "print(\"Resultados lista Python:\")\n",
    "# getsizeof = Return the size of an object in bytes. The object can be any type of object. \n",
    "#All built-in objects will return correct results, but this does not have to \n",
    "# hold true for third-party extensions as it is implementation specific.\n",
    "print(sys.getsizeof(1),\" * \",len(S),\" = \",sys.getsizeof(1)*len(S) ,\"\\n\")\n",
    "D=np.arange(1000)\n",
    "print(\"Resultados lista Numpy:\",\"\\n\")\n",
    "print(D.size,\" * \",D.itemsize,\" = \",D.size*D.itemsize)"
   ]
  },
  {
   "cell_type": "code",
   "execution_count": 11,
   "metadata": {},
   "outputs": [
    {
     "name": "stdout",
     "output_type": "stream",
     "text": [
      "[[1. 1. 1.]\n",
      " [1. 1. 1.]\n",
      " [1. 1. 1.]] \n",
      "\n",
      "[[1. 1. 1. 1.]\n",
      " [1. 1. 1. 1.]\n",
      " [1. 1. 1. 1.]]\n"
     ]
    }
   ],
   "source": [
    "print(np.ones((3,3)),\"\\n\")\n",
    "x=np.ones((3,3))\n",
    "print(x[:, [0,1,2,2] ]) "
   ]
  },
  {
   "cell_type": "code",
   "execution_count": 14,
   "metadata": {},
   "outputs": [
    {
     "name": "stdout",
     "output_type": "stream",
     "text": [
      "[[13.  1.  1.]\n",
      " [ 1.  1.  1.]\n",
      " [ 1.  1.  1.]]\n"
     ]
    }
   ],
   "source": [
    "x=np.ones((3,3))\n",
    "y=x[:2,:2]\n",
    "\n",
    "y[0,0]=13\n",
    "print(x)"
   ]
  },
  {
   "cell_type": "code",
   "execution_count": 20,
   "metadata": {},
   "outputs": [
    {
     "name": "stdout",
     "output_type": "stream",
     "text": [
      "[[          0  4294967296           1  8589934592]\n",
      " [          1  8589934592           2 12884901888]\n",
      " [          2 12884901888           3 17179869184]\n",
      " [          3 17179869184           4 21474836480]\n",
      " [          4 21474836480           5 25769803776]\n",
      " [          5 25769803776           6 30064771072]\n",
      " [          6 30064771072           7 34359738368]]\n"
     ]
    }
   ],
   "source": [
    "from numpy.lib.stride_tricks import as_strided\n",
    "x=np.arange(16)\n",
    "y=as_strided(x,(7,4),(8,4),(3,2))\n",
    "print(y)"
   ]
  },
  {
   "cell_type": "code",
   "execution_count": 24,
   "metadata": {},
   "outputs": [
    {
     "name": "stdout",
     "output_type": "stream",
     "text": [
      "[[0 1 2 3]\n",
      " [1 2 3 4]\n",
      " [2 3 4 5]\n",
      " [3 4 5 6]\n",
      " [4 5 6 7]]\n"
     ]
    }
   ],
   "source": [
    "n=8\n",
    "x=np.arange(n)\n",
    "k=5\n",
    "y=as_strided(x,(k,n-k+1),(x.itemsize,)*2)\n",
    "print(y)"
   ]
  },
  {
   "cell_type": "code",
   "execution_count": null,
   "metadata": {},
   "outputs": [],
   "source": [
    "#s=input(\"Entrada: \")\n",
    "import numpy as np\n",
    "n=(input(\"Digite num con espacio: \"))\n",
    "array=n.split(\" \")   \n",
    "d=np.array(list(map(float, array)) )\n",
    "\n",
    "print(np.array(np.round(d),dtype=int))\n",
    "\n",
    "masa=int(input(\"Digite masa: \"))\n",
    "print(masa*9.8)"
   ]
  },
  {
   "cell_type": "code",
   "execution_count": null,
   "metadata": {},
   "outputs": [],
   "source": [
    "\n",
    "print(\"Hello\")"
   ]
  },
  {
   "cell_type": "code",
   "execution_count": null,
   "metadata": {},
   "outputs": [],
   "source": []
  }
 ],
 "metadata": {
  "kernelspec": {
   "display_name": "Python 3.7.4 64-bit",
   "language": "python",
   "name": "python37464bit587295cdae7d4790a5455ef272476b4e"
  },
  "language_info": {
   "codemirror_mode": {
    "name": "ipython",
    "version": 3
   },
   "file_extension": ".py",
   "mimetype": "text/x-python",
   "name": "python",
   "nbconvert_exporter": "python",
   "pygments_lexer": "ipython3",
   "version": "3.7.4"
  }
 },
 "nbformat": 4,
 "nbformat_minor": 4
}
