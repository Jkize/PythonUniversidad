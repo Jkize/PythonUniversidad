{
 "cells": [
  {
   "cell_type": "code",
   "execution_count": 13,
   "metadata": {},
   "outputs": [],
   "source": [
    "#Importar las librerias necesarias\n",
    "import sys\n",
    "from datetime import datetime\n",
    "import numpy as np\n",
    "import math\n",
    "import random\n",
    "import matplotlib.pyplot as plt\n",
    "import pandas as pd"
   ]
  },
  {
   "cell_type": "code",
   "execution_count": 14,
   "metadata": {},
   "outputs": [],
   "source": [
    "#Función para crear la matriz (size,size) con números randoms de 0 a 50 hecho manualmente\n",
    "def crearMatriz(size):\n",
    "    mat=[]\n",
    "    for i in range(size): \n",
    "        mat.append([])\n",
    "        for j in range(size): \n",
    "            mat[i].append(random.randint(0, 50))\n",
    "    return mat\n",
    "\n",
    "#Funcion de coseno por seno de la matriz mat y retorna una nueva matriz\n",
    "def cosenoPorSeno(mat):\n",
    "    n=len(mat)\n",
    "    newMat=[]\n",
    "    for i in range(n):\n",
    "        newMat.append([])\n",
    "        for j in range(n):\n",
    "            newMat[i].append(math.sin(mat[i][j]) * math.cos(mat[i][j]))\n",
    "    return newMat"
   ]
  },
  {
   "cell_type": "code",
   "execution_count": 15,
   "metadata": {},
   "outputs": [],
   "source": [
    "#Función para sacar el promedio al hacerlo por python\n",
    "def promedioPython(iteraciones,size):\n",
    "    suma=0\n",
    "    for a in range(iteraciones):    \n",
    "        start=datetime.now().second\n",
    "        matrizPython=crearMatriz(size)\n",
    "        matrizPythonOperacion=cosenoPorSeno(matrizPython) \n",
    "        suma+=datetime.now().second - start\n",
    "        \n",
    "    promedio=(suma/iteraciones)    \n",
    "    return promedio\n",
    "\n",
    "#Función para sacar el promedio al hacerlo por numpy\n",
    "def promedioNumpy(iteraciones,size):\n",
    "    suma=0\n",
    "    for a in range(iteraciones):\n",
    "        start=datetime.now().second\n",
    "        matrizNumpy=np.random.randint(50, size=(size, size))\n",
    "        matrizNumpyOperacion=np.cos(matrizNumpy)*np.sin(matrizNumpy)\n",
    "        suma+=datetime.now().second - start        \n",
    "        \n",
    "    promedio=(suma/iteraciones)    \n",
    "    return promedio"
   ]
  },
  {
   "cell_type": "code",
   "execution_count": null,
   "metadata": {},
   "outputs": [],
   "source": [
    "iteraciones=10 \n",
    "arrayPromPython=[]\n",
    "arrayPromPython.append(promedioPython(iteraciones,800))\n",
    "arrayPromPython.append(promedioPython(iteraciones,1200))\n",
    "arrayPromPython.append(promedioPython(iteraciones,1700))\n",
    "arrayPromPython.append(promedioPython(iteraciones,2000))\n",
    "print(\"Arreglo promedio python\",arrayPromPython)"
   ]
  },
  {
   "cell_type": "code",
   "execution_count": null,
   "metadata": {},
   "outputs": [],
   "source": [
    "iteraciones=10 \n",
    "arrayPromNumpy=[]\n",
    "arrayPromNumpy.append(promedioNumpy(iteraciones,800))\n",
    "arrayPromNumpy.append(promedioNumpy(iteraciones,1200))\n",
    "arrayPromNumpy.append(promedioNumpy(iteraciones,1700))\n",
    "arrayPromNumpy.append(promedioNumpy(iteraciones,2000))\n",
    "print(\"Arreglo promedio numpy\",arrayPromNumpy)"
   ]
  },
  {
   "cell_type": "code",
   "execution_count": null,
   "metadata": {},
   "outputs": [],
   "source": [
    "#Se crea un arreglo 4x2 para pintar Python vs Numpy\n",
    "matPintar=[]\n",
    "for i in range(4):\n",
    "    matPintar.append([])\n",
    "    matPintar[i].append(arrayPromPython[i])\n",
    "    matPintar[i].append(arrayPromNumpy[i])\n",
    "\n",
    "#Pintar\n",
    "df=pd.DataFrame(matPintar , index=['800','1200',\"1700\",\"2000\"],\n",
    "               columns=pd.Index(['Python','Numpy'],name=\"Ejecución\"))\n",
    "df.plot.bar() \n",
    "plt.suptitle('Python vs Numpy',fontsize=14)\n",
    "plt.ylabel('Tiempo en segundos',fontsize=12)\n",
    "plt.xlabel('tamaño del arreglo sizexsize',fontsize=12)"
   ]
  },
  {
   "cell_type": "code",
   "execution_count": null,
   "metadata": {},
   "outputs": [],
   "source": []
  }
 ],
 "metadata": {
  "kernelspec": {
   "display_name": "Python 3.7.0 64-bit",
   "language": "python",
   "name": "python37064bit77c32bfef69240b193135a62ae515774"
  },
  "language_info": {
   "codemirror_mode": {
    "name": "ipython",
    "version": 3
   },
   "file_extension": ".py",
   "mimetype": "text/x-python",
   "name": "python",
   "nbconvert_exporter": "python",
   "pygments_lexer": "ipython3",
   "version": "3.7.0"
  }
 },
 "nbformat": 4,
 "nbformat_minor": 2
}
