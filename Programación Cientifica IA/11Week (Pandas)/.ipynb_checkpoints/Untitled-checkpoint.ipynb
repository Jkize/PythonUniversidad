{
 "cells": [
  {
   "cell_type": "code",
   "execution_count": 3,
   "metadata": {},
   "outputs": [
    {
     "data": {
      "text/html": [
       "<div>\n",
       "<style scoped>\n",
       "    .dataframe tbody tr th:only-of-type {\n",
       "        vertical-align: middle;\n",
       "    }\n",
       "\n",
       "    .dataframe tbody tr th {\n",
       "        vertical-align: top;\n",
       "    }\n",
       "\n",
       "    .dataframe thead th {\n",
       "        text-align: right;\n",
       "    }\n",
       "</style>\n",
       "<table border=\"1\" class=\"dataframe\">\n",
       "  <thead>\n",
       "    <tr style=\"text-align: right;\">\n",
       "      <th></th>\n",
       "      <th>President</th>\n",
       "      <th>Start Date</th>\n",
       "      <th>End Date</th>\n",
       "      <th>Approving</th>\n",
       "      <th>Disapproving</th>\n",
       "      <th>Unsure/NoData</th>\n",
       "    </tr>\n",
       "  </thead>\n",
       "  <tbody>\n",
       "    <tr>\n",
       "      <th>0</th>\n",
       "      <td>Donald Trump</td>\n",
       "      <td>2020-03-13</td>\n",
       "      <td>2020-03-22</td>\n",
       "      <td>49</td>\n",
       "      <td>45</td>\n",
       "      <td>6</td>\n",
       "    </tr>\n",
       "    <tr>\n",
       "      <th>1</th>\n",
       "      <td>Donald Trump</td>\n",
       "      <td>2020-03-02</td>\n",
       "      <td>2020-03-13</td>\n",
       "      <td>44</td>\n",
       "      <td>52</td>\n",
       "      <td>4</td>\n",
       "    </tr>\n",
       "    <tr>\n",
       "      <th>2</th>\n",
       "      <td>Donald Trump</td>\n",
       "      <td>2020-02-17</td>\n",
       "      <td>2020-02-28</td>\n",
       "      <td>47</td>\n",
       "      <td>51</td>\n",
       "      <td>2</td>\n",
       "    </tr>\n",
       "    <tr>\n",
       "      <th>3</th>\n",
       "      <td>Donald Trump</td>\n",
       "      <td>2020-02-03</td>\n",
       "      <td>2020-02-16</td>\n",
       "      <td>49</td>\n",
       "      <td>48</td>\n",
       "      <td>3</td>\n",
       "    </tr>\n",
       "    <tr>\n",
       "      <th>4</th>\n",
       "      <td>Donald Trump</td>\n",
       "      <td>2020-01-16</td>\n",
       "      <td>2020-01-29</td>\n",
       "      <td>49</td>\n",
       "      <td>50</td>\n",
       "      <td>1</td>\n",
       "    </tr>\n",
       "  </tbody>\n",
       "</table>\n",
       "</div>"
      ],
      "text/plain": [
       "      President Start Date   End Date  Approving  Disapproving  Unsure/NoData\n",
       "0  Donald Trump 2020-03-13 2020-03-22         49            45              6\n",
       "1  Donald Trump 2020-03-02 2020-03-13         44            52              4\n",
       "2  Donald Trump 2020-02-17 2020-02-28         47            51              2\n",
       "3  Donald Trump 2020-02-03 2020-02-16         49            48              3\n",
       "4  Donald Trump 2020-01-16 2020-01-29         49            50              1"
      ]
     },
     "execution_count": 3,
     "metadata": {},
     "output_type": "execute_result"
    }
   ],
   "source": [
    "import pandas as pd\n",
    "from pandas import ExcelWriter\n",
    "from pandas import ExcelFile\n",
    "\n",
    "trump=pd.read_excel('../Data/pAmerica.xlsx',sheet_name='Donald Trump')\n",
    "trump.insert(0,'President','Donald Trump')\n",
    "trump.head()"
   ]
  },
  {
   "cell_type": "code",
   "execution_count": 8,
   "metadata": {},
   "outputs": [
    {
     "data": {
      "text/html": [
       "<div>\n",
       "<style scoped>\n",
       "    .dataframe tbody tr th:only-of-type {\n",
       "        vertical-align: middle;\n",
       "    }\n",
       "\n",
       "    .dataframe tbody tr th {\n",
       "        vertical-align: top;\n",
       "    }\n",
       "\n",
       "    .dataframe thead th {\n",
       "        text-align: right;\n",
       "    }\n",
       "</style>\n",
       "<table border=\"1\" class=\"dataframe\">\n",
       "  <thead>\n",
       "    <tr style=\"text-align: right;\">\n",
       "      <th></th>\n",
       "      <th>President</th>\n",
       "      <th>Start Date</th>\n",
       "      <th>End Date</th>\n",
       "      <th>Approving</th>\n",
       "      <th>Disapproving</th>\n",
       "      <th>Unsure/NoData</th>\n",
       "    </tr>\n",
       "  </thead>\n",
       "  <tbody>\n",
       "    <tr>\n",
       "      <th>0</th>\n",
       "      <td>Barak Obama</td>\n",
       "      <td>2017-01-17</td>\n",
       "      <td>2017-01-19</td>\n",
       "      <td>59</td>\n",
       "      <td>37</td>\n",
       "      <td>4</td>\n",
       "    </tr>\n",
       "    <tr>\n",
       "      <th>1</th>\n",
       "      <td>Barak Obama</td>\n",
       "      <td>2017-01-15</td>\n",
       "      <td>2017-01-18</td>\n",
       "      <td>58</td>\n",
       "      <td>38</td>\n",
       "      <td>4</td>\n",
       "    </tr>\n",
       "    <tr>\n",
       "      <th>2</th>\n",
       "      <td>Barak Obama</td>\n",
       "      <td>2017-01-14</td>\n",
       "      <td>2017-01-17</td>\n",
       "      <td>57</td>\n",
       "      <td>39</td>\n",
       "      <td>4</td>\n",
       "    </tr>\n",
       "    <tr>\n",
       "      <th>3</th>\n",
       "      <td>Barak Obama</td>\n",
       "      <td>2017-01-13</td>\n",
       "      <td>2017-01-15</td>\n",
       "      <td>57</td>\n",
       "      <td>38</td>\n",
       "      <td>5</td>\n",
       "    </tr>\n",
       "    <tr>\n",
       "      <th>4</th>\n",
       "      <td>Barak Obama</td>\n",
       "      <td>2017-01-12</td>\n",
       "      <td>2017-01-14</td>\n",
       "      <td>57</td>\n",
       "      <td>39</td>\n",
       "      <td>4</td>\n",
       "    </tr>\n",
       "    <tr>\n",
       "      <th>0</th>\n",
       "      <td>Donald Trump</td>\n",
       "      <td>2020-03-13</td>\n",
       "      <td>2020-03-22</td>\n",
       "      <td>49</td>\n",
       "      <td>45</td>\n",
       "      <td>6</td>\n",
       "    </tr>\n",
       "    <tr>\n",
       "      <th>1</th>\n",
       "      <td>Donald Trump</td>\n",
       "      <td>2020-03-02</td>\n",
       "      <td>2020-03-13</td>\n",
       "      <td>44</td>\n",
       "      <td>52</td>\n",
       "      <td>4</td>\n",
       "    </tr>\n",
       "    <tr>\n",
       "      <th>2</th>\n",
       "      <td>Donald Trump</td>\n",
       "      <td>2020-02-17</td>\n",
       "      <td>2020-02-28</td>\n",
       "      <td>47</td>\n",
       "      <td>51</td>\n",
       "      <td>2</td>\n",
       "    </tr>\n",
       "    <tr>\n",
       "      <th>3</th>\n",
       "      <td>Donald Trump</td>\n",
       "      <td>2020-02-03</td>\n",
       "      <td>2020-02-16</td>\n",
       "      <td>49</td>\n",
       "      <td>48</td>\n",
       "      <td>3</td>\n",
       "    </tr>\n",
       "    <tr>\n",
       "      <th>4</th>\n",
       "      <td>Donald Trump</td>\n",
       "      <td>2020-01-16</td>\n",
       "      <td>2020-01-29</td>\n",
       "      <td>49</td>\n",
       "      <td>50</td>\n",
       "      <td>1</td>\n",
       "    </tr>\n",
       "    <tr>\n",
       "      <th>0</th>\n",
       "      <td>George W. Bush</td>\n",
       "      <td>2009-01-09</td>\n",
       "      <td>2009-01-11</td>\n",
       "      <td>34</td>\n",
       "      <td>61</td>\n",
       "      <td>5</td>\n",
       "    </tr>\n",
       "    <tr>\n",
       "      <th>1</th>\n",
       "      <td>George W. Bush</td>\n",
       "      <td>2008-12-12</td>\n",
       "      <td>2008-12-14</td>\n",
       "      <td>29</td>\n",
       "      <td>67</td>\n",
       "      <td>4</td>\n",
       "    </tr>\n",
       "    <tr>\n",
       "      <th>2</th>\n",
       "      <td>George W. Bush</td>\n",
       "      <td>2008-12-04</td>\n",
       "      <td>2008-12-07</td>\n",
       "      <td>32</td>\n",
       "      <td>61</td>\n",
       "      <td>7</td>\n",
       "    </tr>\n",
       "    <tr>\n",
       "      <th>3</th>\n",
       "      <td>George W. Bush</td>\n",
       "      <td>2008-11-13</td>\n",
       "      <td>2008-11-16</td>\n",
       "      <td>29</td>\n",
       "      <td>66</td>\n",
       "      <td>4</td>\n",
       "    </tr>\n",
       "    <tr>\n",
       "      <th>4</th>\n",
       "      <td>George W. Bush</td>\n",
       "      <td>2008-11-07</td>\n",
       "      <td>2008-11-09</td>\n",
       "      <td>28</td>\n",
       "      <td>68</td>\n",
       "      <td>5</td>\n",
       "    </tr>\n",
       "    <tr>\n",
       "      <th>0</th>\n",
       "      <td>William J. Clinton</td>\n",
       "      <td>2001-01-10</td>\n",
       "      <td>2001-01-14</td>\n",
       "      <td>66</td>\n",
       "      <td>29</td>\n",
       "      <td>5</td>\n",
       "    </tr>\n",
       "    <tr>\n",
       "      <th>1</th>\n",
       "      <td>William J. Clinton</td>\n",
       "      <td>2001-01-05</td>\n",
       "      <td>2001-01-07</td>\n",
       "      <td>63</td>\n",
       "      <td>31</td>\n",
       "      <td>4</td>\n",
       "    </tr>\n",
       "    <tr>\n",
       "      <th>2</th>\n",
       "      <td>William J. Clinton</td>\n",
       "      <td>2000-12-15</td>\n",
       "      <td>2000-12-17</td>\n",
       "      <td>71</td>\n",
       "      <td>26</td>\n",
       "      <td>1</td>\n",
       "    </tr>\n",
       "    <tr>\n",
       "      <th>3</th>\n",
       "      <td>William J. Clinton</td>\n",
       "      <td>2000-12-02</td>\n",
       "      <td>2000-12-04</td>\n",
       "      <td>59</td>\n",
       "      <td>35</td>\n",
       "      <td>5</td>\n",
       "    </tr>\n",
       "    <tr>\n",
       "      <th>4</th>\n",
       "      <td>William J. Clinton</td>\n",
       "      <td>2000-11-13</td>\n",
       "      <td>2000-11-15</td>\n",
       "      <td>63</td>\n",
       "      <td>32</td>\n",
       "      <td>4</td>\n",
       "    </tr>\n",
       "    <tr>\n",
       "      <th>0</th>\n",
       "      <td>George Bush</td>\n",
       "      <td>1993-01-08</td>\n",
       "      <td>1993-01-11</td>\n",
       "      <td>56</td>\n",
       "      <td>37</td>\n",
       "      <td>7</td>\n",
       "    </tr>\n",
       "    <tr>\n",
       "      <th>1</th>\n",
       "      <td>George Bush</td>\n",
       "      <td>1992-12-18</td>\n",
       "      <td>1992-12-20</td>\n",
       "      <td>49</td>\n",
       "      <td>40</td>\n",
       "      <td>10</td>\n",
       "    </tr>\n",
       "    <tr>\n",
       "      <th>2</th>\n",
       "      <td>George Bush</td>\n",
       "      <td>1992-12-04</td>\n",
       "      <td>1992-12-06</td>\n",
       "      <td>48</td>\n",
       "      <td>47</td>\n",
       "      <td>3</td>\n",
       "    </tr>\n",
       "    <tr>\n",
       "      <th>3</th>\n",
       "      <td>George Bush</td>\n",
       "      <td>1992-11-20</td>\n",
       "      <td>1992-11-22</td>\n",
       "      <td>42</td>\n",
       "      <td>46</td>\n",
       "      <td>11</td>\n",
       "    </tr>\n",
       "    <tr>\n",
       "      <th>4</th>\n",
       "      <td>George Bush</td>\n",
       "      <td>1992-11-20</td>\n",
       "      <td>1992-11-22</td>\n",
       "      <td>42</td>\n",
       "      <td>46</td>\n",
       "      <td>11</td>\n",
       "    </tr>\n",
       "  </tbody>\n",
       "</table>\n",
       "</div>"
      ],
      "text/plain": [
       "            President Start Date   End Date  Approving  Disapproving  \\\n",
       "0         Barak Obama 2017-01-17 2017-01-19         59            37   \n",
       "1         Barak Obama 2017-01-15 2017-01-18         58            38   \n",
       "2         Barak Obama 2017-01-14 2017-01-17         57            39   \n",
       "3         Barak Obama 2017-01-13 2017-01-15         57            38   \n",
       "4         Barak Obama 2017-01-12 2017-01-14         57            39   \n",
       "0        Donald Trump 2020-03-13 2020-03-22         49            45   \n",
       "1        Donald Trump 2020-03-02 2020-03-13         44            52   \n",
       "2        Donald Trump 2020-02-17 2020-02-28         47            51   \n",
       "3        Donald Trump 2020-02-03 2020-02-16         49            48   \n",
       "4        Donald Trump 2020-01-16 2020-01-29         49            50   \n",
       "0      George W. Bush 2009-01-09 2009-01-11         34            61   \n",
       "1      George W. Bush 2008-12-12 2008-12-14         29            67   \n",
       "2      George W. Bush 2008-12-04 2008-12-07         32            61   \n",
       "3      George W. Bush 2008-11-13 2008-11-16         29            66   \n",
       "4      George W. Bush 2008-11-07 2008-11-09         28            68   \n",
       "0  William J. Clinton 2001-01-10 2001-01-14         66            29   \n",
       "1  William J. Clinton 2001-01-05 2001-01-07         63            31   \n",
       "2  William J. Clinton 2000-12-15 2000-12-17         71            26   \n",
       "3  William J. Clinton 2000-12-02 2000-12-04         59            35   \n",
       "4  William J. Clinton 2000-11-13 2000-11-15         63            32   \n",
       "0         George Bush 1993-01-08 1993-01-11         56            37   \n",
       "1         George Bush 1992-12-18 1992-12-20         49            40   \n",
       "2         George Bush 1992-12-04 1992-12-06         48            47   \n",
       "3         George Bush 1992-11-20 1992-11-22         42            46   \n",
       "4         George Bush 1992-11-20 1992-11-22         42            46   \n",
       "\n",
       "   Unsure/NoData  \n",
       "0              4  \n",
       "1              4  \n",
       "2              4  \n",
       "3              5  \n",
       "4              4  \n",
       "0              6  \n",
       "1              4  \n",
       "2              2  \n",
       "3              3  \n",
       "4              1  \n",
       "0              5  \n",
       "1              4  \n",
       "2              7  \n",
       "3              4  \n",
       "4              5  \n",
       "0              5  \n",
       "1              4  \n",
       "2              1  \n",
       "3              5  \n",
       "4              4  \n",
       "0              7  \n",
       "1             10  \n",
       "2              3  \n",
       "3             11  \n",
       "4             11  "
      ]
     },
     "execution_count": 8,
     "metadata": {},
     "output_type": "execute_result"
    }
   ],
   "source": [
    "presidentes = []\n",
    "string_p=[\"Barak Obama\",\"Donald Trump\",'George W. Bush',\"William J. Clinton\",\"George Bush\"]\n",
    "for st in string_p:\n",
    "    dt=pd.read_excel('../Data/pAmerica.xlsx',sheet_name=st)\n",
    "    dt.insert(0,'President',st)\n",
    "    presidentes.append(dt)\n",
    "fivePresidents = pd.concat(presidentes)\n",
    "fivePresidents.groupby('President').head(5)"
   ]
  },
  {
   "cell_type": "code",
   "execution_count": 9,
   "metadata": {},
   "outputs": [
    {
     "data": {
      "text/plain": [
       "1990-08-26    2\n",
       "1990-03-11    2\n",
       "1999-02-09    2\n",
       "2013-10-10    2\n",
       "1990-08-12    2\n",
       "Name: End Date, dtype: int64"
      ]
     },
     "execution_count": 9,
     "metadata": {},
     "output_type": "execute_result"
    }
   ],
   "source": [
    " fivePresidents['End Date'].value_counts().head()"
   ]
  },
  {
   "cell_type": "code",
   "execution_count": 11,
   "metadata": {},
   "outputs": [
    {
     "data": {
      "text/plain": [
       "Barak Obama           2786\n",
       "George W. Bush         270\n",
       "William J. Clinton     227\n",
       "George Bush            153\n",
       "Donald Trump           127\n",
       "Name: President, dtype: int64"
      ]
     },
     "execution_count": 11,
     "metadata": {},
     "output_type": "execute_result"
    }
   ],
   "source": [
    "#Eliminar duplicados\n",
    "fivePresidents=fivePresidents.drop_duplicates(subset=\"End Date\")\n",
    "fivePresidents['President'].value_counts()"
   ]
  },
  {
   "cell_type": "code",
   "execution_count": 12,
   "metadata": {},
   "outputs": [
    {
     "data": {
      "text/plain": [
       "(3563, 6)"
      ]
     },
     "execution_count": 12,
     "metadata": {},
     "output_type": "execute_result"
    }
   ],
   "source": [
    "fivePresidents.shape"
   ]
  },
  {
   "cell_type": "code",
   "execution_count": 13,
   "metadata": {},
   "outputs": [
    {
     "data": {
      "text/html": [
       "<div>\n",
       "<style scoped>\n",
       "    .dataframe tbody tr th:only-of-type {\n",
       "        vertical-align: middle;\n",
       "    }\n",
       "\n",
       "    .dataframe tbody tr th {\n",
       "        vertical-align: top;\n",
       "    }\n",
       "\n",
       "    .dataframe thead th {\n",
       "        text-align: right;\n",
       "    }\n",
       "</style>\n",
       "<table border=\"1\" class=\"dataframe\">\n",
       "  <thead>\n",
       "    <tr style=\"text-align: right;\">\n",
       "      <th></th>\n",
       "      <th>Approving</th>\n",
       "      <th>Disapproving</th>\n",
       "      <th>Unsure/NoData</th>\n",
       "    </tr>\n",
       "    <tr>\n",
       "      <th>President</th>\n",
       "      <th></th>\n",
       "      <th></th>\n",
       "      <th></th>\n",
       "    </tr>\n",
       "  </thead>\n",
       "  <tbody>\n",
       "    <tr>\n",
       "      <th>Barak Obama</th>\n",
       "      <td>47.0</td>\n",
       "      <td>47.0</td>\n",
       "      <td>7.0</td>\n",
       "    </tr>\n",
       "    <tr>\n",
       "      <th>Donald Trump</th>\n",
       "      <td>40.0</td>\n",
       "      <td>55.0</td>\n",
       "      <td>5.0</td>\n",
       "    </tr>\n",
       "    <tr>\n",
       "      <th>George W. Bush</th>\n",
       "      <td>50.5</td>\n",
       "      <td>45.5</td>\n",
       "      <td>4.0</td>\n",
       "    </tr>\n",
       "    <tr>\n",
       "      <th>William J. Clinton</th>\n",
       "      <td>57.0</td>\n",
       "      <td>36.0</td>\n",
       "      <td>6.0</td>\n",
       "    </tr>\n",
       "    <tr>\n",
       "      <th>George Bush</th>\n",
       "      <td>63.0</td>\n",
       "      <td>22.0</td>\n",
       "      <td>9.0</td>\n",
       "    </tr>\n",
       "  </tbody>\n",
       "</table>\n",
       "</div>"
      ],
      "text/plain": [
       "                    Approving  Disapproving  Unsure/NoData\n",
       "President                                                 \n",
       "Barak Obama              47.0          47.0            7.0\n",
       "Donald Trump             40.0          55.0            5.0\n",
       "George W. Bush           50.5          45.5            4.0\n",
       "William J. Clinton       57.0          36.0            6.0\n",
       "George Bush              63.0          22.0            9.0"
      ]
     },
     "execution_count": 13,
     "metadata": {},
     "output_type": "execute_result"
    }
   ],
   "source": [
    "#Se obtiene un resumen estadístico de los datos\n",
    "fivePresidents.groupby('President',sort=False).median().round(1)"
   ]
  },
  {
   "cell_type": "code",
   "execution_count": 19,
   "metadata": {},
   "outputs": [
    {
     "data": {
      "image/png": "[encoded data removed]",
      "text/plain": [
       "<Figure size 1152x432 with 1 Axes>"
      ]
     },
     "metadata": {
      "needs_background": "light"
     },
     "output_type": "display_data"
    }
   ],
   "source": [
    "import matplotlib.pyplot as plt \n",
    "from matplotlib import cm\n",
    "fig,ax=plt.subplots(figsize=(16,6))\n",
    "styles=['-.','-',':','-','*']\n",
    "colors=[.9,.3,.7,.4,.9]\n",
    "groups=fivePresidents.groupby('President',sort=False)\n",
    "for style, color, (pres,df) in zip(styles,colors,groups):\n",
    "    df.plot('End Date','Approving', ax=ax,label=pres, style=style,\n",
    "           color=cm.Greys(color),title='Presidential Approval Rating')"
   ]
  },
  {
   "cell_type": "markdown",
   "metadata": {},
   "source": [
    "La función rolling() de Pandas dataframe proporciona la característica de cálculos de ventana rodante. El concepto de cálculo de la ventana rodante \n",
    "se utiliza principalmente en el procesamiento de señales y datos de series temporales. En palabras muy sencillas tomamos un tamaño de vetana de k\n",
    "a la vez y realizamos alguna operación matemática deseada en ella."
   ]
  },
  {
   "cell_type": "code",
   "execution_count": 23,
   "metadata": {},
   "outputs": [
    {
     "data": {
      "text/plain": [
       "President    End Date  \n",
       "Barak Obama  2017-01-19    59.000000\n",
       "             2017-01-18    58.500000\n",
       "             2017-01-17    58.000000\n",
       "             2017-01-15    57.750000\n",
       "             2017-01-14    57.600000\n",
       "             2017-01-13    57.666667\n",
       "             2017-01-12    57.571429\n",
       "             2017-01-11    57.500000\n",
       "             2017-01-10    57.222222\n",
       "             2017-01-09    57.100000\n",
       "             2017-01-08    57.000000\n",
       "             2017-01-07    56.916667\n",
       "             2017-01-06    56.846154\n",
       "             2017-01-05    56.785714\n",
       "Name: Approving, dtype: float64"
      ]
     },
     "execution_count": 23,
     "metadata": {},
     "output_type": "execute_result"
    }
   ],
   "source": [
    "pres90days=fivePresidents.groupby('President',sort=False).rolling('90D', on='End Date')['Approving'].mean()\n",
    "pres90days.head(14)"
   ]
  },
  {
   "cell_type": "code",
   "execution_count": null,
   "metadata": {},
   "outputs": [],
   "source": []
  },
  {
   "cell_type": "code",
   "execution_count": 45,
   "metadata": {},
   "outputs": [
    {
     "data": {
      "text/plain": [
       "title_year\n",
       "1916.0    0.385907\n",
       "1920.0    0.100000\n",
       "1925.0    0.245000\n",
       "1927.0    6.000000\n",
       "1929.0    0.379000\n",
       "Name: budget, dtype: float64"
      ]
     },
     "execution_count": 45,
     "metadata": {},
     "output_type": "execute_result"
    }
   ],
   "source": [
    "movie=pd.read_csv('../Data/movie.csv')\n",
    "med_budget=movie.groupby('title_year')['budget'].median()/1e6\n",
    "med_budget.head()"
   ]
  },
  {
   "cell_type": "code",
   "execution_count": 41,
   "metadata": {},
   "outputs": [
    {
     "data": {
      "text/plain": [
       "title_year\n",
       "2012.0    20.893\n",
       "2013.0    19.893\n",
       "2014.0    19.100\n",
       "2015.0    17.980\n",
       "2016.0    17.780\n",
       "Name: budget, dtype: float64"
      ]
     },
     "execution_count": 41,
     "metadata": {},
     "output_type": "execute_result"
    }
   ],
   "source": [
    "med_budget_roll=med_budget.rolling(5,min_periods=1).mean() #5 Años y el periodo 1, paracada año\n",
    "med_budget_roll.tail()"
   ]
  },
  {
   "cell_type": "code",
   "execution_count": 44,
   "metadata": {},
   "outputs": [
    {
     "data": {
      "text/plain": [
       "array([20.893, 19.893, 19.1  , 17.98 , 17.78 ])"
      ]
     },
     "execution_count": 44,
     "metadata": {},
     "output_type": "execute_result"
    }
   ],
   "source": [
    "years=med_budget_roll.index\n",
    "years[-5:]\n",
    "budget=med_budget_roll.values\n",
    "budget[-5:]"
   ]
  },
  {
   "cell_type": "code",
   "execution_count": null,
   "metadata": {},
   "outputs": [],
   "source": [
    "fig, ax=plt.subplots(figsize=(14,4),linewidth=5, edgecolor='.5')\n",
    "ax.plot(years,budget,linestyle=\"--\",)"
   ]
  }
 ],
 "metadata": {
  "kernelspec": {
   "display_name": "Python 3.7.0 64-bit",
   "language": "python",
   "name": "python37064bit77c32bfef69240b193135a62ae515774"
  },
  "language_info": {
   "codemirror_mode": {
    "name": "ipython",
    "version": 3
   },
   "file_extension": ".py",
   "mimetype": "text/x-python",
   "name": "python",
   "nbconvert_exporter": "python",
   "pygments_lexer": "ipython3",
   "version": "3.7.0"
  }
 },
 "nbformat": 4,
 "nbformat_minor": 2
}
