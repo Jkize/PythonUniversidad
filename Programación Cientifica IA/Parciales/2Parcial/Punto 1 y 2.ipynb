{
 "cells": [
  {
   "cell_type": "code",
   "execution_count": 0,
   "metadata": {
    "colab": {},
    "colab_type": "code",
    "id": "7hcISBLZ0I7j"
   },
   "outputs": [],
   "source": [
    "import pandas as pd"
   ]
  },
  {
   "cell_type": "code",
   "execution_count": 0,
   "metadata": {
    "colab": {},
    "colab_type": "code",
    "id": "BOCCIYDY0QkJ"
   },
   "outputs": [],
   "source": [
    "PATH=\"/content/drive/My Drive/2ParcialNPLS\"\n",
    "path3percent=PATH+\"/random_3percent.csv\""
   ]
  },
  {
   "cell_type": "code",
   "execution_count": 21,
   "metadata": {
    "colab": {
     "base_uri": "https://localhost:8080/",
     "height": 204
    },
    "colab_type": "code",
    "id": "vqSPf1zU1f7A",
    "outputId": "78f93d73-93fc-4ece-f33e-fe7c645fbbeb"
   },
   "outputs": [
    {
     "data": {
      "text/html": [
       "<div>\n",
       "<style scoped>\n",
       "    .dataframe tbody tr th:only-of-type {\n",
       "        vertical-align: middle;\n",
       "    }\n",
       "\n",
       "    .dataframe tbody tr th {\n",
       "        vertical-align: top;\n",
       "    }\n",
       "\n",
       "    .dataframe thead th {\n",
       "        text-align: right;\n",
       "    }\n",
       "</style>\n",
       "<table border=\"1\" class=\"dataframe\">\n",
       "  <thead>\n",
       "    <tr style=\"text-align: right;\">\n",
       "      <th></th>\n",
       "      <th>score</th>\n",
       "      <th>summary</th>\n",
       "      <th>text</th>\n",
       "    </tr>\n",
       "  </thead>\n",
       "  <tbody>\n",
       "    <tr>\n",
       "      <th>237383</th>\n",
       "      <td>5.0</td>\n",
       "      <td>\"The Sound of Music\" still Wonderful!</td>\n",
       "      <td>My granddaughter has the lead in a local theat...</td>\n",
       "    </tr>\n",
       "    <tr>\n",
       "      <th>237384</th>\n",
       "      <td>5.0</td>\n",
       "      <td>~The hills are alive with the Sound of Music!!~</td>\n",
       "      <td>This movie was fantabulous!! Great songs, grea...</td>\n",
       "    </tr>\n",
       "    <tr>\n",
       "      <th>237385</th>\n",
       "      <td>5.0</td>\n",
       "      <td>Excellent Condition</td>\n",
       "      <td>The movie loooked great for a cheap price. I g...</td>\n",
       "    </tr>\n",
       "    <tr>\n",
       "      <th>237386</th>\n",
       "      <td>5.0</td>\n",
       "      <td>Sound of Music Fan</td>\n",
       "      <td>Thought this would be a breeze to find - it's ...</td>\n",
       "    </tr>\n",
       "    <tr>\n",
       "      <th>237387</th>\n",
       "      <td>4.0</td>\n",
       "      <td>Widescreen Woes</td>\n",
       "      <td>I bought this DVD the other day thinking that ...</td>\n",
       "    </tr>\n",
       "  </tbody>\n",
       "</table>\n",
       "</div>"
      ],
      "text/plain": [
       "        score  ...                                               text\n",
       "237383    5.0  ...  My granddaughter has the lead in a local theat...\n",
       "237384    5.0  ...  This movie was fantabulous!! Great songs, grea...\n",
       "237385    5.0  ...  The movie loooked great for a cheap price. I g...\n",
       "237386    5.0  ...  Thought this would be a breeze to find - it's ...\n",
       "237387    4.0  ...  I bought this DVD the other day thinking that ...\n",
       "\n",
       "[5 rows x 3 columns]"
      ]
     },
     "execution_count": 21,
     "metadata": {
      "tags": []
     },
     "output_type": "execute_result"
    }
   ],
   "source": [
    "#Cargar el dataset del 3% de los reviews de amazon\n",
    "data3percent=pd.read_csv(path3percent)\n",
    "#Eliminar posibles nullos\n",
    "data3percent=data3percent.dropna() \n",
    "#Mostrar solo el score, summary y text\n",
    "data3percent[[\"score\",\"summary\",\"text\"]].tail(5)"
   ]
  },
  {
   "cell_type": "code",
   "execution_count": 22,
   "metadata": {
    "colab": {
     "base_uri": "https://localhost:8080/",
     "height": 51
    },
    "colab_type": "code",
    "id": "AiuiruxX7Yqu",
    "outputId": "d2feb8c6-a6ea-4386-a40b-4494758f4f62"
   },
   "outputs": [
    {
     "name": "stdout",
     "output_type": "stream",
     "text": [
      "[nltk_data] Downloading package punkt to /root/nltk_data...\n",
      "[nltk_data]   Package punkt is already up-to-date!\n"
     ]
    }
   ],
   "source": [
    "#Para procesar los textos\n",
    "import nltk\n",
    "import re\n",
    "nltk.download('punkt') \n",
    "from nltk.tokenize import word_tokenize"
   ]
  },
  {
   "cell_type": "code",
   "execution_count": 23,
   "metadata": {
    "colab": {
     "base_uri": "https://localhost:8080/",
     "height": 34
    },
    "colab_type": "code",
    "id": "R6P8EFzZ6J9h",
    "outputId": "fd4e2a15-9542-4ff1-9e5d-5c5571c8d634"
   },
   "outputs": [
    {
     "name": "stdout",
     "output_type": "stream",
     "text": [
      "['nick', 'likes', 'play', 'football', 'fond', 'tennis', 'holasd', 'fdsa', 'd', 'f', 'dsa', 'fds', 'ds', 'sdf', 'sdf']\n"
     ]
    }
   ],
   "source": [
    "#Para eliminar los stop words\n",
    "from gensim.parsing.preprocessing import remove_stopwords\n",
    "\n",
    "def processing_text(text):     \n",
    "    #Pasarlo a minuscula\n",
    "    newT=text.lower()  \n",
    "    #Eliminar etiquetas html\n",
    "    newT = re.sub('<[^<]+?>', '', newT)\n",
    "    #Eliminar puntos, comas, caracteres especiales ... \n",
    "    newT= re.sub(r'\\W', ' ', newT)\n",
    "    #Eliminar stop words\n",
    "    newT = remove_stopwords(newT)     \n",
    "    #Tokenizar\n",
    "    newT=word_tokenize(newT) \n",
    "    \n",
    "    return newT\n",
    "\n",
    "#Prueba\n",
    "text = \"Nick likes to play football, however he is not too fond of tennis. holasd fdsa d f dsa fds ds sdf  sdf\"\n",
    "print(processing_text(text))"
   ]
  },
  {
   "cell_type": "code",
   "execution_count": 27,
   "metadata": {
    "colab": {
     "base_uri": "https://localhost:8080/",
     "height": 34
    },
    "colab_type": "code",
    "id": "Z4syydvdMEDo",
    "outputId": "24917d7b-c76b-4844-c2eb-06cd5a71a2ec"
   },
   "outputs": [
    {
     "name": "stdout",
     "output_type": "stream",
     "text": [
      "230247\n"
     ]
    }
   ],
   "source": [
    "#Se crea un diccionario mapaCount en donde tendrá las frecuencias de cada palabra con su respectivo score en Reviews\n",
    "#P(word) --> total de veces que aparecer la palabra word en los reviews/total de reviews\n",
    "#P(word|score) --> (numero de review que aparece la palabra que tiene el escore)/(el numero de total de review en el respectivo score)\n",
    "def count_in_mapa(word,score): \n",
    "  if word in mapaCount:\n",
    "    mapaCount[word][score]+=1\n",
    "  else:\n",
    "    mapaCount[word]={1:0,2:0,3:0,4:0,5:0}\n",
    "    mapaCount[word][score]=1\n",
    "  \n",
    "\n",
    "def auxProcess(array): \n",
    "  score=int(array[4])\n",
    "  texto=array[6]+\" \"+array[7]  \n",
    "  pr= set(processing_text(texto))\n",
    "  mapaCount[\"SCORET_X\"][score]+=1\n",
    "  for word in pr:\n",
    "    count_in_mapa(word,score) \n",
    "\n",
    "mapaCount={\"SCORET_X\":{1:0,2:0,3:0,4:0,5:0}}\n",
    "for arr in data3percent.values:\n",
    "  auxProcess(arr)\n",
    "print(len(mapaCount))"
   ]
  },
  {
   "cell_type": "code",
   "execution_count": 28,
   "metadata": {
    "colab": {
     "base_uri": "https://localhost:8080/",
     "height": 34
    },
    "colab_type": "code",
    "id": "nE7owESRdlSE",
    "outputId": "1c45ff1e-6ff7-4cf2-988c-c47088c5f9e7"
   },
   "outputs": [
    {
     "name": "stdout",
     "output_type": "stream",
     "text": [
      "{1: 19134, 2: 13802, 3: 23928, 4: 49712, 5: 130804}\n"
     ]
    }
   ],
   "source": [
    "#Frecuencia de los score en los reviews\n",
    "print(mapaCount[\"SCORET_X\"])"
   ]
  },
  {
   "cell_type": "code",
   "execution_count": 0,
   "metadata": {
    "colab": {},
    "colab_type": "code",
    "id": "6xdNHm8B-tLn"
   },
   "outputs": [],
   "source": [
    "#En cada palabra a su respectivo score se calcula Pe=P(word | score) / P(word)\n",
    "#Importamos copi para copiar \n",
    "import copy \n",
    "mapaProb=copy.deepcopy(mapaCount)\n",
    "del mapaProb[\"SCORET_X\"]\n",
    "totalReviews=len(data3percent) \n",
    "\n",
    "for dt in list(mapaProb): \n",
    "  sumReviews=mapaCount[dt][1]+mapaCount[dt][2]+mapaCount[dt][3]+mapaCount[dt][4]+mapaCount[dt][5]\n",
    "  pPalabra=sumReviews/totalReviews\n",
    "  for i in range(1,6): \n",
    "    pPalabraScore=mapaCount[dt][i]/mapaCount[\"SCORET_X\"][i]\n",
    "    mapaProb[dt][i]=(pPalabraScore)/(pPalabra)"
   ]
  },
  {
   "cell_type": "markdown",
   "metadata": {
    "colab_type": "text",
    "id": "Xhx2OmwZshs5"
   },
   "source": [
    "<h1>Guardar en TXT las palabras con su respectivo score<h2>"
   ]
  },
  {
   "cell_type": "code",
   "execution_count": 0,
   "metadata": {
    "colab": {},
    "colab_type": "code",
    "id": "kF6Zf8Hdm0Xa"
   },
   "outputs": [],
   "source": [
    "#Ordenar de mayor a menor los resultados del mapa de probabilidades\n",
    "import operator\n",
    "listaWord={}\n",
    "for dt in list(mapaProb):\n",
    "  listaWord[dt]=sorted(mapaProb[dt].items(), key=lambda kv: kv[1],reverse=True)"
   ]
  },
  {
   "cell_type": "code",
   "execution_count": 0,
   "metadata": {
    "colab": {},
    "colab_type": "code",
    "id": "YAuQk1dkroiZ"
   },
   "outputs": [],
   "source": [
    "#Guardar palabra con su respectivo score más alto\n",
    "File_object = open(PATH+\"/ourLexicon.txt\",\"w\")\n",
    "for dt in listaWord:\n",
    "  File_object.write(dt+\" \"+str(listaWord[dt][0][0])+\"\\n\")"
   ]
  },
  {
   "cell_type": "markdown",
   "metadata": {
    "colab_type": "text",
    "id": "9wEbhOtqwp78"
   },
   "source": [
    "<h3>Para la 10 palabras con score 4-5 y 1-2. Grafique la curva de Pe vs score. </h3>"
   ]
  },
  {
   "cell_type": "code",
   "execution_count": 0,
   "metadata": {
    "colab": {},
    "colab_type": "code",
    "id": "dl5KGFYbwtsN"
   },
   "outputs": [],
   "source": [
    "list4_5=[]\n",
    "labels4_5=[]\n",
    "list1_2=[]\n",
    "labels1_2=[]\n",
    "for dt in listaWord:\n",
    "  if(len(list4_5)<10 and dt!=\"\" ):\n",
    "    if(listaWord[dt][0][0]==4 or listaWord[dt][0][0]==5):\n",
    "      list4_5.append(listaWord[dt])\n",
    "      labels4_5.append(dt)\n",
    "\n",
    "  if(len(list1_2)<10  ):\n",
    "    if(listaWord[dt][0][0]==1 or listaWord[dt][0][0]==2):\n",
    "      list1_2.append(listaWord[dt])\n",
    "      labels1_2.append(dt)\n",
    "  if (len(list4_5)==10 and len(list1_2)==0):\n",
    "    break"
   ]
  },
  {
   "cell_type": "code",
   "execution_count": 0,
   "metadata": {
    "colab": {},
    "colab_type": "code",
    "id": "OM-5bvhrupG2"
   },
   "outputs": [],
   "source": [
    "#Para las probabilidades 4-5\n",
    "import matplotlib.pyplot as plt\n",
    "import numpy as np\n",
    "def graficar(lista,labels):\n",
    "  index=0\n",
    "  for val in lista:\n",
    "    name=labels[index]\n",
    "    anp=np.array(val)\n",
    "    anp=anp.transpose()\n",
    "    x=anp[0:1,:][0]\n",
    "    y=anp[ 1:2,:][0]\n",
    "    plt.bar(x,y)\n",
    "    plt.suptitle(name,fontsize=14)\n",
    "    plt.ylabel('Pe',fontsize=12)\n",
    "    plt.xlabel('Score',fontsize=12)\n",
    "    plt.show()\n",
    "    index+=1\n"
   ]
  },
  {
   "cell_type": "code",
   "execution_count": 147,
   "metadata": {
    "colab": {
     "base_uri": "https://localhost:8080/",
     "height": 1000
    },
    "colab_type": "code",
    "id": "mwK6ojrwxdxe",
    "outputId": "44901b4e-a68f-47c9-a941-aafd91d5e806"
   },
   "outputs": [
    {
     "data": {
      "image/png": "[encoded data removed]",
      "text/plain": [
       "<Figure size 432x288 with 1 Axes>"
      ]
     },
     "metadata": {
      "needs_background": "light",
      "tags": []
     },
     "output_type": "display_data"
    },
    {
     "data": {
      "image/png": "[encoded data removed]",
      "text/plain": [
       "<Figure size 432x288 with 1 Axes>"
      ]
     },
     "metadata": {
      "needs_background": "light",
      "tags": []
     },
     "output_type": "display_data"
    },
    {
     "data": {
      "image/png": "[encoded data removed]",
      "text/plain": [
       "<Figure size 432x288 with 1 Axes>"
      ]
     },
     "metadata": {
      "needs_background": "light",
      "tags": []
     },
     "output_type": "display_data"
    },
    {
     "data": {
      "image/png": "[encoded data removed]",
      "text/plain": [
       "<Figure size 432x288 with 1 Axes>"
      ]
     },
     "metadata": {
      "needs_background": "light",
      "tags": []
     },
     "output_type": "display_data"
    },
    {
     "data": {
      "image/png": "[encoded data removed]",
      "text/plain": [
       "<Figure size 432x288 with 1 Axes>"
      ]
     },
     "metadata": {
      "needs_background": "light",
      "tags": []
     },
     "output_type": "display_data"
    },
    {
     "data": {
      "image/png": "[encoded data removed]",
      "text/plain": [
       "<Figure size 432x288 with 1 Axes>"
      ]
     },
     "metadata": {
      "needs_background": "light",
      "tags": []
     },
     "output_type": "display_data"
    },
    {
     "data": {
      "image/png": "[encoded data removed]",
      "text/plain": [
       "<Figure size 432x288 with 1 Axes>"
      ]
     },
     "metadata": {
      "needs_background": "light",
      "tags": []
     },
     "output_type": "display_data"
    },
    {
     "data": {
      "image/png": "[encoded data removed]",
      "text/plain": [
       "<Figure size 432x288 with 1 Axes>"
      ]
     },
     "metadata": {
      "needs_background": "light",
      "tags": []
     },
     "output_type": "display_data"
    },
    {
     "data": {
      "image/png": "[encoded data removed]",
      "text/plain": [
       "<Figure size 432x288 with 1 Axes>"
      ]
     },
     "metadata": {
      "needs_background": "light",
      "tags": []
     },
     "output_type": "display_data"
    },
    {
     "data": {
      "image/png": "[encoded data removed]",
      "text/plain": [
       "<Figure size 432x288 with 1 Axes>"
      ]
     },
     "metadata": {
      "needs_background": "light",
      "tags": []
     },
     "output_type": "display_data"
    }
   ],
   "source": [
    "#Para los de 4-5\n",
    "graficar(list4_5,labels4_5)"
   ]
  },
  {
   "cell_type": "code",
   "execution_count": 146,
   "metadata": {
    "colab": {
     "base_uri": "https://localhost:8080/",
     "height": 1000
    },
    "colab_type": "code",
    "id": "5WqlOfYDzC5V",
    "outputId": "abe152ef-9fcf-4501-fc3c-5b5ee46893c4"
   },
   "outputs": [
    {
     "data": {
      "image/png": "[encoded data removed]",
      "text/plain": [
       "<Figure size 432x288 with 1 Axes>"
      ]
     },
     "metadata": {
      "needs_background": "light",
      "tags": []
     },
     "output_type": "display_data"
    },
    {
     "data": {
      "image/png": "[encoded data removed]",
      "text/plain": [
       "<Figure size 432x288 with 1 Axes>"
      ]
     },
     "metadata": {
      "needs_background": "light",
      "tags": []
     },
     "output_type": "display_data"
    },
    {
     "data": {
      "image/png": "[encoded data removed]",
      "text/plain": [
       "<Figure size 432x288 with 1 Axes>"
      ]
     },
     "metadata": {
      "needs_background": "light",
      "tags": []
     },
     "output_type": "display_data"
    },
    {
     "data": {
      "image/png": "[encoded data removed]",
      "text/plain": [
       "<Figure size 432x288 with 1 Axes>"
      ]
     },
     "metadata": {
      "needs_background": "light",
      "tags": []
     },
     "output_type": "display_data"
    },
    {
     "data": {
      "image/png": "[encoded data removed]",
      "text/plain": [
       "<Figure size 432x288 with 1 Axes>"
      ]
     },
     "metadata": {
      "needs_background": "light",
      "tags": []
     },
     "output_type": "display_data"
    },
    {
     "data": {
      "image/png": "[encoded data removed]",
      "text/plain": [
       "<Figure size 432x288 with 1 Axes>"
      ]
     },
     "metadata": {
      "needs_background": "light",
      "tags": []
     },
     "output_type": "display_data"
    },
    {
     "data": {
      "image/png": "[encoded data removed]",
      "text/plain": [
       "<Figure size 432x288 with 1 Axes>"
      ]
     },
     "metadata": {
      "needs_background": "light",
      "tags": []
     },
     "output_type": "display_data"
    },
    {
     "data": {
      "image/png": "[encoded data removed]",
      "text/plain": [
       "<Figure size 432x288 with 1 Axes>"
      ]
     },
     "metadata": {
      "needs_background": "light",
      "tags": []
     },
     "output_type": "display_data"
    },
    {
     "data": {
      "image/png": "[encoded data removed]",
      "text/plain": [
       "<Figure size 432x288 with 1 Axes>"
      ]
     },
     "metadata": {
      "needs_background": "light",
      "tags": []
     },
     "output_type": "display_data"
    },
    {
     "data": {
      "image/png": "[encoded data removed]",
      "text/plain": [
       "<Figure size 432x288 with 1 Axes>"
      ]
     },
     "metadata": {
      "needs_background": "light",
      "tags": []
     },
     "output_type": "display_data"
    }
   ],
   "source": [
    "#Para los de 1-2\n",
    "graficar(list1_2,labels1_2)"
   ]
  },
  {
   "cell_type": "code",
   "execution_count": 0,
   "metadata": {
    "colab": {},
    "colab_type": "code",
    "id": "7bO5gTZy3yCp"
   },
   "outputs": [],
   "source": [
    ""
   ]
  },
  {
   "cell_type": "markdown",
   "metadata": {
    "colab_type": "text",
    "id": "WXBI5tDM4Q_I"
   },
   "source": [
    "<h1>Vamos a cargar nuestro lexicon como un mapa</h1>"
   ]
  },
  {
   "cell_type": "code",
   "execution_count": 0,
   "metadata": {
    "colab": {},
    "colab_type": "code",
    "id": "XELofUxM5Yfz"
   },
   "outputs": [],
   "source": [
    "FileNameOutrLe=PATH+\"/ourLexicon.txt\" \n",
    "ourLexicon= dict(map(lambda ws: (ws[0], int(ws[1])), [ \n",
    "            ws.strip().split(' ') for ws in open(FileNameOutrLe) ]))"
   ]
  },
  {
   "cell_type": "code",
   "execution_count": 161,
   "metadata": {
    "colab": {
     "base_uri": "https://localhost:8080/",
     "height": 34
    },
    "colab_type": "code",
    "id": "2H-N_41t5nev",
    "outputId": "a6f4842a-4ec6-4cb6-fc77-560a069fed37"
   },
   "outputs": [
    {
     "data": {
      "text/plain": [
       "5"
      ]
     },
     "execution_count": 161,
     "metadata": {
      "tags": []
     },
     "output_type": "execute_result"
    }
   ],
   "source": [
    "#Prueba obtener score de awsome\n",
    "ourLexicon[\"awesome\"]"
   ]
  },
  {
   "cell_type": "markdown",
   "metadata": {
    "colab_type": "text",
    "id": "qsxEr-hq549P"
   },
   "source": [
    "<h3> Vamos a importar Todo el código del trabajo pasado para probar con el nuevo lexicon</h3>"
   ]
  },
  {
   "cell_type": "code",
   "execution_count": 0,
   "metadata": {
    "colab": {},
    "colab_type": "code",
    "id": "1v5nyJSr5_qB"
   },
   "outputs": [],
   "source": [
    "!pip install vaderSentiment\n",
    "!pip install emosent-py\n",
    "!pip install emoji\n",
    "!pip install textblob\n",
    "import nltk \n",
    "nltk.download('punkt')\n",
    "nltk.download('averaged_perceptron_tagger')\n",
    "nltk.download('wordnet')\n",
    "nltk.download('sentiwordnet')\n",
    "nltk.download('stopwords')\n",
    "import numpy as np \n",
    "import pandas as pd \n",
    "import re\n",
    "from nltk.corpus import stopwords\n",
    "import matplotlib.pyplot as plt\n",
    "from sklearn.feature_extraction.text import TfidfVectorizer\n",
    "from sklearn.model_selection import train_test_split\n",
    "from sklearn.naive_bayes import GaussianNB\n",
    "from sklearn.ensemble import RandomForestClassifier\n",
    "from sklearn.metrics import classification_report, confusion_matrix, accuracy_score\n",
    "\n",
    "from sklearn.tree import DecisionTreeClassifier\n",
    "\n",
    "import emoji\n",
    "\n",
    "#Lexicones\n",
    "from emosent import get_emoji_sentiment_rank #Emotion\n",
    "from nltk.stem import WordNetLemmatizer \n",
    "from nltk.corpus import wordnet as wn\n",
    "from nltk.corpus import sentiwordnet as swn\n",
    "import textblob as txb\n",
    "from nltk import sent_tokenize, word_tokenize, pos_tag\n",
    "from vaderSentiment.vaderSentiment import SentimentIntensityAnalyzer "
   ]
  },
  {
   "cell_type": "code",
   "execution_count": 0,
   "metadata": {
    "colab": {},
    "colab_type": "code",
    "id": "ScupvfmS6J3D"
   },
   "outputs": [],
   "source": [
    "#LEXICONES\n",
    "RUTA=\"/content/drive/My Drive/Data\"\n",
    "#Init Afinn Cargar lexicon Afinn\n",
    "fileNameAFINN=RUTA+\"/AFINN/AFINN-111.txt\" \n",
    "afinn= dict(map(lambda ws: (ws[0], int(ws[1])), [ \n",
    "            ws.strip().split('\\t') for ws in open(fileNameAFINN) ]))\n",
    "#End Afinn\n",
    "\n",
    "#Cargar lexicon vander\n",
    "analyser = SentimentIntensityAnalyzer() \n",
    "#Retorna ScoreP y ScoreN usando el lexicon sentiwornet 3.0\n",
    "def sentiwordnet(text):\n",
    "    wnl = nltk.WordNetLemmatizer()\n",
    "    stoken=nltk.word_tokenize(text)\n",
    "    tag=nltk.pos_tag(stoken)\n",
    "    scoreP=0\n",
    "    scoreN=0\n",
    "    for t in tag:\n",
    "        newtag=''\n",
    "        lemmatized=wnl.lemmatize(t[0])\n",
    "        dt=[]\n",
    "        if t[1].startswith('NN'):\n",
    "            newtag='n'\n",
    "        elif t[1].startswith('JJ'):\n",
    "            newtag='a'\n",
    "        elif t[1].startswith('V'):\n",
    "            newtag='v'\n",
    "        elif t[1].startswith('R'):\n",
    "            newtag='r'\n",
    "        if(newtag!=''):\n",
    "            synset=list(swn.senti_synsets(lemmatized,newtag))\n",
    "            #Promedio de todos los posibles sentimientos\n",
    "            if(len(synset)>0):   \n",
    "                scorep=0\n",
    "                scoren=0\n",
    "                for dt in synset:\n",
    "                    scorep+=dt.pos_score()\n",
    "                    scoren+=dt.neg_score() \n",
    "                scoreP+=scorep/len(synset)#Suma de promedios positivos \n",
    "                scoreN+=scoren/len(synset)#Suma de promedios negativos\n",
    "    return scoreP,scoreN\n",
    "\n",
    "#Retorna un arreglo con los emojis extraidos de un texto\n",
    "def extract_emojisArr(txt):\n",
    "    return ' '.join(c for c in txt if c in emoji.UNICODE_EMOJI).split(\" \")\n",
    "\n",
    "#Puntaje sentimiento de texto leyendo solo los emojis    \n",
    "def emojiLexicon(txt):\n",
    "    vec=extract_emojisArr(txt)\n",
    "    i=0\n",
    "    sum=0\n",
    "    for value in vec:\n",
    "        try:\n",
    "          sum+=get_emoji_sentiment_rank(value)['sentiment_score']\n",
    "          i+=1\n",
    "        except:\n",
    "          pass\n",
    "    if(sum==0):\n",
    "        return 0.0\n",
    "    return sum/i\n",
    "#Lexicon Vander, retorna puntaje de la oración negativo, positivo y neutral\n",
    "def sentiment_analyzer_scores(sentence):\n",
    "    global analyser\n",
    "    score = analyser.polarity_scores(sentence)\n",
    "    return score['neg'],score['pos'],score['neu'] \n",
    "\n",
    "#Extraer emojis de un texto\n",
    "def extract_emojis(str):\n",
    "    return ' '.join(c for c in str if c in emoji.UNICODE_EMOJI)\n",
    "\n",
    "#Procesar texto\n",
    "def processing_text(text,removeEmoticon=False,removeUserHastag=False):     \n",
    "    #Pasarlo a minuscula\n",
    "    newT=text.lower()\n",
    "    #Eliminar links\n",
    "    newT=re.sub(\"(\\w+:\\/\\/\\S+)\",' ',newT)\n",
    "    #Extraer emojis\n",
    "    emojis=extract_emojis(newT)    \n",
    "    if(removeUserHastag):\n",
    "        newT=re.sub(\"(#[A-Za-z0-9]+)|(@[A-Za-z0-9]+)\",\" \",newT)\n",
    "    \n",
    "    #Eliminar puntos, comas, caracteres especiales ... \n",
    "    newT= re.sub(r'\\W', ' ', newT)     \n",
    "    if not removeEmoticon:\n",
    "        newT=newT+\" \"+emojis #Concateno los Emojis\n",
    "    return newT"
   ]
  },
  {
   "cell_type": "markdown",
   "metadata": {
    "colab_type": "text",
    "id": "anhk_Yk-6upt"
   },
   "source": [
    "<h1> En esta parte insertaremos nuestro lexicon </h1>"
   ]
  },
  {
   "cell_type": "code",
   "execution_count": 0,
   "metadata": {
    "colab": {},
    "colab_type": "code",
    "id": "SVcv82ds6gzl"
   },
   "outputs": [],
   "source": [
    "\n",
    "def lexicones(arrTextProccesing):\n",
    "    global afinn    \n",
    "    \n",
    "    array=[]\n",
    "    for txt in arrTextProccesing:\n",
    "        scoreAfinn=sum(map(lambda word: afinn.get(word, 0), txt.split()))\n",
    "        sentScoreP,sentScoreN=sentiwordnet(txt) \n",
    "        scoreTxblob=txb.TextBlob(txt).sentiment.polarity\n",
    "        sasN,sasP,sasNeu=sentiment_analyzer_scores(txt)\n",
    "\n",
    "        #AQUÏ NUESTRO LEXICON\n",
    "        nuestroLexicon=sum(map(lambda word: ourLexicon.get(word, 0), txt.split()))\n",
    "\n",
    "        #Aquí se agrega los features de los lexicones para cada texto\n",
    "        array.append([scoreAfinn,sentScoreP,sentScoreN,scoreTxblob,sasN,sasP,sasNeu,emojiLexicon(txt),nuestroLexicon])\n",
    "    \n",
    "    return np.array(array)\n",
    "   "
   ]
  },
  {
   "cell_type": "markdown",
   "metadata": {
    "colab_type": "text",
    "id": "KmW22NJ_7Cy-"
   },
   "source": [
    "<h2> Haremos la prueba Utilizando Naive Bayes</h2>"
   ]
  },
  {
   "cell_type": "code",
   "execution_count": 0,
   "metadata": {
    "colab": {},
    "colab_type": "code",
    "id": "oGJwR6ul7FxH"
   },
   "outputs": [],
   "source": [
    "tweets = pd.read_csv(RUTA+\"/Tweets.csv\")[['text','airline_sentiment']]\n",
    "tweets=tweets.rename(columns={'airline_sentiment':'sentiment'}) \n",
    "for i in range(3):\n",
    "    path='{}/Tweets{}.csv'.format(RUTA,i+1)\n",
    "    tweets=pd.concat([tweets,pd.read_csv(path)[['text','sentiment']]],ignore_index=True)"
   ]
  },
  {
   "cell_type": "code",
   "execution_count": 0,
   "metadata": {
    "colab": {},
    "colab_type": "code",
    "id": "fZ35hzi77e7I"
   },
   "outputs": [],
   "source": [
    "def naiveBayes(X_train,X_test,y_train,y_test):\n",
    "    gnb = GaussianNB()\n",
    "    gnb.fit(X_train, y_train) \n",
    "    predictions = gnb.predict(X_test) \n",
    "    print(\"Accurancy:\",accuracy_score(y_test, predictions))    \n",
    "    return gnb"
   ]
  },
  {
   "cell_type": "code",
   "execution_count": 0,
   "metadata": {
    "colab": {},
    "colab_type": "code",
    "id": "D54_319078RS"
   },
   "outputs": [],
   "source": [
    "def entrenamientoyPrueba(features,labels):    \n",
    "    X_train, X_test, y_train, y_test = train_test_split(features, labels, test_size=0.2, random_state=0)    \n",
    "    print(\"\\n\",\"Naive Bayes\",\"\\n\")\n",
    "    naiveBayes(X_train, X_test, y_train, y_test ) "
   ]
  },
  {
   "cell_type": "code",
   "execution_count": 0,
   "metadata": {
    "colab": {},
    "colab_type": "code",
    "id": "R1FNOryv7rBq"
   },
   "outputs": [],
   "source": [
    "labels = tweets['sentiment'].values\n",
    "texto_para_procesar=tweets['text'].values #Entrenamiento y prueba\n",
    "texto_procesado=[]  \n",
    "for txt in texto_para_procesar:\n",
    "    texto_procesado.append(processing_text(txt))\n",
    "\n",
    "lexicon_procesado=lexicones(texto_procesado)"
   ]
  },
  {
   "cell_type": "code",
   "execution_count": 169,
   "metadata": {
    "colab": {
     "base_uri": "https://localhost:8080/",
     "height": 85
    },
    "colab_type": "code",
    "id": "TU6tHF8Z8Bh5",
    "outputId": "48fa0fc4-8c2a-40d3-9d86-44491493eb1d"
   },
   "outputs": [
    {
     "name": "stdout",
     "output_type": "stream",
     "text": [
      "\n",
      " Naive Bayes \n",
      "\n",
      "Accurancy: 0.6728624535315985\n"
     ]
    }
   ],
   "source": [
    "#Entrenamos\n",
    "entrenamientoyPrueba( lexicon_procesado ,labels)"
   ]
  },
  {
   "cell_type": "markdown",
   "metadata": {
    "colab_type": "text",
    "id": "ZqZiENPn804H"
   },
   "source": [
    "<h2>Añadiendo nuestro lexicon da un accurancy del 67.28% y sin agregarlo mirando el resultado de nuestro tabajo anterior fue del 66.82. Estos dos se hicieron con el mismo formato: Con stop words, Con emoji y con hastag-username así que nuestro lexicon dio un aporte y hubo un aument0 del  **0,46 %** Así que enriqueció el modelo </h2>"
   ]
  },
  {
   "cell_type": "code",
   "execution_count": 0,
   "metadata": {
    "colab": {},
    "colab_type": "code",
    "id": "dFUSfKvW8qRS"
   },
   "outputs": [],
   "source": [
    ""
   ]
  },
  {
   "cell_type": "markdown",
   "metadata": {
    "colab_type": "text",
    "id": "EQAD0MyB9owO"
   },
   "source": [
    "<h3> No alcanzamos a ver si nuestro lexicon es mejor a los demás pero podemos concluir que no es bueno con sentiwornet y ni con vander debido a que estas librerias utilizan post-taggin y tiene una efectividad y precisión mayor al analizar los sentimientos. Así que con el lexicon que si podemos comparar es con el AFFIN ya que nuestro lexicon tiene un formato similar a este, ya que cada palabra tiene un respectivo puntaje. </h3>"
   ]
  },
  {
   "cell_type": "code",
   "execution_count": 0,
   "metadata": {
    "colab": {},
    "colab_type": "code",
    "id": "vffPwU16999z"
   },
   "outputs": [],
   "source": [
    ""
   ]
  }
 ],
 "metadata": {
  "colab": {
   "collapsed_sections": [],
   "name": "2ParcialPunto1.ipynb",
   "provenance": []
  },
  "kernelspec": {
   "display_name": "Python 3",
   "name": "python3"
  }
 },
 "nbformat": 4,
 "nbformat_minor": 0
}
