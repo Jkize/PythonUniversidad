{
 "cells": [
  {
   "cell_type": "markdown",
   "metadata": {},
   "source": [
    "![](./img/logo.png)"
   ]
  },
  {
   "cell_type": "markdown",
   "metadata": {},
   "source": [
    "# 2do Parcial: Análisis Exploratorio de Datos. \n",
    "\n",
    "\n",
    "### Nombre Estudiante:  Jhoan Sebastian Saavedra Romero \n",
    "### Cédula de Ciudadanía: 1010238118"
   ]
  },
  {
   "cell_type": "markdown",
   "metadata": {},
   "source": [
    "# Modelo **02**\n",
    "\n",
    "### Descripción de Valores:\n",
    "\n",
    "    ID Orden: continuo.\n",
    "    Producto: Cable de Carga USB-C P/O, Parlante Google HomeMini, AAA Batteries (4-pack), Cable de Carga Lightning,\n",
    "              Asus VivoBook X420FA-BV Laptop, Audifonos Apple Airpods, Macbook Air MQD32E/A 128GB 13.3\",\n",
    "              Horno Microondas 0.8P Samsung AGE, Samsung Galaxy A302, Motorola G8 Plus Red, AA Batteries (4-pack),\n",
    "              Audifonos Bose SoundSport, Freidora Air Fryer Kalley K-MAF25, Xiaomi REDMI Note 8, \n",
    "              LG Lavadora 19Kg Inv WT19, Multiolla Oster 0150 Negra PE, LG Secadora Carga Frontal,\n",
    "              Samsung Galaxy A20S, Freidora Saludable B&D 3.5 Litros.\n",
    "    Cantidad Ordenada:  continuo.\n",
    "    Precio Unitario: continuo.\n",
    "    Fecha: mes/dia/año hora.\n",
    "    Dirección de Compra: 631 calle Boyacá, Armenia, QU, 546 calle 5ta, Medellin, AN,\n",
    "                         593 calle 8va, Manizalez, CA, ..., 605 calle 5ta, Bogotá, CU,\n",
    "                         294 calle 4ta, Neiva, HU, 47 calle Rio, Ibagué, TO.\n"
   ]
  },
  {
   "cell_type": "markdown",
   "metadata": {},
   "source": [
    "## 0.- Bibliotecas "
   ]
  },
  {
   "cell_type": "code",
   "execution_count": 1,
   "metadata": {},
   "outputs": [],
   "source": [
    "import pandas as pd"
   ]
  },
  {
   "cell_type": "code",
   "execution_count": 2,
   "metadata": {},
   "outputs": [],
   "source": [
    "import numpy as np"
   ]
  },
  {
   "cell_type": "code",
   "execution_count": 23,
   "metadata": {},
   "outputs": [],
   "source": [
    "import matplotlib.pyplot as plt"
   ]
  },
  {
   "cell_type": "markdown",
   "metadata": {},
   "source": [
    "## 1.- Agrupe cada mes de ventas en un solo CSV ('ventas2019.csv')\n",
    "    - Limpie los datos (NaN y duplicados), Pasar a Datos Numericos lo que correspondan\n",
    "    - Agregar columnas Mes, Ciudad (Departamento) y Ventas\n",
    "    --> Bonus ¿Cuantas filas con datos incompletos y duplicados se han eliminado?"
   ]
  },
  {
   "cell_type": "markdown",
   "metadata": {},
   "source": [
    "<img src=\"./img/grafi03.png\">"
   ]
  },
  {
   "cell_type": "code",
   "execution_count": 59,
   "metadata": {},
   "outputs": [
    {
     "data": {
      "text/html": [
       "<div>\n",
       "<style scoped>\n",
       "    .dataframe tbody tr th:only-of-type {\n",
       "        vertical-align: middle;\n",
       "    }\n",
       "\n",
       "    .dataframe tbody tr th {\n",
       "        vertical-align: top;\n",
       "    }\n",
       "\n",
       "    .dataframe thead th {\n",
       "        text-align: right;\n",
       "    }\n",
       "</style>\n",
       "<table border=\"1\" class=\"dataframe\">\n",
       "  <thead>\n",
       "    <tr style=\"text-align: right;\">\n",
       "      <th></th>\n",
       "      <th>ID Orden</th>\n",
       "      <th>Producto</th>\n",
       "      <th>Cantidad Ordenada</th>\n",
       "      <th>Precio Unitario</th>\n",
       "      <th>Fecha</th>\n",
       "      <th>Dirección de Compra</th>\n",
       "      <th>Mes</th>\n",
       "    </tr>\n",
       "  </thead>\n",
       "  <tbody>\n",
       "    <tr>\n",
       "      <th>0</th>\n",
       "      <td>141234</td>\n",
       "      <td>Audifonos Apple Airpods</td>\n",
       "      <td>1</td>\n",
       "      <td>499900</td>\n",
       "      <td>01/25/19 13:51</td>\n",
       "      <td>177 calle Jimenez, Cali, VC</td>\n",
       "      <td>1</td>\n",
       "    </tr>\n",
       "    <tr>\n",
       "      <th>1</th>\n",
       "      <td>141235</td>\n",
       "      <td>Parlante Google HomeMini</td>\n",
       "      <td>1</td>\n",
       "      <td>159900</td>\n",
       "      <td>01/12/19 23:58</td>\n",
       "      <td>732 calle 9na, Cúcuta, NS</td>\n",
       "      <td>1</td>\n",
       "    </tr>\n",
       "    <tr>\n",
       "      <th>2</th>\n",
       "      <td>141236</td>\n",
       "      <td>Cable de Carga Lightning</td>\n",
       "      <td>1</td>\n",
       "      <td>64900</td>\n",
       "      <td>01/15/19 21:42</td>\n",
       "      <td>887 calle Kennedy, Medellin, AN</td>\n",
       "      <td>1</td>\n",
       "    </tr>\n",
       "    <tr>\n",
       "      <th>3</th>\n",
       "      <td>141237</td>\n",
       "      <td>Parlante Google HomeMini</td>\n",
       "      <td>1</td>\n",
       "      <td>159900</td>\n",
       "      <td>01/27/19 11:39</td>\n",
       "      <td>641 calle 5ta, Bucaramanga, SA</td>\n",
       "      <td>1</td>\n",
       "    </tr>\n",
       "    <tr>\n",
       "      <th>4</th>\n",
       "      <td>141238</td>\n",
       "      <td>Samsung Galaxy A302</td>\n",
       "      <td>1</td>\n",
       "      <td>649900</td>\n",
       "      <td>01/14/19 17:13</td>\n",
       "      <td>379 calle 2da, Medellin, AN</td>\n",
       "      <td>1</td>\n",
       "    </tr>\n",
       "    <tr>\n",
       "      <th>...</th>\n",
       "      <td>...</td>\n",
       "      <td>...</td>\n",
       "      <td>...</td>\n",
       "      <td>...</td>\n",
       "      <td>...</td>\n",
       "      <td>...</td>\n",
       "      <td>...</td>\n",
       "    </tr>\n",
       "    <tr>\n",
       "      <th>165198</th>\n",
       "      <td>299477</td>\n",
       "      <td>Audifonos Bose SoundSport</td>\n",
       "      <td>1</td>\n",
       "      <td>399900</td>\n",
       "      <td>12/01/19 10:38</td>\n",
       "      <td>421 calle Autopista Norte, Armenia, QU</td>\n",
       "      <td>12</td>\n",
       "    </tr>\n",
       "    <tr>\n",
       "      <th>165199</th>\n",
       "      <td>299478</td>\n",
       "      <td>Cable de Carga Lightning</td>\n",
       "      <td>1</td>\n",
       "      <td>64900</td>\n",
       "      <td>12/27/19 05:23</td>\n",
       "      <td>679 calle 4ta, Bucaramanga, SA</td>\n",
       "      <td>12</td>\n",
       "    </tr>\n",
       "    <tr>\n",
       "      <th>165200</th>\n",
       "      <td>299479</td>\n",
       "      <td>Cable de Carga USB-C P/O</td>\n",
       "      <td>1</td>\n",
       "      <td>46900</td>\n",
       "      <td>12/15/19 12:41</td>\n",
       "      <td>707 calle Norte, Medellin, AN</td>\n",
       "      <td>12</td>\n",
       "    </tr>\n",
       "    <tr>\n",
       "      <th>165201</th>\n",
       "      <td>299480</td>\n",
       "      <td>AAA Batteries (4-pack)</td>\n",
       "      <td>1</td>\n",
       "      <td>12990</td>\n",
       "      <td>12/05/19 16:21</td>\n",
       "      <td>735 calle Carrera, Medellin, AN</td>\n",
       "      <td>12</td>\n",
       "    </tr>\n",
       "    <tr>\n",
       "      <th>165202</th>\n",
       "      <td>299481</td>\n",
       "      <td>Cable de Carga USB-C P/O</td>\n",
       "      <td>1</td>\n",
       "      <td>46900</td>\n",
       "      <td>12/19/19 01:09</td>\n",
       "      <td>175 calle Portal Sur, Medellin, AN</td>\n",
       "      <td>12</td>\n",
       "    </tr>\n",
       "  </tbody>\n",
       "</table>\n",
       "<p>165203 rows × 7 columns</p>\n",
       "</div>"
      ],
      "text/plain": [
       "       ID Orden                  Producto   Cantidad Ordenada  \\\n",
       "0        141234    Audifonos Apple Airpods                  1   \n",
       "1        141235   Parlante Google HomeMini                  1   \n",
       "2        141236   Cable de Carga Lightning                  1   \n",
       "3        141237   Parlante Google HomeMini                  1   \n",
       "4        141238        Samsung Galaxy A302                  1   \n",
       "...         ...                        ...                ...   \n",
       "165198   299477  Audifonos Bose SoundSport                  1   \n",
       "165199   299478   Cable de Carga Lightning                  1   \n",
       "165200   299479   Cable de Carga USB-C P/O                  1   \n",
       "165201   299480     AAA Batteries (4-pack)                  1   \n",
       "165202   299481   Cable de Carga USB-C P/O                  1   \n",
       "\n",
       "       Precio Unitario            Fecha  \\\n",
       "0                499900  01/25/19 13:51   \n",
       "1                159900  01/12/19 23:58   \n",
       "2                 64900  01/15/19 21:42   \n",
       "3                159900  01/27/19 11:39   \n",
       "4                649900  01/14/19 17:13   \n",
       "...                 ...             ...   \n",
       "165198           399900  12/01/19 10:38   \n",
       "165199            64900  12/27/19 05:23   \n",
       "165200            46900  12/15/19 12:41   \n",
       "165201            12990  12/05/19 16:21   \n",
       "165202            46900  12/19/19 01:09   \n",
       "\n",
       "                           Dirección de Compra  Mes  \n",
       "0                  177 calle Jimenez, Cali, VC    1  \n",
       "1                    732 calle 9na, Cúcuta, NS    1  \n",
       "2              887 calle Kennedy, Medellin, AN    1  \n",
       "3               641 calle 5ta, Bucaramanga, SA    1  \n",
       "4                  379 calle 2da, Medellin, AN    1  \n",
       "...                                        ...  ...  \n",
       "165198  421 calle Autopista Norte, Armenia, QU   12  \n",
       "165199          679 calle 4ta, Bucaramanga, SA   12  \n",
       "165200           707 calle Norte, Medellin, AN   12  \n",
       "165201         735 calle Carrera, Medellin, AN   12  \n",
       "165202      175 calle Portal Sur, Medellin, AN   12  \n",
       "\n",
       "[165203 rows x 7 columns]"
      ]
     },
     "execution_count": 59,
     "metadata": {},
     "output_type": "execute_result"
    }
   ],
   "source": [
    "#Nombre de meses\n",
    "months=[\"February\",\"March\",\"April\",\"May\",\"June\",\"July\",\"August\",\"September\",\"October\",\"November\",\"December\"]\n",
    "meses=[]\n",
    "contMes=1\n",
    "#Leo el primer mes\n",
    "ventas2019 = pd.read_csv(\"data/Ventas_January_2019.csv\")\n",
    "ventas2019[\"Mes\"]=1\n",
    "meses.append(ventas2019 )\n",
    "#Concateno los demás meses en ventas2019\n",
    "for txt in months:\n",
    "    contMes+=1\n",
    "    path='data/Ventas_{}_2019.csv'.format(txt)\n",
    "    mes=pd.read_csv(path)\n",
    "    mes[\"Mes\"]=contMes\n",
    "    meses.append(mes)   \n",
    "    ventas2019=pd.concat([ventas2019,mes],ignore_index=True)\n",
    "ventas2019    "
   ]
  },
  {
   "cell_type": "code",
   "execution_count": 60,
   "metadata": {},
   "outputs": [
    {
     "data": {
      "text/plain": [
       "ID Orden               float64\n",
       "Producto                object\n",
       " Cantidad Ordenada     float64\n",
       "Precio Unitario        float64\n",
       "Fecha                   object\n",
       "Dirección de Compra     object\n",
       "Mes                      int64\n",
       "dtype: object"
      ]
     },
     "execution_count": 60,
     "metadata": {},
     "output_type": "execute_result"
    }
   ],
   "source": [
    "#Eliminar datos nullos y duplicados de las filas y contar el total de eliminados por nullos y duplicados\n",
    "\n",
    "#Eliminar datos nullos\n",
    "size1=ventas2019.shape[0]\n",
    "ventas2019=ventas2019.dropna()\n",
    "size2=ventas2019.shape[0]\n",
    "contEliminados=size1-size2\n",
    "#Eliminar datos duplicados\n",
    "size1=size2\n",
    "ventas2019=ventas2019.drop_duplicates()\n",
    "size=ventas2019.shape[0]\n",
    "conDuplicados=size1-size\n",
    "\n",
    "#Convertir columnas a su tipo correspondiente\n",
    "ventas2019[' Cantidad Ordenada']=pd.to_numeric(ventas2019[' Cantidad Ordenada'],errors='coerce')\n",
    "ventas2019['Precio Unitario ']=pd.to_numeric(ventas2019['Precio Unitario '],errors='coerce')\n",
    "ventas2019['ID Orden']=pd.to_numeric(ventas2019['ID Orden'],errors='coerce')\n",
    "ventas2019.dtypes\n"
   ]
  },
  {
   "cell_type": "code",
   "execution_count": 61,
   "metadata": {},
   "outputs": [],
   "source": [
    "#Para la columna ciudad \n",
    "listCiudad=[]\n",
    "anterior=\"\"\n",
    "for txt in ventas2019['Dirección de Compra'].values:\n",
    "   \n",
    "    try:        \n",
    "        txtS=txt.split(\",\")\n",
    "        txt=\"{} ({})\".format(txtS[1],txtS[2])\n",
    "        listCiudad.append(txt)\n",
    "        anterior=txt\n",
    "    except:\n",
    "        listCiudad.append(anterior)"
   ]
  },
  {
   "cell_type": "code",
   "execution_count": 62,
   "metadata": {},
   "outputs": [
    {
     "data": {
      "text/html": [
       "<div>\n",
       "<style scoped>\n",
       "    .dataframe tbody tr th:only-of-type {\n",
       "        vertical-align: middle;\n",
       "    }\n",
       "\n",
       "    .dataframe tbody tr th {\n",
       "        vertical-align: top;\n",
       "    }\n",
       "\n",
       "    .dataframe thead th {\n",
       "        text-align: right;\n",
       "    }\n",
       "</style>\n",
       "<table border=\"1\" class=\"dataframe\">\n",
       "  <thead>\n",
       "    <tr style=\"text-align: right;\">\n",
       "      <th></th>\n",
       "      <th>ID Orden</th>\n",
       "      <th>Producto</th>\n",
       "      <th>Cantidad Ordenada</th>\n",
       "      <th>Precio Unitario</th>\n",
       "      <th>Fecha</th>\n",
       "      <th>Dirección de Compra</th>\n",
       "      <th>Mes</th>\n",
       "      <th>Ciudad</th>\n",
       "      <th>Ventas</th>\n",
       "    </tr>\n",
       "  </thead>\n",
       "  <tbody>\n",
       "    <tr>\n",
       "      <th>0</th>\n",
       "      <td>141234.0</td>\n",
       "      <td>Audifonos Apple Airpods</td>\n",
       "      <td>1.0</td>\n",
       "      <td>499900.0</td>\n",
       "      <td>01/25/19 13:51</td>\n",
       "      <td>177 calle Jimenez, Cali, VC</td>\n",
       "      <td>1</td>\n",
       "      <td>Cali ( VC)</td>\n",
       "      <td>499900.0</td>\n",
       "    </tr>\n",
       "    <tr>\n",
       "      <th>1</th>\n",
       "      <td>141235.0</td>\n",
       "      <td>Parlante Google HomeMini</td>\n",
       "      <td>1.0</td>\n",
       "      <td>159900.0</td>\n",
       "      <td>01/12/19 23:58</td>\n",
       "      <td>732 calle 9na, Cúcuta, NS</td>\n",
       "      <td>1</td>\n",
       "      <td>Cúcuta ( NS)</td>\n",
       "      <td>159900.0</td>\n",
       "    </tr>\n",
       "    <tr>\n",
       "      <th>2</th>\n",
       "      <td>141236.0</td>\n",
       "      <td>Cable de Carga Lightning</td>\n",
       "      <td>1.0</td>\n",
       "      <td>64900.0</td>\n",
       "      <td>01/15/19 21:42</td>\n",
       "      <td>887 calle Kennedy, Medellin, AN</td>\n",
       "      <td>1</td>\n",
       "      <td>Medellin ( AN)</td>\n",
       "      <td>64900.0</td>\n",
       "    </tr>\n",
       "    <tr>\n",
       "      <th>3</th>\n",
       "      <td>141237.0</td>\n",
       "      <td>Parlante Google HomeMini</td>\n",
       "      <td>1.0</td>\n",
       "      <td>159900.0</td>\n",
       "      <td>01/27/19 11:39</td>\n",
       "      <td>641 calle 5ta, Bucaramanga, SA</td>\n",
       "      <td>1</td>\n",
       "      <td>Bucaramanga ( SA)</td>\n",
       "      <td>159900.0</td>\n",
       "    </tr>\n",
       "    <tr>\n",
       "      <th>4</th>\n",
       "      <td>141238.0</td>\n",
       "      <td>Samsung Galaxy A302</td>\n",
       "      <td>1.0</td>\n",
       "      <td>649900.0</td>\n",
       "      <td>01/14/19 17:13</td>\n",
       "      <td>379 calle 2da, Medellin, AN</td>\n",
       "      <td>1</td>\n",
       "      <td>Medellin ( AN)</td>\n",
       "      <td>649900.0</td>\n",
       "    </tr>\n",
       "  </tbody>\n",
       "</table>\n",
       "</div>"
      ],
      "text/plain": [
       "   ID Orden                 Producto    Cantidad Ordenada  Precio Unitario   \\\n",
       "0  141234.0   Audifonos Apple Airpods                 1.0          499900.0   \n",
       "1  141235.0  Parlante Google HomeMini                 1.0          159900.0   \n",
       "2  141236.0  Cable de Carga Lightning                 1.0           64900.0   \n",
       "3  141237.0  Parlante Google HomeMini                 1.0          159900.0   \n",
       "4  141238.0       Samsung Galaxy A302                 1.0          649900.0   \n",
       "\n",
       "            Fecha              Dirección de Compra  Mes              Ciudad  \\\n",
       "0  01/25/19 13:51      177 calle Jimenez, Cali, VC    1          Cali ( VC)   \n",
       "1  01/12/19 23:58        732 calle 9na, Cúcuta, NS    1        Cúcuta ( NS)   \n",
       "2  01/15/19 21:42  887 calle Kennedy, Medellin, AN    1      Medellin ( AN)   \n",
       "3  01/27/19 11:39   641 calle 5ta, Bucaramanga, SA    1   Bucaramanga ( SA)   \n",
       "4  01/14/19 17:13      379 calle 2da, Medellin, AN    1      Medellin ( AN)   \n",
       "\n",
       "     Ventas  \n",
       "0  499900.0  \n",
       "1  159900.0  \n",
       "2   64900.0  \n",
       "3  159900.0  \n",
       "4  649900.0  "
      ]
     },
     "execution_count": 62,
     "metadata": {},
     "output_type": "execute_result"
    }
   ],
   "source": [
    "#Agregar nuevas columnas al dataframe\n",
    "ventas2019[\"Ciudad\"]=listCiudad   \n",
    "ventas2019[\"Ventas\"]=ventas2019[' Cantidad Ordenada']*ventas2019['Precio Unitario ']\n",
    "ventas2019.head(5)"
   ]
  },
  {
   "cell_type": "code",
   "execution_count": 63,
   "metadata": {},
   "outputs": [
    {
     "name": "stdout",
     "output_type": "stream",
     "text": [
      "Se eliminaros por datos nullos 496 y por datos duplicados 502 con un total de 998 datos eliminados del dataframe\n"
     ]
    }
   ],
   "source": [
    "print(\"Se eliminaros por datos nullos {} y por datos duplicados {} con un total de {} datos eliminados del dataframe\".format(contEliminados,conDuplicados,conDuplicados+contEliminados))"
   ]
  },
  {
   "cell_type": "markdown",
   "metadata": {},
   "source": [
    "## 2.- Elabore una gráfica de \"Ventas por Mes (Año 2019)\"\n",
    "    - ¿Cuál fue el mejor mes en ventas del año 2019\n",
    "    - ¿Cuál fue el peor mes en ventas del año 2019"
   ]
  },
  {
   "cell_type": "markdown",
   "metadata": {},
   "source": [
    "<img src=\"./img/grafi041.png\" style=\"width:250px\">"
   ]
  },
  {
   "cell_type": "code",
   "execution_count": 64,
   "metadata": {},
   "outputs": [
    {
     "name": "stdout",
     "output_type": "stream",
     "text": [
      "El mejor fue el mes 12 y el peor el mes 9\n"
     ]
    },
    {
     "data": {
      "image/png": "[encoded data removed]",
      "text/plain": [
       "<Figure size 432x288 with 1 Axes>"
      ]
     },
     "metadata": {
      "needs_background": "light"
     },
     "output_type": "display_data"
    }
   ],
   "source": [
    "res=ventas2019[[\"Mes\",\"Ventas\"]]\n",
    "res=res.groupby(\"Mes\").sum()\n",
    "res[\"Ventas\"]=res[\"Ventas\"].astype('int64')\n",
    "valores=[]\n",
    "for dt in res.values:\n",
    "    valores.append(dt[0])\n",
    "color=[]\n",
    "for i in range(12):\n",
    "    color.append(\"blue\")\n",
    "color[8]=\"red\"\n",
    "color[11]=\"green\"\n",
    "    \n",
    "plt.bar(list(res.index),valores,color=color)\n",
    "plt.suptitle('Ventas por Mes (Año 2019)',fontsize=14)\n",
    "plt.xticks(list(res.index),list(res.index))\n",
    "plt.ylabel('Ventas en COP ($)',fontsize=12)\n",
    "plt.xlabel('Mes',fontsize=12)\n",
    "print(\"El mejor fue el mes 12 y el peor el mes 9\")"
   ]
  },
  {
   "cell_type": "markdown",
   "metadata": {},
   "source": [
    "## 3.- Elabore una gráfica de barras: \"Ventas por Ciudad (Año 2019)\"\n",
    "    - ¿Cuál fue la ciudad que más productos vendió?"
   ]
  },
  {
   "cell_type": "markdown",
   "metadata": {},
   "source": [
    "<img src=\"./img/grafi042.png\" style=\"width:250px\">"
   ]
  },
  {
   "cell_type": "code",
   "execution_count": 69,
   "metadata": {},
   "outputs": [
    {
     "name": "stdout",
     "output_type": "stream",
     "text": [
      "El que más vendio fue Medellin\n"
     ]
    },
    {
     "data": {
      "image/png": "[encoded data removed]",
      "text/plain": [
       "<Figure size 432x288 with 1 Axes>"
      ]
     },
     "metadata": {
      "needs_background": "light"
     },
     "output_type": "display_data"
    }
   ],
   "source": [
    "res=ventas2019[[\"Ciudad\",\"Ventas\"]]\n",
    "res=res.groupby(\"Ciudad\").sum()\n",
    "res[\"Ventas\"]=res[\"Ventas\"].astype('int64')\n",
    "valores=[]\n",
    "for dt in res.values:\n",
    "    valores.append(dt[0])\n",
    "color=[]\n",
    "for i in range(10):\n",
    "    color.append(\"blue\")\n",
    "color[9]=\"red\"\n",
    "color[8]=\"green\"\n",
    "     \n",
    "plt.bar(np.arange(len(list(res.index))),valores,color=color)\n",
    "plt.suptitle('Ventas por Ciudad (Año 2019)',fontsize=14)\n",
    "plt.xticks(np.arange(len(list(res.index))),list(res.index))\n",
    "plt.ylabel('Ventas en COP ($)',fontsize=12)\n",
    "plt.xlabel('Ciudad',fontsize=12)\n",
    "plt.xticks(rotation=90)\n",
    "print(\"El que más vendio fue Medellin\")"
   ]
  },
  {
   "cell_type": "markdown",
   "metadata": {},
   "source": [
    "## 4.- Elabore una gráfica de la Cantidad de Productos Vendidos (Año 2019)\n",
    "    - ¿Cúal es el producto más vendido? \n",
    "    - ¿Por qué piensa que es el más vendido? "
   ]
  },
  {
   "cell_type": "markdown",
   "metadata": {},
   "source": [
    "<img src=\"./img/grafi043.png\" style=\"width:250px\">"
   ]
  },
  {
   "cell_type": "code",
   "execution_count": 131,
   "metadata": {},
   "outputs": [
    {
     "data": {
      "text/plain": [
       "(array([ 0,  1,  2,  3,  4,  5,  6,  7,  8,  9, 10, 11, 12, 13, 14, 15, 16,\n",
       "        17, 18, 19]), <a list of 20 Text xticklabel objects>)"
      ]
     },
     "execution_count": 131,
     "metadata": {},
     "output_type": "execute_result"
    },
    {
     "data": {
      "image/png": "[encoded data removed]",
      "text/plain": [
       "<Figure size 432x288 with 1 Axes>"
      ]
     },
     "metadata": {
      "needs_background": "light"
     },
     "output_type": "display_data"
    }
   ],
   "source": [
    "\n",
    "resPro=ventas2019[[\"Producto \",\" Cantidad Ordenada\"]]\n",
    "resPro=resPro.groupby(\"Producto \").sum()\n",
    "resPro=resPro.dropna()\n",
    "resPro[\" Cantidad Ordenada\"]=resPro[\" Cantidad Ordenada\"].astype('int64')\n",
    "valores=[]\n",
    "for dt in resPro.values:\n",
    "    valores.append(dt[0])\n",
    "color=[]\n",
    "for i in np.arange(len(list(resPro.index))):\n",
    "    color.append(\"blue\")\n",
    "color[1]=\"green\"\n",
    "     \n",
    "plt.bar(np.arange(len(list(resPro.index))),valores,color=color)\n",
    "plt.suptitle('Cantidad de productos vendidos (Año 2019)',fontsize=14)\n",
    "plt.xticks(np.arange(len(list(resPro.index))),list(resPro.index))\n",
    "plt.ylabel('Cantidad de productos',fontsize=12)\n",
    "plt.xlabel('Productos',fontsize=12)\n",
    "plt.xticks(rotation=90)"
   ]
  },
  {
   "cell_type": "code",
   "execution_count": 122,
   "metadata": {},
   "outputs": [
    {
     "name": "stdout",
     "output_type": "stream",
     "text": [
      "La cantidad más vendida  fue la AAA Batteries (4pack) ya que en el 2019 estaba muy de moda ese modelo\n"
     ]
    }
   ],
   "source": [
    "print(\"La cantidad más vendida  fue la AAA Batteries (4pack) ya que en el 2019 estaba muy de moda ese modelo\")"
   ]
  },
  {
   "cell_type": "markdown",
   "metadata": {},
   "source": [
    "## 5.- Dada las ventas por productos, elabore una gráfica sobre el punto anterior el precio promedio de los productos según el ejemplo."
   ]
  },
  {
   "cell_type": "markdown",
   "metadata": {},
   "source": [
    "<img src=\"./img/grafi044.png\" style=\"width:250px\">"
   ]
  },
  {
   "cell_type": "code",
   "execution_count": 137,
   "metadata": {},
   "outputs": [
    {
     "data": {
      "text/plain": [
       "(array([ 0,  1,  2,  3,  4,  5,  6,  7,  8,  9, 10, 11, 12, 13, 14, 15, 16,\n",
       "        17, 18, 19]), <a list of 20 Text xticklabel objects>)"
      ]
     },
     "execution_count": 137,
     "metadata": {},
     "output_type": "execute_result"
    },
    {
     "data": {
      "image/png": "[encoded data removed]",
      "text/plain": [
       "<Figure size 432x288 with 1 Axes>"
      ]
     },
     "metadata": {
      "needs_background": "light"
     },
     "output_type": "display_data"
    }
   ],
   "source": [
    " \n",
    "\n",
    "\n",
    "\n",
    "resProPromedio=ventas2019[[\"Producto \",\"Precio Unitario \"]]\n",
    "resProPromedio=resProPromedio.groupby(\"Producto \").mean()\n",
    "resProPromedio=resProPromedio.dropna()\n",
    "resProPromedio[\"Precio Unitario \"]=resProPromedio[\"Precio Unitario \"].astype('int64')\n",
    " \n",
    "\n",
    "\n",
    "resPro=ventas2019[[\"Producto \",\" Cantidad Ordenada\"]]\n",
    "resPro=resPro.groupby(\"Producto \").sum()\n",
    "resPro[\" Cantidad Ordenada\"]=resPro[\" Cantidad Ordenada\"].astype('int64')\n",
    "valores=[]\n",
    "for dt in resPro.values:\n",
    "    valores.append(dt[0])\n",
    "color=[]\n",
    "for i in np.arange(len(list(resPro.index))):\n",
    "    color.append(\"blue\")\n",
    "color[1]=\"green\"\n",
    "\n",
    "plt.plot(np.arange(len(resProPromedio.values)),resProPromedio.values)\n",
    "plt.bar(np.arange(len(list(resPro.index))),valores,color=color)\n",
    "plt.suptitle('Cantidad de productos vendidos (Año 2019)',fontsize=14)\n",
    "plt.xticks(np.arange(len(list(resPro.index))),list(resPro.index))\n",
    "plt.ylabel('Cantidad de productos',fontsize=12)\n",
    "plt.xlabel('Productos',fontsize=12)\n",
    "plt.xticks(rotation=90)"
   ]
  },
  {
   "cell_type": "markdown",
   "metadata": {},
   "source": [
    "#La gráfica se ve de esa forma ya que el precio del producto es mucho mayor a la cantidad del producto\n"
   ]
  },
  {
   "cell_type": "markdown",
   "metadata": {},
   "source": [
    "## 6.- Describa al menos 5 conclusiones sobre la gráfica del punto 5."
   ]
  },
  {
   "cell_type": "markdown",
   "metadata": {},
   "source": [
    "1. EL precio del producto es mucho mayor  a la cantidad de productos vendidos\n",
    "2.El precio mayor lo tiene el producto Macbook Air\n",
    "3. El precio promedio menor lo tiene las pilas AAA (AA Batterries y AAA Batteries)\n",
    "4. El segundo precio mayor lo tiene un Asus vivo book\n",
    "5. Los más vendidos son los que tienen un precio menor mirando el punto 4"
   ]
  },
  {
   "cell_type": "markdown",
   "metadata": {},
   "source": [
    "## 7.- ¿Cuál es el promedio, desviación, el valor máximo y mínimo de las Ventas en el DataFrame?"
   ]
  },
  {
   "cell_type": "code",
   "execution_count": 43,
   "metadata": {},
   "outputs": [
    {
     "data": {
      "text/plain": [
       "count     164193\n",
       "mean      337527\n",
       "std       536020\n",
       "min        12990\n",
       "25%        46900\n",
       "50%       159900\n",
       "75%       399900\n",
       "max      5598000\n",
       "Name: Ventas, dtype: int64"
      ]
     },
     "execution_count": 43,
     "metadata": {},
     "output_type": "execute_result"
    }
   ],
   "source": [
    "dat=ventas2019[\"Ventas\"].describe().astype('int64')\n",
    "dat"
   ]
  },
  {
   "cell_type": "code",
   "execution_count": 47,
   "metadata": {},
   "outputs": [
    {
     "name": "stdout",
     "output_type": "stream",
     "text": [
      "Promedio 337527\n",
      "Desviacion 536020\n",
      "Minimo 12990\n",
      "Maximo 5598000\n"
     ]
    }
   ],
   "source": [
    "print(\"Promedio\",dat[\"mean\"])\n",
    "print(\"Desviacion\",dat[\"std\"])\n",
    "print(\"Minimo\",dat[\"min\"])\n",
    "print(\"Maximo\",dat[\"max\"])"
   ]
  },
  {
   "cell_type": "markdown",
   "metadata": {},
   "source": [
    "## 8.- ¿Cuál es la proporción de ventas de la ciudad de Cúcuta en el año 2019?"
   ]
  },
  {
   "cell_type": "code",
   "execution_count": 93,
   "metadata": {},
   "outputs": [
    {
     "data": {
      "text/html": [
       "<div>\n",
       "<style scoped>\n",
       "    .dataframe tbody tr th:only-of-type {\n",
       "        vertical-align: middle;\n",
       "    }\n",
       "\n",
       "    .dataframe tbody tr th {\n",
       "        vertical-align: top;\n",
       "    }\n",
       "\n",
       "    .dataframe thead th {\n",
       "        text-align: right;\n",
       "    }\n",
       "</style>\n",
       "<table border=\"1\" class=\"dataframe\">\n",
       "  <thead>\n",
       "    <tr style=\"text-align: right;\">\n",
       "      <th></th>\n",
       "      <th>Ventas</th>\n",
       "    </tr>\n",
       "    <tr>\n",
       "      <th>Ciudad</th>\n",
       "      <th></th>\n",
       "    </tr>\n",
       "  </thead>\n",
       "  <tbody>\n",
       "    <tr>\n",
       "      <th>Armenia ( QU)</th>\n",
       "      <td>8893427310</td>\n",
       "    </tr>\n",
       "    <tr>\n",
       "      <th>Barranquilla ( AT)</th>\n",
       "      <td>3051906313</td>\n",
       "    </tr>\n",
       "    <tr>\n",
       "      <th>Bogotá ( CU)</th>\n",
       "      <td>5897889899</td>\n",
       "    </tr>\n",
       "    <tr>\n",
       "      <th>Bucaramanga ( SA)</th>\n",
       "      <td>2946503622</td>\n",
       "    </tr>\n",
       "    <tr>\n",
       "      <th>Cali ( VC)</th>\n",
       "      <td>4326928170</td>\n",
       "    </tr>\n",
       "    <tr>\n",
       "      <th>Cúcuta ( NS)</th>\n",
       "      <td>7409419532</td>\n",
       "    </tr>\n",
       "    <tr>\n",
       "      <th>Ibagué ( TO)</th>\n",
       "      <td>4390903969</td>\n",
       "    </tr>\n",
       "    <tr>\n",
       "      <th>Manizalez ( CA)</th>\n",
       "      <td>4353373470</td>\n",
       "    </tr>\n",
       "    <tr>\n",
       "      <th>Medellin ( AN)</th>\n",
       "      <td>13378861427</td>\n",
       "    </tr>\n",
       "    <tr>\n",
       "      <th>Neiva ( HU)</th>\n",
       "      <td>770483450</td>\n",
       "    </tr>\n",
       "  </tbody>\n",
       "</table>\n",
       "</div>"
      ],
      "text/plain": [
       "                          Ventas\n",
       "Ciudad                          \n",
       " Armenia ( QU)        8893427310\n",
       " Barranquilla ( AT)   3051906313\n",
       " Bogotá ( CU)         5897889899\n",
       " Bucaramanga ( SA)    2946503622\n",
       " Cali ( VC)           4326928170\n",
       " Cúcuta ( NS)         7409419532\n",
       " Ibagué ( TO)         4390903969\n",
       " Manizalez ( CA)      4353373470\n",
       " Medellin ( AN)      13378861427\n",
       " Neiva ( HU)           770483450"
      ]
     },
     "execution_count": 93,
     "metadata": {},
     "output_type": "execute_result"
    }
   ],
   "source": [
    "dt8=ventas2019[[\"Ciudad\",\"Ventas\"]]\n",
    "dt8=dt8.groupby(\"Ciudad\").sum()\n",
    "dt8[\"Ventas\"]=dt8[\"Ventas\"].astype('int64')\n",
    "total=0\n",
    "total=np.sum(dt8[\"Ventas\"].values)\n",
    "dt8\n"
   ]
  },
  {
   "cell_type": "code",
   "execution_count": 94,
   "metadata": {},
   "outputs": [
    {
     "name": "stdout",
     "output_type": "stream",
     "text": [
      "La proporción de Cúcuta es  13.369649982642754 %\n"
     ]
    }
   ],
   "source": [
    "print(\"La proporción de Cúcuta es \", (7409419532/total)*100,\"%\" )"
   ]
  },
  {
   "cell_type": "markdown",
   "metadata": {},
   "source": [
    "## 9.- Calcule el promedio y la desviación estandar de las Ventas, en:\n",
    "\n",
    "     ------------------------------------------------|--------------------------\n",
    "                 MESES Y CIUDADES                        Promedio +/- Std\n",
    "     ------------------------------------------------|--------------------------    \n",
    "     - Mes de Abril en la ciudad de Armenia (QU):       {mean} +- {std} COP ($).\n",
    " \n",
    "     - Meses Nov, Dic en la ciudad de Medellin (AN):    {mean} +- {std} COP ($).\n",
    " \n",
    "     - Meses Mayo en la ciudad de Bogotá (CU) :         {mean} +- {std} COP ($).\n",
    "     ------------------------------------------------|--------------------------"
   ]
  },
  {
   "cell_type": "code",
   "execution_count": null,
   "metadata": {},
   "outputs": [],
   "source": []
  }
 ],
 "metadata": {
  "kernelspec": {
   "display_name": "Python 3.7.0 64-bit",
   "language": "python",
   "name": "python37064bit77c32bfef69240b193135a62ae515774"
  },
  "language_info": {
   "codemirror_mode": {
    "name": "ipython",
    "version": 3
   },
   "file_extension": ".py",
   "mimetype": "text/x-python",
   "name": "python",
   "nbconvert_exporter": "python",
   "pygments_lexer": "ipython3",
   "version": "3.7.0"
  }
 },
 "nbformat": 4,
 "nbformat_minor": 2
}
