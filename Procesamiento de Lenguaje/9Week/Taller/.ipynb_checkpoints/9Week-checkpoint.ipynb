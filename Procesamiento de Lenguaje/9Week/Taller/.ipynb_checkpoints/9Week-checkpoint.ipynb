{
 "cells": [
  {
   "cell_type": "raw",
   "metadata": {},
   "source": [
    "#Jhoan Sebastian Saavedra Romero"
   ]
  },
  {
   "cell_type": "code",
   "execution_count": 1,
   "metadata": {},
   "outputs": [],
   "source": [
    "import json\n",
    "import re\n",
    "import pandas as pd\n",
    "import numpy as np\n",
    "\n",
    "from sklearn.model_selection import train_test_split\n",
    "from sklearn.naive_bayes import MultinomialNB\n",
    "from sklearn.metrics import accuracy_score, precision_score, recall_score, f1_score\n",
    "from sklearn.feature_extraction.text import CountVectorizer\n",
    "from sklearn.metrics import confusion_matrix\n",
    "from sklearn.cluster import KMeans\n",
    "import matplotlib.pyplot as plt\n",
    "from sklearn.feature_extraction.text import TfidfVectorizer"
   ]
  },
  {
   "cell_type": "code",
   "execution_count": 2,
   "metadata": {},
   "outputs": [],
   "source": [
    "readJSON=open(\"News_Category_Dataset_v2.json\", \"r\", encoding=\"utf-8\")\n",
    "arrayJSON=readJSON.readlines()\n",
    "writer= open(\"categories.json\",\"w+\") #Escribir archivo\n",
    "writer.write(\"[\")\n",
    "for strJSON in arrayJSON:\n",
    "    dataStore = json.loads(strJSON)\n",
    "    if (dataStore[\"category\"]== 'ENTERTAINMENT' or dataStore[\"category\"]=='POLITICS' or dataStore[\"category\"]=='SPORTS' ):\n",
    "        writer.write(json.dumps(dataStore)+\",\")\n",
    "writer.write(\"{}]\")\n",
    "writer.close()"
   ]
  },
  {
   "cell_type": "code",
   "execution_count": 3,
   "metadata": {},
   "outputs": [],
   "source": [
    "readJSON=open(\"categories.json\", \"r\", encoding=\"utf-8\")\n",
    "arrayCategories=json.loads(readJSON.read())\n",
    "del arrayCategories[len(arrayCategories)-1] #Eliminar el vacio"
   ]
  },
  {
   "cell_type": "code",
   "execution_count": 16,
   "metadata": {},
   "outputs": [],
   "source": [
    "#Sacamos tamCat datos, tamCat por cada categoria\n",
    "df = pd.DataFrame(arrayCategories)   \n",
    "jsonDat=[]\n",
    "tamCat=30 #Tamaño por cada categoria\n",
    "for Id, group in df.groupby('category'):\n",
    "    i=1\n",
    "    for indice_fila, fila in group.iterrows():\n",
    "        jsonDat.append(fila)\n",
    "        if(i==tamCat): \n",
    "            break\n",
    "        i+=1\n",
    "#Creamos\n",
    "dftamCat = pd.DataFrame(jsonDat) \n",
    "categories = list(dftamCat['category']) #Lista de los labels\n",
    "dftamCat['hed+short']=dftamCat['headline']+dftamCat['short_description'] #Creamos una nueva columna"
   ]
  },
  {
   "cell_type": "code",
   "execution_count": 17,
   "metadata": {},
   "outputs": [],
   "source": [
    "#Pinta la grafica de n_Clusters y retorna la matriz termino documento\n",
    "#Recibe el dataframe y el nombre de la columna\n",
    "def graficanClusters(df,attr):\n",
    "    vectorizer = TfidfVectorizer(stop_words=\"english\",min_df=3) #Min df de 3\n",
    "    matTerm = vectorizer.fit_transform(df[attr])\n",
    "    ks = range(1, 10)\n",
    "    inertias = [] #inertia :Sum of squared distances of samples to their closest cluster center.\n",
    "    for k in ks:\n",
    "        # Create a KMeans instance with k clusters: model\n",
    "        model = KMeans(n_clusters=k)\n",
    "\n",
    "        # Fit model to samples\n",
    "        model.fit(matTerm)\n",
    "\n",
    "        # Append the inertia to the list of inertias\n",
    "        inertias.append(model.inertia_) # La relación entre la distancia media del punto al closer y la distancia con los otros closer que se encuentran en la data\n",
    "    \n",
    "    plt.plot(ks, inertias, '-o')\n",
    "    plt.xlabel('number of clusters, k')\n",
    "    plt.ylabel('inertia')\n",
    "    plt.xticks(ks)\n",
    "    #Tomaremos el codo de la curva, donde pierde la infección de la curva en este caso 3\n",
    "    plt.show()\n",
    "    return matTerm"
   ]
  },
  {
   "cell_type": "code",
   "execution_count": 18,
   "metadata": {},
   "outputs": [],
   "source": [
    "#RRetorna la tabla pibote, \n",
    "#Recibe el dataframe, la columna, la matriz termino documento, el titulo y los datos a comparar\n",
    "def  tablaPivote(df,attr,matTerm,titleComparar,dataComparar):    \n",
    "    model = KMeans(n_clusters=3)\n",
    "    model.fit(matTerm)\n",
    "    labels_cate = model.fit_predict(matTerm)\n",
    "    df_comparison = pd.DataFrame({'labels': labels_cate, titleComparar: dataComparar })\n",
    "    tabla_pivot = pd.crosstab(df_comparison['labels'], df_comparison[titleComparar])\n",
    "    return tabla_pivot"
   ]
  },
  {
   "cell_type": "code",
   "execution_count": 19,
   "metadata": {},
   "outputs": [
    {
     "data": {
      "image/png": "[encoded data removed]",
      "text/plain": [
       "<Figure size 432x288 with 1 Axes>"
      ]
     },
     "metadata": {
      "needs_background": "light"
     },
     "output_type": "display_data"
    },
    {
     "data": {
      "text/html": [
       "<div>\n",
       "<style scoped>\n",
       "    .dataframe tbody tr th:only-of-type {\n",
       "        vertical-align: middle;\n",
       "    }\n",
       "\n",
       "    .dataframe tbody tr th {\n",
       "        vertical-align: top;\n",
       "    }\n",
       "\n",
       "    .dataframe thead th {\n",
       "        text-align: right;\n",
       "    }\n",
       "</style>\n",
       "<table border=\"1\" class=\"dataframe\">\n",
       "  <thead>\n",
       "    <tr style=\"text-align: right;\">\n",
       "      <th>category</th>\n",
       "      <th>ENTERTAINMENT</th>\n",
       "      <th>POLITICS</th>\n",
       "      <th>SPORTS</th>\n",
       "    </tr>\n",
       "    <tr>\n",
       "      <th>labels</th>\n",
       "      <th></th>\n",
       "      <th></th>\n",
       "      <th></th>\n",
       "    </tr>\n",
       "  </thead>\n",
       "  <tbody>\n",
       "    <tr>\n",
       "      <th>0</th>\n",
       "      <td>23</td>\n",
       "      <td>12</td>\n",
       "      <td>24</td>\n",
       "    </tr>\n",
       "    <tr>\n",
       "      <th>1</th>\n",
       "      <td>1</td>\n",
       "      <td>15</td>\n",
       "      <td>4</td>\n",
       "    </tr>\n",
       "    <tr>\n",
       "      <th>2</th>\n",
       "      <td>6</td>\n",
       "      <td>3</td>\n",
       "      <td>2</td>\n",
       "    </tr>\n",
       "  </tbody>\n",
       "</table>\n",
       "</div>"
      ],
      "text/plain": [
       "category  ENTERTAINMENT  POLITICS  SPORTS\n",
       "labels                                   \n",
       "0                    23        12      24\n",
       "1                     1        15       4\n",
       "2                     6         3       2"
      ]
     },
     "execution_count": 19,
     "metadata": {},
     "output_type": "execute_result"
    }
   ],
   "source": [
    "#Tenemos Para la gráfica de prueba\n",
    "matTerm=graficanClusters(dftamCat,'hed+short') #Para datos de prueba 30 de cada Cat\n",
    "tablaPivote(dftamCat,'hed+short',matTerm,'category',categories) #Dato de prueba 30 de cada Cat"
   ]
  },
  {
   "cell_type": "code",
   "execution_count": 13,
   "metadata": {},
   "outputs": [
    {
     "data": {
      "image/png": "[encoded data removed]",
      "text/plain": [
       "<Figure size 432x288 with 1 Axes>"
      ]
     },
     "metadata": {
      "needs_background": "light"
     },
     "output_type": "display_data"
    }
   ],
   "source": [
    "#Ya tenemos definido el df con todos los datos, así que lo hará con los 53681 datos\n",
    "df['hed+short']=df['headline']+df['short_description'] \n",
    "categories = list(df['category']) #Categorias label\n",
    "matTerm=graficanClusters(df,'hed+short') #Gráfica con todos los datos"
   ]
  },
  {
   "cell_type": "code",
   "execution_count": 14,
   "metadata": {},
   "outputs": [
    {
     "data": {
      "text/html": [
       "<div>\n",
       "<style scoped>\n",
       "    .dataframe tbody tr th:only-of-type {\n",
       "        vertical-align: middle;\n",
       "    }\n",
       "\n",
       "    .dataframe tbody tr th {\n",
       "        vertical-align: top;\n",
       "    }\n",
       "\n",
       "    .dataframe thead th {\n",
       "        text-align: right;\n",
       "    }\n",
       "</style>\n",
       "<table border=\"1\" class=\"dataframe\">\n",
       "  <thead>\n",
       "    <tr style=\"text-align: right;\">\n",
       "      <th>category</th>\n",
       "      <th>ENTERTAINMENT</th>\n",
       "      <th>POLITICS</th>\n",
       "      <th>SPORTS</th>\n",
       "    </tr>\n",
       "    <tr>\n",
       "      <th>labels</th>\n",
       "      <th></th>\n",
       "      <th></th>\n",
       "      <th></th>\n",
       "    </tr>\n",
       "  </thead>\n",
       "  <tbody>\n",
       "    <tr>\n",
       "      <th>0</th>\n",
       "      <td>15316</td>\n",
       "      <td>21660</td>\n",
       "      <td>4793</td>\n",
       "    </tr>\n",
       "    <tr>\n",
       "      <th>1</th>\n",
       "      <td>53</td>\n",
       "      <td>1876</td>\n",
       "      <td>3</td>\n",
       "    </tr>\n",
       "    <tr>\n",
       "      <th>2</th>\n",
       "      <td>689</td>\n",
       "      <td>9203</td>\n",
       "      <td>88</td>\n",
       "    </tr>\n",
       "  </tbody>\n",
       "</table>\n",
       "</div>"
      ],
      "text/plain": [
       "category  ENTERTAINMENT  POLITICS  SPORTS\n",
       "labels                                   \n",
       "0                 15316     21660    4793\n",
       "1                    53      1876       3\n",
       "2                   689      9203      88"
      ]
     },
     "execution_count": 14,
     "metadata": {},
     "output_type": "execute_result"
    }
   ],
   "source": [
    "#Tabla pivote de los 53681 datos\n",
    "tablaPivote(df,'hed+short',matTerm,'category',categories)"
   ]
  },
  {
   "cell_type": "raw",
   "metadata": {},
   "source": [
    "# 1. Construyan una representación vectorial (Recomiendo usar sklearn TfidfVectorizer)\n",
    "# 2. Encuentren el valor de K mas apropiado utilizando la curva de elbow.\n",
    "# 3. Usando el valor de K apropiado creen el modelo de Kmeans.\n",
    "# 4. Compare los clusters construidos con los labels reales usando una tabla pivot.\n",
    "# 5. Analice los resultados que tan buenos son?\n",
    "# Fecha de Entrega: Miercoles 4 de Septiembre\n",
    "\n",
    "2. En la gráfica no se puede ver bien el codo\n",
    "5. La clase kmeans de sklearn funciona exclusivamente con la distancia euclidiana, así que no funciona la distancia coseno (1-simCos) que es necesario para este taller. Sin la distancia no nos arrojo los resultados ni el elvow"
   ]
  }
 ],
 "metadata": {
  "kernelspec": {
   "display_name": "Python 3.7.0 64-bit",
   "language": "python",
   "name": "python37064bit77c32bfef69240b193135a62ae515774"
  },
  "language_info": {
   "codemirror_mode": {
    "name": "ipython",
    "version": 3
   },
   "file_extension": ".py",
   "mimetype": "text/x-python",
   "name": "python",
   "nbconvert_exporter": "python",
   "pygments_lexer": "ipython3",
   "version": "3.7.0"
  }
 },
 "nbformat": 4,
 "nbformat_minor": 2
}
