{
 "cells": [
  {
   "cell_type": "code",
   "execution_count": 5,
   "metadata": {},
   "outputs": [],
   "source": [
    "import tweepy\n",
    "import json\n",
    "import csv\n",
    "\n",
    "#Autenticación\n",
    "consumer_key = 'xcxtFudq6kKKj0ophQqyIWg4p'\n",
    "consumer_secret = 'eIy1e0FquHYo9SO5mofeqGq7hB0EO3iytLWRc39TnfD8RfzPuy'\n",
    "access_token = '4736014462-f9KtZoZZy8QxVGyg02FGsjS3IeSV2Rgfkzw1tbD'\n",
    "access_token_secret = 'lFmnITadz21gT66ynXMpsX32FIdhqlr8SRH1fOEqmsJqr'\n",
    "\n",
    "auth = tweepy.OAuthHandler(consumer_key, consumer_secret)\n",
    "auth.set_access_token(access_token, access_token_secret)\n",
    "\n",
    "#Obtener API\n",
    "api = tweepy.API(auth, wait_on_rate_limit=True, wait_on_rate_limit_notify=True)\n"
   ]
  },
  {
   "cell_type": "code",
   "execution_count": 6,
   "metadata": {},
   "outputs": [],
   "source": [
    "mapaCode=dict()\n",
    "with open('mapaCode.json', 'r') as openfile:  \n",
    "    mapaCode = json.load(openfile) \n",
    "def getAttr(code):\n",
    "    return mapaCode[code][\"nombre\"],mapaCode[code][\"continente\"]"
   ]
  },
  {
   "cell_type": "code",
   "execution_count": 7,
   "metadata": {},
   "outputs": [],
   "source": [
    "class TweetsListener(tweepy.StreamListener):\n",
    "    def on_connect(self):\n",
    "        self.nL=0\n",
    "        self.nSL=0 \n",
    "        print(\"Conectado correctamente...\")\n",
    "    def on_status(self,status):\n",
    "        if(not status.text.startswith(\"RT \") and status.is_quote_status == False and status.in_reply_to_status_id is  None):           \n",
    "            text=status.text \n",
    "            if(status.place is not None and status.place.country_code in mapaCode ):\n",
    "                nombre,continente=getAttr(status.place.country_code)\n",
    "                idioma=status.lang\n",
    "                with open(\"general.csv\",\"a+\",newline=\"\",encoding=\"utf-8\") as f:\n",
    "                    n=csv.writer(f)\n",
    "                    try:\n",
    "                        text=status.extended_tweet[\"full_text\"]\n",
    "                    except:\n",
    "                        pass\n",
    "                    n.writerow([status.id_str, status.user.screen_name, text, status.created_at, status.place.country_code,nombre,continente,idioma])\n",
    "                    self.nL+=1\n",
    "                    print(\"Localización: \",self.nL)\n",
    "            else: \n",
    "                idioma=status.lang\n",
    "                with open(\"generalSL.csv\",\"a+\",newline=\"\",encoding=\"utf-8\") as f:\n",
    "                    n=csv.writer(f)\n",
    "                    try:\n",
    "                        text=status.extended_tweet[\"full_text\"]\n",
    "                    except:\n",
    "                        pass\n",
    "                    n.writerow([status.id_str, status.user.screen_name, text, status.created_at, \"\",\"\",\"\",idioma])\n",
    "                    self.nSL+=1\n",
    "                    print(\"Sin localización\",self.nSL)                \n",
    "            \n",
    "\n",
    "            \n",
    "    def on_error(self, status_code):        \n",
    "        print(\"Error\", status_code)"
   ]
  },
  {
   "cell_type": "code",
   "execution_count": null,
   "metadata": {},
   "outputs": [],
   "source": [
    "stream = TweetsListener()\n",
    "streamingAPI = tweepy.Stream(auth=api.auth, listener=stream, tweet_mode='extended')\n",
    "streamingAPI.filter(track=['coronavirus', 'covid-19', 'quarantine','cuarentena','covid'],languages=['en','es'])"
   ]
  },
  {
   "cell_type": "code",
   "execution_count": null,
   "metadata": {},
   "outputs": [],
   "source": []
  }
 ],
 "metadata": {
  "kernelspec": {
   "display_name": "Python 3.7.0 64-bit",
   "language": "python",
   "name": "python37064bit77c32bfef69240b193135a62ae515774"
  },
  "language_info": {
   "codemirror_mode": {
    "name": "ipython",
    "version": 3
   },
   "file_extension": ".py",
   "mimetype": "text/x-python",
   "name": "python",
   "nbconvert_exporter": "python",
   "pygments_lexer": "ipython3",
   "version": "3.7.0"
  }
 },
 "nbformat": 4,
 "nbformat_minor": 2
}
