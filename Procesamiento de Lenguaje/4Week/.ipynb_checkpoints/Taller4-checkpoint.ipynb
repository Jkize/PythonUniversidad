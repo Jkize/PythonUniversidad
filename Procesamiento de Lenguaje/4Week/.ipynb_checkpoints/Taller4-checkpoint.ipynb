{
 "cells": [
  {
   "cell_type": "code",
   "execution_count": 104,
   "metadata": {},
   "outputs": [],
   "source": [
    "#Librerias\n",
    "import numpy as np\n",
    "import math\n",
    "import re"
   ]
  },
  {
   "cell_type": "code",
   "execution_count": 105,
   "metadata": {},
   "outputs": [],
   "source": [
    "#Punto 1 y 2\n",
    "query1=[1,0,1,0,1,1,1]\n",
    "query2=[1,1,1,0,1,0,0]\n",
    "query3=[1,0,1,0,0,0,1,1,1]"
   ]
  },
  {
   "cell_type": "code",
   "execution_count": 106,
   "metadata": {},
   "outputs": [],
   "source": [
    "#Función para llenar la matriz del query con Revelante\n",
    "# P@K y R@K\n",
    "def rPK_RK(arrayQuery):\n",
    "    mQuery=[]\n",
    "    relevantes=sum(arrayQuery)\n",
    "    n=0\n",
    "    for i in arrayQuery: \n",
    "        mQuery.append([])\n",
    "        mQuery[n].append(i)# Relevante\n",
    "        if(n==0):\n",
    "            mQuery[n].append(i) #Relevante inicial acumulativo          \n",
    "        else:\n",
    "            mQuery[n].append(i+mQuery[n-1][1]) #Relevante acumulativo\n",
    "        mQuery[n].append( mQuery[n][1]/relevantes ) # R@K\n",
    "        mQuery[n].append(mQuery[n][1]/(n+1) ) # P@K\n",
    "        n+=1\n",
    "    return mQuery\n",
    "    \n",
    "    "
   ]
  },
  {
   "cell_type": "code",
   "execution_count": 107,
   "metadata": {},
   "outputs": [
    {
     "name": "stdout",
     "output_type": "stream",
     "text": [
      "Query 1\n",
      " isRelevant sumRelevant  R@K       P@K \n",
      "[[1.         1.         0.2        1.        ]\n",
      " [0.         1.         0.2        0.5       ]\n",
      " [1.         2.         0.4        0.66666667]\n",
      " [0.         2.         0.4        0.5       ]\n",
      " [1.         3.         0.6        0.6       ]\n",
      " [1.         4.         0.8        0.66666667]\n",
      " [1.         5.         1.         0.71428571]] \n",
      "\n",
      "Query 2\n",
      " isRelevant sumRelevant  R@K       P@K \n",
      "[[1.         1.         0.25       1.        ]\n",
      " [1.         2.         0.5        1.        ]\n",
      " [1.         3.         0.75       1.        ]\n",
      " [0.         3.         0.75       0.75      ]\n",
      " [1.         4.         1.         0.8       ]\n",
      " [0.         4.         1.         0.66666667]\n",
      " [0.         4.         1.         0.57142857]] \n",
      "\n",
      "Query 3\n",
      " isRelevant sumRelevant  R@K       P@K \n",
      "[[1.         1.         0.2        1.        ]\n",
      " [0.         1.         0.2        0.5       ]\n",
      " [1.         2.         0.4        0.66666667]\n",
      " [0.         2.         0.4        0.5       ]\n",
      " [0.         2.         0.4        0.4       ]\n",
      " [0.         2.         0.4        0.33333333]\n",
      " [1.         3.         0.6        0.42857143]\n",
      " [1.         4.         0.8        0.5       ]\n",
      " [1.         5.         1.         0.55555556]] \n",
      "\n"
     ]
    }
   ],
   "source": [
    "#Obtenemos la matriz de cada query (isRelevant,sumRelevant, P@K, R@K)\n",
    "mQuery1=np.array(rPK_RK(query1))\n",
    "mQuery2=np.array(rPK_RK(query2))\n",
    "mQuery3=np.array(rPK_RK(query3))\n",
    "print(\"Query 1\\n\",\"isRelevant sumRelevant  R@K       P@K \")\n",
    "print(mQuery1,\"\\n\")\n",
    "print(\"Query 2\\n\",\"isRelevant sumRelevant  R@K       P@K \")\n",
    "print(mQuery2,\"\\n\")\n",
    "print(\"Query 3\\n\",\"isRelevant sumRelevant  R@K       P@K \")\n",
    "print(mQuery3,\"\\n\")"
   ]
  },
  {
   "cell_type": "code",
   "execution_count": 108,
   "metadata": {},
   "outputs": [],
   "source": [
    "#Función average Precisión Matrix\n",
    "def avgP(mQuery):\n",
    "    n=1\n",
    "    sumRK=0\n",
    "    for col in mQuery:\n",
    "        sumRK+=col[3]\n",
    "        if(col[2]==1):\n",
    "            break #Sí P@K = 1 romper        \n",
    "        n+=1\n",
    "    return(sumRK/n) "
   ]
  },
  {
   "cell_type": "code",
   "execution_count": 109,
   "metadata": {},
   "outputs": [
    {
     "name": "stdout",
     "output_type": "stream",
     "text": [
      "Average Precision Q1:  0.6639455782312924\n",
      "Average Precision Q2:  0.9099999999999999\n",
      "Average Precision Q3:  0.5426807760141092\n",
      "\n",
      "MAP:  0.7055421180818006\n"
     ]
    }
   ],
   "source": [
    "avgQs=[avgP(mQuery1),avgP(mQuery2),avgP(mQuery3)] \n",
    "print(\"Average Precision Q1: \",avgQs[0])\n",
    "print(\"Average Precision Q2: \",avgQs[1])\n",
    "print(\"Average Precision Q3: \",avgQs[2]) \n",
    "avg_avg=sum(avgQs)/(len(avgQs))\n",
    "print(\"\\nMAP: \",avg_avg)"
   ]
  },
  {
   "cell_type": "code",
   "execution_count": 110,
   "metadata": {},
   "outputs": [],
   "source": [
    "#Punto 4 y 5\n",
    "query1_rel=[5,4,4,1,1,1,2]\n",
    "query2_rel=[4,4,5,1,1,0,2]\n",
    "query3_rel=[1,1,5,5,2,2,1]"
   ]
  },
  {
   "cell_type": "code",
   "execution_count": 111,
   "metadata": {},
   "outputs": [],
   "source": [
    "\n",
    "def dfGainDCGI(query_rel):\n",
    "    mat=[]\n",
    "    n=0\n",
    "    for i in query_rel:\n",
    "        mat.append([])\n",
    "        mat[n].append(i) #REl_i\n",
    "        mat[n].append(1/(math.log(max(n+1,2), 2))) #discount_factor\n",
    "        mat[n].append(i*mat[n][1])\n",
    "        if(n==0):\n",
    "            mat[n].append(mat[n][2]) #DCG_i\n",
    "        else:\n",
    "            mat[n].append(mat[n][2]+mat[n-1][3]) #DCG_i\n",
    "        n+=1\n",
    "    return mat\n",
    "        "
   ]
  },
  {
   "cell_type": "code",
   "execution_count": 112,
   "metadata": {},
   "outputs": [
    {
     "name": "stdout",
     "output_type": "stream",
     "text": [
      "Query  1  DCG normalizada 13.553662753809808 \n",
      "Query  1  DCG normalizada 13.697455566701787 \n",
      "\n",
      "Query  2  DCG normalizada 12.797739700146725 \n",
      "Query  2  DCG normalizada 13.341248379593765 \n",
      "\n",
      "Query  3  DCG normalizada 9.645914685581179 \n",
      "Query  3  DCG normalizada 13.435596059558874 \n",
      "\n"
     ]
    }
   ],
   "source": [
    "mQueries=[query1_rel,query2_rel,query3_rel]\n",
    "mMQueries_rel=[]\n",
    "mMQueries_relN=[] #Normalizada\n",
    "for i in mQueries:\n",
    "    mMQueries_rel.append(np.array(dfGainDCGI(i)))\n",
    "    mMQueries_relN.append(np.array(dfGainDCGI(sorted(i,reverse=True))))\n",
    "\n",
    "n=len(mMQueries_rel)  \n",
    "row=(mMQueries_rel[0]).shape[0]\n",
    "col=(mMQueries_rel[0]).shape[1]\n",
    "\n",
    "for i in range(n):\n",
    "    print(\"Query \",i+1,\" DCG normalizada\",mMQueries_rel[i][row-1][col-1],\"\") \n",
    "    print(\"Query \",i+1,\" DCG normalizada\",mMQueries_relN[i][row-1][col-1],\"\\n\")  "
   ]
  },
  {
   "cell_type": "code",
   "execution_count": 113,
   "metadata": {},
   "outputs": [],
   "source": [
    "#Def NDGG\n",
    "def NDGG(matQ,matQN):\n",
    "    row=len(matQ)\n",
    "    col=len(matQ[0])\n",
    "    return matQ[row-1][col-1]/matQN[row-1][col-1]    "
   ]
  },
  {
   "cell_type": "code",
   "execution_count": 114,
   "metadata": {},
   "outputs": [
    {
     "name": "stdout",
     "output_type": "stream",
     "text": [
      "NDCG Query  1 0.9895022245415027\n",
      "NDCG Query  2 0.9592610328521903\n",
      "NDCG Query  3 0.7179372350003413\n",
      "\n",
      "Promedio NDCG  0.8889001641313449\n"
     ]
    }
   ],
   "source": [
    "n=len(mMQueries_rel)\n",
    "sumAvg=0\n",
    "for i in range(n):\n",
    "    avg=NDGG(mMQueries_rel[i],mMQueries_relN[i])\n",
    "    sumAvg+=avg\n",
    "    print(\"NDCG Query \",i+1,avg)\n",
    "\n",
    "print(\"\\nPromedio NDCG \",sumAvg/n)"
   ]
  },
  {
   "cell_type": "code",
   "execution_count": 115,
   "metadata": {},
   "outputs": [],
   "source": [
    "#Lee los dos documentos de relevancia y el top, luego los une haciendo match \n",
    "# de relevancia con los 10 queries del top, y sí hay match en esa posición se asignará 1\n",
    "# de lo contrario 0 y se almacenará en una matriz\n",
    "\n",
    "listId=[]\n",
    "dQuery=dict()\n",
    "with open(\"relevance-judgments.tsv\", \"r\") as f:    \n",
    "    textS=f.read().split(\"\\n\")\n",
    "    for tx in textS:\n",
    "        if(tx==\"\"):\n",
    "            break        \n",
    "        txS=tx.split(\"\\t\")\n",
    "        key=txS[0]\n",
    "        listId.append(key)\n",
    "        dQuery[key]=dict()\n",
    "        txS=txS[1].split(\",\") \n",
    "        for i in range(len(txS)): \n",
    "            ts=txS[i].split(\":\") \n",
    "            peso=int(ts[1]) \n",
    "            dQuery[key][ts[0]]=peso\n",
    "\n",
    "MQueries=[]\n",
    "MQueriesPeso=[]\n",
    "n=0\n",
    "with open(\"TopTenQueries.txt\",\"r\") as f:\n",
    "    textS=f.read().split(\"\\n\")\n",
    "    for tx in textS:\n",
    "        if(tx==\"\"):\n",
    "            break\n",
    "        MQueries.append([])\n",
    "        MQueriesPeso.append([])\n",
    "        st=tx.split(\":\")\n",
    "        key=st[0]\n",
    "        stD=st[1].split(\";\")\n",
    "        for t in stD:\n",
    "            if (key in dQuery ) and (t in dQuery[key]):\n",
    "                MQueries[n].append(1)\n",
    "                MQueriesPeso[n].append(dQuery[key][t])\n",
    "            else:\n",
    "                MQueries[n].append(0)\n",
    "                MQueriesPeso[n].append(0)\n",
    "        n+=1 \n",
    "            "
   ]
  },
  {
   "cell_type": "code",
   "execution_count": 116,
   "metadata": {},
   "outputs": [],
   "source": [
    "#Procesamiento\n",
    "\n",
    "mMPKR=[] #Guardo los 331 queries con (isRelevant, relevante, R@K,P@K)\n",
    "mMQueries_rel2=[] #Guardo los 331 queries con (Rel_i, discount factor, gain, DCG_i)\n",
    "mMQueries_relN2=[] #Guardo los 331 queries Normalizado con (Rel_i, discount factor, gain, DCG_i)\n",
    "for i in MQueries:\n",
    "    mMPKR.append(np.array(rPK_RK(i)))\n",
    "\n",
    "\n",
    "\n",
    "for i in MQueriesPeso: \n",
    "    \n",
    "    mMQueries_rel2.append(np.array(dfGainDCGI(i))) \n",
    "    mMQueries_relN2.append(np.array(dfGainDCGI(sorted(i,reverse=True))))\n"
   ]
  },
  {
   "cell_type": "code",
   "execution_count": 117,
   "metadata": {},
   "outputs": [
    {
     "name": "stdout",
     "output_type": "stream",
     "text": [
      "Average precision de la  q01 :  0.5388888888888889\n",
      "Average precision de la  q02 :  0.16545216663318935\n",
      "Average precision de la  q03 :  0.042878461749310065\n",
      "Average precision de la  q04 :  0.14983205419774373\n",
      "Average precision de la  q06 :  0.3537981298722727\n",
      "Average precision de la  q07 :  0.07303170630263722\n",
      "Average precision de la  q08 :  0.23378929833401196\n",
      "Average precision de la  q09 :  0.1017170732344881\n",
      "Average precision de la  q10 :  0.10802897248386982\n",
      "Average precision de la  q12 :  1.0\n",
      "Average precision de la  q13 :  0.47455357142857135\n",
      "Average precision de la  q14 :  0.41200665836815636\n",
      "Average precision de la  q16 :  0.13779781228302576\n",
      "Average precision de la  q17 :  0.05200951676001193\n",
      "Average precision de la  q18 :  0.8214285714285714\n",
      "Average precision de la  q19 :  0.04278117014438744\n",
      "Average precision de la  q22 :  0.23945246318515268\n",
      "Average precision de la  q23 :  0.11061670442450386\n",
      "Average precision de la  q24 :  0.0289942081002992\n",
      "Average precision de la  q25 :  0.5869047619047619\n",
      "Average precision de la  q26 :  1.0\n",
      "Average precision de la  q27 :  0.33398900556204736\n",
      "Average precision de la  q28 :  0.5469387755102041\n",
      "Average precision de la  q29 :  0.20375497246193458\n",
      "Average precision de la  q32 :  0.6004166204166206\n",
      "Average precision de la  q34 :  0.00021003990758244068\n",
      "Average precision de la  q36 :  0.9327924212539599\n",
      "Average precision de la  q37 :  0.026773507673482796\n",
      "Average precision de la  q38 :  0.13641350972550706\n",
      "Average precision de la  q40 :  0.2312941078279041\n",
      "Average precision de la  q41 :  0.06850614478586889\n",
      "Average precision de la  q42 :  0.07379501346944801\n",
      "Average precision de la  q44 :  0.099513995584995\n",
      "Average precision de la  q45 :  0.1597739252823776\n",
      "Average precision de la  q46 :  0.23830792043261392\n"
     ]
    }
   ],
   "source": [
    "n=0\n",
    "prom=[] #Guardo los promedios \n",
    "for i in mMPKR:\n",
    "    av= avgP(i)\n",
    "    prom.append(av)\n",
    "    print(\"Average precision de la \",listId[n],\": \", av)\n",
    "    n+=1"
   ]
  },
  {
   "cell_type": "code",
   "execution_count": 118,
   "metadata": {},
   "outputs": [
    {
     "name": "stdout",
     "output_type": "stream",
     "text": [
      "MAP:  0.29504120427481156\n"
     ]
    }
   ],
   "source": [
    "#Promedio del avrage precision\n",
    "print(\"MAP: \",sum(prom)/(len(prom)))"
   ]
  },
  {
   "cell_type": "code",
   "execution_count": 119,
   "metadata": {},
   "outputs": [
    {
     "name": "stdout",
     "output_type": "stream",
     "text": [
      "DCG Acumulativo de la  q01 :  9.047411228938167\n",
      "DCG Normalizado de la  q01 :  12.52371901428583\n",
      "DCG Acumulativo de la  q02 :  13.57481862850936\n",
      "DCG Normalizado de la  q02 :  18.984036913935476\n",
      "DCG Acumulativo de la  q03 :  8.441528358226625\n",
      "DCG Normalizado de la  q03 :  13.027847991330242\n",
      "DCG Acumulativo de la  q04 :  9.804072963159074\n",
      "DCG Normalizado de la  q04 :  11.240262365546286\n",
      "DCG Acumulativo de la  q06 :  12.826998514234567\n",
      "DCG Normalizado de la  q06 :  14.027847991330242\n",
      "DCG Acumulativo de la  q07 :  3.8821681688212064\n",
      "DCG Normalizado de la  q07 :  8.892789260714373\n",
      "DCG Acumulativo de la  q08 :  15.89188662298531\n",
      "DCG Normalizado de la  q08 :  19.580600627037825\n",
      "DCG Acumulativo de la  q09 :  11.417645596188521\n",
      "DCG Normalizado de la  q09 :  12.527847991330242\n",
      "DCG Acumulativo de la  q10 :  8.681228384655356\n",
      "DCG Normalizado de la  q10 :  14.406929032212952\n",
      "DCG Acumulativo de la  q12 :  11.52371901428583\n",
      "DCG Normalizado de la  q12 :  12.02371901428583\n",
      "DCG Acumulativo de la  q13 :  8.301725397282535\n",
      "DCG Normalizado de la  q13 :  11.123212623289701\n",
      "DCG Acumulativo de la  q14 :  12.421348168674989\n",
      "DCG Normalizado de la  q14 :  18.598469083585428\n",
      "DCG Acumulativo de la  q16 :  3.4116936649208687\n",
      "DCG Normalizado de la  q16 :  5.0\n",
      "DCG Acumulativo de la  q17 :  6.968112619838215\n",
      "DCG Normalizado de la  q17 :  10.261859507142916\n",
      "DCG Acumulativo de la  q18 :  12.183427456559413\n",
      "DCG Normalizado de la  q18 :  12.740262365546286\n",
      "DCG Acumulativo de la  q19 :  5.286176883009975\n",
      "DCG Normalizado de la  q19 :  7.0\n",
      "DCG Acumulativo de la  q22 :  4.800518144619416\n",
      "DCG Normalizado de la  q22 :  9.609332611974828\n",
      "DCG Acumulativo de la  q23 :  11.373561425813\n",
      "DCG Normalizado de la  q23 :  14.906929032212952\n",
      "DCG Acumulativo de la  q24 :  2.0167163626569335\n",
      "DCG Normalizado de la  q24 :  8.123212623289701\n",
      "DCG Acumulativo de la  q25 :  6.754142376861158\n",
      "DCG Normalizado de la  q25 :  8.892789260714373\n",
      "DCG Acumulativo de la  q26 :  5.0\n",
      "DCG Normalizado de la  q26 :  5.0\n",
      "DCG Acumulativo de la  q27 :  11.907479111248735\n",
      "DCG Normalizado de la  q27 :  16.537858785784408\n",
      "DCG Acumulativo de la  q28 :  6.673825196254484\n",
      "DCG Normalizado de la  q28 :  9.892789260714373\n",
      "DCG Acumulativo de la  q29 :  18.950289817277156\n",
      "DCG Normalizado de la  q29 :  21.461105390894257\n",
      "DCG Acumulativo de la  q32 :  12.904705310334004\n",
      "DCG Normalizado de la  q32 :  13.254142376861159\n",
      "DCG Acumulativo de la  q34 :  0.8185282772260781\n",
      "DCG Normalizado de la  q34 :  5.0\n",
      "DCG Acumulativo de la  q36 :  17.7753787125617\n",
      "DCG Normalizado de la  q36 :  18.59338329321885\n",
      "DCG Acumulativo de la  q37 :  5.683998491807597\n",
      "DCG Normalizado de la  q37 :  9.261859507142916\n",
      "DCG Acumulativo de la  q38 :  7.5346870654342055\n",
      "DCG Normalizado de la  q38 :  13.906929032212952\n",
      "DCG Acumulativo de la  q40 :  9.848625142018957\n",
      "DCG Normalizado de la  q40 :  19.175858425105154\n",
      "DCG Acumulativo de la  q41 :  11.655589021544928\n",
      "DCG Normalizado de la  q41 :  17.188721484425677\n",
      "DCG Acumulativo de la  q42 :  6.289064826317888\n",
      "DCG Normalizado de la  q42 :  8.261859507142916\n",
      "DCG Acumulativo de la  q44 :  9.039445096027135\n",
      "DCG Normalizado de la  q44 :  13.508989023540915\n",
      "DCG Acumulativo de la  q45 :  15.409083393150787\n",
      "DCG Normalizado de la  q45 :  16.224458397520888\n",
      "DCG Acumulativo de la  q46 :  6.103905014474716\n",
      "DCG Normalizado de la  q46 :  9.896918237758785\n"
     ]
    }
   ],
   "source": [
    "row=(mMQueries_rel2[0]).shape[0]\n",
    "col=(mMQueries_rel2[0]).shape[1]\n",
    "\n",
    " \n",
    "for i in range(len(mMQueries_rel2)):\n",
    "    print(\"DCG Acumulativo de la \",listId[i],\": \",mMQueries_rel2[i][row-1][col-1])\n",
    "    print(\"DCG Normalizado de la \",listId[i],\": \",mMQueries_relN2[i][row-1][col-1])\n",
    " "
   ]
  },
  {
   "cell_type": "code",
   "execution_count": 120,
   "metadata": {},
   "outputs": [
    {
     "name": "stdout",
     "output_type": "stream",
     "text": [
      "NDCG de la  q01 :  0.7224220871306493\n",
      "NDCG de la  q02 :  0.71506490901019\n",
      "NDCG de la  q03 :  0.6479603050207743\n",
      "NDCG de la  q04 :  0.8722281246041527\n",
      "NDCG de la  q06 :  0.9143953172405456\n",
      "NDCG de la  q07 :  0.43655236338180636\n",
      "NDCG de la  q08 :  0.8116138480982569\n",
      "NDCG de la  q09 :  0.9113812367527109\n",
      "NDCG de la  q10 :  0.6025731344441758\n",
      "NDCG de la  q12 :  0.9584155285560207\n",
      "NDCG de la  q13 :  0.7463424172887285\n",
      "NDCG de la  q14 :  0.6678693882195809\n",
      "NDCG de la  q16 :  0.6823387329841737\n",
      "NDCG de la  q17 :  0.6790302103617731\n",
      "NDCG de la  q18 :  0.9562932934181377\n",
      "NDCG de la  q19 :  0.7551681261442821\n",
      "NDCG de la  q22 :  0.4995683195144241\n",
      "NDCG de la  q23 :  0.7629714612067607\n",
      "NDCG de la  q24 :  0.24826585935654275\n",
      "NDCG de la  q25 :  0.7595077516003776\n",
      "NDCG de la  q26 :  1.0\n",
      "NDCG de la  q27 :  0.7200133503065191\n",
      "NDCG de la  q28 :  0.6746151181807907\n",
      "NDCG de la  q29 :  0.8830062325362599\n",
      "NDCG de la  q32 :  0.973635633555801\n",
      "NDCG de la  q34 :  0.16370565544521562\n",
      "NDCG de la  q36 :  0.9560056086750236\n",
      "NDCG de la  q37 :  0.6136994938677264\n",
      "NDCG de la  q38 :  0.5417937380698089\n",
      "NDCG de la  q40 :  0.5135950069971874\n",
      "NDCG de la  q41 :  0.6780951702606737\n",
      "NDCG de la  q42 :  0.7612166269446462\n",
      "NDCG de la  q44 :  0.6691429743761652\n",
      "NDCG de la  q45 :  0.949744084862969\n",
      "NDCG de la  q46 :  0.6167480490226805\n",
      "\n",
      "Average NDCG:  0.7161422616410154\n"
     ]
    }
   ],
   "source": [
    "#NDGG\n",
    "aNdgg=[]\n",
    "for i in range(len(mMQueries_rel2)):\n",
    "    ndgg=mMQueries_rel2[i][row-1][col-1]/(mMQueries_relN2[i][row-1][col-1])\n",
    "    aNdgg.append(ndgg)\n",
    "    print(\"NDCG de la \",listId[i],\": \",ndgg)\n",
    "\n",
    "print(\"\\nAverage NDCG: \",sum(aNdgg)/len(aNdgg))\n"
   ]
  },
  {
   "cell_type": "code",
   "execution_count": 121,
   "metadata": {},
   "outputs": [
    {
     "name": "stdout",
     "output_type": "stream",
     "text": [
      "Promedio P@3 0.6095238095238094\n",
      "Promedio R@3 0.33722531436817155\n",
      "Promedio P@10 0.35714285714285715\n",
      "Promedio R@10 0.35714285714285715\n"
     ]
    }
   ],
   "source": [
    "#PUNTO 3 del Taller\n",
    "#Para el taller de simulador de un motor de búsqueda, calcular P@3, R@3, P@10,\n",
    "#R@10 (promediado sobre todos los query), asi como el MAP. Crear sus propias\n",
    "#funciones e incluirlas en el Jupyter Notebook (Suben el Notebook).\n",
    "p3=[]\n",
    "r3=[]\n",
    "p10=[]\n",
    "r10=[]\n",
    "for a in mMPKR:\n",
    "    p3.append(a[2][3])\n",
    "    r3.append(a[2][2])    \n",
    "    p10.append(a[9][3])\n",
    "    r10.append(a[9][2])\n",
    "    \n",
    "print(\"Promedio P@3\",sum(p3)/len(p3))\n",
    "print(\"Promedio R@3\",sum(r3)/len(r3))\n",
    "print(\"Promedio P@10\",sum(p10)/len(p10))\n",
    "print(\"Promedio R@10\",sum(p10)/len(p10))\n"
   ]
  },
  {
   "cell_type": "code",
   "execution_count": null,
   "metadata": {},
   "outputs": [],
   "source": []
  }
 ],
 "metadata": {
  "kernelspec": {
   "display_name": "Python 3.7.0 64-bit",
   "language": "python",
   "name": "python37064bit77c32bfef69240b193135a62ae515774"
  },
  "language_info": {
   "codemirror_mode": {
    "name": "ipython",
    "version": 3
   },
   "file_extension": ".py",
   "mimetype": "text/x-python",
   "name": "python",
   "nbconvert_exporter": "python",
   "pygments_lexer": "ipython3",
   "version": "3.7.0"
  }
 },
 "nbformat": 4,
 "nbformat_minor": 2
}
