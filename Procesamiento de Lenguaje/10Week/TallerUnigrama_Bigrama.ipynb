{
 "cells": [
  {
   "cell_type": "raw",
   "metadata": {},
   "source": [
    "By:\n",
    "Juan Pablo hernández Jiménez\n",
    "Jhon Buesaquillo\n",
    "Jhoan Saavedra"
   ]
  },
  {
   "cell_type": "code",
   "execution_count": 7,
   "metadata": {},
   "outputs": [],
   "source": [
    "import operator"
   ]
  },
  {
   "cell_type": "code",
   "execution_count": 17,
   "metadata": {},
   "outputs": [
    {
     "data": {
      "text/plain": [
       "57341"
      ]
     },
     "execution_count": 17,
     "metadata": {},
     "output_type": "execute_result"
    }
   ],
   "source": [
    "#Leer documento y split por espacio en blanco\n",
    "docs= open(\"POS_Tagged_Dataset.txt\", \"r\", encoding=\"utf-8\")\n",
    "docs=docs.read().split(\"\\n\\n\")\n",
    "len(docs)"
   ]
  },
  {
   "cell_type": "code",
   "execution_count": 9,
   "metadata": {},
   "outputs": [],
   "source": [
    "#LLenar mapa unigrama\n",
    "mapaUnigrama=dict()\n",
    "for y in range(40000):    \n",
    "    oraA=docs[y].split('\\n')\n",
    "    _id=oraA[0]\n",
    "    for i in range(1,len(oraA)):\n",
    "        wordTag=oraA[i].split(\"\\t\")\n",
    "        \n",
    "        if(wordTag[0] in mapaUnigrama):\n",
    "            if(wordTag[1] in mapaUnigrama[wordTag[0]]):\n",
    "                mapaUnigrama[wordTag[0]][wordTag[1]]+=1\n",
    "            else:\n",
    "                mapaUnigrama[wordTag[0]][wordTag[1]]=1\n",
    "        else:\n",
    "            mapaUnigrama[wordTag[0]]=dict()\n",
    "            mapaUnigrama[wordTag[0]][wordTag[1]]=1"
   ]
  },
  {
   "cell_type": "code",
   "execution_count": 10,
   "metadata": {},
   "outputs": [],
   "source": [
    "#Ordenar mapa de cada palabra de mayor a menor\n",
    "indexWord=list(mapaUnigrama) \n",
    "for word in indexWord: \n",
    "    mapaUnigrama[word]=dict(sorted(mapaUnigrama[word].items(),key=operator.itemgetter(1),reverse=True))"
   ]
  },
  {
   "cell_type": "code",
   "execution_count": 11,
   "metadata": {},
   "outputs": [
    {
     "name": "stdout",
     "output_type": "stream",
     "text": [
      "Unigrama Accurancy Oraciones  0.471714434000346\n",
      "Unigrama Accurancy Tags  0.927993746772827\n",
      "Tags incorrectos  25241\n",
      "Total tags  350539\n",
      "Total oraciones 17341\n",
      "Total oraciones correctas  8180\n"
     ]
    }
   ],
   "source": [
    "totalOraciones=len(docs)-40000 \n",
    "totalOracionAcertada=0\n",
    "totalTags=0\n",
    "tagCorrectos=0\n",
    "\n",
    "for y in range(40000, len(docs)):\n",
    "    oraA=docs[y].split('\\n')\n",
    "    _id=oraA[0]\n",
    "    correctOracion=True\n",
    "    for i in range(1,len(oraA)):\n",
    "        wordTag=oraA[i].split(\"\\t\")\n",
    "        palabra=wordTag[0]\n",
    "        etiqueta=wordTag[1]\n",
    "        #Comprobamos etiqueta\n",
    "        etiquetaT=\"\" \n",
    "        if palabra in mapaUnigrama:\n",
    "            listPal=list(mapaUnigrama[palabra])\n",
    "            etiquetaT=listPal[0]\n",
    "        totalTags+=1\n",
    "            \n",
    "        if(etiquetaT==etiqueta):\n",
    "            tagCorrectos+=1\n",
    "        else:\n",
    "            if(etiquetaT!=\"\"):\n",
    "                correctOracion=False  \n",
    "    if(correctOracion):\n",
    "        totalOracionAcertada+=1\n",
    "\n",
    "print(\"Unigrama Accurancy Oraciones \", (totalOracionAcertada/totalOraciones) )   \n",
    "print(\"Unigrama Accurancy Tags \", tagCorrectos/totalTags)  \n",
    "print(\"Tags incorrectos \",totalTags-tagCorrectos)\n",
    "print(\"Total tags \",totalTags)\n",
    "print(\"Total oraciones\",totalOraciones)\n",
    "print(\"Total oraciones correctas \",totalOracionAcertada)"
   ]
  },
  {
   "cell_type": "code",
   "execution_count": 12,
   "metadata": {},
   "outputs": [],
   "source": [
    "#Bigrama\n",
    "mapaBigrama=dict()\n",
    "for y in range(40000):    \n",
    "    oraA=docs[y].split('\\n')\n",
    "    _id=oraA[0]\n",
    "    for i in range(1,len(oraA)-1):\n",
    "        wordTag=oraA[i].split(\"\\t\")\n",
    "        wordTag2=oraA[i+1].split(\"\\t\")\n",
    "        tag=wordTag[1]+\"-\"+wordTag2[1]\n",
    "        palabra=wordTag[0]+\"-\"+wordTag2[0]\n",
    "        \n",
    "        if(palabra in mapaBigrama):\n",
    "            if(tag in mapaBigrama[palabra]):\n",
    "                mapaBigrama[palabra][tag]+=1\n",
    "            else:\n",
    "                mapaBigrama[palabra][tag]=1\n",
    "        else:\n",
    "            mapaBigrama[palabra]=dict()\n",
    "            mapaBigrama[palabra][tag]=1\n"
   ]
  },
  {
   "cell_type": "code",
   "execution_count": 13,
   "metadata": {},
   "outputs": [],
   "source": [
    "#Ordenar mapa Bigrama de cada palabra de mayor a menor\n",
    "indexWord=list(mapaBigrama) \n",
    "for word in indexWord: \n",
    "    mapaBigrama[word]=dict(sorted(mapaBigrama[word].items(),key=operator.itemgetter(1),reverse=True))"
   ]
  },
  {
   "cell_type": "code",
   "execution_count": 16,
   "metadata": {},
   "outputs": [
    {
     "name": "stdout",
     "output_type": "stream",
     "text": [
      "Bigrama Accurancy Oraciones  0.6909059454472061\n",
      "Bigrama Accurancy Tags  0.6353320388116411\n"
     ]
    }
   ],
   "source": [
    "totalOraciones=len(docs)-40000 \n",
    "totalOracionAcertada=0\n",
    "totalTags=0\n",
    "tagCorrectos=0\n",
    "noPasa=0\n",
    "for y in range(40000, len(docs)):\n",
    "    oraA=docs[y].split('\\n')\n",
    "    _id=oraA[0]\n",
    "    correctOracion=True\n",
    "    for i in range(1,len(oraA)-1):\n",
    "        wordTag=oraA[i].split(\"\\t\")\n",
    "        wordTag2=oraA[i+1].split(\"\\t\")\n",
    "        etiqueta=wordTag[1]+\"-\"+wordTag2[1]\n",
    "        palabra=wordTag[0]+\"-\"+wordTag2[0]\n",
    "        \n",
    "        #Comprobamos etiqueta\n",
    "        etiquetaT=\"\" \n",
    "        if palabra in mapaBigrama:\n",
    "            listPal=list(mapaBigrama[palabra])\n",
    "            etiquetaT=listPal[0]\n",
    "        totalTags+=1\n",
    "            \n",
    "        if(etiquetaT==etiqueta):\n",
    "            tagCorrectos+=1\n",
    "        else:\n",
    "            if(etiquetaT!=\"\"):\n",
    "                \n",
    "                correctOracion=False \n",
    "    if(correctOracion==True):\n",
    "        totalOracionAcertada+=1\n",
    "\n",
    "print(\"Bigrama Accurancy Oraciones \", (totalOracionAcertada/totalOraciones) )   \n",
    "print(\"Bigrama Accurancy Tags \", tagCorrectos/totalTags)             "
   ]
  },
  {
   "cell_type": "code",
   "execution_count": null,
   "metadata": {},
   "outputs": [],
   "source": []
  }
 ],
 "metadata": {
  "kernelspec": {
   "display_name": "Python 3.7.0 64-bit",
   "language": "python",
   "name": "python37064bit77c32bfef69240b193135a62ae515774"
  },
  "language_info": {
   "codemirror_mode": {
    "name": "ipython",
    "version": 3
   },
   "file_extension": ".py",
   "mimetype": "text/x-python",
   "name": "python",
   "nbconvert_exporter": "python",
   "pygments_lexer": "ipython3",
   "version": "3.7.0"
  }
 },
 "nbformat": 4,
 "nbformat_minor": 2
}
