{
 "cells": [
  {
   "cell_type": "code",
   "execution_count": 4,
   "metadata": {},
   "outputs": [],
   "source": [
    "import numpy as np \n",
    "import pandas as pd \n",
    "import re\n",
    "import nltk \n",
    "from nltk.corpus import stopwords\n",
    "import matplotlib.pyplot as plt\n",
    "from sklearn.feature_extraction.text import TfidfVectorizer\n",
    "from sklearn.model_selection import train_test_split\n",
    "from sklearn.naive_bayes import GaussianNB\n",
    "from sklearn.ensemble import RandomForestClassifier\n",
    "from sklearn.metrics import classification_report, confusion_matrix, accuracy_score\n",
    "\n",
    "from sklearn.tree import DecisionTreeClassifier\n",
    "#from texblob import TextBlob\n",
    "from nltk.stem import WordNetLemmatizer \n",
    "from nltk.corpus import wordnet as wn\n",
    "from nltk.corpus import sentiwordnet as swn\n",
    "from nltk import sent_tokenize, word_tokenize, pos_tag\n",
    "\n",
    "%matplotlib inline"
   ]
  },
  {
   "cell_type": "code",
   "execution_count": 147,
   "metadata": {},
   "outputs": [
    {
     "name": "stderr",
     "output_type": "stream",
     "text": [
      "[nltk_data] Downloading package punkt to\n",
      "[nltk_data]     C:\\Users\\ASUS\\AppData\\Roaming\\nltk_data...\n",
      "[nltk_data]   Package punkt is already up-to-date!\n",
      "[nltk_data] Downloading package averaged_perceptron_tagger to\n",
      "[nltk_data]     C:\\Users\\ASUS\\AppData\\Roaming\\nltk_data...\n",
      "[nltk_data]   Package averaged_perceptron_tagger is already up-to-\n",
      "[nltk_data]       date!\n",
      "[nltk_data] Downloading package wordnet to\n",
      "[nltk_data]     C:\\Users\\ASUS\\AppData\\Roaming\\nltk_data...\n",
      "[nltk_data]   Package wordnet is already up-to-date!\n",
      "[nltk_data] Downloading package sentiwordnet to\n",
      "[nltk_data]     C:\\Users\\ASUS\\AppData\\Roaming\\nltk_data...\n",
      "[nltk_data]   Package sentiwordnet is already up-to-date!\n"
     ]
    },
    {
     "data": {
      "text/plain": [
       "True"
      ]
     },
     "execution_count": 147,
     "metadata": {},
     "output_type": "execute_result"
    }
   ],
   "source": [
    "nltk.download('punkt')\n",
    "nltk.download('averaged_perceptron_tagger')\n",
    "nltk.download('wordnet')\n",
    "nltk.download('sentiwordnet')"
   ]
  },
  {
   "cell_type": "code",
   "execution_count": 13,
   "metadata": {},
   "outputs": [],
   "source": [
    "##Vamos a utlizar un dataset de tweets sobre aerolíneas que fueron manualmente anotados con su sentimiento/polaridad\n",
    "tweets = pd.read_csv(\"Tweets.csv\")"
   ]
  },
  {
   "cell_type": "code",
   "execution_count": 19,
   "metadata": {},
   "outputs": [],
   "source": [
    "#Retorna ScoreP y ScoreN\n",
    "def sentiwordnet(text):\n",
    "    wnl = nltk.WordNetLemmatizer()\n",
    "    stoken=nltk.word_tokenize(text)\n",
    "    tag=nltk.pos_tag(stoken)\n",
    "    scoreP=0\n",
    "    scoreN=0\n",
    "    for t in tag:\n",
    "        newtag=''\n",
    "        lemmatized=wnl.lemmatize(t[0])\n",
    "        dt=[]\n",
    "        if t[1].startswith('NN'):\n",
    "            newtag='n'\n",
    "        elif t[1].startswith('JJ'):\n",
    "            newtag='a'\n",
    "        elif t[1].startswith('V'):\n",
    "            newtag='v'\n",
    "        elif t[1].startswith('R'):\n",
    "            newtag='r'\n",
    "        if(newtag!=''):\n",
    "            synset=list(swn.senti_synsets(lemmatized,newtag))\n",
    "            #Promedio de todos los posibles sentimientos\n",
    "            if(len(synset)>0):   \n",
    "                scorep=0\n",
    "                scoren=0\n",
    "                for dt in (list(swn.senti_synsets(lemmatized,newtag))):\n",
    "                    scorep+=dt.pos_score()\n",
    "                    scoren+=dt.neg_score()\n",
    "                    break;\n",
    "                scoreP+=scorep/len(synset)\n",
    "                scoreN+=scoren/len(synset)\n",
    "    return scoreP,scoreN\n",
    "    \n",
    "\n",
    "#Uso de dos lexicones, Affin y SentiworNet\n",
    "def lexicones(arrTextProccesing):\n",
    "    #Init Afinn\n",
    "    fileNameAFINN=\"AFINN/AFINN-111.txt\" \n",
    "    afinn= dict(map(lambda ws: (ws[0], int(ws[1])), [ \n",
    "            ws.strip().split('\\t') for ws in open(fileNameAFINN) ]))\n",
    "    #End Afinn    \n",
    "    \n",
    "    array=[]\n",
    "    for txt in arrTextProccesing:\n",
    "        scoreAfinn=sum(map(lambda word: afinn.get(word, 0), txt.split()))\n",
    "        sentScoreP,sentScoreN=sentiwordnet(txt)\n",
    "        array.append([scoreAfinn,sentScoreP,sentScoreN])\n",
    "    \n",
    "    return np.array(array)\n",
    "   "
   ]
  },
  {
   "cell_type": "code",
   "execution_count": 20,
   "metadata": {},
   "outputs": [],
   "source": [
    "def processing_text(texto): \n",
    "    # Remove all the special characters\n",
    "    processed_feature=texto\n",
    "    processed_feature = re.sub(r'\\W', ' ', str(processed_feature))\n",
    "    # remove all single characters\n",
    "    processed_feature= re.sub(r'\\s+[a-zA-Z]\\s+', ' ', processed_feature)\n",
    "    # Remove single characters from the start\n",
    "    processed_feature = re.sub(r'\\^[a-zA-Z]\\s+', ' ', processed_feature) \n",
    "    # Removing prefixed 'b'\n",
    "    processed_feature = re.sub(r'^b\\s+', '', processed_feature)\n",
    "    # Converting to Lowercase\n",
    "    return processed_feature"
   ]
  },
  {
   "cell_type": "code",
   "execution_count": 21,
   "metadata": {},
   "outputs": [],
   "source": [
    "\n",
    "def naiveBayes(X_train,X_test,y_train,y_test):\n",
    "    gnb = GaussianNB()\n",
    "    gnb.fit(X_train, y_train)\n",
    "    predictions = gnb.predict(X_test)\n",
    "    print(confusion_matrix(y_test,predictions))\n",
    "    print(classification_report(y_test,predictions))\n",
    "    print(accuracy_score(y_test, predictions))\n",
    "\n",
    "def arboleDeDesicion(X_train,X_test,y_train,y_test):\n",
    "    cart = DecisionTreeClassifier(criterion = \"entropy\", random_state = 100, max_depth=3, min_samples_leaf=5)\n",
    "    cart.fit(X_train, y_train)\n",
    "    predictions = cart.predict(X_test)    \n",
    "    print(confusion_matrix(y_test,predictions))\n",
    "    print(classification_report(y_test,predictions))\n",
    "    print(accuracy_score(y_test, predictions))\n",
    "\n",
    "def randomArbol(X_train,X_test,y_train,y_test):\n",
    "    rfc = RandomForestClassifier(n_estimators=200, random_state=0,n_jobs=-1)\n",
    "    rfc.fit(X_train, y_train)\n",
    "    predictions = rfc.predict(X_test)\n",
    "\n",
    "    print(confusion_matrix(y_test,predictions))\n",
    "    print(classification_report(y_test,predictions))\n",
    "    print(accuracy_score(y_test, predictions))\n",
    "    \n",
    "def entrenamientoyPrueba(features,labels):    \n",
    "    X_train, X_test, y_train, y_test = train_test_split(features, labels, test_size=0.2, random_state=0)\n",
    "    print(\"\\n\",\"Naive Bayes\",\"\\n\")\n",
    "    naiveBayes(X_train, X_test, y_train, y_test)\n",
    "    print(\"\\n\",\"Arbol de desición\",\"\\n\")\n",
    "    arboleDeDesicion(X_train,X_test,y_train,y_test)\n",
    "    print(\"\\n\",\"Random Arbol\",\"\\n\")\n",
    "    randomArbol(X_train, X_test, y_train, y_test)"
   ]
  },
  {
   "cell_type": "code",
   "execution_count": null,
   "metadata": {},
   "outputs": [],
   "source": [
    "texto_para_procesar = tweets.iloc[:, 10].values #selecciona los textos\n",
    "labels = tweets.iloc[:, 1].values\n",
    "\n",
    "texto_procesado = [] \n",
    "\n",
    "for sentence in range(0, len(texto_para_procesar)):\n",
    "    procesado = processing_text(texto_para_procesar[sentence]).lower()\n",
    "    texto_procesado.append(procesado) \n",
    "\n",
    "print(texto_para_procesar[1:5])\n",
    "print(texto_procesado[1:5])"
   ]
  },
  {
   "cell_type": "code",
   "execution_count": 10,
   "metadata": {},
   "outputs": [],
   "source": [
    "vectorizer = TfidfVectorizer (max_features=2500, min_df=7, max_df=0.8, stop_words=stopwords.words('english'))\n",
    "features = vectorizer.fit_transform(texto_procesado).toarray()"
   ]
  },
  {
   "cell_type": "code",
   "execution_count": 11,
   "metadata": {},
   "outputs": [],
   "source": [
    "lexicones=lexicones(texto_procesado) "
   ]
  },
  {
   "cell_type": "code",
   "execution_count": 57,
   "metadata": {},
   "outputs": [],
   "source": [
    "#Probar concatenación con lexicones\n",
    "concat=np.concatenate((features,lexicones),axis=1)"
   ]
  },
  {
   "cell_type": "code",
   "execution_count": 58,
   "metadata": {},
   "outputs": [
    {
     "name": "stdout",
     "output_type": "stream",
     "text": [
      "\n",
      " Naive Bayes \n",
      "\n",
      "[[703 488 679]\n",
      " [ 69 244 301]\n",
      " [ 31  59 354]]\n",
      "              precision    recall  f1-score   support\n",
      "\n",
      "    negative       0.88      0.38      0.53      1870\n",
      "     neutral       0.31      0.40      0.35       614\n",
      "    positive       0.27      0.80      0.40       444\n",
      "\n",
      "    accuracy                           0.44      2928\n",
      "   macro avg       0.48      0.52      0.42      2928\n",
      "weighted avg       0.66      0.44      0.47      2928\n",
      "\n",
      "0.4443306010928962\n",
      "\n",
      " Arbol de desición \n",
      "\n",
      "[[1537  160  173]\n",
      " [ 279  210  125]\n",
      " [ 117   44  283]]\n",
      "              precision    recall  f1-score   support\n",
      "\n",
      "    negative       0.80      0.82      0.81      1870\n",
      "     neutral       0.51      0.34      0.41       614\n",
      "    positive       0.49      0.64      0.55       444\n",
      "\n",
      "    accuracy                           0.69      2928\n",
      "   macro avg       0.60      0.60      0.59      2928\n",
      "weighted avg       0.69      0.69      0.69      2928\n",
      "\n",
      "0.6933060109289617\n",
      "\n",
      " Random Arbol \n",
      "\n",
      "[[1736   96   38]\n",
      " [ 291  272   51]\n",
      " [ 127   54  263]]\n",
      "              precision    recall  f1-score   support\n",
      "\n",
      "    negative       0.81      0.93      0.86      1870\n",
      "     neutral       0.64      0.44      0.53       614\n",
      "    positive       0.75      0.59      0.66       444\n",
      "\n",
      "    accuracy                           0.78      2928\n",
      "   macro avg       0.73      0.65      0.68      2928\n",
      "weighted avg       0.76      0.78      0.76      2928\n",
      "\n",
      "0.7756147540983607\n"
     ]
    }
   ],
   "source": [
    "#Mostrar con concatenación\n",
    "entrenamientoyPrueba(concat,labels)"
   ]
  },
  {
   "cell_type": "code",
   "execution_count": 59,
   "metadata": {},
   "outputs": [
    {
     "name": "stdout",
     "output_type": "stream",
     "text": [
      "[[0.         0.01136364 0.        ]\n",
      " [0.         0.         0.        ]\n",
      " [0.         0.38690476 0.41369048]\n",
      " ...\n",
      " [1.         0.04545455 0.06818182]\n",
      " [2.         0.36566938 0.45195131]\n",
      " [0.         0.56689108 0.39761992]]\n",
      "\n",
      " Naive Bayes \n",
      "\n",
      "[[1346  419  105]\n",
      " [ 174  385   55]\n",
      " [  96  165  183]]\n",
      "              precision    recall  f1-score   support\n",
      "\n",
      "    negative       0.83      0.72      0.77      1870\n",
      "     neutral       0.40      0.63      0.49       614\n",
      "    positive       0.53      0.41      0.47       444\n",
      "\n",
      "    accuracy                           0.65      2928\n",
      "   macro avg       0.59      0.59      0.57      2928\n",
      "weighted avg       0.70      0.65      0.67      2928\n",
      "\n",
      "0.6536885245901639\n",
      "\n",
      " Arbol de desición \n",
      "\n",
      "[[1537  160  173]\n",
      " [ 279  210  125]\n",
      " [ 117   44  283]]\n",
      "              precision    recall  f1-score   support\n",
      "\n",
      "    negative       0.80      0.82      0.81      1870\n",
      "     neutral       0.51      0.34      0.41       614\n",
      "    positive       0.49      0.64      0.55       444\n",
      "\n",
      "    accuracy                           0.69      2928\n",
      "   macro avg       0.60      0.60      0.59      2928\n",
      "weighted avg       0.69      0.69      0.69      2928\n",
      "\n",
      "0.6933060109289617\n",
      "\n",
      " Random Arbol \n",
      "\n",
      "[[1563  196  111]\n",
      " [ 310  230   74]\n",
      " [ 154   65  225]]\n",
      "              precision    recall  f1-score   support\n",
      "\n",
      "    negative       0.77      0.84      0.80      1870\n",
      "     neutral       0.47      0.37      0.42       614\n",
      "    positive       0.55      0.51      0.53       444\n",
      "\n",
      "    accuracy                           0.69      2928\n",
      "   macro avg       0.60      0.57      0.58      2928\n",
      "weighted avg       0.67      0.69      0.68      2928\n",
      "\n",
      "0.6892076502732241\n"
     ]
    }
   ],
   "source": [
    "#Mostrar solo con lexicones\n",
    "print(lexicones)\n",
    "entrenamientoyPrueba(lexicones,labels)"
   ]
  },
  {
   "cell_type": "code",
   "execution_count": null,
   "metadata": {},
   "outputs": [],
   "source": []
  },
  {
   "cell_type": "code",
   "execution_count": 6,
   "metadata": {},
   "outputs": [],
   "source": [
    "text=\"😁 Hola mundo cómo vás . dfkj as 🤐🙃🌤️💕\" "
   ]
  },
  {
   "cell_type": "code",
   "execution_count": 7,
   "metadata": {},
   "outputs": [],
   "source": [
    "import emoji\n",
    "\n",
    "def extract_emojis(str):\n",
    "    return ' '.join(c for c in str if c in emoji.UNICODE_EMOJI)"
   ]
  },
  {
   "cell_type": "code",
   "execution_count": 12,
   "metadata": {},
   "outputs": [
    {
     "name": "stdout",
     "output_type": "stream",
     "text": [
      "😁 🤐 🙃 🌤 💕\n",
      "  Hola mundo cómo vás   dfkj as      \n"
     ]
    },
    {
     "data": {
      "text/plain": [
       "['Hola', 'mundo', 'cómo', 'vás', 'dfkj', 'as', '😁', '🤐', '🙃', '🌤', '💕']"
      ]
     },
     "execution_count": 12,
     "metadata": {},
     "output_type": "execute_result"
    }
   ],
   "source": [
    "emojis=extract_emojis(text)\n",
    "texPro=processing_text(text)\n",
    "print(emojis)\n",
    "print(texPro)\n",
    "texPro+=emojis\n",
    "nltk.word_tokenize(texPro)\n"
   ]
  }
 ],
 "metadata": {
  "kernelspec": {
   "display_name": "Python 3.7.0 64-bit",
   "language": "python",
   "name": "python37064bit77c32bfef69240b193135a62ae515774"
  },
  "language_info": {
   "codemirror_mode": {
    "name": "ipython",
    "version": 3
   },
   "file_extension": ".py",
   "mimetype": "text/x-python",
   "name": "python",
   "nbconvert_exporter": "python",
   "pygments_lexer": "ipython3",
   "version": "3.7.0"
  }
 },
 "nbformat": 4,
 "nbformat_minor": 2
}
