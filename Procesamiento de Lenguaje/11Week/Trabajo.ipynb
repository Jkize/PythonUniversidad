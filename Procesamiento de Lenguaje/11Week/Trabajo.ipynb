{
 "cells": [
  {
   "cell_type": "code",
   "execution_count": null,
   "metadata": {},
   "outputs": [],
   "source": [
    "#Instalar librerias\n",
    "!pip install vaderSentiment\n",
    "!pip install emosent-py\n",
    "!pip install emoji\n",
    "!pip install textblob"
   ]
  },
  {
   "cell_type": "code",
   "execution_count": null,
   "metadata": {},
   "outputs": [],
   "source": [
    "#Nltk extras\n",
    "nltk.download('punkt')\n",
    "nltk.download('averaged_perceptron_tagger')\n",
    "nltk.download('wordnet')\n",
    "nltk.download('sentiwordnet')"
   ]
  },
  {
   "cell_type": "code",
   "execution_count": 40,
   "metadata": {},
   "outputs": [],
   "source": [
    "import numpy as np \n",
    "import pandas as pd \n",
    "import re\n",
    "import nltk \n",
    "from nltk.corpus import stopwords\n",
    "import matplotlib.pyplot as plt\n",
    "from sklearn.feature_extraction.text import TfidfVectorizer\n",
    "from sklearn.model_selection import train_test_split\n",
    "from sklearn.naive_bayes import GaussianNB\n",
    "from sklearn.ensemble import RandomForestClassifier\n",
    "from sklearn.metrics import classification_report, confusion_matrix, accuracy_score\n",
    "\n",
    "from sklearn.tree import DecisionTreeClassifier\n",
    "\n",
    "import emoji\n",
    "\n",
    "#Lexicones\n",
    "from emosent import get_emoji_sentiment_rank #Emotion\n",
    "from nltk.stem import WordNetLemmatizer \n",
    "from nltk.corpus import wordnet as wn\n",
    "from nltk.corpus import sentiwordnet as swn\n",
    "import textblob as txb\n",
    "from nltk import sent_tokenize, word_tokenize, pos_tag\n",
    "from vaderSentiment.vaderSentiment import SentimentIntensityAnalyzer\n",
    "%matplotlib inline"
   ]
  },
  {
   "cell_type": "code",
   "execution_count": 41,
   "metadata": {},
   "outputs": [],
   "source": [
    "##Vamos a utlizar un dataset de tweets sobre aerolíneas que fueron manualmente anotados con su sentimiento/polaridad\n",
    "#Y Concatenar con los 1500 tweets que tenemos\n",
    "tweets = pd.read_csv(\"Data/Tweets.csv\")[['text','airline_sentiment']]\n",
    "tweets=tweets.rename(columns={'airline_sentiment':'sentiment'}) \n",
    "for i in range(3):\n",
    "    path='Data/Tweets{}.csv'.format(i+1)\n",
    "    tweets=pd.concat([tweets,pd.read_csv(path)[['text','sentiment']]],ignore_index=True)\n",
    "\n",
    "    \n",
    "#Extraer 10k de tweets, textos para su posterior predicción\n",
    "tweets10k=pd.read_csv('Data/Tweets23K.csv')['text']"
   ]
  },
  {
   "cell_type": "code",
   "execution_count": 42,
   "metadata": {},
   "outputs": [],
   "source": [
    "#Variables Globales Lexicones\n",
    "\n",
    "#Init Afinn\n",
    "fileNameAFINN=\"Data/AFINN/AFINN-111.txt\" \n",
    "afinn= dict(map(lambda ws: (ws[0], int(ws[1])), [ \n",
    "            ws.strip().split('\\t') for ws in open(fileNameAFINN) ]))\n",
    "#End Afinn\n",
    "analyser = SentimentIntensityAnalyzer() #Cargar lexicon"
   ]
  },
  {
   "cell_type": "code",
   "execution_count": 43,
   "metadata": {},
   "outputs": [],
   "source": [
    "\n",
    "#Retorna ScoreP y ScoreN\n",
    "def sentiwordnet(text):\n",
    "    wnl = nltk.WordNetLemmatizer()\n",
    "    stoken=nltk.word_tokenize(text)\n",
    "    tag=nltk.pos_tag(stoken)\n",
    "    scoreP=0\n",
    "    scoreN=0\n",
    "    for t in tag:\n",
    "        newtag=''\n",
    "        lemmatized=wnl.lemmatize(t[0])\n",
    "        dt=[]\n",
    "        if t[1].startswith('NN'):\n",
    "            newtag='n'\n",
    "        elif t[1].startswith('JJ'):\n",
    "            newtag='a'\n",
    "        elif t[1].startswith('V'):\n",
    "            newtag='v'\n",
    "        elif t[1].startswith('R'):\n",
    "            newtag='r'\n",
    "        if(newtag!=''):\n",
    "            synset=list(swn.senti_synsets(lemmatized,newtag))\n",
    "            #Promedio de todos los posibles sentimientos\n",
    "            if(len(synset)>0):   \n",
    "                scorep=0\n",
    "                scoren=0\n",
    "                for dt in synset:\n",
    "                    scorep+=dt.pos_score()\n",
    "                    scoren+=dt.neg_score() \n",
    "                scoreP+=scorep/len(synset)#Suma de promedios positivos \n",
    "                scoreN+=scoren/len(synset)#Suma de promedios negativos\n",
    "    return scoreP,scoreN\n",
    "\n",
    "\n",
    "def extract_emojisArr(str):\n",
    "    return ' '.join(c for c in str if c in emoji.UNICODE_EMOJI).split(\" \")\n",
    "    \n",
    "def emojiLexicon(txt):\n",
    "    vec=extract_emojisArr(txt)\n",
    "    i=0\n",
    "    sum=0\n",
    "    for value in vec:\n",
    "        sum+=get_emoji_sentiment_rank(value)['sentiment_score']\n",
    "        i+=1\n",
    "    if(sum==0):\n",
    "        return 0.0\n",
    "    return sum/i\n",
    "\n",
    "def sentiment_analyzer_scores(sentence):\n",
    "    global analyser\n",
    "    score = analyser.polarity_scores(sentence)\n",
    "    return score['neg'],score['pos'],score['neu'] \n",
    "    \n",
    "#Retorna arreglo de lexicones, Affin, SentiworNet, Textblob, vanderSentiment\n",
    "def lexicones(arrTextProccesing):\n",
    "    global afinn    \n",
    "    \n",
    "    array=[]\n",
    "    for txt in arrTextProccesing:\n",
    "        scoreAfinn=sum(map(lambda word: afinn.get(word, 0), txt.split()))\n",
    "        sentScoreP,sentScoreN=sentiwordnet(txt) \n",
    "        scoreTxblob=txb.TextBlob(txt).sentiment.polarity\n",
    "        sasN,sasP,sasNeu=sentiment_analyzer_scores(txt)\n",
    "        array.append([scoreAfinn,sentScoreP,sentScoreN,scoreTxblob,sasN,sasP,sasNeu,emojiLexicon(txt)])\n",
    "    \n",
    "    return np.array(array)\n",
    "   "
   ]
  },
  {
   "cell_type": "code",
   "execution_count": 44,
   "metadata": {},
   "outputs": [],
   "source": [
    "def extract_emojis(str):\n",
    "    return ' '.join(c for c in str if c in emoji.UNICODE_EMOJI)\n",
    "\n",
    "def processing_text(text,removeEmoticon=False,removeUserHastag=False):     \n",
    "    #Pasarlo a minuscula\n",
    "    newT=text.lower()\n",
    "    #Eliminar links\n",
    "    newT=re.sub(\"(\\w+:\\/\\/\\S+)\",' ',newT)\n",
    "    #Extraer emojis\n",
    "    emojis=extract_emojis(newT)    \n",
    "    if(removeUserHastag):\n",
    "        newT=re.sub(\"(#[A-Za-z0-9]+)|(@[A-Za-z0-9]+)\",\" \",newT)\n",
    "    \n",
    "    #Eliminar puntos, comas, caracteres especiales ... \n",
    "    newT= re.sub(r'\\W', ' ', newT)     \n",
    "    if not removeEmoticon:\n",
    "        newT=newT+\" \"+emojis #Concateno los Emojis\n",
    "    return newT"
   ]
  },
  {
   "cell_type": "code",
   "execution_count": 75,
   "metadata": {},
   "outputs": [],
   "source": [
    "#Imprimirá los porcentajes de la predicción de  los 10k  de tweets\n",
    "def predictTweets(varP,features_prueba):\n",
    "    print(\"Ahora con los 10K de Tweets:\")\n",
    "    predictions=varP.predict(features_prueba)\n",
    "    data=pd.DataFrame(data={'sentiment':predictions})\n",
    "    data['frecuencia']=1 \n",
    "    va=data.groupby(['sentiment']).sum()   \n",
    "    total=sum(va[\"frecuencia\"])  \n",
    "    indexs=[\"negative\",\"neutral\",\"positive\"]\n",
    "    for i  in indexs:\n",
    "        try:\n",
    "            print(\"{:8}: {:.2f}% equivale a {:4} tweets\".format(i, 100*va['frecuencia'][i]/total,va['frecuencia'][i] ))\n",
    "        except:\n",
    "            print(\"{:8}: {:.2f}% equivale a {:4} tweets\".format(i, 0,0 ))\n",
    "            pass\n",
    "\n",
    "\n",
    "def naiveBayes(X_train,X_test,y_train,y_test):\n",
    "    gnb = GaussianNB()\n",
    "    gnb.fit(X_train, y_train) \n",
    "    predictions = gnb.predict(X_test) \n",
    "    print(\"Accurancy:\",accuracy_score(y_test, predictions))    \n",
    "    return gnb\n",
    "\n",
    "def arboleDeDesicion(X_train,X_test,y_train,y_test):\n",
    "    cart = DecisionTreeClassifier(criterion = \"entropy\", random_state = 100, max_depth=3, min_samples_leaf=5)\n",
    "    cart.fit(X_train, y_train)\n",
    "    predictions = cart.predict(X_test)    \n",
    "    print(\"Accurancy:\",accuracy_score(y_test, predictions))\n",
    "    return cart\n",
    "\n",
    "def randomArbol(X_train,X_test,y_train,y_test):\n",
    "    rfc = RandomForestClassifier(n_estimators=200, random_state=0,n_jobs=-1)\n",
    "    rfc.fit(X_train, y_train)\n",
    "    predictions = rfc.predict(X_test)\n",
    "    print(\"Accurancy:\",accuracy_score(y_test, predictions))\n",
    "    return rfc\n",
    "    \n",
    "def entrenamientoyPrueba(features,labels,features_prueba):    \n",
    "    X_train, X_test, y_train, y_test = train_test_split(features, labels, test_size=0.2, random_state=0)\n",
    "    \n",
    "    print(\"\\n\",\"Naive Bayes\",\"\\n\")\n",
    "    nB=naiveBayes(X_train, X_test, y_train, y_test )\n",
    "    predictTweets(nB,features_prueba)\n",
    "    \n",
    "    print(\"\\n\",\"Arbol de desición\",\"\\n\")\n",
    "    aD=arboleDeDesicion(X_train,X_test,y_train,y_test )\n",
    "    predictTweets(aD,features_prueba)\n",
    "    \n",
    "    print(\"\\n\",\"Random Arbol\",\"\\n\")\n",
    "    rA=randomArbol(X_train, X_test, y_train, y_test )\n",
    "    predictTweets(rA,features_prueba)"
   ]
  },
  {
   "cell_type": "code",
   "execution_count": 46,
   "metadata": {},
   "outputs": [],
   "source": [
    "#\n",
    "labels = tweets['sentiment'].values\n",
    "\n",
    "texto_para_procesar=tweets['text'].values #Entrenamiento y prueba\n",
    "texto_predecir=tweets10k.values[:10000]   #Para predecir los 10K de Tweets\n",
    "\n",
    "#Texto con emojis y hastag-username\n",
    "texto_procesado=[]  \n",
    "texto_predecir_procesado=[]  \n",
    "\n",
    "#Sin emojis\n",
    "texto_procesado_sin_emoji=[] \n",
    "texto_predecir_sin_emoji=[]   \n",
    "\n",
    "#Sin hastag-username\n",
    "texto_procesado_sin_has_user=[]  \n",
    "texto_predecir_sin_has_user=[]   \n",
    "\n",
    "for txt in texto_para_procesar:\n",
    "    texto_procesado.append(processing_text(txt))\n",
    "    texto_procesado_sin_emoji.append(processing_text(txt,removeEmoticon=True))\n",
    "    texto_procesado_sin_has_user.append(processing_text(txt,removeUserHastag=True))\n",
    "\n",
    "for txt in texto_predecir:\n",
    "    texto_predecir_procesado.append(processing_text(txt))\n",
    "    texto_predecir_sin_emoji.append(processing_text(txt,removeEmoticon=True))\n",
    "    texto_predecir_sin_has_user.append(processing_text(txt,removeUserHastag=True))  "
   ]
  },
  {
   "cell_type": "code",
   "execution_count": 47,
   "metadata": {},
   "outputs": [],
   "source": [
    "#Lexicones con emoji y hatag-username\n",
    "lexicon_procesado=lexicones(texto_procesado)\n",
    "lexicon_predecir_procesado=lexicones(texto_predecir_procesado)"
   ]
  },
  {
   "cell_type": "code",
   "execution_count": 48,
   "metadata": {},
   "outputs": [],
   "source": [
    "#Lexicones sin emoji\n",
    "lexicon_procesado_sin_emoji=lexicones(texto_procesado_sin_emoji)\n",
    "lexicon_predecir_sin_emoji=lexicones(texto_predecir_sin_emoji)"
   ]
  },
  {
   "cell_type": "code",
   "execution_count": 49,
   "metadata": {},
   "outputs": [],
   "source": [
    "#Lexicones sin hastag-username\n",
    "lexicon_procesado_sin_has_user=lexicones(texto_procesado_sin_has_user)\n",
    "lexicon_predecir_sin_has_user=lexicones(texto_predecir_sin_has_user)"
   ]
  },
  {
   "cell_type": "markdown",
   "metadata": {},
   "source": [
    "<h2>1. Metodo: Vector TfIdf </h2>\n",
    "<h4># Sin stop words, con emoji y con hastag-username</h4>\n",
    "<h4># Con stop words, con emoji y con hastag-username</h4>\n",
    "<h4># Sin stop words, sin emoji y con hastag-username</h4>\n",
    "<h4># Sin stop words, con emoji y sin hastag-username</h4>"
   ]
  },
  {
   "cell_type": "code",
   "execution_count": 76,
   "metadata": {},
   "outputs": [],
   "source": [
    "#Sacar los featurers con las posibles combinaciones\n",
    "vectorizer = TfidfVectorizer (max_features=2500, min_df=7, max_df=0.8, stop_words=stopwords.words('english'))\n",
    "vectorizer_con_stopwords=TfidfVectorizer (max_features=2500, min_df=7, max_df=0.8)\n",
    "\n",
    "features = vectorizer.fit_transform(texto_procesado).toarray()\n",
    "features_predecir=vectorizer.transform(texto_predecir_procesado).toarray()\n",
    "\n",
    "features_con_stop_words=vectorizer_con_stopwords.fit_transform(texto_procesado).toarray()\n",
    "features_predecir_con_stop_words=vectorizer_con_stopwords.transform(texto_predecir_procesado).toarray()\n",
    "\n",
    "features_sin_emoji=vectorizer.fit_transform(texto_procesado_sin_emoji).toarray()\n",
    "features_predecir_sin_emoji=vectorizer.transform(texto_predecir_sin_emoji).toarray()\n",
    "\n",
    "features_procesado_sin_has_user=vectorizer.fit_transform(texto_procesado_sin_has_user).toarray()\n",
    "features_predecir_sin_has_user=vectorizer.transform(texto_predecir_sin_has_user).toarray()"
   ]
  },
  {
   "cell_type": "code",
   "execution_count": 77,
   "metadata": {},
   "outputs": [
    {
     "name": "stdout",
     "output_type": "stream",
     "text": [
      "\n",
      " \u001b[1mSin stop words, con emoji y con hastag-username\u001b[0m\n",
      "\n",
      " Naive Bayes \n",
      "\n",
      "Accurancy: 0.36957868649318465\n",
      "Ahora con los 10K de Tweets:\n",
      "negative: 8.26% equivale a  826 tweets\n",
      "neutral : 24.84% equivale a 2484 tweets\n",
      "positive: 66.90% equivale a 6690 tweets\n",
      "\n",
      " Arbol de desición \n",
      "\n",
      "Accurancy: 0.6285625774473358\n",
      "Ahora con los 10K de Tweets:\n",
      "negative: 98.03% equivale a 9803 tweets\n",
      "neutral : 0.00% equivale a    0 tweets\n",
      "positive: 1.97% equivale a  197 tweets\n",
      "\n",
      " Random Arbol \n",
      "\n",
      "Accurancy: 0.7224287484510533\n",
      "Ahora con los 10K de Tweets:\n",
      "negative: 13.12% equivale a 1312 tweets\n",
      "neutral : 81.91% equivale a 8191 tweets\n",
      "positive: 4.97% equivale a  497 tweets\n",
      "\n",
      " \u001b[1mCon stop words, con emoji y con hastag-username\u001b[0m\n",
      "\n",
      " Naive Bayes \n",
      "\n",
      "Accurancy: 0.37267657992565056\n",
      "Ahora con los 10K de Tweets:\n",
      "negative: 9.98% equivale a  998 tweets\n",
      "neutral : 27.05% equivale a 2705 tweets\n",
      "positive: 62.97% equivale a 6297 tweets\n",
      "\n",
      " Arbol de desición \n",
      "\n",
      "Accurancy: 0.6335192069392813\n",
      "Ahora con los 10K de Tweets:\n",
      "negative: 98.89% equivale a 9889 tweets\n",
      "neutral : 0.00% equivale a    0 tweets\n",
      "positive: 1.11% equivale a  111 tweets\n",
      "\n",
      " Random Arbol \n",
      "\n",
      "Accurancy: 0.7280049566294919\n",
      "Ahora con los 10K de Tweets:\n",
      "negative: 31.23% equivale a 3123 tweets\n",
      "neutral : 66.13% equivale a 6613 tweets\n",
      "positive: 2.64% equivale a  264 tweets\n",
      "\n",
      " \u001b[1mSin stop words, sin emoji y con hastag-username\u001b[0m\n",
      "\n",
      " Naive Bayes \n",
      "\n",
      "Accurancy: 0.36957868649318465\n",
      "Ahora con los 10K de Tweets:\n",
      "negative: 8.26% equivale a  826 tweets\n",
      "neutral : 24.84% equivale a 2484 tweets\n",
      "positive: 66.90% equivale a 6690 tweets\n",
      "\n",
      " Arbol de desición \n",
      "\n",
      "Accurancy: 0.6285625774473358\n",
      "Ahora con los 10K de Tweets:\n",
      "negative: 98.03% equivale a 9803 tweets\n",
      "neutral : 0.00% equivale a    0 tweets\n",
      "positive: 1.97% equivale a  197 tweets\n",
      "\n",
      " Random Arbol \n",
      "\n",
      "Accurancy: 0.7224287484510533\n",
      "Ahora con los 10K de Tweets:\n",
      "negative: 13.12% equivale a 1312 tweets\n",
      "neutral : 81.91% equivale a 8191 tweets\n",
      "positive: 4.97% equivale a  497 tweets\n",
      "\n",
      " \u001b[1mSin stop words, con emoji y sin hastag-username\u001b[0m\n",
      "\n",
      " Naive Bayes \n",
      "\n",
      "Accurancy: 0.3630731102850062\n",
      "Ahora con los 10K de Tweets:\n",
      "negative: 8.09% equivale a  809 tweets\n",
      "neutral : 24.62% equivale a 2462 tweets\n",
      "positive: 67.29% equivale a 6729 tweets\n",
      "\n",
      " Arbol de desición \n",
      "\n",
      "Accurancy: 0.6304213135068154\n",
      "Ahora con los 10K de Tweets:\n",
      "negative: 98.03% equivale a 9803 tweets\n",
      "neutral : 0.00% equivale a    0 tweets\n",
      "positive: 1.97% equivale a  197 tweets\n",
      "\n",
      " Random Arbol \n",
      "\n",
      "Accurancy: 0.7214993804213135\n",
      "Ahora con los 10K de Tweets:\n",
      "negative: 19.81% equivale a 1981 tweets\n",
      "neutral : 75.27% equivale a 7527 tweets\n",
      "positive: 4.92% equivale a  492 tweets\n"
     ]
    }
   ],
   "source": [
    "print(\"\\n\",'\\033[1m' +\"Sin stop words, con emoji y con hastag-username\" + '\\033[0m' )\n",
    "entrenamientoyPrueba(features,labels,features_predecir)\n",
    "\n",
    "print(\"\\n\",'\\033[1m' +\"Con stop words, con emoji y con hastag-username\" + '\\033[0m')\n",
    "entrenamientoyPrueba(features_con_stop_words,labels,features_predecir_con_stop_words)\n",
    "\n",
    "print(\"\\n\",'\\033[1m' +\"Sin stop words, sin emoji y con hastag-username\"+ '\\033[0m')\n",
    "entrenamientoyPrueba(features_sin_emoji,labels,features_predecir_sin_emoji)\n",
    "\n",
    "print(\"\\n\",'\\033[1m' +\"Sin stop words, con emoji y sin hastag-username\"+ '\\033[0m')\n",
    "entrenamientoyPrueba(features_procesado_sin_has_user,labels,features_predecir_sin_has_user)\n"
   ]
  },
  {
   "cell_type": "code",
   "execution_count": null,
   "metadata": {},
   "outputs": [],
   "source": []
  },
  {
   "cell_type": "code",
   "execution_count": 28,
   "metadata": {},
   "outputs": [
    {
     "name": "stdout",
     "output_type": "stream",
     "text": [
      "[\"@VirginAmerica plus you've added commercials to the experience... tacky.\"\n",
      " \"@VirginAmerica I didn't today... Must mean I need to take another trip!\"\n",
      " '@VirginAmerica it\\'s really aggressive to blast obnoxious \"entertainment\" in your guests\\' faces &amp; they have little recourse'\n",
      " \"@VirginAmerica and it's a really big bad thing about it\"]\n",
      "[' virginamerica plus you ve added commercials to the experience    tacky ', ' virginamerica didn today    must mean need to take another trip ', ' virginamerica it really aggressive to blast obnoxious  entertainment  in your guests  faces  amp  they have little recourse', ' virginamerica and it a really big bad thing about it']\n"
     ]
    }
   ],
   "source": [
    "texto_para_procesar = tweets['text'].values #selecciona los textos\n",
    "labels = tweets['sentiment'].values\n",
    "\n",
    "texto_procesado = [] \n",
    "\n",
    "\n",
    "for sentence in range(0, len(texto_para_procesar)):\n",
    "    procesado = processing_text(texto_para_procesar[sentence]).lower()\n",
    "    texto_procesado.append(procesado) \n",
    "\n",
    "print(texto_para_procesar[1:5])\n",
    "print(texto_procesado[1:5])"
   ]
  },
  {
   "cell_type": "code",
   "execution_count": 30,
   "metadata": {},
   "outputs": [],
   "source": [
    "vectorizer = TfidfVectorizer (max_features=2500, min_df=7, max_df=0.8, stop_words=stopwords.words('english'))\n",
    "features = vectorizer.fit_transform(texto_procesado).toarray()"
   ]
  },
  {
   "cell_type": "code",
   "execution_count": 31,
   "metadata": {},
   "outputs": [],
   "source": [
    "lexicones=lexicones(texto_procesado) "
   ]
  },
  {
   "cell_type": "code",
   "execution_count": 32,
   "metadata": {},
   "outputs": [],
   "source": [
    "#Probar concatenación con lexicones\n",
    "concat=np.concatenate((features,lexicones),axis=1)"
   ]
  },
  {
   "cell_type": "code",
   "execution_count": 33,
   "metadata": {},
   "outputs": [
    {
     "data": {
      "text/plain": [
       "array(['neutral', 'positive', 'neutral', ..., 'positive', 'negative',\n",
       "       'negative'], dtype=object)"
      ]
     },
     "execution_count": 33,
     "metadata": {},
     "output_type": "execute_result"
    }
   ],
   "source": [
    "labels"
   ]
  },
  {
   "cell_type": "code",
   "execution_count": 38,
   "metadata": {},
   "outputs": [
    {
     "name": "stdout",
     "output_type": "stream",
     "text": [
      "\n",
      " Naive Bayes \n",
      "\n",
      "[[0.    0.    0.    ... 0.    0.176 0.824]\n",
      " [0.    0.    0.    ... 0.    0.208 0.792]\n",
      " [0.    0.    0.    ... 0.092 0.213 0.695]\n",
      " ...\n",
      " [0.    0.    0.    ... 0.131 0.126 0.743]\n",
      " [0.    0.    0.    ... 0.27  0.    0.73 ]\n",
      " [0.    0.    0.    ... 0.385 0.    0.615]]\n",
      "Accurancy: 0.4225526641883519 \n",
      " Ahora con los 10K de Tweets:\n"
     ]
    },
    {
     "ename": "ValueError",
     "evalue": "could not convert string to float: 'being in Dominican Republic during quarantine &gt;&gt;&gt; https://t.co/NpcOCDMkSR'",
     "output_type": "error",
     "traceback": [
      "\u001b[1;31m--------------------------------------------------------------------------\u001b[0m",
      "\u001b[1;31mValueError\u001b[0m                               Traceback (most recent call last)",
      "\u001b[1;32m<ipython-input-38-29a6afa88926>\u001b[0m in \u001b[0;36m<module>\u001b[1;34m\u001b[0m\n\u001b[0;32m      1\u001b[0m \u001b[1;31m#Mostrar con concatenación\u001b[0m\u001b[1;33m\u001b[0m\u001b[1;33m\u001b[0m\u001b[0m\n\u001b[1;32m----> 2\u001b[1;33m \u001b[0mentrenamientoyPrueba\u001b[0m\u001b[1;33m(\u001b[0m\u001b[0mconcat\u001b[0m\u001b[1;33m,\u001b[0m\u001b[0mlabels\u001b[0m\u001b[1;33m)\u001b[0m\u001b[1;33m\u001b[0m\u001b[0m\n\u001b[0m",
      "\u001b[1;32m<ipython-input-37-ed1dc4fc8e98>\u001b[0m in \u001b[0;36mentrenamientoyPrueba\u001b[1;34m(features, labels)\u001b[0m\n\u001b[0;32m     41\u001b[0m     \u001b[0mX_train\u001b[0m\u001b[1;33m,\u001b[0m \u001b[0mX_test\u001b[0m\u001b[1;33m,\u001b[0m \u001b[0my_train\u001b[0m\u001b[1;33m,\u001b[0m \u001b[0my_test\u001b[0m \u001b[1;33m=\u001b[0m \u001b[0mtrain_test_split\u001b[0m\u001b[1;33m(\u001b[0m\u001b[0mfeatures\u001b[0m\u001b[1;33m,\u001b[0m \u001b[0mlabels\u001b[0m\u001b[1;33m,\u001b[0m \u001b[0mtest_size\u001b[0m\u001b[1;33m=\u001b[0m\u001b[1;36m0.2\u001b[0m\u001b[1;33m,\u001b[0m \u001b[0mrandom_state\u001b[0m\u001b[1;33m=\u001b[0m\u001b[1;36m0\u001b[0m\u001b[1;33m)\u001b[0m\u001b[1;33m\u001b[0m\u001b[0m\n\u001b[0;32m     42\u001b[0m     \u001b[0mprint\u001b[0m\u001b[1;33m(\u001b[0m\u001b[1;34m\"\\n\"\u001b[0m\u001b[1;33m,\u001b[0m\u001b[1;34m\"Naive Bayes\"\u001b[0m\u001b[1;33m,\u001b[0m\u001b[1;34m\"\\n\"\u001b[0m\u001b[1;33m)\u001b[0m\u001b[1;33m\u001b[0m\u001b[0m\n\u001b[1;32m---> 43\u001b[1;33m     \u001b[0mnaiveBayes\u001b[0m\u001b[1;33m(\u001b[0m\u001b[0mX_train\u001b[0m\u001b[1;33m,\u001b[0m \u001b[0mX_test\u001b[0m\u001b[1;33m,\u001b[0m \u001b[0my_train\u001b[0m\u001b[1;33m,\u001b[0m \u001b[0my_test\u001b[0m\u001b[1;33m)\u001b[0m\u001b[1;33m\u001b[0m\u001b[0m\n\u001b[0m\u001b[0;32m     44\u001b[0m     \u001b[0mprint\u001b[0m\u001b[1;33m(\u001b[0m\u001b[1;34m\"\\n\"\u001b[0m\u001b[1;33m,\u001b[0m\u001b[1;34m\"Arbol de desición\"\u001b[0m\u001b[1;33m,\u001b[0m\u001b[1;34m\"\\n\"\u001b[0m\u001b[1;33m)\u001b[0m\u001b[1;33m\u001b[0m\u001b[0m\n\u001b[0;32m     45\u001b[0m     \u001b[0marboleDeDesicion\u001b[0m\u001b[1;33m(\u001b[0m\u001b[0mX_train\u001b[0m\u001b[1;33m,\u001b[0m\u001b[0mX_test\u001b[0m\u001b[1;33m,\u001b[0m\u001b[0my_train\u001b[0m\u001b[1;33m,\u001b[0m\u001b[0my_test\u001b[0m\u001b[1;33m)\u001b[0m\u001b[1;33m\u001b[0m\u001b[0m\n",
      "\u001b[1;32m<ipython-input-37-ed1dc4fc8e98>\u001b[0m in \u001b[0;36mnaiveBayes\u001b[1;34m(X_train, X_test, y_train, y_test)\u001b[0m\n\u001b[0;32m     18\u001b[0m     \u001b[1;31m#print(classification_report(y_test,predictions))\u001b[0m\u001b[1;33m\u001b[0m\u001b[1;33m\u001b[0m\u001b[0m\n\u001b[0;32m     19\u001b[0m     \u001b[0mprint\u001b[0m\u001b[1;33m(\u001b[0m\u001b[1;34m\"Accurancy:\"\u001b[0m\u001b[1;33m,\u001b[0m\u001b[0maccuracy_score\u001b[0m\u001b[1;33m(\u001b[0m\u001b[0my_test\u001b[0m\u001b[1;33m,\u001b[0m \u001b[0mpredictions\u001b[0m\u001b[1;33m)\u001b[0m\u001b[1;33m,\u001b[0m\u001b[1;34m\"\\n\"\u001b[0m\u001b[1;33m,\u001b[0m\u001b[1;34m\"Ahora con los 10K de Tweets:\"\u001b[0m\u001b[1;33m)\u001b[0m\u001b[1;33m\u001b[0m\u001b[0m\n\u001b[1;32m---> 20\u001b[1;33m     \u001b[0mpredictTweets\u001b[0m\u001b[1;33m(\u001b[0m\u001b[0mgnb\u001b[0m\u001b[1;33m)\u001b[0m\u001b[1;33m\u001b[0m\u001b[0m\n\u001b[0m\u001b[0;32m     21\u001b[0m \u001b[1;33m\u001b[0m\u001b[0m\n\u001b[0;32m     22\u001b[0m \u001b[1;32mdef\u001b[0m \u001b[0marboleDeDesicion\u001b[0m\u001b[1;33m(\u001b[0m\u001b[0mX_train\u001b[0m\u001b[1;33m,\u001b[0m\u001b[0mX_test\u001b[0m\u001b[1;33m,\u001b[0m\u001b[0my_train\u001b[0m\u001b[1;33m,\u001b[0m\u001b[0my_test\u001b[0m\u001b[1;33m)\u001b[0m\u001b[1;33m:\u001b[0m\u001b[1;33m\u001b[0m\u001b[0m\n",
      "\u001b[1;32m<ipython-input-37-ed1dc4fc8e98>\u001b[0m in \u001b[0;36mpredictTweets\u001b[1;34m(varP)\u001b[0m\n\u001b[0;32m      1\u001b[0m \u001b[1;32mdef\u001b[0m \u001b[0mpredictTweets\u001b[0m\u001b[1;33m(\u001b[0m\u001b[0mvarP\u001b[0m\u001b[1;33m)\u001b[0m\u001b[1;33m:\u001b[0m\u001b[1;33m\u001b[0m\u001b[0m\n\u001b[1;32m----> 2\u001b[1;33m     \u001b[0mpredictions\u001b[0m\u001b[1;33m=\u001b[0m\u001b[0mvarP\u001b[0m\u001b[1;33m.\u001b[0m\u001b[0mpredict\u001b[0m\u001b[1;33m(\u001b[0m\u001b[0mtweets10k\u001b[0m\u001b[1;33m)\u001b[0m\u001b[1;33m\u001b[0m\u001b[0m\n\u001b[0m\u001b[0;32m      3\u001b[0m     \u001b[0mdata\u001b[0m\u001b[1;33m=\u001b[0m\u001b[0mpd\u001b[0m\u001b[1;33m.\u001b[0m\u001b[0mDataFrame\u001b[0m\u001b[1;33m(\u001b[0m\u001b[0mdata\u001b[0m\u001b[1;33m=\u001b[0m\u001b[1;33m{\u001b[0m\u001b[1;34m'sentiment'\u001b[0m\u001b[1;33m:\u001b[0m\u001b[0mpredictions\u001b[0m\u001b[1;33m}\u001b[0m\u001b[1;33m)\u001b[0m\u001b[1;33m\u001b[0m\u001b[0m\n\u001b[0;32m      4\u001b[0m     \u001b[0mdata\u001b[0m\u001b[1;33m[\u001b[0m\u001b[1;34m'frecuencia'\u001b[0m\u001b[1;33m]\u001b[0m\u001b[1;33m=\u001b[0m\u001b[1;36m1\u001b[0m\u001b[1;33m\u001b[0m\u001b[0m\n\u001b[0;32m      5\u001b[0m     \u001b[0mva\u001b[0m\u001b[1;33m=\u001b[0m\u001b[0mdata\u001b[0m\u001b[1;33m.\u001b[0m\u001b[0mgroupby\u001b[0m\u001b[1;33m(\u001b[0m\u001b[1;33m[\u001b[0m\u001b[1;34m'sentiment'\u001b[0m\u001b[1;33m]\u001b[0m\u001b[1;33m)\u001b[0m\u001b[1;33m.\u001b[0m\u001b[0msum\u001b[0m\u001b[1;33m(\u001b[0m\u001b[1;33m)\u001b[0m\u001b[1;33m\u001b[0m\u001b[0m\n",
      "\u001b[1;32m~\\AppData\\Local\\Programs\\Python\\Python37\\lib\\site-packages\\sklearn\\naive_bayes.py\u001b[0m in \u001b[0;36mpredict\u001b[1;34m(self, X)\u001b[0m\n\u001b[0;32m     74\u001b[0m         \"\"\"\n\u001b[0;32m     75\u001b[0m         \u001b[0mcheck_is_fitted\u001b[0m\u001b[1;33m(\u001b[0m\u001b[0mself\u001b[0m\u001b[1;33m)\u001b[0m\u001b[1;33m\u001b[0m\u001b[0m\n\u001b[1;32m---> 76\u001b[1;33m         \u001b[0mX\u001b[0m \u001b[1;33m=\u001b[0m \u001b[0mself\u001b[0m\u001b[1;33m.\u001b[0m\u001b[0m_check_X\u001b[0m\u001b[1;33m(\u001b[0m\u001b[0mX\u001b[0m\u001b[1;33m)\u001b[0m\u001b[1;33m\u001b[0m\u001b[0m\n\u001b[0m\u001b[0;32m     77\u001b[0m         \u001b[0mjll\u001b[0m \u001b[1;33m=\u001b[0m \u001b[0mself\u001b[0m\u001b[1;33m.\u001b[0m\u001b[0m_joint_log_likelihood\u001b[0m\u001b[1;33m(\u001b[0m\u001b[0mX\u001b[0m\u001b[1;33m)\u001b[0m\u001b[1;33m\u001b[0m\u001b[0m\n\u001b[0;32m     78\u001b[0m         \u001b[1;32mreturn\u001b[0m \u001b[0mself\u001b[0m\u001b[1;33m.\u001b[0m\u001b[0mclasses_\u001b[0m\u001b[1;33m[\u001b[0m\u001b[0mnp\u001b[0m\u001b[1;33m.\u001b[0m\u001b[0margmax\u001b[0m\u001b[1;33m(\u001b[0m\u001b[0mjll\u001b[0m\u001b[1;33m,\u001b[0m \u001b[0maxis\u001b[0m\u001b[1;33m=\u001b[0m\u001b[1;36m1\u001b[0m\u001b[1;33m)\u001b[0m\u001b[1;33m]\u001b[0m\u001b[1;33m\u001b[0m\u001b[0m\n",
      "\u001b[1;32m~\\AppData\\Local\\Programs\\Python\\Python37\\lib\\site-packages\\sklearn\\naive_bayes.py\u001b[0m in \u001b[0;36m_check_X\u001b[1;34m(self, X)\u001b[0m\n\u001b[0;32m    209\u001b[0m \u001b[1;33m\u001b[0m\u001b[0m\n\u001b[0;32m    210\u001b[0m     \u001b[1;32mdef\u001b[0m \u001b[0m_check_X\u001b[0m\u001b[1;33m(\u001b[0m\u001b[0mself\u001b[0m\u001b[1;33m,\u001b[0m \u001b[0mX\u001b[0m\u001b[1;33m)\u001b[0m\u001b[1;33m:\u001b[0m\u001b[1;33m\u001b[0m\u001b[0m\n\u001b[1;32m--> 211\u001b[1;33m         \u001b[1;32mreturn\u001b[0m \u001b[0mcheck_array\u001b[0m\u001b[1;33m(\u001b[0m\u001b[0mX\u001b[0m\u001b[1;33m)\u001b[0m\u001b[1;33m\u001b[0m\u001b[0m\n\u001b[0m\u001b[0;32m    212\u001b[0m \u001b[1;33m\u001b[0m\u001b[0m\n\u001b[0;32m    213\u001b[0m     \u001b[1;33m@\u001b[0m\u001b[0mstaticmethod\u001b[0m\u001b[1;33m\u001b[0m\u001b[0m\n",
      "\u001b[1;32m~\\AppData\\Local\\Programs\\Python\\Python37\\lib\\site-packages\\sklearn\\utils\\validation.py\u001b[0m in \u001b[0;36mcheck_array\u001b[1;34m(array, accept_sparse, accept_large_sparse, dtype, order, copy, force_all_finite, ensure_2d, allow_nd, ensure_min_samples, ensure_min_features, warn_on_dtype, estimator)\u001b[0m\n\u001b[0;32m    529\u001b[0m                     \u001b[0marray\u001b[0m \u001b[1;33m=\u001b[0m \u001b[0marray\u001b[0m\u001b[1;33m.\u001b[0m\u001b[0mastype\u001b[0m\u001b[1;33m(\u001b[0m\u001b[0mdtype\u001b[0m\u001b[1;33m,\u001b[0m \u001b[0mcasting\u001b[0m\u001b[1;33m=\u001b[0m\u001b[1;34m\"unsafe\"\u001b[0m\u001b[1;33m,\u001b[0m \u001b[0mcopy\u001b[0m\u001b[1;33m=\u001b[0m\u001b[1;32mFalse\u001b[0m\u001b[1;33m)\u001b[0m\u001b[1;33m\u001b[0m\u001b[0m\n\u001b[0;32m    530\u001b[0m                 \u001b[1;32melse\u001b[0m\u001b[1;33m:\u001b[0m\u001b[1;33m\u001b[0m\u001b[0m\n\u001b[1;32m--> 531\u001b[1;33m                     \u001b[0marray\u001b[0m \u001b[1;33m=\u001b[0m \u001b[0mnp\u001b[0m\u001b[1;33m.\u001b[0m\u001b[0masarray\u001b[0m\u001b[1;33m(\u001b[0m\u001b[0marray\u001b[0m\u001b[1;33m,\u001b[0m \u001b[0morder\u001b[0m\u001b[1;33m=\u001b[0m\u001b[0morder\u001b[0m\u001b[1;33m,\u001b[0m \u001b[0mdtype\u001b[0m\u001b[1;33m=\u001b[0m\u001b[0mdtype\u001b[0m\u001b[1;33m)\u001b[0m\u001b[1;33m\u001b[0m\u001b[0m\n\u001b[0m\u001b[0;32m    532\u001b[0m             \u001b[1;32mexcept\u001b[0m \u001b[0mComplexWarning\u001b[0m\u001b[1;33m:\u001b[0m\u001b[1;33m\u001b[0m\u001b[0m\n\u001b[0;32m    533\u001b[0m                 raise ValueError(\"Complex data not supported\\n\"\n",
      "\u001b[1;32m~\\AppData\\Local\\Programs\\Python\\Python37\\lib\\site-packages\\numpy\\core\\_asarray.py\u001b[0m in \u001b[0;36masarray\u001b[1;34m(a, dtype, order)\u001b[0m\n\u001b[0;32m     83\u001b[0m \u001b[1;33m\u001b[0m\u001b[0m\n\u001b[0;32m     84\u001b[0m     \"\"\"\n\u001b[1;32m---> 85\u001b[1;33m     \u001b[1;32mreturn\u001b[0m \u001b[0marray\u001b[0m\u001b[1;33m(\u001b[0m\u001b[0ma\u001b[0m\u001b[1;33m,\u001b[0m \u001b[0mdtype\u001b[0m\u001b[1;33m,\u001b[0m \u001b[0mcopy\u001b[0m\u001b[1;33m=\u001b[0m\u001b[1;32mFalse\u001b[0m\u001b[1;33m,\u001b[0m \u001b[0morder\u001b[0m\u001b[1;33m=\u001b[0m\u001b[0morder\u001b[0m\u001b[1;33m)\u001b[0m\u001b[1;33m\u001b[0m\u001b[0m\n\u001b[0m\u001b[0;32m     86\u001b[0m \u001b[1;33m\u001b[0m\u001b[0m\n\u001b[0;32m     87\u001b[0m \u001b[1;33m\u001b[0m\u001b[0m\n",
      "\u001b[1;31mValueError\u001b[0m: could not convert string to float: 'being in Dominican Republic during quarantine &gt;&gt;&gt; https://t.co/NpcOCDMkSR'"
     ]
    }
   ],
   "source": [
    "#Mostrar con concatenación\n",
    "entrenamientoyPrueba(concat,labels)"
   ]
  },
  {
   "cell_type": "code",
   "execution_count": 34,
   "metadata": {},
   "outputs": [
    {
     "name": "stdout",
     "output_type": "stream",
     "text": [
      "[[ 0.          0.01136364  0.         ...  0.          1.\n",
      "   0.        ]\n",
      " [ 0.          0.          0.         ...  0.          1.\n",
      "   0.        ]\n",
      " [ 0.          0.38690476  0.41369048 ...  0.          1.\n",
      "   0.        ]\n",
      " ...\n",
      " [ 2.          0.23501499  0.2297286  ...  0.225       0.775\n",
      "   0.        ]\n",
      " [-6.          0.41493056  0.24305556 ...  0.          0.717\n",
      "   0.        ]\n",
      " [ 0.          0.3030303   0.16504329 ...  0.          1.\n",
      "   0.        ]]\n",
      "\n",
      " Naive Bayes \n",
      "\n"
     ]
    },
    {
     "ename": "TypeError",
     "evalue": "'<' not supported between instances of 'float' and 'str'",
     "output_type": "error",
     "traceback": [
      "\u001b[1;31m--------------------------------------------------------------------------\u001b[0m",
      "\u001b[1;31mTypeError\u001b[0m                                Traceback (most recent call last)",
      "\u001b[1;32m<ipython-input-34-0d465657ea1d>\u001b[0m in \u001b[0;36m<module>\u001b[1;34m\u001b[0m\n\u001b[0;32m      1\u001b[0m \u001b[1;31m#Mostrar solo con lexicones\u001b[0m\u001b[1;33m\u001b[0m\u001b[1;33m\u001b[0m\u001b[0m\n\u001b[0;32m      2\u001b[0m \u001b[0mprint\u001b[0m\u001b[1;33m(\u001b[0m\u001b[0mlexicones\u001b[0m\u001b[1;33m)\u001b[0m\u001b[1;33m\u001b[0m\u001b[0m\n\u001b[1;32m----> 3\u001b[1;33m \u001b[0mentrenamientoyPrueba\u001b[0m\u001b[1;33m(\u001b[0m\u001b[0mlexicones\u001b[0m\u001b[1;33m,\u001b[0m\u001b[0mlabels\u001b[0m\u001b[1;33m)\u001b[0m\u001b[1;33m\u001b[0m\u001b[0m\n\u001b[0m",
      "\u001b[1;32m<ipython-input-28-0faeb3d97ae4>\u001b[0m in \u001b[0;36mentrenamientoyPrueba\u001b[1;34m(features, labels)\u001b[0m\n\u001b[0;32m     27\u001b[0m     \u001b[0mX_train\u001b[0m\u001b[1;33m,\u001b[0m \u001b[0mX_test\u001b[0m\u001b[1;33m,\u001b[0m \u001b[0my_train\u001b[0m\u001b[1;33m,\u001b[0m \u001b[0my_test\u001b[0m \u001b[1;33m=\u001b[0m \u001b[0mtrain_test_split\u001b[0m\u001b[1;33m(\u001b[0m\u001b[0mfeatures\u001b[0m\u001b[1;33m,\u001b[0m \u001b[0mlabels\u001b[0m\u001b[1;33m,\u001b[0m \u001b[0mtest_size\u001b[0m\u001b[1;33m=\u001b[0m\u001b[1;36m0.2\u001b[0m\u001b[1;33m,\u001b[0m \u001b[0mrandom_state\u001b[0m\u001b[1;33m=\u001b[0m\u001b[1;36m0\u001b[0m\u001b[1;33m)\u001b[0m\u001b[1;33m\u001b[0m\u001b[0m\n\u001b[0;32m     28\u001b[0m     \u001b[0mprint\u001b[0m\u001b[1;33m(\u001b[0m\u001b[1;34m\"\\n\"\u001b[0m\u001b[1;33m,\u001b[0m\u001b[1;34m\"Naive Bayes\"\u001b[0m\u001b[1;33m,\u001b[0m\u001b[1;34m\"\\n\"\u001b[0m\u001b[1;33m)\u001b[0m\u001b[1;33m\u001b[0m\u001b[0m\n\u001b[1;32m---> 29\u001b[1;33m     \u001b[0mnaiveBayes\u001b[0m\u001b[1;33m(\u001b[0m\u001b[0mX_train\u001b[0m\u001b[1;33m,\u001b[0m \u001b[0mX_test\u001b[0m\u001b[1;33m,\u001b[0m \u001b[0my_train\u001b[0m\u001b[1;33m,\u001b[0m \u001b[0my_test\u001b[0m\u001b[1;33m)\u001b[0m\u001b[1;33m\u001b[0m\u001b[0m\n\u001b[0m\u001b[0;32m     30\u001b[0m     \u001b[0mprint\u001b[0m\u001b[1;33m(\u001b[0m\u001b[1;34m\"\\n\"\u001b[0m\u001b[1;33m,\u001b[0m\u001b[1;34m\"Arbol de desición\"\u001b[0m\u001b[1;33m,\u001b[0m\u001b[1;34m\"\\n\"\u001b[0m\u001b[1;33m)\u001b[0m\u001b[1;33m\u001b[0m\u001b[0m\n\u001b[0;32m     31\u001b[0m     \u001b[0marboleDeDesicion\u001b[0m\u001b[1;33m(\u001b[0m\u001b[0mX_train\u001b[0m\u001b[1;33m,\u001b[0m\u001b[0mX_test\u001b[0m\u001b[1;33m,\u001b[0m\u001b[0my_train\u001b[0m\u001b[1;33m,\u001b[0m\u001b[0my_test\u001b[0m\u001b[1;33m)\u001b[0m\u001b[1;33m\u001b[0m\u001b[0m\n",
      "\u001b[1;32m<ipython-input-28-0faeb3d97ae4>\u001b[0m in \u001b[0;36mnaiveBayes\u001b[1;34m(X_train, X_test, y_train, y_test)\u001b[0m\n\u001b[0;32m      1\u001b[0m \u001b[1;32mdef\u001b[0m \u001b[0mnaiveBayes\u001b[0m\u001b[1;33m(\u001b[0m\u001b[0mX_train\u001b[0m\u001b[1;33m,\u001b[0m\u001b[0mX_test\u001b[0m\u001b[1;33m,\u001b[0m\u001b[0my_train\u001b[0m\u001b[1;33m,\u001b[0m\u001b[0my_test\u001b[0m\u001b[1;33m)\u001b[0m\u001b[1;33m:\u001b[0m\u001b[1;33m\u001b[0m\u001b[0m\n\u001b[0;32m      2\u001b[0m     \u001b[0mgnb\u001b[0m \u001b[1;33m=\u001b[0m \u001b[0mGaussianNB\u001b[0m\u001b[1;33m(\u001b[0m\u001b[1;33m)\u001b[0m\u001b[1;33m\u001b[0m\u001b[0m\n\u001b[1;32m----> 3\u001b[1;33m     \u001b[0mgnb\u001b[0m\u001b[1;33m.\u001b[0m\u001b[0mfit\u001b[0m\u001b[1;33m(\u001b[0m\u001b[0mX_train\u001b[0m\u001b[1;33m,\u001b[0m \u001b[0my_train\u001b[0m\u001b[1;33m)\u001b[0m\u001b[1;33m\u001b[0m\u001b[0m\n\u001b[0m\u001b[0;32m      4\u001b[0m     \u001b[0mpredictions\u001b[0m \u001b[1;33m=\u001b[0m \u001b[0mgnb\u001b[0m\u001b[1;33m.\u001b[0m\u001b[0mpredict\u001b[0m\u001b[1;33m(\u001b[0m\u001b[0mX_test\u001b[0m\u001b[1;33m)\u001b[0m\u001b[1;33m\u001b[0m\u001b[0m\n\u001b[0;32m      5\u001b[0m     \u001b[0mprint\u001b[0m\u001b[1;33m(\u001b[0m\u001b[0mconfusion_matrix\u001b[0m\u001b[1;33m(\u001b[0m\u001b[0my_test\u001b[0m\u001b[1;33m,\u001b[0m\u001b[0mpredictions\u001b[0m\u001b[1;33m)\u001b[0m\u001b[1;33m)\u001b[0m\u001b[1;33m\u001b[0m\u001b[0m\n",
      "\u001b[1;32m~\\AppData\\Local\\Programs\\Python\\Python37\\lib\\site-packages\\sklearn\\naive_bayes.py\u001b[0m in \u001b[0;36mfit\u001b[1;34m(self, X, y, sample_weight)\u001b[0m\n\u001b[0;32m    205\u001b[0m         \"\"\"\n\u001b[0;32m    206\u001b[0m         \u001b[0my\u001b[0m \u001b[1;33m=\u001b[0m \u001b[0mcolumn_or_1d\u001b[0m\u001b[1;33m(\u001b[0m\u001b[0my\u001b[0m\u001b[1;33m,\u001b[0m \u001b[0mwarn\u001b[0m\u001b[1;33m=\u001b[0m\u001b[1;32mTrue\u001b[0m\u001b[1;33m)\u001b[0m\u001b[1;33m\u001b[0m\u001b[0m\n\u001b[1;32m--> 207\u001b[1;33m         return self._partial_fit(X, y, np.unique(y), _refit=True,\n\u001b[0m\u001b[0;32m    208\u001b[0m                                  sample_weight=sample_weight)\n\u001b[0;32m    209\u001b[0m \u001b[1;33m\u001b[0m\u001b[0m\n",
      "\u001b[1;32m<__array_function__ internals>\u001b[0m in \u001b[0;36munique\u001b[1;34m(*args, **kwargs)\u001b[0m\n",
      "\u001b[1;32m~\\AppData\\Local\\Programs\\Python\\Python37\\lib\\site-packages\\numpy\\lib\\arraysetops.py\u001b[0m in \u001b[0;36munique\u001b[1;34m(ar, return_index, return_inverse, return_counts, axis)\u001b[0m\n\u001b[0;32m    261\u001b[0m     \u001b[0mar\u001b[0m \u001b[1;33m=\u001b[0m \u001b[0mnp\u001b[0m\u001b[1;33m.\u001b[0m\u001b[0masanyarray\u001b[0m\u001b[1;33m(\u001b[0m\u001b[0mar\u001b[0m\u001b[1;33m)\u001b[0m\u001b[1;33m\u001b[0m\u001b[0m\n\u001b[0;32m    262\u001b[0m     \u001b[1;32mif\u001b[0m \u001b[0maxis\u001b[0m \u001b[1;32mis\u001b[0m \u001b[1;32mNone\u001b[0m\u001b[1;33m:\u001b[0m\u001b[1;33m\u001b[0m\u001b[0m\n\u001b[1;32m--> 263\u001b[1;33m         \u001b[0mret\u001b[0m \u001b[1;33m=\u001b[0m \u001b[0m_unique1d\u001b[0m\u001b[1;33m(\u001b[0m\u001b[0mar\u001b[0m\u001b[1;33m,\u001b[0m \u001b[0mreturn_index\u001b[0m\u001b[1;33m,\u001b[0m \u001b[0mreturn_inverse\u001b[0m\u001b[1;33m,\u001b[0m \u001b[0mreturn_counts\u001b[0m\u001b[1;33m)\u001b[0m\u001b[1;33m\u001b[0m\u001b[0m\n\u001b[0m\u001b[0;32m    264\u001b[0m         \u001b[1;32mreturn\u001b[0m \u001b[0m_unpack_tuple\u001b[0m\u001b[1;33m(\u001b[0m\u001b[0mret\u001b[0m\u001b[1;33m)\u001b[0m\u001b[1;33m\u001b[0m\u001b[0m\n\u001b[0;32m    265\u001b[0m \u001b[1;33m\u001b[0m\u001b[0m\n",
      "\u001b[1;32m~\\AppData\\Local\\Programs\\Python\\Python37\\lib\\site-packages\\numpy\\lib\\arraysetops.py\u001b[0m in \u001b[0;36m_unique1d\u001b[1;34m(ar, return_index, return_inverse, return_counts)\u001b[0m\n\u001b[0;32m    309\u001b[0m         \u001b[0maux\u001b[0m \u001b[1;33m=\u001b[0m \u001b[0mar\u001b[0m\u001b[1;33m[\u001b[0m\u001b[0mperm\u001b[0m\u001b[1;33m]\u001b[0m\u001b[1;33m\u001b[0m\u001b[0m\n\u001b[0;32m    310\u001b[0m     \u001b[1;32melse\u001b[0m\u001b[1;33m:\u001b[0m\u001b[1;33m\u001b[0m\u001b[0m\n\u001b[1;32m--> 311\u001b[1;33m         \u001b[0mar\u001b[0m\u001b[1;33m.\u001b[0m\u001b[0msort\u001b[0m\u001b[1;33m(\u001b[0m\u001b[1;33m)\u001b[0m\u001b[1;33m\u001b[0m\u001b[0m\n\u001b[0m\u001b[0;32m    312\u001b[0m         \u001b[0maux\u001b[0m \u001b[1;33m=\u001b[0m \u001b[0mar\u001b[0m\u001b[1;33m\u001b[0m\u001b[0m\n\u001b[0;32m    313\u001b[0m     \u001b[0mmask\u001b[0m \u001b[1;33m=\u001b[0m \u001b[0mnp\u001b[0m\u001b[1;33m.\u001b[0m\u001b[0mempty\u001b[0m\u001b[1;33m(\u001b[0m\u001b[0maux\u001b[0m\u001b[1;33m.\u001b[0m\u001b[0mshape\u001b[0m\u001b[1;33m,\u001b[0m \u001b[0mdtype\u001b[0m\u001b[1;33m=\u001b[0m\u001b[0mnp\u001b[0m\u001b[1;33m.\u001b[0m\u001b[0mbool_\u001b[0m\u001b[1;33m)\u001b[0m\u001b[1;33m\u001b[0m\u001b[0m\n",
      "\u001b[1;31mTypeError\u001b[0m: '<' not supported between instances of 'float' and 'str'"
     ]
    }
   ],
   "source": [
    "#Mostrar solo con lexicones\n",
    "print(lexicones)\n",
    "entrenamientoyPrueba(lexicones,labels)"
   ]
  },
  {
   "cell_type": "code",
   "execution_count": null,
   "metadata": {},
   "outputs": [],
   "source": []
  },
  {
   "cell_type": "code",
   "execution_count": 19,
   "metadata": {},
   "outputs": [],
   "source": [
    "text=\"😁 Hola mundo cómo vás . dfkj as 🤐🙃🌤️💕\" "
   ]
  },
  {
   "cell_type": "code",
   "execution_count": 20,
   "metadata": {},
   "outputs": [],
   "source": [
    "import emoji\n",
    "\n",
    "def extract_emojis(str):\n",
    "    return ' '.join(c for c in str if c in emoji.UNICODE_EMOJI)"
   ]
  },
  {
   "cell_type": "code",
   "execution_count": 21,
   "metadata": {},
   "outputs": [
    {
     "data": {
      "text/plain": [
       "'😁 🤐 🙃 🌤 💕'"
      ]
     },
     "execution_count": 21,
     "metadata": {},
     "output_type": "execute_result"
    }
   ],
   "source": [
    "emojis=extract_emojis(text)\n",
    "emojis\n"
   ]
  },
  {
   "cell_type": "code",
   "execution_count": 2,
   "metadata": {},
   "outputs": [
    {
     "ename": "ModuleNotFoundError",
     "evalue": "No module named 'sentlex'",
     "output_type": "error",
     "traceback": [
      "\u001b[1;31m---------------------------------------------------------------------------\u001b[0m",
      "\u001b[1;31mModuleNotFoundError\u001b[0m                       Traceback (most recent call last)",
      "\u001b[1;32m<ipython-input-2-8a6551b3fab1>\u001b[0m in \u001b[0;36m<module>\u001b[1;34m\u001b[0m\n\u001b[1;32m----> 1\u001b[1;33m \u001b[1;32mimport\u001b[0m \u001b[0msentlex\u001b[0m\u001b[1;33m\u001b[0m\u001b[0m\n\u001b[0m",
      "\u001b[1;31mModuleNotFoundError\u001b[0m: No module named 'sentlex'"
     ]
    }
   ],
   "source": [
    " import sentlex"
   ]
  },
  {
   "cell_type": "code",
   "execution_count": 80,
   "metadata": {},
   "outputs": [
    {
     "ename": "ParserError",
     "evalue": "Error tokenizing data. C error: Expected 6 fields in line 501, saw 12\n",
     "output_type": "error",
     "traceback": [
      "\u001b[1;31m---------------------------------------------------------------------------\u001b[0m",
      "\u001b[1;31mParserError\u001b[0m                               Traceback (most recent call last)",
      "\u001b[1;32m<ipython-input-80-ed6f0614ff92>\u001b[0m in \u001b[0;36m<module>\u001b[1;34m\u001b[0m\n\u001b[1;32m----> 1\u001b[1;33m \u001b[0mdataframe\u001b[0m\u001b[1;33m=\u001b[0m\u001b[0mpd\u001b[0m\u001b[1;33m.\u001b[0m\u001b[0mread_csv\u001b[0m\u001b[1;33m(\u001b[0m\u001b[1;34m'Tweets500P1.csv'\u001b[0m\u001b[1;33m)\u001b[0m\u001b[1;33m\u001b[0m\u001b[0m\n\u001b[0m\u001b[0;32m      2\u001b[0m \u001b[0mtweets\u001b[0m \u001b[1;33m=\u001b[0m \u001b[0mpd\u001b[0m\u001b[1;33m.\u001b[0m\u001b[0mread_csv\u001b[0m\u001b[1;33m(\u001b[0m\u001b[1;34m\"Tweets.csv\"\u001b[0m\u001b[1;33m)\u001b[0m\u001b[1;33m\u001b[0m\u001b[0m\n",
      "\u001b[1;32m~\\AppData\\Local\\Programs\\Python\\Python37\\lib\\site-packages\\pandas\\io\\parsers.py\u001b[0m in \u001b[0;36mparser_f\u001b[1;34m(filepath_or_buffer, sep, delimiter, header, names, index_col, usecols, squeeze, prefix, mangle_dupe_cols, dtype, engine, converters, true_values, false_values, skipinitialspace, skiprows, skipfooter, nrows, na_values, keep_default_na, na_filter, verbose, skip_blank_lines, parse_dates, infer_datetime_format, keep_date_col, date_parser, dayfirst, cache_dates, iterator, chunksize, compression, thousands, decimal, lineterminator, quotechar, quoting, doublequote, escapechar, comment, encoding, dialect, error_bad_lines, warn_bad_lines, delim_whitespace, low_memory, memory_map, float_precision)\u001b[0m\n\u001b[0;32m    674\u001b[0m         )\n\u001b[0;32m    675\u001b[0m \u001b[1;33m\u001b[0m\u001b[0m\n\u001b[1;32m--> 676\u001b[1;33m         \u001b[1;32mreturn\u001b[0m \u001b[0m_read\u001b[0m\u001b[1;33m(\u001b[0m\u001b[0mfilepath_or_buffer\u001b[0m\u001b[1;33m,\u001b[0m \u001b[0mkwds\u001b[0m\u001b[1;33m)\u001b[0m\u001b[1;33m\u001b[0m\u001b[0m\n\u001b[0m\u001b[0;32m    677\u001b[0m \u001b[1;33m\u001b[0m\u001b[0m\n\u001b[0;32m    678\u001b[0m     \u001b[0mparser_f\u001b[0m\u001b[1;33m.\u001b[0m\u001b[0m__name__\u001b[0m \u001b[1;33m=\u001b[0m \u001b[0mname\u001b[0m\u001b[1;33m\u001b[0m\u001b[0m\n",
      "\u001b[1;32m~\\AppData\\Local\\Programs\\Python\\Python37\\lib\\site-packages\\pandas\\io\\parsers.py\u001b[0m in \u001b[0;36m_read\u001b[1;34m(filepath_or_buffer, kwds)\u001b[0m\n\u001b[0;32m    452\u001b[0m \u001b[1;33m\u001b[0m\u001b[0m\n\u001b[0;32m    453\u001b[0m     \u001b[1;32mtry\u001b[0m\u001b[1;33m:\u001b[0m\u001b[1;33m\u001b[0m\u001b[0m\n\u001b[1;32m--> 454\u001b[1;33m         \u001b[0mdata\u001b[0m \u001b[1;33m=\u001b[0m \u001b[0mparser\u001b[0m\u001b[1;33m.\u001b[0m\u001b[0mread\u001b[0m\u001b[1;33m(\u001b[0m\u001b[0mnrows\u001b[0m\u001b[1;33m)\u001b[0m\u001b[1;33m\u001b[0m\u001b[0m\n\u001b[0m\u001b[0;32m    455\u001b[0m     \u001b[1;32mfinally\u001b[0m\u001b[1;33m:\u001b[0m\u001b[1;33m\u001b[0m\u001b[0m\n\u001b[0;32m    456\u001b[0m         \u001b[0mparser\u001b[0m\u001b[1;33m.\u001b[0m\u001b[0mclose\u001b[0m\u001b[1;33m(\u001b[0m\u001b[1;33m)\u001b[0m\u001b[1;33m\u001b[0m\u001b[0m\n",
      "\u001b[1;32m~\\AppData\\Local\\Programs\\Python\\Python37\\lib\\site-packages\\pandas\\io\\parsers.py\u001b[0m in \u001b[0;36mread\u001b[1;34m(self, nrows)\u001b[0m\n\u001b[0;32m   1131\u001b[0m     \u001b[1;32mdef\u001b[0m \u001b[0mread\u001b[0m\u001b[1;33m(\u001b[0m\u001b[0mself\u001b[0m\u001b[1;33m,\u001b[0m \u001b[0mnrows\u001b[0m\u001b[1;33m=\u001b[0m\u001b[1;32mNone\u001b[0m\u001b[1;33m)\u001b[0m\u001b[1;33m:\u001b[0m\u001b[1;33m\u001b[0m\u001b[0m\n\u001b[0;32m   1132\u001b[0m         \u001b[0mnrows\u001b[0m \u001b[1;33m=\u001b[0m \u001b[0m_validate_integer\u001b[0m\u001b[1;33m(\u001b[0m\u001b[1;34m\"nrows\"\u001b[0m\u001b[1;33m,\u001b[0m \u001b[0mnrows\u001b[0m\u001b[1;33m)\u001b[0m\u001b[1;33m\u001b[0m\u001b[0m\n\u001b[1;32m-> 1133\u001b[1;33m         \u001b[0mret\u001b[0m \u001b[1;33m=\u001b[0m \u001b[0mself\u001b[0m\u001b[1;33m.\u001b[0m\u001b[0m_engine\u001b[0m\u001b[1;33m.\u001b[0m\u001b[0mread\u001b[0m\u001b[1;33m(\u001b[0m\u001b[0mnrows\u001b[0m\u001b[1;33m)\u001b[0m\u001b[1;33m\u001b[0m\u001b[0m\n\u001b[0m\u001b[0;32m   1134\u001b[0m \u001b[1;33m\u001b[0m\u001b[0m\n\u001b[0;32m   1135\u001b[0m         \u001b[1;31m# May alter columns / col_dict\u001b[0m\u001b[1;33m\u001b[0m\u001b[1;33m\u001b[0m\u001b[0m\n",
      "\u001b[1;32m~\\AppData\\Local\\Programs\\Python\\Python37\\lib\\site-packages\\pandas\\io\\parsers.py\u001b[0m in \u001b[0;36mread\u001b[1;34m(self, nrows)\u001b[0m\n\u001b[0;32m   2035\u001b[0m     \u001b[1;32mdef\u001b[0m \u001b[0mread\u001b[0m\u001b[1;33m(\u001b[0m\u001b[0mself\u001b[0m\u001b[1;33m,\u001b[0m \u001b[0mnrows\u001b[0m\u001b[1;33m=\u001b[0m\u001b[1;32mNone\u001b[0m\u001b[1;33m)\u001b[0m\u001b[1;33m:\u001b[0m\u001b[1;33m\u001b[0m\u001b[0m\n\u001b[0;32m   2036\u001b[0m         \u001b[1;32mtry\u001b[0m\u001b[1;33m:\u001b[0m\u001b[1;33m\u001b[0m\u001b[0m\n\u001b[1;32m-> 2037\u001b[1;33m             \u001b[0mdata\u001b[0m \u001b[1;33m=\u001b[0m \u001b[0mself\u001b[0m\u001b[1;33m.\u001b[0m\u001b[0m_reader\u001b[0m\u001b[1;33m.\u001b[0m\u001b[0mread\u001b[0m\u001b[1;33m(\u001b[0m\u001b[0mnrows\u001b[0m\u001b[1;33m)\u001b[0m\u001b[1;33m\u001b[0m\u001b[0m\n\u001b[0m\u001b[0;32m   2038\u001b[0m         \u001b[1;32mexcept\u001b[0m \u001b[0mStopIteration\u001b[0m\u001b[1;33m:\u001b[0m\u001b[1;33m\u001b[0m\u001b[0m\n\u001b[0;32m   2039\u001b[0m             \u001b[1;32mif\u001b[0m \u001b[0mself\u001b[0m\u001b[1;33m.\u001b[0m\u001b[0m_first_chunk\u001b[0m\u001b[1;33m:\u001b[0m\u001b[1;33m\u001b[0m\u001b[0m\n",
      "\u001b[1;32mpandas\\_libs\\parsers.pyx\u001b[0m in \u001b[0;36mpandas._libs.parsers.TextReader.read\u001b[1;34m()\u001b[0m\n",
      "\u001b[1;32mpandas\\_libs\\parsers.pyx\u001b[0m in \u001b[0;36mpandas._libs.parsers.TextReader._read_low_memory\u001b[1;34m()\u001b[0m\n",
      "\u001b[1;32mpandas\\_libs\\parsers.pyx\u001b[0m in \u001b[0;36mpandas._libs.parsers.TextReader._read_rows\u001b[1;34m()\u001b[0m\n",
      "\u001b[1;32mpandas\\_libs\\parsers.pyx\u001b[0m in \u001b[0;36mpandas._libs.parsers.TextReader._tokenize_rows\u001b[1;34m()\u001b[0m\n",
      "\u001b[1;32mpandas\\_libs\\parsers.pyx\u001b[0m in \u001b[0;36mpandas._libs.parsers.raise_parser_error\u001b[1;34m()\u001b[0m\n",
      "\u001b[1;31mParserError\u001b[0m: Error tokenizing data. C error: Expected 6 fields in line 501, saw 12\n"
     ]
    }
   ],
   "source": [
    "dataframe=pd.read_csv('Tweets500P1.csv')\n",
    "tweets = pd.read_csv(\"Tweets.csv\")"
   ]
  },
  {
   "cell_type": "code",
   "execution_count": 98,
   "metadata": {},
   "outputs": [],
   "source": [
    "from vaderSentiment.vaderSentiment import SentimentIntensityAnalyzer\n",
    "analyser = SentimentIntensityAnalyzer()\n",
    "def sentiment_analyzer_scores(sentence):\n",
    "    score = analyser.polarity_scores(sentence)\n",
    "    \n",
    "    print(\"El score\",score)\n",
    "    print(\"{:-<40} {}\".format(sentence, str(score)))"
   ]
  },
  {
   "cell_type": "code",
   "execution_count": 99,
   "metadata": {},
   "outputs": [
    {
     "name": "stdout",
     "output_type": "stream",
     "text": [
      "El score {'neg': 0.399, 'neu': 0.395, 'pos': 0.206, 'compound': -0.5346}\n",
      "i love me but i hate me----------------- {'neg': 0.399, 'neu': 0.395, 'pos': 0.206, 'compound': -0.5346}\n"
     ]
    }
   ],
   "source": [
    "sentiment_analyzer_scores(\"i love me but i hate me\")"
   ]
  },
  {
   "cell_type": "code",
   "execution_count": 87,
   "metadata": {},
   "outputs": [
    {
     "name": "stdout",
     "output_type": "stream",
     "text": [
      "i hate me but i love me  --------------- {'neg': 0.179, 'neu': 0.38, 'pos': 0.441, 'compound': 0.6652}\n"
     ]
    }
   ],
   "source": [
    "sentiment_analyzer_scores(\"i hate me but i love me  \")"
   ]
  },
  {
   "cell_type": "code",
   "execution_count": 104,
   "metadata": {},
   "outputs": [
    {
     "data": {
      "text/plain": [
       "{'neg': 0.649, 'neu': 0.351, 'pos': 0.0, 'compound': -0.5719}"
      ]
     },
     "execution_count": 104,
     "metadata": {},
     "output_type": "execute_result"
    }
   ],
   "source": [
    "analyser.polarity_scores(\"I hate you\")"
   ]
  },
  {
   "cell_type": "code",
   "execution_count": 37,
   "metadata": {},
   "outputs": [
    {
     "name": "stdout",
     "output_type": "stream",
     "text": [
      "<h1>hola</h1>\n"
     ]
    }
   ],
   "source": [
    "print(\"<h1>hola</h1>\")"
   ]
  },
  {
   "cell_type": "code",
   "execution_count": 39,
   "metadata": {},
   "outputs": [
    {
     "name": "stdout",
     "output_type": "stream",
     "text": [
      "\u001b[1mHello\n"
     ]
    }
   ],
   "source": []
  },
  {
   "cell_type": "code",
   "execution_count": 78,
   "metadata": {},
   "outputs": [
    {
     "name": "stdout",
     "output_type": "stream",
     "text": [
      "Collecting emosent-py\n",
      "  Downloading emosent-py-0.1.6.tar.gz (28 kB)\n",
      "Building wheels for collected packages: emosent-py\n",
      "  Building wheel for emosent-py (setup.py): started\n",
      "  Building wheel for emosent-py (setup.py): finished with status 'done'\n",
      "  Created wheel for emosent-py: filename=emosent_py-0.1.6-py3-none-any.whl size=28506 sha256=f2d2c54fcca4b37d272c03768fb3cae0ce77bce2f4b78f00e4e640c0c5266774\n",
      "  Stored in directory: c:\\users\\asus\\appdata\\local\\pip\\cache\\wheels\\32\\37\\bd\\b4e67490f36c4beb85a1047d6cd13a356ffecbfa854eaf4688\n",
      "Successfully built emosent-py\n",
      "Installing collected packages: emosent-py\n",
      "Successfully installed emosent-py-0.1.6\n"
     ]
    }
   ],
   "source": [
    "!pip3 install emosent-py"
   ]
  },
  {
   "cell_type": "code",
   "execution_count": null,
   "metadata": {},
   "outputs": [],
   "source": []
  }
 ],
 "metadata": {
  "kernelspec": {
   "display_name": "Python 3.7.0 64-bit",
   "language": "python",
   "name": "python37064bit77c32bfef69240b193135a62ae515774"
  },
  "language_info": {
   "codemirror_mode": {
    "name": "ipython",
    "version": 3
   },
   "file_extension": ".py",
   "mimetype": "text/x-python",
   "name": "python",
   "nbconvert_exporter": "python",
   "pygments_lexer": "ipython3",
   "version": "3.7.0"
  }
 },
 "nbformat": 4,
 "nbformat_minor": 2
}
