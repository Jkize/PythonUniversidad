{
 "cells": [
  {
   "cell_type": "code",
   "execution_count": 1,
   "metadata": {},
   "outputs": [],
   "source": [
    "import copy"
   ]
  },
  {
   "cell_type": "code",
   "execution_count": 2,
   "metadata": {},
   "outputs": [],
   "source": [
    "class Estado: \n",
    "    #Flecha: None, up, down, left, right\n",
    "    def __init__(self,row,col):\n",
    "        self.mat=[]\n",
    "        for i in range(row):\n",
    "            self.mat.append(list(range(col)))\n",
    "        self.obstaculo=0\n",
    "        self.libre=row*col\n",
    "        self.row=row\n",
    "        self.col=col\n",
    "        self.visitado=0\n",
    "        \n",
    "    def addObstaculo(self,x,y):\n",
    "        self.mat[x][y]=\"*\"\n",
    "        self.obstaculo+=1\n",
    "        self.libre-=1\n",
    "    \n",
    "    def __str__(self):\n",
    "        res=\"\"\n",
    "        for row in self.mat:\n",
    "            res+=\"{} \\n\".format(row)\n",
    "        return res    "
   ]
  },
  {
   "cell_type": "code",
   "execution_count": 3,
   "metadata": {},
   "outputs": [],
   "source": [
    "def genEstado(x,y,flechaI,mat):\n",
    "    estados=[]\n",
    "    flechas=[\"🡠\",\"🡡\",\"🡣\",\"🡢\"]\n",
    "    flecha=[]\n",
    "    if(flechaI==\"🡢\"):\n",
    "        y+=1\n",
    "        flechas=[\"🡢\",\"🡡\",\"🡣\"]\n",
    "    elif(flechaI==\"🡠\"):\n",
    "        y-=1\n",
    "        flechas=[\"🡠\",\"🡡\",\"🡣\"]\n",
    "    elif(flechaI==\"🡡\"):\n",
    "        x-=1\n",
    "        flechas=[\"🡢\",\"🡡\",\"🡠\"]\n",
    "    else:\n",
    "        x+=1\n",
    "        flechas=[\"🡢\",\"🡣\",\"🡠\"]\n",
    "    if(x>=0 and x<row and y>=0 and y<col and mat[x][y]!=\"*\" and (mat[x][y] not in flechas)):\n",
    "        for fl in flechas:\n",
    "            estados.append({\"x\":x,\"y\":y,\"flecha\":fl})\n",
    "    return estados"
   ]
  },
  {
   "cell_type": "code",
   "execution_count": 4,
   "metadata": {},
   "outputs": [],
   "source": [
    "def DFS(posX,posY,flecha,estado): \n",
    "    estado.mat[posX][posY]=flecha\n",
    "    estado.visitado+=1 \n",
    "    if(estado.visitado==estado.libre):\n",
    "        return estado\n",
    "    estados=genEstado(posX,posY,flecha,estado.mat)    \n",
    "    for dic in estados: \n",
    "        res=DFS(dic[\"x\"],dic[\"y\"],dic[\"flecha\"],copy.deepcopy(estado))\n",
    "        if(res!=None):\n",
    "            return res\n",
    "    return None "
   ]
  },
  {
   "cell_type": "code",
   "execution_count": 5,
   "metadata": {},
   "outputs": [
    {
     "name": "stdout",
     "output_type": "stream",
     "text": [
      "[0, 1, '*', 3, 4, 5] \n",
      "[0, 1, 2, 3, 4, 5] \n",
      "[0, 1, 2, 3, 4, 5] \n",
      "[0, 1, 2, 3, '*', 5] \n",
      "['*', 1, 2, 3, 4, '*'] \n",
      "[0, 1, 2, 3, 4, 5] \n",
      "[0, 1, 2, 3, 4, 5] \n",
      "[0, 1, 2, 3, 4, 5] \n",
      "\n",
      "['🡢', '🡣', '*', '🡢', '🡢', '🡣'] \n",
      "['🡡', '🡢', '🡢', '🡡', '🡣', '🡠'] \n",
      "['🡡', '🡣', '🡠', '🡠', '🡢', '🡣'] \n",
      "['🡡', '🡠', '🡢', '🡡', '*', '🡢'] \n",
      "['*', '🡢', '🡡', '🡣', '🡠', '*'] \n",
      "['🡢', '🡡', '🡣', '🡠', '🡡', '🡠'] \n",
      "['🡡', '🡠', '🡠', '🡢', '🡣', '🡡'] \n",
      "['🡢', '🡢', '🡢', '🡡', '🡢', '🡡'] \n",
      "\n"
     ]
    }
   ],
   "source": [
    "row=8\n",
    "col=6\n",
    "inicial=Estado(row,col)\n",
    "inicial.addObstaculo(0,2)\n",
    "inicial.addObstaculo(3,4)\n",
    "inicial.addObstaculo(4,0)\n",
    "inicial.addObstaculo(4,5) \n",
    "print(inicial)\n",
    "res=DFS(7,0,\"🡢\",inicial)\n",
    "print(res)"
   ]
  },
  {
   "cell_type": "code",
   "execution_count": null,
   "metadata": {},
   "outputs": [],
   "source": []
  }
 ],
 "metadata": {
  "kernelspec": {
   "display_name": "Python 3.7.0 64-bit",
   "language": "python",
   "name": "python37064bit77c32bfef69240b193135a62ae515774"
  },
  "language_info": {
   "codemirror_mode": {
    "name": "ipython",
    "version": 3
   },
   "file_extension": ".py",
   "mimetype": "text/x-python",
   "name": "python",
   "nbconvert_exporter": "python",
   "pygments_lexer": "ipython3",
   "version": "3.7.0"
  }
 },
 "nbformat": 4,
 "nbformat_minor": 2
}
