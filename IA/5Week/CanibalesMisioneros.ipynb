{
 "cells": [
  {
   "cell_type": "raw",
   "metadata": {},
   "source": [
    "###Jhoan Sebastian Saavedra Romero\n",
    "M=Misionero\n",
    "C=Canival\n",
    "B=Barca"
   ]
  },
  {
   "cell_type": "code",
   "execution_count": 51,
   "metadata": {},
   "outputs": [],
   "source": [
    "class Estado:\n",
    "    estado_padre=None\n",
    "    def __init__(self,o1={\"c\":3,\"m\":3,\"b\":1},o2={\"c\":0,\"m\":0,\"b\":0}):\n",
    "        self.o1=o1\n",
    "        self.o2=o2 \n",
    "    def __str__(self):\n",
    "        return \"{}{}{}/{}{}{}\".format(self.o1[\"m\"]*\"M\",self.o1[\"c\"]*\"C\",self.o1[\"b\"]*\"B\",self.o2[\"m\"]*\"M\",self.o2[\"c\"]*\"C\",self.o2[\"b\"]*\"B\")\n",
    "    \n",
    "    def isValido(self):\n",
    "        if(self.o2[\"c\"]>=0 and self.o2[\"m\"]>=0 and self.o1[\"c\"]>=0 and self.o1[\"m\"]>=0):\n",
    "            if(self.o1[\"m\"]==0 or self.o2[\"m\"]==0):\n",
    "                return True \n",
    "            if( (self.o1[\"m\"]>0 or self.o2[\"m\"]>0)  and self.o1[\"m\"]>=self.o1[\"c\"] and self.o2[\"m\"]>=self.o2[\"c\"] ):\n",
    "                return True \n",
    "        return False "
   ]
  },
  {
   "cell_type": "code",
   "execution_count": 52,
   "metadata": {},
   "outputs": [],
   "source": [
    "def estadoValido(arrEstado):\n",
    "    array=[]\n",
    "    for estado in arrEstado:\n",
    "        if(estado.isValido()):\n",
    "            array.append(estado) \n",
    "        \n",
    "    return array\n",
    "\n",
    "def generarEstado(estado):\n",
    "    arrayEstados=[] \n",
    "    estado1=Estado()\n",
    "    estado2=Estado()\n",
    "    estado3=Estado()\n",
    "    estado4=Estado()\n",
    "    estado5=Estado()\n",
    "    if(estado.o1[\"b\"]==1):\n",
    "        #Se va 2 de cada tipo, se va 1 de cada tipo, se va solo 1 en cada tipo\n",
    "        estado1=Estado({\"c\":estado.o1[\"c\"] ,\"m\":estado.o1[\"m\"]-2  ,\"b\": estado.o1[\"b\"]-1},{\"c\":estado.o2[\"c\"],\"m\":estado.o2[\"m\"]+2,\"b\":estado.o2[\"b\"]+1})\n",
    "        estado2=Estado({\"c\":estado.o1[\"c\"]-2 ,\"m\":estado.o1[\"m\"],\"b\": estado.o1[\"b\"]-1},{\"c\":estado.o2[\"c\"]+2,\"m\":estado.o2[\"m\"],\"b\":estado.o2[\"b\"]+1})\n",
    "        estado3=Estado({\"c\":estado.o1[\"c\"]-1 ,\"m\":estado.o1[\"m\"]-1,\"b\": estado.o1[\"b\"]-1},{\"c\":estado.o2[\"c\"]+1,\"m\":estado.o2[\"m\"]+1,\"b\":estado.o2[\"b\"]+1})\n",
    "        estado4=Estado({\"c\":estado.o1[\"c\"] ,\"m\":estado.o1[\"m\"]-1  ,\"b\": estado.o1[\"b\"]-1},{\"c\":estado.o2[\"c\"],\"m\":estado.o2[\"m\"]+1,\"b\":estado.o2[\"b\"]+1})\n",
    "        estado5=Estado({\"c\":estado.o1[\"c\"]-1 ,\"m\":estado.o1[\"m\"],\"b\": estado.o1[\"b\"]-1},{\"c\":estado.o2[\"c\"]+1,\"m\":estado.o2[\"m\"],\"b\":estado.o2[\"b\"]+1})\n",
    "        \n",
    "    else:                \n",
    "        #Se va 2 de cada tipo, se va 1 de cada tipo, se va solo 1 en cada tipo\n",
    "        estado1=Estado({\"c\":estado.o1[\"c\"] ,\"m\":estado.o1[\"m\"]+2  ,\"b\": estado.o1[\"b\"]+1},{\"c\":estado.o2[\"c\"],\"m\":estado.o2[\"m\"]-2,\"b\":estado.o2[\"b\"]-1})\n",
    "        estado2=Estado({\"c\":estado.o1[\"c\"]+2 ,\"m\":estado.o1[\"m\"],\"b\": estado.o1[\"b\"]+1},{\"c\":estado.o2[\"c\"]-2,\"m\":estado.o2[\"m\"],\"b\":estado.o2[\"b\"]-1})\n",
    "        estado3=Estado({\"c\":estado.o1[\"c\"]+1 ,\"m\":estado.o1[\"m\"]+1,\"b\": estado.o1[\"b\"]+1},{\"c\":estado.o2[\"c\"]-1,\"m\":estado.o2[\"m\"]-1,\"b\":estado.o2[\"b\"]-1})\n",
    "        estado4=Estado({\"c\":estado.o1[\"c\"] ,\"m\":estado.o1[\"m\"]+1  ,\"b\": estado.o1[\"b\"]+1},{\"c\":estado.o2[\"c\"],\"m\":estado.o2[\"m\"]-1,\"b\":estado.o2[\"b\"]-1})\n",
    "        estado5=Estado({\"c\":estado.o1[\"c\"]+1 ,\"m\":estado.o1[\"m\"],\"b\": estado.o1[\"b\"]+1},{\"c\":estado.o2[\"c\"]-1,\"m\":estado.o2[\"m\"],\"b\":estado.o2[\"b\"]-1})      \n",
    "    \n",
    "    arrayEstados.append(estado1)\n",
    "    arrayEstados.append(estado2)\n",
    "    arrayEstados.append(estado3)\n",
    "    arrayEstados.append(estado4)\n",
    "    arrayEstados.append(estado5)\n",
    "    return estadoValido(arrayEstados)"
   ]
  },
  {
   "cell_type": "code",
   "execution_count": 53,
   "metadata": {},
   "outputs": [],
   "source": [
    "def DFS(estado): \n",
    "    if(estado.__str__()==estadoFinal.__str__()):\n",
    "        return estado    \n",
    "    adjsEstado=generarEstado(estado)    \n",
    "    visitado[estado.__str__()]=True\n",
    "    for est in adjsEstado:\n",
    "        est.estado_padre=estado\n",
    "        if(est.__str__() not in visitado):\n",
    "            newEstado=DFS(est)\n",
    "            if(newEstado.__str__()!=None):\n",
    "                return newEstado            \n",
    "    return None           "
   ]
  },
  {
   "cell_type": "code",
   "execution_count": 54,
   "metadata": {},
   "outputs": [],
   "source": [
    "def BFS(estado):\n",
    "    queue=[]\n",
    "    queue.append(estado) \n",
    "    visitado[estado.__str__()]=True    \n",
    "    while queue:\n",
    "        s=queue.pop(0)\n",
    "        if(s.__str__()==estadoFinal.__str__()):\n",
    "            return s        \n",
    "        adjsEstado=generarEstado(s)\n",
    "        for est in adjsEstado:\n",
    "            est.estado_padre=s\n",
    "            if(est.__str__() not in visitado):\n",
    "                visitado[est.__str__()]=True\n",
    "                queue.append(est)\n",
    "    return None"
   ]
  },
  {
   "cell_type": "code",
   "execution_count": 55,
   "metadata": {},
   "outputs": [
    {
     "name": "stdout",
     "output_type": "stream",
     "text": [
      "La solución se lee de Abajo hacia Arriba. Solución DFS\n",
      "/MMMCCCB\n",
      "MCB/MMCC\n",
      "C/MMMCCB\n",
      "CCCB/MMM\n",
      "CC/MMMCB\n",
      "MMCCB/MC\n",
      "MC/MMCCB\n",
      "MMMCB/CC\n",
      "MMM/CCCB\n",
      "MMMCCB/C\n",
      "MMMC/CCB\n",
      "MMMCCCB/\n"
     ]
    }
   ],
   "source": [
    "estadoInicial=Estado()\n",
    "estadoFinal=Estado({\"c\":0,\"m\":0,\"b\":0},{\"c\":3,\"m\":3,\"b\":1})\n",
    "visitado=dict() \n",
    "inicio=estadoInicial.__str__()\n",
    "estadoEncontrado=DFS(estadoInicial)\n",
    " \n",
    "print(\"La solución se lee de Abajo hacia Arriba. Solución DFS\")\n",
    "\n",
    "while True:\n",
    "    print(estadoEncontrado)\n",
    "    estadoEncontrado=estadoEncontrado.estado_padre\n",
    "    if(estadoEncontrado==None): \n",
    "        break"
   ]
  },
  {
   "cell_type": "code",
   "execution_count": 56,
   "metadata": {},
   "outputs": [
    {
     "name": "stdout",
     "output_type": "stream",
     "text": [
      "\n",
      " La solución se lee de Abajo hacia Arriba. Solución BFS\n",
      "/MMMCCCB\n",
      "MCB/MMCC\n",
      "C/MMMCCB\n",
      "CCCB/MMM\n",
      "CC/MMMCB\n",
      "MMCCB/MC\n",
      "MC/MMCCB\n",
      "MMMCB/CC\n",
      "MMM/CCCB\n",
      "MMMCCB/C\n",
      "MMMC/CCB\n",
      "MMMCCCB/\n"
     ]
    }
   ],
   "source": [
    "print(\"\\n\",\"La solución se lee de Abajo hacia Arriba. Solución BFS\") \n",
    "visitado=dict() \n",
    "estadoEncontrado=BFS(estadoInicial) \n",
    "while True:\n",
    "    print(estadoEncontrado)\n",
    "    estadoEncontrado=estadoEncontrado.estado_padre\n",
    "    if(estadoEncontrado==None): \n",
    "        break"
   ]
  },
  {
   "cell_type": "code",
   "execution_count": null,
   "metadata": {},
   "outputs": [],
   "source": []
  }
 ],
 "metadata": {
  "kernelspec": {
   "display_name": "Python 3.7.0 64-bit",
   "language": "python",
   "name": "python37064bit77c32bfef69240b193135a62ae515774"
  },
  "language_info": {
   "codemirror_mode": {
    "name": "ipython",
    "version": 3
   },
   "file_extension": ".py",
   "mimetype": "text/x-python",
   "name": "python",
   "nbconvert_exporter": "python",
   "pygments_lexer": "ipython3",
   "version": "3.7.0"
  }
 },
 "nbformat": 4,
 "nbformat_minor": 2
}
