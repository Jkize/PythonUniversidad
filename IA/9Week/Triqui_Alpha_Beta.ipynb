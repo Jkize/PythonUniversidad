{
 "cells": [
  {
   "cell_type": "code",
   "execution_count": 1,
   "metadata": {},
   "outputs": [],
   "source": [
    "from copy import deepcopy\n",
    "import random\n",
    "HUMANO = -1\n",
    "COMPUTADOR = 1\n",
    "fichas = {HUMANO: \"O\" , COMPUTADOR: \"X\"}"
   ]
  },
  {
   "cell_type": "code",
   "execution_count": 2,
   "metadata": {},
   "outputs": [],
   "source": [
    "class Estado(object):\n",
    "    def __init__(self, tablero = [[0,  0, 0], [0,  0, 0], [0,  0, 0]]):\n",
    "        self.tablero = tablero\n",
    "    def __str__(self):\n",
    "        str_tablero = \"\"\n",
    "        for i in range(3):\n",
    "            for j in range(3):\n",
    "                casilla = fichas[self.tablero[i][j]] if self.tablero[i][j] !=0 else  \" \"\n",
    "                str_tablero += casilla\n",
    "                if j<2:\n",
    "                    str_tablero += \"│\"    \n",
    "            str_tablero += \"\\n\"\n",
    "            \n",
    "            if i<2:\n",
    "                str_tablero += \"─┼─┼─\\n\" \n",
    "\n",
    "        return str_tablero + \"\\n\"\n",
    "    def __repr__(self):\n",
    "        return self.__str__()\n",
    "    \n",
    "    def isLleno(self):\n",
    "        cont=0\n",
    "        for i in range(3):\n",
    "            for j in range(3):\n",
    "                if(self.tablero[i][j]!=0):\n",
    "                    cont+=1\n",
    "        return (cont==9)\n",
    "    \n",
    "    # 0 Empate, 1 gana PC, -1\n",
    "    def ganador(self,who):\n",
    "        arr=[0,0,0,0,0,0,0,0]\n",
    "        for i in range(3):\n",
    "            for j in range(6):\n",
    "                x=0\n",
    "                y=0\n",
    "                if(j<3):\n",
    "                    x=i\n",
    "                    y=j\n",
    "                else:\n",
    "                    y=i\n",
    "                    x=j%3\n",
    "                if(self.tablero[x][y]==who):\n",
    "                    arr[j]+=who\n",
    "        aux=2\n",
    "        for i in range(3):\n",
    "            if(self.tablero[i][i]==who):\n",
    "                arr[6]+=who\n",
    "            if(self.tablero[i][aux]==who):\n",
    "                arr[7]+=who\n",
    "            aux=aux-1\n",
    "        \n",
    "        for dt in arr:\n",
    "            if(dt/(who*3) == 1.0):\n",
    "                return who           \n",
    "        return 0"
   ]
  },
  {
   "cell_type": "code",
   "execution_count": 3,
   "metadata": {},
   "outputs": [],
   "source": [
    "def generar_estados(estado, jugador):\n",
    "    nuevos = [] \n",
    "    for i in range(3):\n",
    "        for j in range(3): \n",
    "            if(estado.tablero[i][j]==0):\n",
    "                newEstado=Estado(deepcopy(estado.tablero))\n",
    "                newEstado.tablero[i][j]=jugador\n",
    "                nuevos.append(newEstado)\n",
    "    return nuevos"
   ]
  },
  {
   "cell_type": "code",
   "execution_count": 4,
   "metadata": {},
   "outputs": [],
   "source": [
    "def es_final(e):\n",
    "    if(e.isLleno()):\n",
    "        return True\n",
    "    if(e.ganador(1)!=0 or e.ganador(-1)!=0):\n",
    "        return True    \n",
    "    return False;"
   ]
  },
  {
   "cell_type": "code",
   "execution_count": 5,
   "metadata": {},
   "outputs": [],
   "source": [
    "# debe retornar -1 si gana el humano, 1 si gana el pc o 0 si hay empate\n",
    "def utilidad(e):\n",
    "    if not es_final(e): raise Exception(e + \" no es estado final\")\n",
    "    if(e.ganador(1)!=0):\n",
    "        return 1\n",
    "    if(e.ganador(-1)!=0):\n",
    "        return -1\n",
    "    return 0            "
   ]
  },
  {
   "cell_type": "code",
   "execution_count": 6,
   "metadata": {},
   "outputs": [],
   "source": [
    "def fmax(estado,alpha,beta):\n",
    "    # si es estado final, retornar la utilidad para ese estado\n",
    "    if(es_final(estado)): \n",
    "        return utilidad(estado)\n",
    "    valor = -10000\n",
    "    for e in generar_estados(estado, COMPUTADOR):\n",
    "        valor=max(valor,fmin(e,alpha,beta))\n",
    "        if(valor>=beta):\n",
    "            return valor\n",
    "        alpha=max(alpha,valor)\n",
    "    return valor"
   ]
  },
  {
   "cell_type": "code",
   "execution_count": 7,
   "metadata": {},
   "outputs": [],
   "source": [
    "def fmin(estado,alpha,beta):\n",
    "    # si es estado final, retornar la utilidad para ese estado\n",
    "    if(es_final(estado)): \n",
    "        return utilidad(estado)\n",
    "    valor =100000\n",
    "    for e in generar_estados(estado, HUMANO ):\n",
    "        valor=min(valor,fmax(e,alpha,beta))\n",
    "        if(valor<=alpha):\n",
    "            return valor\n",
    "        beta=min(beta,valor)\n",
    "    return valor"
   ]
  },
  {
   "cell_type": "code",
   "execution_count": 8,
   "metadata": {},
   "outputs": [],
   "source": [
    "def decision_minimax(estado):\n",
    "    mejor_jugada = None\n",
    "    valor = -100000\n",
    "    for e in generar_estados(estado, jugador=COMPUTADOR):\n",
    "        mayor = fmin(e,10000,-10000) \n",
    "        if  mayor > valor:\n",
    "            valor = mayor\n",
    "            mejor_jugada = e \n",
    "    return mejor_jugada, valor"
   ]
  },
  {
   "cell_type": "code",
   "execution_count": null,
   "metadata": {},
   "outputs": [
    {
     "name": "stdout",
     "output_type": "stream",
     "text": [
      "X│ │ \n",
      "─┼─┼─\n",
      " │ │ \n",
      "─┼─┼─\n",
      " │ │ \n",
      "\n",
      "\n"
     ]
    }
   ],
   "source": [
    "e=Estado([[0,  0, 0], [0,  0, 0], [0,  0, 0]])\n",
    "juega=True\n",
    "e,valor=decision_minimax(e)\n",
    "print(e)\n",
    "while True:\n",
    "    if(juega==True): \n",
    "        nombre = str(input(\"Di la posición x y en la cual juega\")).split(\" \")\n",
    "        x=int(nombre[0])\n",
    "        y=int(nombre[1])\n",
    "        if(e.tablero[x][y]==0):\n",
    "            e.tablero[x][y]=-1\n",
    "            juega=!juega\n",
    "        else:\n",
    "            print(\"No se puede jugar en esa posición\")\n",
    "            juega=True\n",
    "        \n",
    "    else:\n",
    "        print(\"Juega máquina\")\n",
    "        e,valor=decision_minimax(e)\n",
    "        print(valor)\n",
    "        juega=True\n",
    "    print(e)\n",
    "    if(es_final(e)):\n",
    "        if(e.ganador(1)):\n",
    "            print(\"Ganó la máquina\")\n",
    "        elif(e.ganador(-1)):\n",
    "            print(\"Ganó Humano\")\n",
    "        else:\n",
    "            print(\"Hubo un empate\") \n",
    "        break        "
   ]
  },
  {
   "cell_type": "code",
   "execution_count": null,
   "metadata": {},
   "outputs": [],
   "source": []
  }
 ],
 "metadata": {
  "kernelspec": {
   "display_name": "Python 3.7.0 64-bit",
   "language": "python",
   "name": "python37064bit77c32bfef69240b193135a62ae515774"
  },
  "language_info": {
   "codemirror_mode": {
    "name": "ipython",
    "version": 3
   },
   "file_extension": ".py",
   "mimetype": "text/x-python",
   "name": "python",
   "nbconvert_exporter": "python",
   "pygments_lexer": "ipython3",
   "version": "3.7.0"
  }
 },
 "nbformat": 4,
 "nbformat_minor": 2
}
