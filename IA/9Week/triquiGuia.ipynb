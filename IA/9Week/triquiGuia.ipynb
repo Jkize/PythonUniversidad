{
 "cells": [
  {
   "cell_type": "code",
   "execution_count": 1,
   "metadata": {},
   "outputs": [],
   "source": [
    "from copy import deepcopy\n",
    "HUMANO = -1\n",
    "COMPUTADOR = 1\n",
    "fichas = {HUMANO: \"O\" , COMPUTADOR: \"X\"}\n"
   ]
  },
  {
   "cell_type": "code",
   "execution_count": 13,
   "metadata": {
    "colab": {},
    "colab_type": "code",
    "id": "9gUHzN0wh6W8"
   },
   "outputs": [
    {
     "ename": "SyntaxError",
     "evalue": "'return' outside function (<ipython-input-13-07b6f05b16e9>, line 18)",
     "output_type": "error",
     "traceback": [
      "\u001b[1;36m  File \u001b[1;32m\"<ipython-input-13-07b6f05b16e9>\"\u001b[1;36m, line \u001b[1;32m18\u001b[0m\n\u001b[1;33m    return str_tablero + \"\\n\"\u001b[0m\n\u001b[1;37m    ^\u001b[0m\n\u001b[1;31mSyntaxError\u001b[0m\u001b[1;31m:\u001b[0m 'return' outside function\n"
     ]
    }
   ],
   "source": [
    "class Estado(object):\n",
    "  def __init__(self, tablero = [[0,  0, 0], [0,  0, 0], [0,  0, 0]]):\n",
    "    self.tablero = tablero\n",
    "\n",
    "  def __str__(self):\n",
    "    str_tablero = \"\"\n",
    "    for i in range(3):\n",
    "      for j in range(3):\n",
    "        casilla = fichas[self.tablero[i][j]] if self.tablero[i][j] !=0 else  \" \"\n",
    "        str_tablero += casilla\n",
    "        if j<2:\n",
    "          str_tablero += \"│\"\n",
    "    \n",
    "      str_tablero += \"\\n\"\n",
    "      if i<2:\n",
    "        str_tablero += \"─┼─┼─\\n\" \n",
    "\n",
    "    return str_tablero + \"\\n\"\n",
    "\n",
    "  def __repr__(self):\n",
    "    return self.__str__()\n",
    "\n",
    "  \n",
    "\n",
    "  \n",
    "\n",
    "e = Estado([[1,  0, -1], [0,  1, 0], [0,  0, 0]])\n",
    "e\n"
   ]
  },
  {
   "cell_type": "code",
   "execution_count": 3,
   "metadata": {
    "colab": {},
    "colab_type": "code",
    "id": "zvnWlrxoi309"
   },
   "outputs": [],
   "source": [
    "# debe devolver True o False\n",
    "def es_final(e):\n",
    "      pass\n"
   ]
  },
  {
   "cell_type": "code",
   "execution_count": 4,
   "metadata": {
    "colab": {},
    "colab_type": "code",
    "id": "EP-oubqEkiRN"
   },
   "outputs": [],
   "source": [
    "# debe retornar -1 si gana el humano, 1 si gana el pc o 0 si hay empate\n",
    "def utilidad(e):\n",
    "    if not es_final(e): raise Exception(e + \" no es estado final\")\n",
    "        err=[]\n",
    "        return []\n",
    "    if(e.)\n",
    "    return 0\n",
    "            \n",
    "        \n",
    "            \n",
    "        \n",
    "\n",
    "\n",
    "\n"
   ]
  },
  {
   "cell_type": "code",
   "execution_count": 14,
   "metadata": {},
   "outputs": [
    {
     "data": {
      "text/plain": [
       "[]"
      ]
     },
     "execution_count": 14,
     "metadata": {},
     "output_type": "execute_result"
    }
   ],
   "source": [
    "# generar arreglo de estados siguientes para el estado actual según el jugador\n",
    "def generar_estados(estado, jugador):\n",
    "    nuevos = []\n",
    "    ##...\n",
    "    return nuevos\n",
    "\n",
    "e = Estado()\n",
    "[x for x in generar_estados(e, jugador=COMPUTADOR)]\n",
    "    "
   ]
  },
  {
   "cell_type": "code",
   "execution_count": 6,
   "metadata": {
    "colab": {
     "base_uri": "https://localhost:8080/",
     "height": 35
    },
    "colab_type": "code",
    "executionInfo": {
     "elapsed": 403,
     "status": "ok",
     "timestamp": 1584131620851,
     "user": {
      "displayName": "Camilo Enrique Rodriguez Torres",
      "photoUrl": "",
      "userId": "16808577108085118137"
     },
     "user_tz": 300
    },
    "id": "ZIps92LTlUSl",
    "outputId": "9b439b0a-52bf-41fa-be05-278d5392cf21"
   },
   "outputs": [
    {
     "ename": "IndentationError",
     "evalue": "unexpected indent (<ipython-input-6-2358d16dd5d0>, line 6)",
     "output_type": "error",
     "traceback": [
      "\u001b[1;36m  File \u001b[1;32m\"<ipython-input-6-2358d16dd5d0>\"\u001b[1;36m, line \u001b[1;32m6\u001b[0m\n\u001b[1;33m    valor = max(valor, fmin(e))\u001b[0m\n\u001b[1;37m    ^\u001b[0m\n\u001b[1;31mIndentationError\u001b[0m\u001b[1;31m:\u001b[0m unexpected indent\n"
     ]
    }
   ],
   "source": [
    "def fmax(estado):\n",
    "    # si es estado final, retornar la utilidad para ese estado\n",
    "\n",
    "    valor = -10000\n",
    "    # para cada estado siguiente:\n",
    "        valor = max(valor, fmin(e))\n",
    "    return valor"
   ]
  },
  {
   "cell_type": "code",
   "execution_count": 7,
   "metadata": {},
   "outputs": [],
   "source": [
    "def fmin(estado):\n",
    "    pass"
   ]
  },
  {
   "cell_type": "code",
   "execution_count": 8,
   "metadata": {},
   "outputs": [],
   "source": [
    "def decision_minimax(estado):\n",
    "    mejor_jugada = None\n",
    "    valor = 100000\n",
    "    for e in generar_estados(estado, jugador=COMPUTADOR):\n",
    "        minimo = fmin(e)\n",
    "        if  minimo < valor:\n",
    "            valor = minimo\n",
    "            mejor_jugada = e\n",
    "    return e, valor"
   ]
  },
  {
   "cell_type": "code",
   "execution_count": 9,
   "metadata": {},
   "outputs": [
    {
     "ename": "UnboundLocalError",
     "evalue": "local variable 'e' referenced before assignment",
     "output_type": "error",
     "traceback": [
      "\u001b[1;31m---------------------------------------------------------------------------\u001b[0m",
      "\u001b[1;31mUnboundLocalError\u001b[0m                         Traceback (most recent call last)",
      "\u001b[1;32m<ipython-input-9-2ffc5a015fb5>\u001b[0m in \u001b[0;36m<module>\u001b[1;34m\u001b[0m\n\u001b[0;32m      1\u001b[0m \u001b[0mactual\u001b[0m \u001b[1;33m=\u001b[0m \u001b[0mEstado\u001b[0m\u001b[1;33m(\u001b[0m\u001b[0mtablero\u001b[0m \u001b[1;33m=\u001b[0m \u001b[1;33m[\u001b[0m\u001b[1;33m[\u001b[0m\u001b[1;33m-\u001b[0m\u001b[1;36m1\u001b[0m\u001b[1;33m,\u001b[0m  \u001b[1;36m1\u001b[0m\u001b[1;33m,\u001b[0m \u001b[1;36m0\u001b[0m\u001b[1;33m]\u001b[0m\u001b[1;33m,\u001b[0m \u001b[1;33m[\u001b[0m\u001b[1;36m1\u001b[0m\u001b[1;33m,\u001b[0m \u001b[1;36m0\u001b[0m\u001b[1;33m,\u001b[0m  \u001b[1;33m-\u001b[0m\u001b[1;36m1\u001b[0m\u001b[1;33m]\u001b[0m\u001b[1;33m,\u001b[0m \u001b[1;33m[\u001b[0m\u001b[1;36m0\u001b[0m\u001b[1;33m,\u001b[0m  \u001b[1;36m0\u001b[0m\u001b[1;33m,\u001b[0m \u001b[1;36m0\u001b[0m\u001b[1;33m]\u001b[0m\u001b[1;33m]\u001b[0m\u001b[1;33m)\u001b[0m\u001b[1;33m\u001b[0m\u001b[0m\n\u001b[1;32m----> 2\u001b[1;33m \u001b[0msiguiente_movimiento\u001b[0m\u001b[1;33m,\u001b[0m \u001b[0mvalor\u001b[0m \u001b[1;33m=\u001b[0m \u001b[0mdecision_minimax\u001b[0m\u001b[1;33m(\u001b[0m\u001b[0mactual\u001b[0m\u001b[1;33m)\u001b[0m\u001b[1;33m\u001b[0m\u001b[0m\n\u001b[0m\u001b[0;32m      3\u001b[0m \u001b[0mprint\u001b[0m\u001b[1;33m(\u001b[0m\u001b[0mactual\u001b[0m\u001b[1;33m)\u001b[0m\u001b[1;33m\u001b[0m\u001b[0m\n\u001b[0;32m      4\u001b[0m \u001b[0mprint\u001b[0m\u001b[1;33m(\u001b[0m\u001b[0msiguiente_movimiento\u001b[0m\u001b[1;33m)\u001b[0m\u001b[1;33m\u001b[0m\u001b[0m\n\u001b[0;32m      5\u001b[0m \u001b[0mprint\u001b[0m\u001b[1;33m(\u001b[0m\u001b[0mvalor\u001b[0m\u001b[1;33m)\u001b[0m\u001b[1;33m\u001b[0m\u001b[0m\n",
      "\u001b[1;32m<ipython-input-8-83eb307166bc>\u001b[0m in \u001b[0;36mdecision_minimax\u001b[1;34m(estado)\u001b[0m\n\u001b[0;32m      7\u001b[0m             \u001b[0mvalor\u001b[0m \u001b[1;33m=\u001b[0m \u001b[0mminimo\u001b[0m\u001b[1;33m\u001b[0m\u001b[0m\n\u001b[0;32m      8\u001b[0m             \u001b[0mmejor_jugada\u001b[0m \u001b[1;33m=\u001b[0m \u001b[0me\u001b[0m\u001b[1;33m\u001b[0m\u001b[0m\n\u001b[1;32m----> 9\u001b[1;33m     \u001b[1;32mreturn\u001b[0m \u001b[0me\u001b[0m\u001b[1;33m,\u001b[0m \u001b[0mvalor\u001b[0m\u001b[1;33m\u001b[0m\u001b[0m\n\u001b[0m",
      "\u001b[1;31mUnboundLocalError\u001b[0m: local variable 'e' referenced before assignment"
     ]
    }
   ],
   "source": [
    "actual = Estado(tablero = [[-1,  1, 0], [1, 0,  -1], [0,  0, 0]])\n",
    "siguiente_movimiento, valor = decision_minimax(actual)\n",
    "print(actual)\n",
    "print(siguiente_movimiento)\n",
    "print(valor)\n"
   ]
  },
  {
   "cell_type": "code",
   "execution_count": null,
   "metadata": {},
   "outputs": [],
   "source": []
  },
  {
   "cell_type": "code",
   "execution_count": null,
   "metadata": {},
   "outputs": [],
   "source": []
  }
 ],
 "metadata": {
  "colab": {
   "authorship_tag": "ABX9TyNNabZZv+X0gFH+V/bQ0Y5h",
   "name": "triqui.ipynb",
   "provenance": []
  },
  "kernelspec": {
   "display_name": "Python 3.7.0 64-bit",
   "language": "python",
   "name": "python37064bit77c32bfef69240b193135a62ae515774"
  },
  "language_info": {
   "codemirror_mode": {
    "name": "ipython",
    "version": 3
   },
   "file_extension": ".py",
   "mimetype": "text/x-python",
   "name": "python",
   "nbconvert_exporter": "python",
   "pygments_lexer": "ipython3",
   "version": "3.7.0"
  }
 },
 "nbformat": 4,
 "nbformat_minor": 2
}
