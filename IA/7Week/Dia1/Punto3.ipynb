{
 "cells": [
  {
   "cell_type": "code",
   "execution_count": 2,
   "metadata": {},
   "outputs": [],
   "source": [
    "import copy"
   ]
  },
  {
   "cell_type": "code",
   "execution_count": 3,
   "metadata": {},
   "outputs": [],
   "source": [
    "class Estado:\n",
    "    estado_padre=None\n",
    "    def __init__(self,estado=[[5,4,0],[6,1,8],[7,3,2]],pos={\"x\":0,\"y\":2}):\n",
    "        self.estado=estado\n",
    "        self.pos=pos\n",
    "    \n",
    "    def __str__(self):\n",
    "        estadoStr=\"\"\n",
    "        for st in self.estado:\n",
    "            estadoStr+=\"{} \\n\".format(st)\n",
    "        return estadoStr    "
   ]
  },
  {
   "cell_type": "code",
   "execution_count": 4,
   "metadata": {},
   "outputs": [],
   "source": [
    "def genEstado(estado): \n",
    "    x=estado.pos[\"x\"]\n",
    "    y=estado.pos[\"y\"] \n",
    "    posibleX=[0,-1,0,1]\n",
    "    posibleY=[-1,0,1,0]\n",
    "    estados=[]\n",
    "    for i in range(4):\n",
    "        newX=x+posibleX[i]\n",
    "        newY=y+posibleY[i] \n",
    "        if(newX>=0 and newX<3 and newY>=0 and newY<3):\n",
    "            mat=copy.deepcopy(estado.estado)\n",
    "            val1=mat[x][y]\n",
    "            val2=mat[newX][newY]\n",
    "            mat[x][y]=val2\n",
    "            mat[newX][newY]=val1\n",
    "            pos={\"x\":newX,\"y\":newY} \n",
    "            estados.append(Estado(mat,pos))  \n",
    "    return estados"
   ]
  },
  {
   "cell_type": "code",
   "execution_count": 8,
   "metadata": {},
   "outputs": [],
   "source": [
    "\n",
    "def BFS(estado):\n",
    "    lastEstado=None\n",
    "    queue=[]\n",
    "    queue.append(estado)\n",
    "    visitado[estado.__str__()]=True\n",
    "    total=0\n",
    "    while queue:\n",
    "        total+=1\n",
    "        s=queue.pop(0)\n",
    "        lastEstado=s\n",
    "        if(s.__str__()==estadoFinal.__str__()):\n",
    "            return s\n",
    "        estados=genEstado(s)\n",
    "        for est in estados:\n",
    "            est.estado_padre=s\n",
    "            if(est.__str__() not in visitado):\n",
    "                visitado[est.__str__()]=True\n",
    "                queue.append(est)\n",
    "    \n",
    "    print(\"UN total de \",total,\"Pasos\")\n",
    "    print(\"El último estado es \\n\",lastEstado)\n",
    "    "
   ]
  },
  {
   "cell_type": "code",
   "execution_count": null,
   "metadata": {},
   "outputs": [],
   "source": []
  },
  {
   "cell_type": "code",
   "execution_count": 9,
   "metadata": {},
   "outputs": [
    {
     "name": "stdout",
     "output_type": "stream",
     "text": [
      "UN total de  181440 Pasos\n",
      "El último estado es \n",
      " [2, 3, 7] \n",
      "[4, 1, 0] \n",
      "[8, 6, 5] \n",
      "\n",
      "Solución de abajo hacia arriba\n",
      "None\n"
     ]
    },
    {
     "ename": "AttributeError",
     "evalue": "'NoneType' object has no attribute 'estado_padre'",
     "output_type": "error",
     "traceback": [
      "\u001b[1;31m---------------------------------------------------------------------------\u001b[0m",
      "\u001b[1;31mAttributeError\u001b[0m                            Traceback (most recent call last)",
      "\u001b[1;32m<ipython-input-9-d067149feddb>\u001b[0m in \u001b[0;36m<module>\u001b[1;34m\u001b[0m\n\u001b[0;32m      6\u001b[0m \u001b[1;32mwhile\u001b[0m \u001b[1;32mTrue\u001b[0m\u001b[1;33m:\u001b[0m\u001b[1;33m\u001b[0m\u001b[0m\n\u001b[0;32m      7\u001b[0m     \u001b[0mprint\u001b[0m\u001b[1;33m(\u001b[0m\u001b[0mresEstado\u001b[0m\u001b[1;33m)\u001b[0m\u001b[1;33m\u001b[0m\u001b[0m\n\u001b[1;32m----> 8\u001b[1;33m     \u001b[0mresEstado\u001b[0m\u001b[1;33m=\u001b[0m\u001b[0mresEstado\u001b[0m\u001b[1;33m.\u001b[0m\u001b[0mestado_padre\u001b[0m\u001b[1;33m\u001b[0m\u001b[0m\n\u001b[0m\u001b[0;32m      9\u001b[0m     \u001b[1;32mif\u001b[0m\u001b[1;33m(\u001b[0m\u001b[0mresEstado\u001b[0m\u001b[1;33m==\u001b[0m\u001b[1;32mNone\u001b[0m\u001b[1;33m)\u001b[0m\u001b[1;33m:\u001b[0m\u001b[1;33m\u001b[0m\u001b[0m\n\u001b[0;32m     10\u001b[0m         \u001b[1;32mbreak\u001b[0m\u001b[1;33m\u001b[0m\u001b[0m\n",
      "\u001b[1;31mAttributeError\u001b[0m: 'NoneType' object has no attribute 'estado_padre'"
     ]
    }
   ],
   "source": [
    "estadoInicial=Estado([[5,4,0],[6,1,8],[7,3,2]],{\"x\":0,\"y\":2}) \n",
    "estadoFinal=Estado([[1,2,3],[4,5,6],[7,8,0]])  \n",
    "visitado=dict() \n",
    "resEstado=BFS(estadoInicial) \n",
    "print(\"Solución de abajo hacia arriba\")\n",
    "while True:\n",
    "    print(resEstado)\n",
    "    resEstado=resEstado.estado_padre\n",
    "    if(resEstado==None):\n",
    "        break"
   ]
  },
  {
   "cell_type": "code",
   "execution_count": null,
   "metadata": {},
   "outputs": [],
   "source": [
    "from queue import PriorityQueue\n",
    "cola=PriorityQueue()\n",
    "cola.put((2,\"harry\"))\n",
    "cola.put((3,\"harry\"))\n",
    "cola.put((4,\"harry\"))\n",
    "print(cola)\n",
    "while cola:\n",
    "    print(cola.get())"
   ]
  },
  {
   "cell_type": "code",
   "execution_count": 10,
   "metadata": {},
   "outputs": [
    {
     "name": "stdout",
     "output_type": "stream",
     "text": [
      "[2, 3, 7] \n",
      "[4, 0, 1] \n",
      "[8, 6, 5] \n",
      "\n",
      "El estado ya fue visitado\n",
      "[2, 3, 0] \n",
      "[4, 1, 7] \n",
      "[8, 6, 5] \n",
      "\n",
      "El estado ya fue visitado\n",
      "[2, 3, 7] \n",
      "[4, 1, 5] \n",
      "[8, 6, 0] \n",
      "\n",
      "El estado ya fue visitado\n"
     ]
    }
   ],
   "source": [
    "estadoII=Estado([[2,3,7],[4,1,0],[8,6,5]],{\"x\":1,\"y\":2})\n",
    "genEst=genEstado(estadoII)\n",
    "\n",
    "for est in genEst:\n",
    "    print(est)\n",
    "    if est.__str__() in visitado:\n",
    "        print(\"El estado ya fue visitado\")"
   ]
  },
  {
   "cell_type": "code",
   "execution_count": null,
   "metadata": {},
   "outputs": [],
   "source": []
  }
 ],
 "metadata": {
  "kernelspec": {
   "display_name": "Python 3.7.0 64-bit",
   "language": "python",
   "name": "python37064bit77c32bfef69240b193135a62ae515774"
  },
  "language_info": {
   "codemirror_mode": {
    "name": "ipython",
    "version": 3
   },
   "file_extension": ".py",
   "mimetype": "text/x-python",
   "name": "python",
   "nbconvert_exporter": "python",
   "pygments_lexer": "ipython3",
   "version": "3.7.0"
  }
 },
 "nbformat": 4,
 "nbformat_minor": 2
}
