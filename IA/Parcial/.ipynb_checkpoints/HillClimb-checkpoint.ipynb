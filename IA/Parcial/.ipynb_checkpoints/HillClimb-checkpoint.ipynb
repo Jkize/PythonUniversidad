{
 "cells": [
  {
   "cell_type": "code",
   "execution_count": 16,
   "metadata": {},
   "outputs": [],
   "source": [
    "import numpy as np\n",
    "import matplotlib.pyplot as plt\n",
    "import random \n",
    "import copy"
   ]
  },
  {
   "cell_type": "code",
   "execution_count": 17,
   "metadata": {},
   "outputs": [],
   "source": [
    "POSICIONES=[[0,0],[0,1],[0,3],[0,5],[1,2],[1,5],\n",
    "           [2,0],[2,4],[3,1],[3,5],[4,0],[4,3],\n",
    "           [5,0],[5,2],[5,4],[5,5]]\n",
    "SUDOKU=[[0,0,3,0,1,0],\n",
    "       [5,6,0,3,2,0],\n",
    "       [0,5,4,2,0,3],\n",
    "       [2,0,6,4,5,0],\n",
    "       [0,1,2,0,4,5],\n",
    "       [0,4,0,1,0,0]]\n",
    "LONGITUD=16\n",
    "ITERACIONES=150\n",
    "\n",
    "#S_i representa el i-tha area del sodoku con sus posibles resultados\n",
    "S1=[4,2,1]\n",
    "S2=[4,5,6]\n",
    "S3=[1,3]\n",
    "S4=[1,6]\n",
    "S5=[3,5,6]\n",
    "S6=[2,3,6]\n",
    "AREAS=[[0,1,4],[2,3,5],[6,8],[7,9],[10,12,13],[11,14,15]] #Representa las areas pero con respecto a las posiciones del cromosoma\n"
   ]
  },
  {
   "cell_type": "code",
   "execution_count": 18,
   "metadata": {},
   "outputs": [],
   "source": [
    "class Individuo:\n",
    "    def __init__(self, cromosoma):   \n",
    "        self.cromosoma = cromosoma\n",
    "        self.porcentaje=0 #Para la ruleta\n",
    "    \n",
    "    def _array(self):\n",
    "        for idx,val in enumerate(self.cromosoma):\n",
    "            SUDOKU[POSICIONES[idx][0]][POSICIONES[idx][1]]=val\n",
    "        return np.array(SUDOKU)\n",
    "    \n",
    "    #Diferentes números\n",
    "    def _diferente(self,mat):\n",
    "        _set={0}\n",
    "        for row in mat:\n",
    "            for dt in row:\n",
    "                _set.add(dt)\n",
    "        if(len(_set)-1==6):\n",
    "            return True\n",
    "        else:\n",
    "            return False\n",
    "                \n",
    "    #Función fitness\n",
    "    def fevaluar(self):\n",
    "        arr=self._array()\n",
    "        cont=0 \n",
    "        f1=0\n",
    "        f2=2\n",
    "        for i in range(3):\n",
    "            c1=0\n",
    "            c2=3\n",
    "            for i in range(2):        \n",
    "                if( not  self._diferente(arr[f1:f2,c1:c2])):\n",
    "                    cont-=1  \n",
    "                c1=3\n",
    "                c2=6\n",
    "            f1+=2\n",
    "            f2+=2\n",
    "        n1=0\n",
    "        n2=1\n",
    "        for i in range(6):\n",
    "            if(not  self._diferente(arr[n1:n2,:])):\n",
    "                cont-=1\n",
    "            if(not  self._diferente(arr[:,n1:n2])):\n",
    "                cont-=1 \n",
    "            n1+=1\n",
    "            n2+=1 \n",
    "        return cont\n",
    "    \n",
    "    \n",
    "    def __gt__(self, otro):\n",
    "        return self.fevaluar() > otro.fevaluar()\n",
    "    \n",
    "    def __eq__(self, otro):\n",
    "        return self.cromosoma == otro.cromosoma\n",
    "    \n",
    "    def __str__(self):\n",
    "        return (self.cromosoma.__str__() + \" puntaje: {}\".format(self.fevaluar()))\n",
    "    \n",
    "    def __repr__(self):\n",
    "        return self.__str__()\n",
    "\n",
    "#i1 = Individuo(cromosoma=[1,2,3,4,5,6, 1, 2,3,4,5,6,1,2,3,4])\n",
    "#print(i1._array())"
   ]
  },
  {
   "cell_type": "markdown",
   "metadata": {},
   "source": [
    "<h1> First Choice </h1>"
   ]
  },
  {
   "cell_type": "code",
   "execution_count": 19,
   "metadata": {},
   "outputs": [],
   "source": [
    "def randomSolution():\n",
    "    s1=random.sample(S1,k=3)\n",
    "    s2=random.sample(S2,k=3)\n",
    "    s3=random.sample(S3,k=2)\n",
    "    s4=random.sample(S4,k=2)\n",
    "    s5=random.sample(S5,k=3)\n",
    "    s6=random.sample(S6,k=3)\n",
    "    return s1[:2]+s2[:2]+s1[2:3]+s2[2:3]+s3[0:1]+s4[0:1]+s3[1:2]+s4[1:2]+s5[0:1]+s6[0:1]+s5[1:3]+s6[1:3]\n",
    "\n",
    "#Muta un area de la solución\n",
    "def mutate(estado,area):    \n",
    "    selArea=AREAS[area]\n",
    "    s=[]\n",
    "    for i in selArea:\n",
    "        s.append(estado.cromosoma[i])\n",
    "    s=random.sample(s,k=len(s))\n",
    "    i=0\n",
    "    for n in selArea:\n",
    "        estado.cromosoma[n]=s[i]\n",
    "        i+=1\n",
    "        \n",
    "\n",
    "    \n",
    "#Al hacer varias pruebas, resulta ser mejor que siempre haya una mutación en algún area. \n",
    "def mutateSolution(estado,prob=1.0):\n",
    "    s=estado.cromosoma\n",
    "    if(random.random()<prob):\n",
    "        area=random.randint(0,5)\n",
    "        mutate(estado,area)   \n"
   ]
  },
  {
   "cell_type": "code",
   "execution_count": 49,
   "metadata": {},
   "outputs": [],
   "source": [
    "def firstChoice(firstSolution):\n",
    "    listScore=[]\n",
    "    best=copy.deepcopy(firstSolution)\n",
    "    bestScore=best.fevaluar() \n",
    "    listScore.append(bestScore)\n",
    "    for i in range(ITERACIONES):\n",
    "        newSolution=copy.deepcopy(best)\n",
    "        mutateSolution(newSolution)\n",
    "        newScore=newSolution.fevaluar()        \n",
    "        if(newScore>bestScore):\n",
    "            bestScore=newScore\n",
    "            best=newSolution\n",
    "        listScore.append(bestScore)\n",
    "        if(newScore==0):\n",
    "            break\n",
    "            \n",
    "    return best,listScore"
   ]
  },
  {
   "cell_type": "markdown",
   "metadata": {},
   "source": [
    "<h1> Stochastic hill climbing </h1>"
   ]
  },
  {
   "cell_type": "code",
   "execution_count": 56,
   "metadata": {},
   "outputs": [],
   "source": [
    "def stochastiChillClimbing(firstSolution):\n",
    "    listScore=[]\n",
    "    best=copy.deepcopy(firstSolution)\n",
    "    bestScore=best.fevaluar()\n",
    "    listScore.append(bestScore)\n",
    "    for i in range(ITERACIONES):\n",
    "        \n",
    "        listaSolutions=[]\n",
    "        for i in range(5):\n",
    "            newSolution=copy.deepcopy(best)\n",
    "            mutateSolution(newSolution)\n",
    "            listaSolutions.append(newSolution)\n",
    "        \n",
    "        for st in listaSolutions:\n",
    "            newScore=st.fevaluar()\n",
    "            if(newScore>bestScore):\n",
    "                bestScore=newScore\n",
    "                best=st\n",
    "        listScore.append(bestScore)\n",
    "        if(newScore==0):\n",
    "            break\n",
    "    return best,listScore"
   ]
  },
  {
   "cell_type": "markdown",
   "metadata": {},
   "source": [
    "<h1> Steep Hill Climbing </h1>"
   ]
  },
  {
   "cell_type": "code",
   "execution_count": 59,
   "metadata": {},
   "outputs": [],
   "source": [
    "'''Se genera los estados cambiando las areas, (swap)\n",
    "En total se generán:\n",
    "3P3*4 * 2*2P2 = 96 posibles soluciones\n",
    "'''\n",
    "from itertools import permutations\n",
    "\n",
    "\n",
    "#Un auxiliar para llenar un arreglo de acuerdo al area\n",
    "def auxFill(a,arr):\n",
    "    s=[]\n",
    "    for i in a:\n",
    "        s.append(arr[i])\n",
    "    return s\n",
    "\n",
    "#Devuelve el arreglo de 16 posiciones de acuerdo a las areas\n",
    "def solutionByArea(a1,a2,a3,a4,a5,a6,arr):\n",
    "    s1=auxFill(a1,arr)\n",
    "    s2=auxFill(a2,arr)\n",
    "    s3=auxFill(a3,arr)\n",
    "    s4=auxFill(a4,arr)\n",
    "    s5=auxFill(a5,arr)\n",
    "    s6=auxFill(a6,arr)       \n",
    "    return s1[:2]+s2[:2]+s1[2:3]+s2[2:3]+s3[0:1]+s4[0:1]+s3[1:2]+s4[1:2]+s5[0:1]+s6[0:1]+s5[1:3]+s6[1:3]\n",
    "\n",
    "#Genera todos los posibles estados, con permutación\n",
    "def generarEstados(solution):\n",
    "    arr=[]    \n",
    "    sol=copy.deepcopy(solution)\n",
    "    a1P=list(permutations(AREAS[0]))\n",
    "    a2P=list(permutations(AREAS[1]))\n",
    "    a3P=list(permutations(AREAS[2]))\n",
    "    a4P=list(permutations(AREAS[3]))\n",
    "    a5P=list(permutations(AREAS[4]))\n",
    "    a6P=list(permutations(AREAS[5]))\n",
    "    for s1 in a1P:\n",
    "        for s2 in a2P:\n",
    "            for s3 in a3P:\n",
    "                for s4 in a4P:\n",
    "                    for s5 in a5P:\n",
    "                        for s6 in a6P:\n",
    "                            arr.append(Individuo(solutionByArea(s1,s2,s3,s4,s5,s6,solution.cromosoma)))\n",
    "    return arr                      \n",
    "\n",
    "#Método Siempre tiene solución\n",
    "def stepHillClimbing(solution):\n",
    "    listScore=[]\n",
    "    listaGe=generarEstados(solution) \n",
    "    fScore=listaGe[0].fevaluar()\n",
    "    listScore.append(fScore)\n",
    "    hill=listaGe[0]\n",
    "    for dt in listaGe:\n",
    "        score=dt.fevaluar()\n",
    "        if fScore<score:\n",
    "            fScore=score\n",
    "            hill=dt\n",
    "        \n",
    "        listScore.append(fScore)\n",
    "        if(fScore==0):\n",
    "            break\n",
    "    return hill,listScore"
   ]
  },
  {
   "cell_type": "code",
   "execution_count": 91,
   "metadata": {},
   "outputs": [
    {
     "data": {
      "text/plain": [
       "[4, 2, 5, 4, 1, 6, 1, 6, 3, 1, 3, 2, 5, 6, 3, 6] puntaje: -8"
      ]
     },
     "execution_count": 91,
     "metadata": {},
     "output_type": "execute_result"
    }
   ],
   "source": [
    "solutionInitial=Individuo(randomSolution()) \n",
    "solutionInitial"
   ]
  },
  {
   "cell_type": "code",
   "execution_count": 92,
   "metadata": {},
   "outputs": [],
   "source": [
    "solFC,scoreFC=firstChoice(solutionInitial)\n",
    "solSCH,scoreSCH=stochastiChillClimbing(solutionInitial)\n",
    "solSHC,scoreSHC=stepHillClimbing(solutionInitial)"
   ]
  },
  {
   "cell_type": "code",
   "execution_count": 93,
   "metadata": {},
   "outputs": [
    {
     "data": {
      "text/plain": [
       "<matplotlib.legend.Legend at 0x14cd315bf60>"
      ]
     },
     "execution_count": 93,
     "metadata": {},
     "output_type": "execute_result"
    },
    {
     "data": {
      "image/png": "[encoded data removed]",
      "text/plain": [
       "<Figure size 432x288 with 1 Axes>"
      ]
     },
     "metadata": {
      "needs_background": "light"
     },
     "output_type": "display_data"
    }
   ],
   "source": [
    "import matplotlib.pyplot as plt\n",
    "plt.plot(range(len(scoreFC)),scoreFC)\n",
    "plt.plot(range(len(scoreSCH)),scoreSCH)\n",
    "plt.plot(range(150),scoreSHC[:150]) \n",
    "plt.title(\"Comparativo Hill Climb\", fontsize=20, fontname=\"DejaVu Sans\")\n",
    "plt.xlabel('Iteración',color=\"red\")\n",
    "plt.ylabel('Fitness',color=\"blue\")\n",
    "plt.legend(['First Choice','Stochastic','Steep'])"
   ]
  },
  {
   "cell_type": "markdown",
   "metadata": {},
   "source": [
    "<h4> Al probar varios puntos iniciales, El método con mejor rendimiento es el Stochastic ya que genera varias posibles soluciones y no una como en First Choice. A pesar que Step siempre tiene solución, es muy demorado en llegar. Tarda más de 150 iteraciones para llegar.</h4>"
   ]
  },
  {
   "cell_type": "markdown",
   "metadata": {},
   "source": [
    "<h3>Ahora combinaremos al mejor método anterior con random restar </h3>"
   ]
  },
  {
   "cell_type": "code",
   "execution_count": 99,
   "metadata": {},
   "outputs": [
    {
     "name": "stdout",
     "output_type": "stream",
     "text": [
      "[4, 2, 5, 6, 1, 4, 1, 6, 3, 1, 3, 6, 6, 5, 3, 2] puntaje: 0 \n",
      "\n",
      "El sodoku queda de esta manera \n",
      "\n",
      "[[4 2 3 5 1 6]\n",
      " [5 6 1 3 2 4]\n",
      " [1 5 4 2 6 3]\n",
      " [2 3 6 4 5 1]\n",
      " [3 1 2 6 4 5]\n",
      " [6 4 5 1 3 2]]\n"
     ]
    }
   ],
   "source": [
    "scoreG=-40\n",
    "solG=None\n",
    "for i in range(10):\n",
    "    sol,score=stochastiChillClimbing(solutionInitial)\n",
    "    if(scoreG<score[-1]):\n",
    "        scoreG=score[-1]\n",
    "        solG=sol\n",
    "    if(score==0):\n",
    "        break\n",
    "print(solG,\"\\n\")\n",
    "print(\"El sodoku queda de esta manera\",\"\\n\")\n",
    "print(sol._array())"
   ]
  },
  {
   "cell_type": "code",
   "execution_count": null,
   "metadata": {},
   "outputs": [],
   "source": []
  }
 ],
 "metadata": {
  "kernelspec": {
   "display_name": "Python 3.7.0 64-bit",
   "language": "python",
   "name": "python37064bit77c32bfef69240b193135a62ae515774"
  },
  "language_info": {
   "codemirror_mode": {
    "name": "ipython",
    "version": 3
   },
   "file_extension": ".py",
   "mimetype": "text/x-python",
   "name": "python",
   "nbconvert_exporter": "python",
   "pygments_lexer": "ipython3",
   "version": "3.7.0"
  }
 },
 "nbformat": 4,
 "nbformat_minor": 2
}
