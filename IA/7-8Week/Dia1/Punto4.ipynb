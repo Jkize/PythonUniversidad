{
 "cells": [
  {
   "cell_type": "code",
   "execution_count": 1,
   "metadata": {},
   "outputs": [],
   "source": [
    "import copy"
   ]
  },
  {
   "cell_type": "code",
   "execution_count": 2,
   "metadata": {},
   "outputs": [],
   "source": [
    "def genEstado(x,y,mat): \n",
    "    #posibleX=[0,-1,0,1]\n",
    "    #posibleY=[-1,0,1,0]\n",
    "    posibleX=[1,-1,0,0]\n",
    "    posibleY=[0,0,1,-1]\n",
    "    estados=[]\n",
    "    for i in range(4):\n",
    "        newX=x+posibleX[i]\n",
    "        newY=y+posibleY[i] \n",
    "        if(newX>=0 and newX<10 and newY>=0 and newY<10 and mat[newX][newY]!=1  ):\n",
    "            estados.append({\"x\":newX,\"y\":newY}) \n",
    "    return estados"
   ]
  },
  {
   "cell_type": "code",
   "execution_count": 5,
   "metadata": {},
   "outputs": [],
   "source": [
    "def DFS(posIx,posIy,posFx,posFy,mat):\n",
    "    visitado[\"{}{}\".format(posIx,posIy)]=True\n",
    "    mat[posIx][posIy]=2\n",
    "    if(posIx==posFy and posIy==posFy):\n",
    "        return mat\n",
    "    estados=genEstado(posIx,posIy,mat)\n",
    "    for dic in estados:\n",
    "        stId=\"{}{}\".format(dic[\"x\"],dic[\"y\"])\n",
    "        if stId not in visitado:\n",
    "            sol=DFS(dic[\"x\"],dic[\"y\"],posFx,posFy,copy.deepcopy(mat))\n",
    "            if(sol!=None):\n",
    "                return sol\n",
    "    return None\n",
    "    \n",
    "    "
   ]
  },
  {
   "cell_type": "code",
   "execution_count": 6,
   "metadata": {},
   "outputs": [
    {
     "name": "stdout",
     "output_type": "stream",
     "text": [
      "En 2 es el camino por donde se manda. 1 Obstaculo. EL orden es 'Arriba' 'Abajo' 'Derecha' 'Izquierda' \n"
     ]
    },
    {
     "data": {
      "text/plain": [
       "[[2, 1, 1, 1, 1, 1, 2, 2, 2, 0],\n",
       " [2, 2, 2, 2, 2, 1, 2, 1, 2, 0],\n",
       " [2, 2, 0, 1, 2, 1, 2, 0, 2, 2],\n",
       " [0, 1, 0, 1, 2, 1, 2, 1, 1, 2],\n",
       " [0, 1, 0, 1, 2, 1, 2, 1, 2, 2],\n",
       " [0, 1, 1, 1, 2, 1, 2, 1, 2, 1],\n",
       " [0, 1, 2, 2, 2, 1, 2, 1, 2, 1],\n",
       " [0, 1, 2, 1, 1, 1, 2, 1, 2, 0],\n",
       " [1, 0, 2, 2, 2, 2, 2, 1, 2, 0],\n",
       " [0, 0, 2, 2, 1, 1, 1, 1, 2, 2]]"
      ]
     },
     "execution_count": 6,
     "metadata": {},
     "output_type": "execute_result"
    }
   ],
   "source": [
    "posIx=0\n",
    "posIy=0\n",
    "posFx=9\n",
    "posFy=9\n",
    "\n",
    "matInit=[\n",
    "    [0,1,1,1,1,1,0,0,0,0],\n",
    "    [0,0,0,0,0,1,0,1,0,0],\n",
    "    [0,0,0,1,0,1,0,0,0,0],\n",
    "    [0,1,0,1,0,1,0,1,1,0],\n",
    "    [0,1,0,1,0,1,0,1,0,0],\n",
    "    [0,1,1,1,0,1,0,1,0,1],\n",
    "    [0,1,0,0,0,1,0,1,0,1],\n",
    "    [0,1,0,1,1,1,0,1,0,0],\n",
    "    [1,0,0,0,0,0,0,1,0,0],\n",
    "    [0,0,0,0,1,1,1,1,0,0]    \n",
    "] \n",
    "visitado=dict()\n",
    "sol=DFS(posIx,posIy,posFx,posFy,matInit)\n",
    "print(\"En 2 es el camino por donde se manda.\",\"1 Obstaculo. EL orden es 'Arriba' 'Abajo' 'Derecha' 'Izquierda' \")\n",
    "sol"
   ]
  },
  {
   "cell_type": "code",
   "execution_count": null,
   "metadata": {},
   "outputs": [],
   "source": []
  }
 ],
 "metadata": {
  "kernelspec": {
   "display_name": "Python 3.7.0 64-bit",
   "language": "python",
   "name": "python37064bit77c32bfef69240b193135a62ae515774"
  },
  "language_info": {
   "codemirror_mode": {
    "name": "ipython",
    "version": 3
   },
   "file_extension": ".py",
   "mimetype": "text/x-python",
   "name": "python",
   "nbconvert_exporter": "python",
   "pygments_lexer": "ipython3",
   "version": "3.7.0"
  }
 },
 "nbformat": 4,
 "nbformat_minor": 2
}
