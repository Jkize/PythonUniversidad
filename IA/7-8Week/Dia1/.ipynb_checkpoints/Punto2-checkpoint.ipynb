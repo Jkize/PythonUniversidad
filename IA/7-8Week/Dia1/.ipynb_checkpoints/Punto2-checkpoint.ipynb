{
 "cells": [
  {
   "cell_type": "code",
   "execution_count": 1,
   "metadata": {},
   "outputs": [],
   "source": [
    "class Nodo:\n",
    "    nodoPadre=None\n",
    "    def __init__(self,nodo=0):\n",
    "        self.nodo=nodo\n",
    "    def __str__(self):\n",
    "        return \"{}\".format(self.nodo)\n",
    "        \n",
    "class Grafo:\n",
    "    def __init__(self,grafo,nodoInicial, nodoFinal):\n",
    "        self.grafo=grafo\n",
    "        self.nodoInicial=nodoInicial\n",
    "        self.nodoFinal=nodoFinal\n",
    "    \n",
    "    \n",
    "    def BFS(self):\n",
    "        self._visitado=dict()\n",
    "        return self._BFS()\n",
    "        \n",
    "    def _BFS(self):\n",
    "        queue=[]\n",
    "        \n",
    "        queue.append(Nodo(self.nodoInicial))\n",
    "        self._visitado[self.nodoInicial]=True\n",
    "        while queue:\n",
    "            s=queue.pop(0)\n",
    "            if(s.nodo==self.nodoFinal):\n",
    "                return s\n",
    "            \n",
    "            for nodo in self.grafo[s.nodo]:\n",
    "                nd=Nodo(nodo)\n",
    "                nd.nodoPadre=s \n",
    "                if(nd.nodo not in self._visitado):\n",
    "                    self._visitado[nd.nodo]=True\n",
    "                    queue.append(nd)\n",
    "        return None        "
   ]
  },
  {
   "cell_type": "raw",
   "metadata": {},
   "source": [
    "Representaremos el siguiente grafo\n",
    "Nodo    Adjs\n",
    "1    2,5,3\n",
    "2    4\n",
    "3    4,6\n",
    "4    2 6\n",
    "5    3\n",
    "Y buscaremos del nodo 1 al nodo 6, la ruta debe ser 1 3 6"
   ]
  },
  {
   "cell_type": "code",
   "execution_count": 2,
   "metadata": {},
   "outputs": [
    {
     "name": "stdout",
     "output_type": "stream",
     "text": [
      "De abajo hacia arriba la solución\n",
      "6\n",
      "3\n",
      "1\n"
     ]
    }
   ],
   "source": [
    "gr={\n",
    "    1:[2,5,3], 2:[4], 3:[4,6], 4:[2,6], 5:[3]\n",
    "}\n",
    "grafo=Grafo(gr,1,6)\n",
    "nodo=grafo.BFS()\n",
    "print(\"De abajo hacia arriba la solución\")\n",
    "if nodo !=None:\n",
    "    while True:        \n",
    "        print(nodo)\n",
    "        nodo=nodo.nodoPadre\n",
    "        if(nodo==None):\n",
    "            break\n",
    "else:\n",
    "    print(\"La ruta no existe\")\n",
    "    print(nodo)   "
   ]
  },
  {
   "cell_type": "raw",
   "metadata": {},
   "source": [
    "Representaremos el siguiente grafo\n",
    "Nodo    Adjs\n",
    "1    2,5,3\n",
    "2    4\n",
    "3    4,6\n",
    "4    2 6\n",
    "5    3\n",
    "7        \n",
    "Y buscaremos del nodo 1 al nodo 7, lo cual la ruta no existe"
   ]
  },
  {
   "cell_type": "code",
   "execution_count": 3,
   "metadata": {},
   "outputs": [
    {
     "name": "stdout",
     "output_type": "stream",
     "text": [
      "De abajo hacia arriba la solución\n",
      "La ruta no existe\n"
     ]
    }
   ],
   "source": [
    "gr={\n",
    "    1:[2,5,3], 2:[4], 3:[4,6], 4:[2,6], 5:[3],7:[]\n",
    "}\n",
    "grafo=Grafo(gr,7,1)\n",
    "nodo=grafo.BFS()\n",
    "print(\"De abajo hacia arriba la solución\")\n",
    "if nodo !=None:\n",
    "    while True:        \n",
    "        print(nodo)\n",
    "        nodo=nodo.nodoPadre\n",
    "        if(nodo==None):\n",
    "            break\n",
    "else:\n",
    "    print(\"La ruta no existe\")"
   ]
  },
  {
   "cell_type": "code",
   "execution_count": null,
   "metadata": {},
   "outputs": [],
   "source": []
  }
 ],
 "metadata": {
  "kernelspec": {
   "display_name": "Python 3.7.0 64-bit",
   "language": "python",
   "name": "python37064bit77c32bfef69240b193135a62ae515774"
  },
  "language_info": {
   "codemirror_mode": {
    "name": "ipython",
    "version": 3
   },
   "file_extension": ".py",
   "mimetype": "text/x-python",
   "name": "python",
   "nbconvert_exporter": "python",
   "pygments_lexer": "ipython3",
   "version": "3.7.0"
  }
 },
 "nbformat": 4,
 "nbformat_minor": 2
}
