{
 "cells": [
  {
   "cell_type": "code",
   "execution_count": 1,
   "metadata": {},
   "outputs": [],
   "source": [
    "import copy"
   ]
  },
  {
   "cell_type": "code",
   "execution_count": 2,
   "metadata": {},
   "outputs": [],
   "source": [
    "class Estado:\n",
    "    estado_padre=None\n",
    "    def __init__(self,estado=[[5,4,0],[6,1,8],[7,3,2]],pos={\"x\":0,\"y\":2}):\n",
    "        self.estado=estado\n",
    "        self.pos=pos\n",
    "    \n",
    "    def __str__(self):\n",
    "        estadoStr=\"\"\n",
    "        for st in self.estado:\n",
    "            estadoStr+=\"{} \\n\".format(st)\n",
    "        return estadoStr    "
   ]
  },
  {
   "cell_type": "code",
   "execution_count": 3,
   "metadata": {},
   "outputs": [],
   "source": [
    "def genEstado(estado): \n",
    "    x=estado.pos[\"x\"]\n",
    "    y=estado.pos[\"y\"] \n",
    "    posibleX=[0,-1,0,1]\n",
    "    posibleY=[-1,0,1,0]\n",
    "    estados=[]\n",
    "    for i in range(4):\n",
    "        newX=x+posibleX[i]\n",
    "        newY=y+posibleY[i] \n",
    "        if(newX>=0 and newX<3 and newY>=0 and newY<3):\n",
    "            mat=copy.deepcopy(estado.estado)\n",
    "            val1=mat[x][y]\n",
    "            val2=mat[newX][newY]\n",
    "            mat[x][y]=val2\n",
    "            mat[newX][newY]=val1\n",
    "            pos={\"x\":newX,\"y\":newY} \n",
    "            estados.append(Estado(mat,pos))  \n",
    "    return estados"
   ]
  },
  {
   "cell_type": "code",
   "execution_count": 5,
   "metadata": {},
   "outputs": [],
   "source": [
    "\n",
    "def BFS(estado):\n",
    "    lastEstado=None\n",
    "    queue=[]\n",
    "    queue.append(estado)\n",
    "    visitado[estado.__str__()]=True\n",
    "    total=0\n",
    "    while queue:\n",
    "        total+=1\n",
    "        s=queue.pop(0)\n",
    "        lastEstado=s\n",
    "        if(s.__str__()==estadoFinal.__str__()):\n",
    "            return s\n",
    "        estados=genEstado(s)\n",
    "        for est in estados:\n",
    "            est.estado_padre=s\n",
    "            if(est.__str__() not in visitado):\n",
    "                visitado[est.__str__()]=True\n",
    "                queue.append(est)\n"
   ]
  },
  {
   "cell_type": "code",
   "execution_count": 8,
   "metadata": {},
   "outputs": [
    {
     "name": "stdout",
     "output_type": "stream",
     "text": [
      "[5, 4, 0] \n",
      "[6, 1, 8] \n",
      "[7, 3, 2] \n",
      "\n",
      "Solución de abajo hacia arriba\n",
      "No tiene solución\n"
     ]
    }
   ],
   "source": [
    "estadoInicial=Estado([[5,4,0],[6,1,8],[7,3,2]],{\"x\":0,\"y\":2}) \n",
    "estadoFinal=Estado([[1,2,3],[4,5,6],[7,8,0]])   \n",
    "visitado=dict() \n",
    "resEstado=BFS(estadoInicial)  \n",
    "print(\"Solución de abajo hacia arriba\")\n",
    "if resEstado!=None:\n",
    "    while True:\n",
    "        print(resEstado)\n",
    "        resEstado=resEstado.estado_padre\n",
    "        if(resEstado==None):\n",
    "            break\n",
    "else:\n",
    "    print(\"No tiene solución\")"
   ]
  },
  {
   "cell_type": "code",
   "execution_count": null,
   "metadata": {},
   "outputs": [],
   "source": []
  }
 ],
 "metadata": {
  "kernelspec": {
   "display_name": "Python 3.7.0 64-bit",
   "language": "python",
   "name": "python37064bit77c32bfef69240b193135a62ae515774"
  },
  "language_info": {
   "codemirror_mode": {
    "name": "ipython",
    "version": 3
   },
   "file_extension": ".py",
   "mimetype": "text/x-python",
   "name": "python",
   "nbconvert_exporter": "python",
   "pygments_lexer": "ipython3",
   "version": "3.7.0"
  }
 },
 "nbformat": 4,
 "nbformat_minor": 2
}
