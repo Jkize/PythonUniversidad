{
 "cells": [
  {
   "cell_type": "code",
   "execution_count": 3,
   "metadata": {},
   "outputs": [],
   "source": [
    "from queue import PriorityQueue\n",
    "import re"
   ]
  },
  {
   "cell_type": "code",
   "execution_count": 4,
   "metadata": {},
   "outputs": [],
   "source": [
    "class Nodo:\n",
    "    NodoPadre=None \n",
    "    def __init__(self,nodo,peso=0):\n",
    "        self.nodo=nodo\n",
    "        self.peso=peso \n",
    "        \n",
    "    def __str__(self):\n",
    "        return \"{}\".format(self.nodo)\n",
    "    \n",
    "    def __gt__(self,other):\n",
    "        return(self.peso<other.peso)\n",
    "    def __repr__(self):\n",
    "        return \"{}\".format(self.nodo)\n",
    "    def __str__(self):\n",
    "        return \"{}\".format(self.nodo)\n",
    "    def __eq__(self,other):\n",
    "        return self.nodo==other.nodo\n",
    "    \n",
    "class Grafo:\n",
    "    def __init__(self):\n",
    "        self.grafo=dict()\n",
    "    \n",
    "    def addNodoPeso(self,o,f,peso):\n",
    "        if(o not in self.grafo):\n",
    "            self.grafo[o]=[]            \n",
    "            self.grafo[o].append(Nodo(f,peso))\n",
    "        else:\n",
    "            self.grafo[o].append(Nodo(f,peso))\n",
    "    \n",
    "    def addNodoBidPeso(self,o,f,peso):\n",
    "        self.addNodoPeso(o,f,peso)\n",
    "        self.addNodoPeso(f,o,peso)\n",
    "        \n",
    "      \n",
    "    \n",
    "    def uniformCostSearch(self, root, goal):\n",
    "        visitado=dict()\n",
    "        nodoGoal=Nodo(goal)\n",
    "        nodo=Nodo(root)\n",
    "        frontier=[]\n",
    "        frontier.append(nodo)\n",
    "        while frontier:\n",
    "            frontier.sort()\n",
    "            nodo=frontier.pop()\n",
    "            if nodo==nodoGoal:\n",
    "                return nodo\n",
    "            visitado[nodo.nodo]=True\n",
    "            \n",
    "            for nd in self.grafo[nodo.nodo]:\n",
    "                if nd.nodo not in visitado:\n",
    "                    nd.NodoPadre=nodo\n",
    "                    nd.peso+=nodo.peso\n",
    "                    if nd not in frontier:\n",
    "                        frontier.append(nd)\n",
    "                    else:\n",
    "                        idx=frontier.index(nd)\n",
    "                        nd1C=frontier[idx]\n",
    "                        if(nd.peso<=nd1C.peso):\n",
    "                            frontier[idx]=nd                        \n",
    "        "
   ]
  },
  {
   "cell_type": "code",
   "execution_count": 5,
   "metadata": {},
   "outputs": [
    {
     "name": "stdout",
     "output_type": "stream",
     "text": [
      "Solución de abajo hacia arriba\n",
      "B 418\n",
      "P 317\n",
      "R 220\n",
      "S 140\n",
      "A 0\n"
     ]
    }
   ],
   "source": [
    "#chr(97)\n",
    "#ord('a')\n",
    "read=open(\"romania.txt\", \"r\", encoding=\"utf-8\")\n",
    "arrayText= re.split(r\"\\n\",read.read())\n",
    "grafo=Grafo()\n",
    "for txt in arrayText:\n",
    "    aTxt=txt.split(' ')\n",
    "    grafo.addNodoBidPeso(aTxt[0],aTxt[1],int(aTxt[2]))\n",
    "\n",
    "nodoGoal=grafo.uniformCostSearch('A','B')  \n",
    "print(\"Solución de abajo hacia arriba\")\n",
    "if nodoGoal is not None:\n",
    "    while nodoGoal is not None: \n",
    "        print(nodoGoal, nodoGoal.peso)\n",
    "        nodoGoal=nodoGoal.NodoPadre \n",
    "else:\n",
    "    print(\"La ruta no existe\")"
   ]
  },
  {
   "cell_type": "code",
   "execution_count": null,
   "metadata": {},
   "outputs": [],
   "source": []
  }
 ],
 "metadata": {
  "kernelspec": {
   "display_name": "Python 3.7.0 64-bit",
   "language": "python",
   "name": "python37064bit77c32bfef69240b193135a62ae515774"
  },
  "language_info": {
   "codemirror_mode": {
    "name": "ipython",
    "version": 3
   },
   "file_extension": ".py",
   "mimetype": "text/x-python",
   "name": "python",
   "nbconvert_exporter": "python",
   "pygments_lexer": "ipython3",
   "version": "3.7.0"
  }
 },
 "nbformat": 4,
 "nbformat_minor": 2
}
