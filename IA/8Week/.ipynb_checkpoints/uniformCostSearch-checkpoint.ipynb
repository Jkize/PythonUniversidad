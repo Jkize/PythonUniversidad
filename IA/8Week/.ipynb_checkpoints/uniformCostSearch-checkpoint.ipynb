{
 "cells": [
  {
   "cell_type": "code",
   "execution_count": 1,
   "metadata": {},
   "outputs": [],
   "source": [
    "from queue import PriorityQueue\n",
    "import re"
   ]
  },
  {
   "cell_type": "code",
   "execution_count": 4,
   "metadata": {},
   "outputs": [],
   "source": [
    "class Nodo:\n",
    "    NodoPadre=None \n",
    "    def __init__(self,nodo,peso=0,H=0):\n",
    "        self.nodo=nodo\n",
    "        self.peso=peso\n",
    "        self.H=H\n",
    "        \n",
    "    def __str__(self):\n",
    "        return \"{}\".format(self.nodo)\n",
    "    \n",
    "    def __gt__(self,other):\n",
    "        return((self.peso+self.H)<(other.peso+other.H))\n",
    "    def __repr__(self):\n",
    "        return \"{}\".format(self.nodo)\n",
    "    def __str__(self):\n",
    "        return \"{}\".format(self.nodo)\n",
    "    def __eq__(self,other):\n",
    "        return self.nodo==other.nodo\n",
    "    \n",
    "class Grafo:\n",
    "    def __init__(self):\n",
    "        self.grafo=dict()\n",
    "    \n",
    "    def addNodoPeso(self,o,f,peso):\n",
    "        if(o not in self.grafo):\n",
    "            self.grafo[o]=[]            \n",
    "            self.grafo[o].append(Nodo(f,peso=peso))\n",
    "        else:\n",
    "            self.grafo[o].append(Nodo(f,peso=peso))\n",
    "    \n",
    "    def addNodoBidPeso(self,o,f,peso):\n",
    "        self.addNodoPeso(o,f,peso)\n",
    "        self.addNodoPeso(f,o,peso)\n",
    "        \n",
    "    def searchA(self,funHeur,root,goal):\n",
    "        visitado=dict()\n",
    "        nodoGoal=Nodo(goal) \n",
    "        frontier=[]\n",
    "        frontier.append(Nodo(root,H=funHeur[root]))\n",
    "        while frontier:\n",
    "            frontier.sort()\n",
    "            nodo=frontier.pop()\n",
    "            if nodo==nodoGoal:\n",
    "                return nodo\n",
    "            visitado[nodo.nodo]=True\n",
    "            for nd in self.grafo[nodo.nodo]:\n",
    "                if nd.nodo not in visitado:\n",
    "                    nd.NodoPadre=nodo\n",
    "                    nd.peso+=nodo.peso\n",
    "                    nd.H=funHeur[nd.nodo]\n",
    "                    if nd not in frontier:\n",
    "                        frontier.append(nd)\n",
    "                    else:\n",
    "                        idx=frontier.index(nd)\n",
    "                        nd1C=frontier[idx]\n",
    "                        if( (nd.peso+nd.H)<=(nd1C.peso+nd1C.H) ):\n",
    "                            frontier[idx]=nd                   "
   ]
  },
  {
   "cell_type": "code",
   "execution_count": 6,
   "metadata": {},
   "outputs": [
    {
     "name": "stdout",
     "output_type": "stream",
     "text": [
      "Solución de abajo hacia arriba\n",
      "B Peso acumulado 418 Peso acumulado + H 418\n",
      "P Peso acumulado 317 Peso acumulado + H 417\n",
      "R Peso acumulado 220 Peso acumulado + H 413\n",
      "S Peso acumulado 140 Peso acumulado + H 393\n",
      "A Peso acumulado 0 Peso acumulado + H 366\n"
     ]
    }
   ],
   "source": [
    "read=open(\"romania.txt\", \"r\", encoding=\"utf-8\")\n",
    "arrayText= re.split(r\"\\n\",read.read())\n",
    "grafo=Grafo()\n",
    "for txt in arrayText:\n",
    "    aTxt=txt.split(' ')\n",
    "    grafo.addNodoBidPeso(aTxt[0],aTxt[1],int(aTxt[2]))\n",
    "\n",
    "funH={\n",
    "    'A':366, 'B':0, 'C':160, 'D':242, 'E':161, 'F':176,\n",
    "'G':77, 'H':151, 'I':226, 'L':244, 'M':241, 'N':234, 'O':380, 'P':100,\n",
    "'R':193, 'S':253, 'T':329, 'U':80, 'V':199, 'Z':374\n",
    "}    \n",
    "nodoGoal=grafo.searchA(funH,'A','B')  \n",
    "print(\"Solución de abajo hacia arriba\")\n",
    "if nodoGoal is not None:\n",
    "    while nodoGoal is not None: \n",
    "        print(nodoGoal,\"Peso acumulado\", nodoGoal.peso,\"Peso acumulado + H\",nodoGoal.peso+nodoGoal.H)\n",
    "        nodoGoal=nodoGoal.NodoPadre \n",
    "else:\n",
    "    print(\"La ruta no existe\")"
   ]
  },
  {
   "cell_type": "code",
   "execution_count": null,
   "metadata": {},
   "outputs": [],
   "source": []
  }
 ],
 "metadata": {
  "kernelspec": {
   "display_name": "Python 3.7.0 64-bit",
   "language": "python",
   "name": "python37064bit77c32bfef69240b193135a62ae515774"
  },
  "language_info": {
   "codemirror_mode": {
    "name": "ipython",
    "version": 3
   },
   "file_extension": ".py",
   "mimetype": "text/x-python",
   "name": "python",
   "nbconvert_exporter": "python",
   "pygments_lexer": "ipython3",
   "version": "3.7.0"
  }
 },
 "nbformat": 4,
 "nbformat_minor": 2
}
