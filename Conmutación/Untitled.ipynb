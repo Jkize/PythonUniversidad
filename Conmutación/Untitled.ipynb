{
 "cells": [
  {
   "cell_type": "code",
   "execution_count": 3,
   "metadata": {},
   "outputs": [],
   "source": [
    "# Python program for Bellman-Ford's single source \n",
    "# shortest path algorithm. \n",
    "\n",
    "from collections import defaultdict \n",
    "\n",
    "# Class to represent a graph \n",
    "class Graph: \n",
    "    def __init__(self, vertices): \n",
    "        self.V = vertices \n",
    "        self.graph = [] \n",
    " \n",
    "    def addEdge(self, u, v, w):\n",
    "        self.graph.append([u, v, w]) \n",
    " \n",
    " \n",
    "    def BellmanFord(self, src):\n",
    "        print(\"hello\")\n",
    "        mapa=dict() \n",
    "        dist = [float(\"Inf\")] * self.V \n",
    "        dist[src] = 0\n",
    "        mapa[src+1]=0\n",
    " \n",
    " \n",
    "        for i in range(self.V - 1): \n",
    "            for u, v, w in self.graph:\n",
    "                if dist[u] != float(\"Inf\") and dist[u] + w < dist[v]:\n",
    "                    dist[v]=dist[u]+w\n",
    "                    nd=u+1\n",
    "                    mapa[v+1]={nd:dist[v]} \n",
    "        print()\n",
    "        return mapa\n",
    "\n"
   ]
  },
  {
   "cell_type": "code",
   "execution_count": 2,
   "metadata": {},
   "outputs": [
    {
     "name": "stdout",
     "output_type": "stream",
     "text": [
      "hello\n",
      "\n",
      "1 0\n",
      "2 {1: 3}\n",
      "3 {8: 22}\n",
      "4 {3: 31}\n",
      "5 {4: 39}\n",
      "6 {1: 10}\n",
      "7 {2: 7}\n",
      "8 {7: 18}\n",
      "9 {4: 33}\n",
      "10 {9: 39}\n",
      "11 {6: 16}\n",
      "12 {7: 10}\n",
      "13 {8: 25}\n",
      "14 {9: 34}\n",
      "15 {10: 46}\n",
      "16 {11: 18}\n",
      "17 {12: 16}\n",
      "18 {17: 21}\n",
      "19 {14: 43}\n",
      "20 {19: 46}\n"
     ]
    }
   ],
   "source": [
    "grafoText = open(\"grafo.txt\", \"r\", encoding=\"utf-8\")\n",
    "grafoText=grafoText.read().split(\"\\n\")\n",
    "g = Graph(20) \n",
    "\n",
    "for txt in grafoText:\n",
    "    txt=txt.split(\" \")\n",
    "    nodo1=int(txt[0])\n",
    "    nodo2=int(txt[1])\n",
    "    peso=int(txt[2])\n",
    "    g.addEdge(nodo1-1,nodo2-1,peso)\n",
    "    g.addEdge(nodo2-1,nodo1-1,peso)\n",
    "# Print the solution \n",
    "mapa=g.BellmanFord(0)  \n",
    "index=list(mapa)\n",
    "for i in range(1,21):\n",
    "    print(i,mapa[i])\n",
    "# This code is contributed by Neelam Yadav "
   ]
  },
  {
   "cell_type": "code",
   "execution_count": 29,
   "metadata": {},
   "outputs": [
    {
     "name": "stdout",
     "output_type": "stream",
     "text": [
      "hello\n",
      "\n",
      "{1: 0, 2: {1: 1}, 4: {1: 8}, 3: {1: 2}, 5: {2: 4}, 6: {5: 8}}\n"
     ]
    }
   ],
   "source": [
    "#Prueba\n",
    "g=Graph(6)\n",
    "g.addEdge(0,1,1)\n",
    "g.addEdge(0,3,8)\n",
    "g.addEdge(0,2,2)\n",
    "g.addEdge(1,4,3)\n",
    "g.addEdge(3,2,5)\n",
    "g.addEdge(3,5,12)\n",
    "g.addEdge(2,4,3)\n",
    "g.addEdge(2,5,8)\n",
    "g.addEdge(4,5,4)\n",
    "print(g.BellmanFord(0))"
   ]
  },
  {
   "cell_type": "code",
   "execution_count": null,
   "metadata": {},
   "outputs": [],
   "source": []
  }
 ],
 "metadata": {
  "kernelspec": {
   "display_name": "Python 3.7.0 64-bit",
   "language": "python",
   "name": "python37064bit77c32bfef69240b193135a62ae515774"
  },
  "language_info": {
   "codemirror_mode": {
    "name": "ipython",
    "version": 3
   },
   "file_extension": ".py",
   "mimetype": "text/x-python",
   "name": "python",
   "nbconvert_exporter": "python",
   "pygments_lexer": "ipython3",
   "version": "3.7.0"
  }
 },
 "nbformat": 4,
 "nbformat_minor": 2
}
